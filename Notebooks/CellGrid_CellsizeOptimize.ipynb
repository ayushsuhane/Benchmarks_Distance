{
 "cells": [
  {
   "cell_type": "code",
   "execution_count": 1,
   "metadata": {},
   "outputs": [],
   "source": [
    "import scipy\n",
    "from scipy.spatial.distance import squareform\n",
    "import cellgrid\n",
    "from initialization import init_uniform\n",
    "import numpy as np\n",
    "from MDAnalysis.lib.distances import self_distance_array\n",
    "import itertools"
   ]
  },
  {
   "cell_type": "code",
   "execution_count": 2,
   "metadata": {},
   "outputs": [],
   "source": [
    "%load_ext memory_profiler\n",
    "%matplotlib inline"
   ]
  },
  {
   "cell_type": "code",
   "execution_count": 12,
   "metadata": {},
   "outputs": [],
   "source": [
    "def _check_box(box):\n",
    "    if box.shape == (6,):\n",
    "        box1 = box[:3]\n",
    "    else:\n",
    "        box1 = box\n",
    "    return box1\n",
    "\n",
    "def pair_contact(cg,maxdist):\n",
    "    indx,dist = cellgrid.cellgrid_self_distance_array(cg)\n",
    "    mask = np.where(dist<maxdist)\n",
    "    return indx[mask],dist[mask]"
   ]
  },
  {
   "cell_type": "code",
   "execution_count": 4,
   "metadata": {},
   "outputs": [],
   "source": [
    "def bf_select(box, points, maxdist):\n",
    "    distance = self_distance_array(points,box)\n",
    "    distance = scipy.spatial.distance.squareform(distance)\n",
    "    distance[np.tril_indices(distance.shape[0])] += (1.1*maxdist)\n",
    "    mask = np.where((distance < maxdist))\n",
    "    out = (np.column_stack((mask[0],mask[1])),distance[mask])\n",
    "    return out"
   ]
  },
  {
   "cell_type": "code",
   "execution_count": 5,
   "metadata": {},
   "outputs": [],
   "source": [
    "def cg_select(box,cellsize,points,cutoff_distance):\n",
    "    box = _check_box(box)\n",
    "    cellsize = max(cellsize,cutoff_distance)\n",
    "    cg1 = cellgrid.CellGrid(box,cellsize,points)\n",
    "    out_cg = pair_contact(cg1,cutoff_distance)\n",
    "    return out_cg\n",
    "\n",
    "def cg_build(box,cellsize,points,cutoff_distance):\n",
    "    box = _check_box(box)\n",
    "    cellsize = max(cellsize,cutoff_distance)\n",
    "    cg1 = cellgrid.CellGrid(box,cellsize,points)\n",
    "    return cg1\n",
    "\n",
    "def cg_select_old(box, points, maxdist):\n",
    "    box = _check_box(box)\n",
    "    indx,dist = cellgrid.capped_self_distance_array(points,maxdist,box)\n",
    "    mask = np.where(dist<maxdist)\n",
    "    return indx[mask],dist[mask]\n"
   ]
  },
  {
   "cell_type": "markdown",
   "metadata": {},
   "source": [
    "# Cellsize > Cutoff_Distance"
   ]
  },
  {
   "cell_type": "code",
   "execution_count": 13,
   "metadata": {},
   "outputs": [],
   "source": [
    "##Setting\n",
    "box = np.array([100,100,100,90.,90.,90.],dtype=np.float32)\n",
    "cellsize = 10.\n",
    "cutoff_distance = 5.\n",
    "Npoints = 1000"
   ]
  },
  {
   "cell_type": "code",
   "execution_count": 14,
   "metadata": {},
   "outputs": [],
   "source": [
    "#Initialization\n",
    "points = init_uniform(box,Npoints)"
   ]
  },
  {
   "cell_type": "code",
   "execution_count": 15,
   "metadata": {},
   "outputs": [],
   "source": [
    "out_cg = cg_select(box,cellsize,points,cutoff_distance)"
   ]
  },
  {
   "cell_type": "code",
   "execution_count": 16,
   "metadata": {},
   "outputs": [],
   "source": [
    "out_bf = bf_select(box,points,cutoff_distance)"
   ]
  },
  {
   "cell_type": "code",
   "execution_count": 17,
   "metadata": {},
   "outputs": [],
   "source": [
    "out_cgold = cg_select_old(box,points,cutoff_distance)"
   ]
  },
  {
   "cell_type": "markdown",
   "metadata": {},
   "source": [
    "# Testing"
   ]
  },
  {
   "cell_type": "code",
   "execution_count": 18,
   "metadata": {},
   "outputs": [],
   "source": [
    "# Length\n",
    "np.testing.assert_equal(out_bf[1].shape,out_cg[1].shape)\n",
    "np.testing.assert_equal(out_bf[1].shape,out_cgold[1].shape)\n",
    "# Distances\n",
    "np.testing.assert_array_almost_equal(np.sort(out_bf[1].astype(np.float64)),np.sort(out_cg[1]),decimal=5) #Comparing array values\n",
    "np.testing.assert_array_almost_equal(np.sort(out_bf[1].astype(np.float64)),np.sort(out_cgold[1]),decimal=5)\n",
    "# Indices\n",
    "np.testing.assert_array_equal(np.unique(out_cg[0]),np.unique(out_bf[0]))\n",
    "np.testing.assert_array_equal(np.unique(out_cgold[0]),np.unique(out_bf[0]))"
   ]
  },
  {
   "cell_type": "code",
   "execution_count": null,
   "metadata": {},
   "outputs": [],
   "source": []
  },
  {
   "cell_type": "markdown",
   "metadata": {},
   "source": [
    "# Variation of cellsize with Npoints and cutoff distance"
   ]
  },
  {
   "cell_type": "code",
   "execution_count": null,
   "metadata": {},
   "outputs": [],
   "source": [
    "#Setting\n",
    "cellsize = np.linspace(5,25,num=5,dtype=np.int32)\n",
    "Npoints = np.logspace(2,4.5,num=10,dtype=np.int32)\n",
    "cutoff = np.linspace(5,25,num=5,dtype=np.float64)\n",
    "box = np.array([100,100,100,90.,90.,90.],dtype=np.float32)"
   ]
  },
  {
   "cell_type": "code",
   "execution_count": null,
   "metadata": {},
   "outputs": [],
   "source": [
    "cellsize,Npoints,cutoff"
   ]
  },
  {
   "cell_type": "code",
   "execution_count": null,
   "metadata": {},
   "outputs": [],
   "source": [
    "data,old = [],[]\n",
    "for npt in Npoints:\n",
    "    points = init_uniform(box,npt)\n",
    "    print(\"Npoints : {}\".format(npt))\n",
    "    for cut in cutoff:\n",
    "        time_build_old = %timeit -q -o -n 10 -r 3 cellgrid.CellGrid(_check_box(box),cut,points)\n",
    "        time_old = %timeit -q -o -n 10 -r 3 cg_select_old(box,points,cut)\n",
    "        old.append((npt,cut,time_build_old.average,time_old.average))\n",
    "        print(\"Cutoff : {}\".format(cut))\n",
    "        for cs in cellsize:\n",
    "            time_build = %timeit -q -o -n 10 -r 3 cg_build(_check_box(box),cs,points,cut)\n",
    "            time = %timeit -q -o -n 10 -r 3 cg_select(box,cs,points,cut)\n",
    "            print(\"Cellsize : {}\".format(cs))\n",
    "            #print(\"Npoints {} CellSize {} Time {}\".format(npt,cs,time.average))\n",
    "            data.append((npt,cs,cut,time.average,time_build.average))"
   ]
  },
  {
   "cell_type": "code",
   "execution_count": null,
   "metadata": {},
   "outputs": [],
   "source": [
    "old,data"
   ]
  },
  {
   "cell_type": "markdown",
   "metadata": {},
   "source": [
    "# Visualization"
   ]
  },
  {
   "cell_type": "code",
   "execution_count": null,
   "metadata": {},
   "outputs": [],
   "source": [
    "import matplotlib\n",
    "import matplotlib.pyplot as plt"
   ]
  },
  {
   "cell_type": "code",
   "execution_count": null,
   "metadata": {},
   "outputs": [],
   "source": [
    "data"
   ]
  },
  {
   "cell_type": "markdown",
   "metadata": {},
   "source": [
    "## Fixed Cutoff Distance and variation with Cellsize"
   ]
  },
  {
   "cell_type": "code",
   "execution_count": null,
   "metadata": {},
   "outputs": [],
   "source": [
    "mask = np.where(data[...,2] == 10.)\n",
    "#print(data[mask])\n",
    "mask2 = np.where(data[mask][...,1]==5)\n",
    "print(data[mask][mask2])\n",
    "plt.plot(Npoints,data[mask][mask2][...,3])"
   ]
  },
  {
   "cell_type": "code",
   "execution_count": null,
   "metadata": {},
   "outputs": [],
   "source": [
    "old = np.array(old)"
   ]
  },
  {
   "cell_type": "code",
   "execution_count": null,
   "metadata": {},
   "outputs": [],
   "source": [
    "old,data"
   ]
  },
  {
   "cell_type": "code",
   "execution_count": null,
   "metadata": {},
   "outputs": [],
   "source": [
    "mask = np.where(old[:,1]==10)\n",
    "old[mask][:,3]"
   ]
  },
  {
   "cell_type": "code",
   "execution_count": null,
   "metadata": {},
   "outputs": [],
   "source": [
    "c = 20\n",
    "cut = 25 \n",
    "mask = np.where(data[:,2]==cut)\n",
    "mask_cs = np.where(data[mask][:,1]==c)\n",
    "time = data[mask][mask_cs][:,3]\n",
    "print(time)"
   ]
  },
  {
   "cell_type": "code",
   "execution_count": null,
   "metadata": {},
   "outputs": [],
   "source": [
    "data,old = np.array(data),np.array(old)\n",
    "col,row = 2,len(cutoff)//2\n",
    "fig, (ax) = plt.subplots(row, col, sharex='col', sharey='row')\n",
    "fig.subplots_adjust(hspace=0.7, wspace=0.5)\n",
    "fig.set_size_inches(15,15)\n",
    "#ax = np.array([ax])\n",
    "for c in range(col):\n",
    "    for r in range(row):\n",
    "        mask = np.where(data[...,2] == cutoff[r+c])\n",
    "        time_old = old[np.where(old[:,1] == cutoff[r+c])][:,3]\n",
    "        ax[r,c].plot(Npoints,time_old,label=\"Old Cellgrid\")\n",
    "        for cs in cellsize:\n",
    "            #time = np.empty()\n",
    "            mask_cs = np.where(data[mask][...,1] == cs)\n",
    "            time = data[mask][mask_cs][:,3]\n",
    "            #print(Npoints,time)\n",
    "            ax[r,c].plot(Npoints,time,label=\"Cellsize = {}\".format(cs))\n",
    "            ax[r,c].legend(loc='upper center', bbox_to_anchor=(1.2, 0.95),ncol=1, fancybox=True)\n",
    "            ax[r,c].set_xlabel('Number of Points')\n",
    "            ax[r,c].set_ylabel('Time (s)')\n",
    "            ax[r,c].set_xscale('log')\n",
    "        ax[r,c].set_title('Cutoff Distance = {}'.format(cutoff[r+c]))"
   ]
  },
  {
   "cell_type": "markdown",
   "metadata": {},
   "source": [
    "## Variation of cellsize with time for diifferent cutoff distances\n"
   ]
  },
  {
   "cell_type": "code",
   "execution_count": null,
   "metadata": {},
   "outputs": [],
   "source": [
    "data,old = np.array(data),np.array(old)\n",
    "npt = Npoints[-1]\n",
    "cs_arr = cellsize \n",
    "cs_arr"
   ]
  },
  {
   "cell_type": "code",
   "execution_count": null,
   "metadata": {},
   "outputs": [],
   "source": [
    "col,row = 2,len(Npoints)//2\n",
    "fig, (ax) = plt.subplots(row, col, sharex='col', sharey='row')\n",
    "fig.subplots_adjust(hspace=0.7, wspace=0.5)\n",
    "fig.set_size_inches(15,15)\n",
    "for c in range(col):\n",
    "    for r in range(row):\n",
    "        npt = Npoints[r+c]\n",
    "        for cut in cutoff[:-2]:\n",
    "            m = data[(data[:,0]==npt) & (data[:,2]==cut)]\n",
    "            time = m[:,3]\n",
    "            ax[r,c].plot(cs_arr,time,label=\"Cutoff = {}\".format(cut))\n",
    "            ax[r,c].legend(loc='upper center', bbox_to_anchor=(1.2, 0.95),ncol=1, fancybox=True)\n",
    "            ax[r,c].set_xlabel('Cellsize')\n",
    "            ax[r,c].set_ylabel('Time (s)')\n",
    "            ax[r,c].autoscale()\n",
    "            #ax[r,c].set_xscale('log')\n",
    "        ax[r,c].set_title('Npoints = {}'.format(npt))"
   ]
  }
 ],
 "metadata": {
  "kernelspec": {
   "display_name": "Python 3",
   "language": "python",
   "name": "python3"
  },
  "language_info": {
   "codemirror_mode": {
    "name": "ipython",
    "version": 3
   },
   "file_extension": ".py",
   "mimetype": "text/x-python",
   "name": "python",
   "nbconvert_exporter": "python",
   "pygments_lexer": "ipython3",
   "version": "3.6.5"
  }
 },
 "nbformat": 4,
 "nbformat_minor": 2
}
