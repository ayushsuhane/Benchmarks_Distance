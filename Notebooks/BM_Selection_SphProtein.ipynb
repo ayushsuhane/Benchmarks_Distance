{
 "cells": [
  {
   "cell_type": "code",
   "execution_count": 1,
   "metadata": {},
   "outputs": [],
   "source": [
    "from cellgrid import CellGrid ,capped_distance_array\n",
    "from MDAnalysis.lib.pkdtree import PeriodicKDTree\n",
    "import numpy as np\n",
    "from scipy.special import gammainc\n",
    "from MDAnalysis.lib.distances import self_distance_array,distance_array\n",
    "%matplotlib inline"
   ]
  },
  {
   "cell_type": "code",
   "execution_count": 2,
   "metadata": {},
   "outputs": [],
   "source": [
    "##Methods for initialization\n",
    "def generate_protein(center,radius,nparticles,box=None):\n",
    "    r = radius\n",
    "    ndim = center.size\n",
    "    x = np.random.normal(size=(nparticles, ndim))\n",
    "    ssq = np.sum(x**2,axis=1)\n",
    "    fr = r*gammainc(ndim/2,ssq/2)**(1/ndim)/np.sqrt(ssq)\n",
    "    frtiled = np.tile(fr.reshape(nparticles,1),(1,ndim))\n",
    "    p = center + np.multiply(x,frtiled)\n",
    "    return p.astype('float32')\n",
    "\n",
    "def generate_solvent(center,radius,nparticles,box):\n",
    "    points = np.random.uniform(low=0,high=1.0,size=(nparticles,3))*box[:3]\n",
    "    idx = np.where(np.sum((points-center)**2,axis=1)<radius**2)\n",
    "    points[idx] += np.sign(points[idx]-center)*radius\n",
    "    return(points[np.where(np.sum((points-center)**2,axis=1)>radius**2)].astype('float32'))"
   ]
  },
  {
   "cell_type": "code",
   "execution_count": 3,
   "metadata": {},
   "outputs": [],
   "source": [
    "##Methods to compare\n",
    "def cg_select_around(protein_particles,solvent_particles,maxdist,box):\n",
    "    if box.shape == (6,):\n",
    "        box1 = box[:3]\n",
    "    else:\n",
    "        box1 = box\n",
    "    indx,dist = capped_distance_array(protein_particles,solvent_particles,maxdist,box1)\n",
    "    mask = np.where(dist<maxdist)\n",
    "    indices = (np.unique((indx[mask])[:,1]))\n",
    "    return indices\n",
    "\n",
    "def bf_select_around(protein_particles,solvent_particles,maxdist,box):\n",
    "    distance = distance_array(protein_particles,solvent_particles,box)\n",
    "    mask = np.where(distance<maxdist)[1]\n",
    "    return np.unique(mask)\n",
    "\n",
    "def kdtree_select_around(protein_particles,solvent_particles,maxdist,box):\n",
    "    kdtree = PeriodicKDTree(box,bucket_size=10)\n",
    "    kdtree.set_coords(solvent_particles)\n",
    "    kdtree.search(protein_particles,maxdist)\n",
    "    indices = kdtree.get_indices()\n",
    "    return np.array(indices)"
   ]
  },
  {
   "cell_type": "code",
   "execution_count": 4,
   "metadata": {},
   "outputs": [],
   "source": [
    "###Testing different methods\n",
    "\n",
    "##Settings\n",
    "box = np.array([100,100,100,90,90,90],dtype=np.float32)\n",
    "center = np.array([box[0]/2,box[1]/2,box[2]/2])\n",
    "Nprotein,Nsolvent = 100,10000\n",
    "radius = 10.0\n",
    "maxdist = 6.0"
   ]
  },
  {
   "cell_type": "code",
   "execution_count": 5,
   "metadata": {},
   "outputs": [],
   "source": [
    "#initialize\n",
    "solvent_particles = generate_solvent(center,radius,Nsolvent,box)\n",
    "protein_particles = generate_protein(center,radius,Nprotein)"
   ]
  },
  {
   "cell_type": "code",
   "execution_count": 6,
   "metadata": {},
   "outputs": [],
   "source": [
    "##Evaluate Once\n",
    "cg_selection = cg_select_around(protein_particles,solvent_particles, maxdist,box)\n",
    "kdtree_selection = kdtree_select_around(protein_particles,solvent_particles,maxdist,box)\n",
    "bf_selection = bf_select_around(protein_particles,solvent_particles,maxdist,box)"
   ]
  },
  {
   "cell_type": "code",
   "execution_count": 7,
   "metadata": {},
   "outputs": [],
   "source": [
    "#Testing\n",
    "np.testing.assert_equal(bf_selection,cg_selection)\n",
    "np.testing.assert_equal(bf_selection,kdtree_selection)"
   ]
  },
  {
   "cell_type": "code",
   "execution_count": 9,
   "metadata": {},
   "outputs": [
    {
     "name": "stdout",
     "output_type": "stream",
     "text": [
      "19 ms ± 1.09 ms per loop (mean ± std. dev. of 3 runs, 10 loops each)\n",
      "39.3 ms ± 223 µs per loop (mean ± std. dev. of 3 runs, 10 loops each)\n",
      "2.38 s ± 170 ms per loop (mean ± std. dev. of 3 runs, 10 loops each)\n"
     ]
    }
   ],
   "source": [
    "#Benchmark for single use case => less time consuming to compare\n",
    "%timeit -n 10 -r 3 kdtree_select_around(protein_particles,solvent_particles,maxdist,box)\n",
    "%timeit -n 10 -r 3 bf_select_around(protein_particles,solvent_particles,maxdist,box)\n",
    "%timeit -n 10 -r 3 cg_select_around(protein_particles,solvent_particles, maxdist, box)"
   ]
  },
  {
   "cell_type": "code",
   "execution_count": 10,
   "metadata": {},
   "outputs": [],
   "source": [
    "#Benchmark scaling : neighbour selection within \n",
    "#6 unit distance with increase in solvent density \n",
    "\n",
    "##Setting\n",
    "box = np.array([100,100,100,90,90,90],dtype=np.float32)\n",
    "center = np.array([box[0]/2,box[1]/2,box[2]/2])\n",
    "Nsolvent,Nprotein = np.logspace(2,3,num=3,dtype='int32'),100\n",
    "maxdist = 6.0\n",
    "radius = 10.0"
   ]
  },
  {
   "cell_type": "code",
   "execution_count": 11,
   "metadata": {},
   "outputs": [],
   "source": [
    "##Benchmarks\n",
    "time_kd,time_bf,time_cg = [],[],[]\n",
    "func_dict = dict(KDtree=[kdtree_select_around,time_kd],BruteForce=[bf_select_around,time_bf],Cellgrid=[cg_select_around,time_cg])\n",
    "for nsolvent in Nsolvent:\n",
    "    solvent_particles = generate_solvent(center,radius,nsolvent,box)\n",
    "    for key in func_dict:\n",
    "        time = %timeit -q -o -n 1 -r 3 func_dict[key][0](protein_particles,solvent_particles,maxdist,box)\n",
    "        func_dict[key][1].append([time.average,time.stdev])"
   ]
  },
  {
   "cell_type": "code",
   "execution_count": 12,
   "metadata": {},
   "outputs": [
    {
     "name": "stdout",
     "output_type": "stream",
     "text": [
      "Solvent Particles : 100, Protein particles : 100, Protein Radius :10.0, Protein Centre : [50. 50. 50.]\n",
      "KDtree \t\t Average Time: 0.00557933333341983 Standard Deviation: 0.0012586660489862312\n",
      "BruteForce \t\t Average Time: 0.0008386666668229736 Standard Deviation: 5.3543336682182736e-05\n",
      "Cellgrid \t\t Average Time: 2.2285606666670597 Standard Deviation: 0.08111264998933385\n",
      "\n",
      "Solvent Particles : 316, Protein particles : 100, Protein Radius :10.0, Protein Centre : [50. 50. 50.]\n",
      "KDtree \t\t Average Time: 0.003526666666099724 Standard Deviation: 0.000157637418316399\n",
      "BruteForce \t\t Average Time: 0.0012150000002293382 Standard Deviation: 2.7760884238402678e-05\n",
      "Cellgrid \t\t Average Time: 2.3607093333333373 Standard Deviation: 0.12576045596369775\n",
      "\n",
      "Solvent Particles : 1000, Protein particles : 100, Protein Radius :10.0, Protein Centre : [50. 50. 50.]\n",
      "KDtree \t\t Average Time: 0.004798000000543349 Standard Deviation: 4.8110983214962746e-05\n",
      "BruteForce \t\t Average Time: 0.004082666666363366 Standard Deviation: 0.00010809358085981627\n",
      "Cellgrid \t\t Average Time: 2.3744886666669722 Standard Deviation: 0.16677327367870404\n",
      "\n"
     ]
    }
   ],
   "source": [
    "#Output\n",
    "for idx,value in enumerate(Nsolvent):\n",
    "    print(\"Solvent Particles : {}, Protein particles : {}, Protein Radius :{}, Protein Centre : {}\".format(value,\n",
    "                                                                                                           Nprotein,\n",
    "                                                                                                          radius, center))\n",
    "    for key in func_dict:    \n",
    "        print(\"{} \\t\\t Average Time: {} Standard Deviation: {}\".format(key,func_dict[key][1][idx][0],func_dict[key][1][idx][1]))\n",
    "    print()"
   ]
  },
  {
   "cell_type": "code",
   "execution_count": 13,
   "metadata": {},
   "outputs": [],
   "source": [
    "import matplotlib\n",
    "import matplotlib.pyplot as plt"
   ]
  },
  {
   "cell_type": "code",
   "execution_count": 14,
   "metadata": {},
   "outputs": [
    {
     "data": {
      "image/png": "[encoded data removed]",
      "text/plain": [
       "<Figure size 432x288 with 1 Axes>"
      ]
     },
     "metadata": {},
     "output_type": "display_data"
    }
   ],
   "source": [
    "##Plots for visual comparison\n",
    "for key in func_dict:\n",
    "    avg_time,sd = np.array(func_dict[key][1],dtype=np.float32)[:,0],np.array(func_dict[key][1],dtype=np.float32)[:,1]\n",
    "    plt.errorbar(Nsolvent,avg_time,yerr=sd,label='Method = {}'.format(key))\n",
    "    plt.legend()\n",
    "    plt.xlabel('Number of Solvent Particles')\n",
    "    plt.ylabel('Time (s)')"
   ]
  },
  {
   "cell_type": "code",
   "execution_count": 15,
   "metadata": {},
   "outputs": [],
   "source": [
    "###Benchmarks for different cutoff radius and density of number of particles only for cellgrid\n",
    "\n",
    "#Setting\n",
    "box = np.array([100,100,100,90,90,90],dtype=np.float32)\n",
    "center = np.array([box[0]/2,box[1]/2,box[2]/2])\n",
    "Nsolvent,Nprotein = np.logspace(2,3,num=5,dtype='int32'),100\n",
    "Maxdist = np.linspace(4,10,num=7,dtype=np.int32)\n",
    "radius = 10.0"
   ]
  },
  {
   "cell_type": "code",
   "execution_count": 16,
   "metadata": {},
   "outputs": [],
   "source": [
    "##Benchmarks\n",
    "time_cg = []\n",
    "for nsolvent in Nsolvent:\n",
    "    solvent_particles = generate_solvent(center,radius,nsolvent,box)\n",
    "    for maxdist in Maxdist:\n",
    "        time = %timeit -q -o -n 1 -r 3 cg_select_around(protein_particles,solvent_particles,maxdist,box)\n",
    "        time_cg.append([nsolvent,maxdist,time.average,time.stdev])"
   ]
  },
  {
   "cell_type": "code",
   "execution_count": 17,
   "metadata": {},
   "outputs": [
    {
     "data": {
      "image/png": "[encoded data removed]",
      "text/plain": [
       "<Figure size 432x288 with 1 Axes>"
      ]
     },
     "metadata": {},
     "output_type": "display_data"
    }
   ],
   "source": [
    "##Plot for visual comparison\n",
    "arr = np.array(time_cg)\n",
    "for maxdist in Maxdist:\n",
    "    mask = (arr[:,1]==maxdist)\n",
    "    npt,avg,sd = (arr[mask,:][:,0]),(arr[mask,:][:,2]),(arr[mask,:][:,3])\n",
    "    plt.errorbar(npt,avg,yerr=sd,label='Cutoff Radius = {}'.format(maxdist))\n",
    "    plt.legend()\n",
    "    plt.xlabel('Number of Points')\n",
    "    plt.ylabel('Time (s)')"
   ]
  }
 ],
 "metadata": {
  "kernelspec": {
   "display_name": "Python 3",
   "language": "python",
   "name": "python3"
  },
  "language_info": {
   "codemirror_mode": {
    "name": "ipython",
    "version": 3
   },
   "file_extension": ".py",
   "mimetype": "text/x-python",
   "name": "python",
   "nbconvert_exporter": "python",
   "pygments_lexer": "ipython3",
   "version": "3.6.5"
  }
 },
 "nbformat": 4,
 "nbformat_minor": 2
}
