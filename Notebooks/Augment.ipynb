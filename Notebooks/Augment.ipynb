{
 "cells": [
  {
   "cell_type": "markdown",
   "metadata": {},
   "source": [
    "The goal of the notebook is to construct an API which can augment the coordinates by extending the box, such that other methods which are not PBC aware can be used. The indices can be back transformed by creating a hashmap which links every artificial atom outside the bounds of the box to its real counterpart."
   ]
  },
  {
   "cell_type": "code",
   "execution_count": 17,
   "metadata": {},
   "outputs": [],
   "source": [
    "from MDAnalysis.lib.distances import distance_array\n",
    "import numpy as np\n",
    "from collections import defaultdict"
   ]
  },
  {
   "cell_type": "markdown",
   "metadata": {},
   "source": [
    "To create the relevant image points, the slick algorithm used in the implementation of periodic KDtree is used. Another hashmap is also contructed which stores the information of multiple images and their linkage to the original coordinates."
   ]
  },
  {
   "cell_type": "code",
   "execution_count": 10,
   "metadata": {},
   "outputs": [],
   "source": [
    "def get_coords(box,Npoints):\n",
    "    return (np.random.uniform(low=0,high=1.0,size=(Npoints,3))*box[:3]).astype(np.float32)"
   ]
  },
  {
   "cell_type": "code",
   "execution_count": 19,
   "metadata": {},
   "outputs": [],
   "source": [
    "def augment(points, cutoff, box):\n",
    "    \"\"\"\n",
    "    Augments the cordinates and returns the coordinates in \n",
    "    the extended box, such that all the atoms in the box \n",
    "    are PBC aware\n",
    "    \n",
    "    Parameters\n",
    "    ----------\n",
    "    points : coordinates of dimension (N, 3)\n",
    "    cutoff : cutoff radius \n",
    "    box : PBC aware box\n",
    "    \n",
    "    Returns\n",
    "    -------\n",
    "    augmented_coords : similar to points but added coordinates \n",
    "    mapid : hash map with the original to artificial mapping\n",
    "    \"\"\"\n",
    "    a, b, c = box[:3]\n",
    "    dm = np.array([[a, 0, 0], [0, b, 0], [0, 0, c]], dtype=np.float32)\n",
    "    rm = np.array([[1, 0, 0], [0, 1, 0], [0, 0, 1]], dtype=np.float32)\n",
    "    \n",
    "    augmented_coords = points.copy() ## So as to not change the original coordinates\n",
    "    mapid = defaultdict(list) # hash maps\n",
    "    for idx, coords in enumerate(points):\n",
    "        images = list()\n",
    "        distances = np.dot(rm, coords)\n",
    "        displacements = list(dm[np.where(distances < cutoff)[0]])\n",
    "        distances = np.einsum('ij,ij->i', rm,dm - coords)\n",
    "        displacements.extend(list(-dm[np.where(distances < cutoff)[0]]))\n",
    "        n_displacements = len(displacements)\n",
    "        if n_displacements > 1:\n",
    "            for start in range(n_displacements - 1, -1, -1):\n",
    "                for i in range(start+1, len(displacements)):\n",
    "                    displacements.append(displacements[start]+displacements[i])\n",
    "        images.extend([coords + d for d in displacements])\n",
    "        updated_N = len(augmented_coords)\n",
    "        if len(images) > 0 :\n",
    "            augmented_coords = np.append(augmented_coords, [images[i] for i in range(len(images))], axis = 0)\n",
    "            for newidx in range(len(images)):\n",
    "                mapid[updated_N + newidx].append(idx)\n",
    "    return augmented_coords, mapid"
   ]
  },
  {
   "cell_type": "code",
   "execution_count": 63,
   "metadata": {},
   "outputs": [],
   "source": [
    "def inverse_augment(pairs, mapid, N):\n",
    "    \"\"\"\n",
    "    Returns the set of unique pairs\n",
    "    \n",
    "    pairs is a list of pairs which needs to be replaced\n",
    "    \n",
    "    Parameters\n",
    "    ----------\n",
    "    pairs : tuple of indices\n",
    "    mapid : hash map returned from augment \n",
    "    N : Number of points in original indices\n",
    "    \n",
    "    Returns\n",
    "    -------\n",
    "    numpy array of unique bonds\n",
    "    \"\"\"\n",
    "    pairs = np.asarray(pairs)\n",
    "    for idx, (a,b) in enumerate(pairs):\n",
    "        for ind, val in enumerate([a,b]):\n",
    "            if val >= N:\n",
    "                pairs[idx, ind] = mapid[val][0]\n",
    "        pairs[idx,:] = np.sort(pairs[idx, :])\n",
    "    return np.unique(pairs, axis = 0) "
   ]
  },
  {
   "cell_type": "markdown",
   "metadata": {},
   "source": [
    "# Check with and without the augment"
   ]
  },
  {
   "cell_type": "markdown",
   "metadata": {},
   "source": [
    "Lets test the implementation against brute force for the evaluation of pairs which are within a certain cutoff distance."
   ]
  },
  {
   "cell_type": "code",
   "execution_count": 34,
   "metadata": {},
   "outputs": [],
   "source": [
    "def bf_select(points, maxdist, box = None):\n",
    "    bonds = []\n",
    "    for i,coordinate in enumerate(points):\n",
    "        dist = distance_array(points[i][None, :], points[i + 1:],box=box)[0]\n",
    "        idx = np.where((dist <= maxdist))[0]\n",
    "        for a in idx:\n",
    "            j = i + 1 + a\n",
    "            atom_j = points[j]\n",
    "            bonds.append((i, j))\n",
    "    return np.asarray(bonds)"
   ]
  },
  {
   "cell_type": "code",
   "execution_count": 67,
   "metadata": {},
   "outputs": [],
   "source": [
    "def aug_select(points, maxdist, box):\n",
    "    augment_coords, mapid = augment(points, maxdist, box)\n",
    "    art_bonds = bf_select(augment_coords, maxdist)\n",
    "    bonds = inverse_augment(art_bonds, mapid, len(points))\n",
    "    return bonds"
   ]
  },
  {
   "cell_type": "code",
   "execution_count": 78,
   "metadata": {},
   "outputs": [],
   "source": [
    "# Initialize\n",
    "box = np.array([100,100,100,90,90,90],dtype=np.float32)\n",
    "points = get_coords(box,Npoints=10000)\n",
    "maxdist = 4.0"
   ]
  },
  {
   "cell_type": "code",
   "execution_count": 79,
   "metadata": {},
   "outputs": [
    {
     "data": {
      "text/plain": [
       "13407"
      ]
     },
     "execution_count": 79,
     "metadata": {},
     "output_type": "execute_result"
    }
   ],
   "source": [
    "bonds = bf_select(points, maxdist, box)\n",
    "len(bonds)"
   ]
  },
  {
   "cell_type": "code",
   "execution_count": 80,
   "metadata": {},
   "outputs": [
    {
     "data": {
      "text/plain": [
       "13407"
      ]
     },
     "execution_count": 80,
     "metadata": {},
     "output_type": "execute_result"
    }
   ],
   "source": [
    "bonds_aug = aug_select(points, maxdist, box)\n",
    "len(bonds_aug)"
   ]
  },
  {
   "cell_type": "code",
   "execution_count": 81,
   "metadata": {},
   "outputs": [
    {
     "name": "stdout",
     "output_type": "stream",
     "text": [
      "2.48 s ± 78.5 ms per loop (mean ± std. dev. of 7 runs, 1 loop each)\n"
     ]
    }
   ],
   "source": [
    "%timeit bf_select(points, maxdist, box)"
   ]
  },
  {
   "cell_type": "code",
   "execution_count": 82,
   "metadata": {},
   "outputs": [
    {
     "name": "stdout",
     "output_type": "stream",
     "text": [
      "1.47 s ± 17.8 ms per loop (mean ± std. dev. of 7 runs, 1 loop each)\n"
     ]
    }
   ],
   "source": [
    "%timeit aug_select(points, maxdist, box)"
   ]
  }
 ],
 "metadata": {
  "kernelspec": {
   "display_name": "Python 3",
   "language": "python",
   "name": "python3"
  },
  "language_info": {
   "codemirror_mode": {
    "name": "ipython",
    "version": 3
   },
   "file_extension": ".py",
   "mimetype": "text/x-python",
   "name": "python",
   "nbconvert_exporter": "python",
   "pygments_lexer": "ipython3",
   "version": "3.6.5"
  }
 },
 "nbformat": 4,
 "nbformat_minor": 2
}
