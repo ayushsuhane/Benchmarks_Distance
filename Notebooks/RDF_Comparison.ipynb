{
 "cells": [
  {
   "cell_type": "code",
   "execution_count": 1,
   "metadata": {},
   "outputs": [],
   "source": [
    "import MDAnalysis as mda\n",
    "from MDAnalysisTests.datafiles import  TPR, XTC\n",
    "import numpy as np"
   ]
  },
  {
   "cell_type": "code",
   "execution_count": 2,
   "metadata": {},
   "outputs": [],
   "source": [
    "import matplotlib\n",
    "import matplotlib.pyplot as plt\n",
    "%matplotlib inline"
   ]
  },
  {
   "cell_type": "code",
   "execution_count": 3,
   "metadata": {},
   "outputs": [],
   "source": [
    "from  MDAnalysis.analysis.rdf import InterRDF"
   ]
  },
  {
   "cell_type": "code",
   "execution_count": 4,
   "metadata": {},
   "outputs": [],
   "source": [
    "from MDAnalysis.lib.util import blocks_of\n",
    "from MDAnalysis.lib import distances\n",
    "from MDAnalysis.analysis.base import AnalysisBase\n",
    "from six.moves import zip, range\n",
    "\n",
    "\n",
    "class newInterRDF(AnalysisBase):\n",
    "    \"\"\"Intermolecular pair distribution function\n",
    "    InterRDF(g1, g2, nbins=75, range=(0.0, 15.0))\n",
    "    Arguments\n",
    "    ---------\n",
    "    g1 : AtomGroup\n",
    "      First AtomGroup\n",
    "    g2 : AtomGroup\n",
    "      Second AtomGroup\n",
    "    nbins : int (optional)\n",
    "          Number of bins in the histogram [75]\n",
    "    range : tuple or list (optional)\n",
    "          The size of the RDF [0.0, 15.0]\n",
    "    exclusion_block : tuple (optional)\n",
    "          A tuple representing the tile to exclude from the distance\n",
    "          array. [None]\n",
    "    start : int (optional)\n",
    "          The frame to start at (default is first)\n",
    "    stop : int (optional)\n",
    "          The frame to end at (default is last)\n",
    "    step : int (optional)\n",
    "          The step size through the trajectory in frames (default is\n",
    "          every frame)\n",
    "    verbose : bool (optional)\n",
    "          Show detailed progress of the calculation if set to ``True``; the\n",
    "          default is ``False``.\n",
    "    Example\n",
    "    -------\n",
    "    First create the :class:`InterRDF` object, by supplying two\n",
    "    AtomGroups then use the :meth:`run` method ::\n",
    "      rdf = InterRDF(ag1, ag2)\n",
    "      rdf.run()\n",
    "    Results are available through the :attr:`bins` and :attr:`rdf`\n",
    "    attributes::\n",
    "      plt.plot(rdf.bins, rdf.rdf)\n",
    "    The `exclusion_block` keyword allows the masking of pairs from\n",
    "    within the same molecule.  For example, if there are 7 of each\n",
    "    atom in each molecule, the exclusion mask `(7, 7)` can be used.\n",
    "    .. versionadded:: 0.13.0\n",
    "    \"\"\"\n",
    "    def __init__(self, g1, g2,\n",
    "                 nbins=75, range=(0.0, 15.0), exclusion_block=None,\n",
    "                 **kwargs):\n",
    "        super(newInterRDF, self).__init__(g1.universe.trajectory, **kwargs)\n",
    "        self.g1 = g1\n",
    "        self.g2 = g2\n",
    "        self.u = g1.universe\n",
    "\n",
    "        self.rdf_settings = {'bins': nbins,\n",
    "                             'range': range}\n",
    "        self._exclusion_block = exclusion_block\n",
    "\n",
    "    def _prepare(self):\n",
    "        # Empty histogram to store the RDF\n",
    "        count, edges = np.histogram([-1], **self.rdf_settings)\n",
    "        count = count.astype(np.float64)\n",
    "        count *= 0.0\n",
    "        self.count = count\n",
    "        self.edges = edges\n",
    "        self.bins = 0.5 * (edges[:-1] + edges[1:])\n",
    "\n",
    "        # Need to know average volume\n",
    "        self.volume = 0.0\n",
    "        self._maxrange = self.rdf_settings['range'][1]\n",
    "        \n",
    "    def _single_frame(self):\n",
    "        pairs, dist = distances.capped_distance(self.g1.positions, self.g2.positions,\n",
    "                                                self._maxrange, \n",
    "                                                box=self.u.dimensions)\n",
    "        \n",
    "        if self._exclusion_block is not None:\n",
    "            A, B = pairs[:, 0]//self._exclusion_block[0], pairs[:, 1]//self._exclusion_block[1]\n",
    "            C = np.where(A != B)[0]\n",
    "            dist = dist[C]\n",
    "        \n",
    "        count = np.histogram(dist, **self.rdf_settings)[0]\n",
    "        self.count += count\n",
    "\n",
    "        self.volume += self._ts.volume\n",
    "\n",
    "    def _conclude(self):\n",
    "        # Number of each selection\n",
    "        nA = len(self.g1)\n",
    "        nB = len(self.g2)\n",
    "        N = nA * nB\n",
    "\n",
    "        # If we had exclusions, take these into account\n",
    "        if self._exclusion_block:\n",
    "            xA, xB = self._exclusion_block\n",
    "            nblocks = nA / xA\n",
    "            N -= xA * xB * nblocks\n",
    "\n",
    "        # Volume in each radial shell\n",
    "        vol = np.power(self.edges[1:], 3) - np.power(self.edges[:-1], 3)\n",
    "        vol *= 4/3.0 * np.pi\n",
    "\n",
    "        # Average number density\n",
    "        box_vol = self.volume / self.n_frames\n",
    "        density = N / box_vol\n",
    "\n",
    "        rdf = self.count / (density * vol * self.n_frames)\n",
    "\n",
    "        self.rdf = rdf"
   ]
  },
  {
   "cell_type": "code",
   "execution_count": 5,
   "metadata": {},
   "outputs": [],
   "source": [
    "u = mda.Universe(TPR, XTC)"
   ]
  },
  {
   "cell_type": "code",
   "execution_count": 6,
   "metadata": {},
   "outputs": [
    {
     "data": {
      "application/vnd.jupyter.widget-view+json": {
       "model_id": "988ad70739c64eb693b076b395f9a2ff",
       "version_major": 2,
       "version_minor": 0
      },
      "text/plain": [
       "HBox(children=(IntProgress(value=0, max=10), HTML(value='')))"
      ]
     },
     "metadata": {},
     "output_type": "display_data"
    },
    {
     "name": "stdout",
     "output_type": "stream",
     "text": [
      "\n"
     ]
    }
   ],
   "source": [
    "from tqdm import tqdm_notebook\n",
    "from collections import defaultdict\n",
    "\n",
    "result = defaultdict(list)\n",
    "N = np.logspace(2, 4, num=10, dtype=np.int64)\n",
    "for n in tqdm_notebook(N):\n",
    "    s1 = u.select_atoms('name OW')[:n]\n",
    "    \n",
    "    rdf_old = InterRDF(s1, s1)\n",
    "    res = %timeit -q -o rdf_old.run()\n",
    "    result['old'].append(res.average)\n",
    "    \n",
    "    rdf_new = newInterRDF(s1, s1)\n",
    "    res = %timeit -q -o rdf_new.run()\n",
    "    result['new'].append(res.average)"
   ]
  },
  {
   "cell_type": "code",
   "execution_count": 7,
   "metadata": {},
   "outputs": [
    {
     "data": {
      "text/plain": [
       "<matplotlib.legend.Legend at 0x7ff1cc8202e8>"
      ]
     },
     "execution_count": 7,
     "metadata": {},
     "output_type": "execute_result"
    },
    {
     "data": {
      "image/png": "[encoded data removed]",
      "text/plain": [
       "<Figure size 432x288 with 1 Axes>"
      ]
     },
     "metadata": {},
     "output_type": "display_data"
    }
   ],
   "source": [
    "fig, axes = plt.subplots()\n",
    "\n",
    "axes.plot(N, result['new'], 'o-', label='New RDF')\n",
    "axes.plot(N, result['old'], 'o-', label='Old RDF')\n",
    "\n",
    "axes.set(xlabel='N', ylabel='time [s]', yscale='log', title='RDF')\n",
    "axes.legend()"
   ]
  }
 ],
 "metadata": {
  "kernelspec": {
   "display_name": "Python 3",
   "language": "python",
   "name": "python3"
  },
  "language_info": {
   "codemirror_mode": {
    "name": "ipython",
    "version": 3
   },
   "file_extension": ".py",
   "mimetype": "text/x-python",
   "name": "python",
   "nbconvert_exporter": "python",
   "pygments_lexer": "ipython3",
   "version": "3.6.5"
  }
 },
 "nbformat": 4,
 "nbformat_minor": 2
}
