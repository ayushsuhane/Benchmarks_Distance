{
 "cells": [
  {
   "cell_type": "code",
   "execution_count": 2,
   "metadata": {},
   "outputs": [],
   "source": [
    "import scipy\n",
    "from scipy.spatial.distance import squareform\n",
    "import cellgrid\n",
    "from initialization import init_uniform\n",
    "import numpy as np\n",
    "from MDAnalysis.lib.distances import self_distance_array\n",
    "import itertools"
   ]
  },
  {
   "cell_type": "code",
   "execution_count": 2,
   "metadata": {},
   "outputs": [],
   "source": [
    "%load_ext memory_profiler\n",
    "%matplotlib inline"
   ]
  },
  {
   "cell_type": "code",
   "execution_count": 3,
   "metadata": {},
   "outputs": [],
   "source": [
    "def _check_box(box):\n",
    "    if box.shape == (6,):\n",
    "        box1 = box[:3]\n",
    "    else:\n",
    "        box1 = box\n",
    "    return box1\n",
    "\n",
    "def pair_contact(cg,maxdist):\n",
    "    indx,dist = cellgrid.capped_self_distance_array(cg._coordinates,maxdist,cg._box)\n",
    "    mask = np.where(dist<maxdist)\n",
    "    return indx[mask],dist[mask]"
   ]
  },
  {
   "cell_type": "code",
   "execution_count": 4,
   "metadata": {},
   "outputs": [],
   "source": [
    "def bf_select(box, points, maxdist):\n",
    "    distance = self_distance_array(points,box)\n",
    "    distance = scipy.spatial.distance.squareform(distance)\n",
    "    distance[np.tril_indices(distance.shape[0])] += (1.1*maxdist)\n",
    "    mask = np.where((distance < maxdist))\n",
    "    out = (np.column_stack((mask[0],mask[1])),distance[mask])\n",
    "    return out"
   ]
  },
  {
   "cell_type": "code",
   "execution_count": 5,
   "metadata": {},
   "outputs": [],
   "source": [
    "def cg_select(box,cellsize,points,cutoff_distance):\n",
    "    box = _check_box(box)\n",
    "    cg1 = cellgrid.CellGrid(box,cellsize,points)\n",
    "    out_cg = pair_contact(cg1,cutoff_distance)\n",
    "    return out_cg"
   ]
  },
  {
   "cell_type": "markdown",
   "metadata": {},
   "source": [
    "# Cellsize > Cutoff_Distance"
   ]
  },
  {
   "cell_type": "code",
   "execution_count": 6,
   "metadata": {},
   "outputs": [],
   "source": [
    "##Setting\n",
    "box = np.array([100,100,100,90.,90.,90.],dtype=np.float32)\n",
    "cellsize = 10.\n",
    "cutoff_distance = 5.\n",
    "Npoints = 1000"
   ]
  },
  {
   "cell_type": "code",
   "execution_count": 7,
   "metadata": {},
   "outputs": [],
   "source": [
    "#Initialization\n",
    "points = init_uniform(box,Npoints)"
   ]
  },
  {
   "cell_type": "code",
   "execution_count": 8,
   "metadata": {},
   "outputs": [],
   "source": [
    "out_cg = cg_select(box,cellsize,points,cutoff_distance)"
   ]
  },
  {
   "cell_type": "code",
   "execution_count": 9,
   "metadata": {},
   "outputs": [],
   "source": [
    "out_bf = bf_select(box,points,cutoff_distance)"
   ]
  },
  {
   "cell_type": "markdown",
   "metadata": {},
   "source": [
    "# Testing"
   ]
  },
  {
   "cell_type": "code",
   "execution_count": 39,
   "metadata": {},
   "outputs": [],
   "source": [
    "# Length\n",
    "np.testing.assert_equal(out_bf[1].shape,out_cg[1].shape)\n",
    "# Distances\n",
    "np.testing.assert_array_almost_equal(np.sort(out_bf[1].astype(np.float64)),np.sort(out_cg[1]),decimal=5) #Comparing array values\n",
    "# Rows,Column\n",
    "np.testing.assert_array_equal(np.sort(out_cg[0][...,1]),np.sort(out_bf[0][...,1]))\n",
    "np.testing.assert_array_equal(np.sort(out_cg[0][...,0]),np.sort(out_bf[0][...,0]))"
   ]
  },
  {
   "cell_type": "markdown",
   "metadata": {},
   "source": [
    "# Variation of cellsize with Npoints for same cutoff distance"
   ]
  },
  {
   "cell_type": "code",
   "execution_count": 47,
   "metadata": {},
   "outputs": [],
   "source": [
    "#Setting\n",
    "cellsize = np.linspace(5,50,num=10,dtype=np.int32)\n",
    "Npoints = np.logspace(2,5,num=10,dtype=np.int32)\n",
    "cutoff = 5.\n",
    "box = np.array([100,100,100,90.,90.,90.],dtype=np.float32)"
   ]
  },
  {
   "cell_type": "code",
   "execution_count": null,
   "metadata": {},
   "outputs": [
    {
     "name": "stdout",
     "output_type": "stream",
     "text": [
      "Npoints 100 CellSize 5 Time 0.9880923333333461\n",
      "Npoints 100 CellSize 10 Time 0.9785046666665949\n",
      "Npoints 100 CellSize 15 Time 0.96560799999952\n",
      "Npoints 100 CellSize 20 Time 0.9370001666666212\n",
      "Npoints 100 CellSize 25 Time 0.9389494999998836\n",
      "Npoints 100 CellSize 30 Time 0.9533588333333682\n",
      "Npoints 100 CellSize 35 Time 0.9378786666663169\n",
      "Npoints 100 CellSize 40 Time 0.9395280000001852\n",
      "Npoints 100 CellSize 45 Time 0.9302074999998998\n",
      "Npoints 100 CellSize 50 Time 1.061085833333588\n",
      "Npoints 215 CellSize 5 Time 1.1700289999998859\n",
      "Npoints 215 CellSize 10 Time 1.083472166666373\n",
      "Npoints 215 CellSize 15 Time 1.000367166666668\n",
      "Npoints 215 CellSize 20 Time 0.9751653333332797\n",
      "Npoints 215 CellSize 25 Time 0.9728316666669343\n",
      "Npoints 215 CellSize 30 Time 1.0134358333334603\n",
      "Npoints 215 CellSize 35 Time 0.982873666666516\n",
      "Npoints 215 CellSize 40 Time 0.9535659999998339\n",
      "Npoints 215 CellSize 45 Time 0.9543596666665811\n",
      "Npoints 215 CellSize 50 Time 0.9547366666668798\n",
      "Npoints 464 CellSize 5 Time 1.100958833333607\n",
      "Npoints 464 CellSize 10 Time 1.0373439999996965\n",
      "Npoints 464 CellSize 15 Time 1.009936500000246\n",
      "Npoints 464 CellSize 20 Time 1.0257761666668255\n",
      "Npoints 464 CellSize 25 Time 1.0169911666668365\n",
      "Npoints 464 CellSize 30 Time 1.0295916666664198\n",
      "Npoints 464 CellSize 35 Time 1.0172939999996136\n",
      "Npoints 464 CellSize 40 Time 1.0124948333332213\n",
      "Npoints 464 CellSize 45 Time 1.0215590000004038\n",
      "Npoints 464 CellSize 50 Time 1.030772833333079\n",
      "Npoints 1000 CellSize 5 Time 1.161508166666863\n",
      "Npoints 1000 CellSize 10 Time 1.1739378333334873\n",
      "Npoints 1000 CellSize 15 Time 1.1115293333335405\n",
      "Npoints 1000 CellSize 20 Time 1.1163190000000516\n",
      "Npoints 1000 CellSize 25 Time 1.1310498333332362\n",
      "Npoints 1000 CellSize 30 Time 1.120103333333039\n",
      "Npoints 1000 CellSize 35 Time 1.128198666666928\n",
      "Npoints 1000 CellSize 40 Time 1.126078666666217\n",
      "Npoints 1000 CellSize 45 Time 1.1117508333333415\n",
      "Npoints 1000 CellSize 50 Time 1.1132109999995616\n",
      "Npoints 2154 CellSize 5 Time 1.3730256666667628\n",
      "Npoints 2154 CellSize 10 Time 1.3426326666667592\n",
      "Npoints 2154 CellSize 15 Time 1.3130694999996801\n",
      "Npoints 2154 CellSize 20 Time 1.2870641666668234\n",
      "Npoints 2154 CellSize 25 Time 1.2908848333333178\n",
      "Npoints 2154 CellSize 30 Time 1.2993078333335386\n",
      "Npoints 2154 CellSize 35 Time 1.28256650000003\n",
      "Npoints 2154 CellSize 40 Time 1.3605486666665456\n",
      "Npoints 2154 CellSize 45 Time 1.284034166666667\n",
      "Npoints 2154 CellSize 50 Time 1.31720400000025\n",
      "Npoints 4641 CellSize 5 Time 1.6300703333333029\n",
      "Npoints 4641 CellSize 10 Time 1.577806833333246\n",
      "Npoints 4641 CellSize 15 Time 1.7613288333335124\n",
      "Npoints 4641 CellSize 20 Time 1.6332744999999704\n",
      "Npoints 4641 CellSize 25 Time 1.5907175000002098\n",
      "Npoints 4641 CellSize 30 Time 1.6215163333332991\n",
      "Npoints 4641 CellSize 35 Time 1.665476499999689\n",
      "Npoints 4641 CellSize 40 Time 1.6459628333332148\n",
      "Npoints 4641 CellSize 45 Time 1.6378766666669737\n",
      "Npoints 4641 CellSize 50 Time 1.562366166666531\n",
      "Npoints 10000 CellSize 5 Time 2.132423666666606\n",
      "Npoints 10000 CellSize 10 Time 1.9840474999997848\n",
      "Npoints 10000 CellSize 15 Time 2.101763333333414\n",
      "Npoints 10000 CellSize 20 Time 1.9882035000000542\n",
      "Npoints 10000 CellSize 25 Time 1.9602171666665527\n",
      "Npoints 10000 CellSize 30 Time 2.0228076666665706\n",
      "Npoints 10000 CellSize 35 Time 1.986542166666671\n",
      "Npoints 10000 CellSize 40 Time 1.9788653333334878\n",
      "Npoints 10000 CellSize 45 Time 1.9936930000000455\n",
      "Npoints 10000 CellSize 50 Time 1.9806796666665225\n",
      "Npoints 21544 CellSize 5 Time 2.5356423333335747\n",
      "Npoints 21544 CellSize 10 Time 2.368003666666482\n",
      "Npoints 21544 CellSize 15 Time 2.3847753333338915\n",
      "Npoints 21544 CellSize 20 Time 2.343406499999825\n",
      "Npoints 21544 CellSize 25 Time 2.4357784999998935\n",
      "Npoints 21544 CellSize 30 Time 2.369718999999956\n",
      "Npoints 21544 CellSize 35 Time 2.3599623333335935\n",
      "Npoints 21544 CellSize 40 Time 2.339845833333129\n",
      "Npoints 21544 CellSize 45 Time 2.3518223333333785\n",
      "Npoints 21544 CellSize 50 Time 2.6704998333334515\n",
      "Npoints 46415 CellSize 5 Time 4.077860999999757\n",
      "Npoints 46415 CellSize 10 Time 3.035843333333105\n",
      "Npoints 46415 CellSize 15 Time 3.1459394999998644\n",
      "Npoints 46415 CellSize 20 Time 3.0025860000002162\n",
      "Npoints 46415 CellSize 25 Time 2.9522825000000616\n",
      "Npoints 46415 CellSize 30 Time 3.1699586666666923\n",
      "Npoints 46415 CellSize 35 Time 3.258481999999882\n"
     ]
    }
   ],
   "source": [
    "data = []\n",
    "for npt in Npoints:\n",
    "    points = init_uniform(box,npt)\n",
    "    for cs in cellsize:\n",
    "        time_build = %timeit -q -o -n 2 -r 3 cellgrid.CellGrid(_check_box(box),cs,points)\n",
    "        time = %timeit -q -o -n 2 -r 3 cg_select(box,cs,points,cutoff_distance)\n",
    "        print(\"Npoints {} CellSize {} Time {}\".format(npt,cs,time.average))\n",
    "        data.append((npt,cs,time.average,time_build.average))"
   ]
  },
  {
   "cell_type": "code",
   "execution_count": 37,
   "metadata": {},
   "outputs": [],
   "source": [
    "a = []\n",
    "for item in itertools.combinations_with_replacement([0,-1,1],3):\n",
    "    a.append(item)"
   ]
  },
  {
   "cell_type": "code",
   "execution_count": null,
   "metadata": {},
   "outputs": [],
   "source": []
  }
 ],
 "metadata": {
  "kernelspec": {
   "display_name": "Python 3",
   "language": "python",
   "name": "python3"
  },
  "language_info": {
   "codemirror_mode": {
    "name": "ipython",
    "version": 3
   },
   "file_extension": ".py",
   "mimetype": "text/x-python",
   "name": "python",
   "nbconvert_exporter": "python",
   "pygments_lexer": "ipython3",
   "version": "3.6.5"
  }
 },
 "nbformat": 4,
 "nbformat_minor": 2
}
