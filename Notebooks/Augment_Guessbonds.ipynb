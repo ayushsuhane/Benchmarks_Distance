{
 "cells": [
  {
   "cell_type": "markdown",
   "metadata": {},
   "source": [
    "Most of the simulations in Molecular dynamics require Periodic boundary conditions to simulate bulk properties of a material. While many of the fast near neighbour searches are already in place, their periodic implementation in a triclinic cell is a challenge. Inorder to  implement periodic boundary condition, one has to produce images of all the particles in the neighbourhood cells. Minimum distance of the particle from the any of the image is designated as the pairwise distance between a set of particles. Ideally, to capture the images of all the particles in the vicinity of the cell, the cutoff distance should be half the cellsize, but typically the requirements of near neighbour distances are quite small compared to the box(cell) length. The box can therefore extended till a small cutoff distance and particles within the range can be duplicated. This extended box can then be supplied to the near neighbour searching algorithms which are PBC unaware. \n"
   ]
  },
  {
   "cell_type": "markdown",
   "metadata": {},
   "source": [
    "An implementation for PBC which is KDtree specific, is implemented in MDAnalysis. This can be used as a reference to check the performance of the above mentioned algorithm. More information about the duplication can be found [here](http://www.richardjgowers.com/2018/06/28/make_halos.html). Furthermore, as reported in this [benchmarks](http://nbviewer.jupyter.org/url/jakevdp.github.com/downloads/notebooks/memview_bench.ipynb), huge time reduction can be achieved by using cython functions as all the loops in the code are relatively constly in python."
   ]
  },
  {
   "cell_type": "markdown",
   "metadata": {},
   "source": [
    "Lets begin by comparing the performance of two non periodic tree structures \n",
    "\n",
    "* KDtree in BioPython  \n",
    "* cKDTree in Scipy"
   ]
  },
  {
   "cell_type": "code",
   "execution_count": 67,
   "metadata": {},
   "outputs": [],
   "source": [
    "import MDAnalysis as mda\n",
    "from MDAnalysis.lib.distances import calc_distance, distance_array\n",
    "from MDAnalysis.lib.pkdtree import PeriodicKDTree\n",
    "from MDAnalysis.topology import tables\n",
    "import numpy as np\n",
    "from collections import defaultdict\n",
    "from tqdm import tqdm_notebook\n",
    "import itertools"
   ]
  },
  {
   "cell_type": "code",
   "execution_count": 2,
   "metadata": {},
   "outputs": [],
   "source": [
    "%matplotlib inline\n",
    "import matplotlib.pyplot as plt"
   ]
  },
  {
   "cell_type": "code",
   "execution_count": 3,
   "metadata": {},
   "outputs": [],
   "source": [
    "from Bio.KDTree import KDTree\n",
    "def biopython_build(coords):\n",
    "    kdtree = KDTree(dim=3)\n",
    "    kdtree.set_coords(coords)\n",
    "    return kdtree\n",
    "def biopython_query(struct, coords, pos, cutoff):\n",
    "    struct.search(pos,cutoff)\n",
    "    return np.asarray(struct.get_indices())"
   ]
  },
  {
   "cell_type": "code",
   "execution_count": 4,
   "metadata": {},
   "outputs": [],
   "source": [
    "from scipy import spatial\n",
    "def scipy_build(coords):\n",
    "    return spatial.cKDTree(coords)\n",
    "def scipy_query(struct, coords, pos, cutoff):\n",
    "    return np.asarray(struct.query_ball_point(pos,cutoff))"
   ]
  },
  {
   "cell_type": "code",
   "execution_count": 5,
   "metadata": {},
   "outputs": [],
   "source": [
    "# Helper function for populating the points\n",
    "def get_coords(box,Npoints):\n",
    "    return (np.random.uniform(low=0,high=1.0,size=(Npoints,3))*box[:3]).astype(np.float32)"
   ]
  },
  {
   "cell_type": "code",
   "execution_count": 6,
   "metadata": {},
   "outputs": [],
   "source": [
    "# Setup\n",
    "BOX = np.array([100.,100.,100.,90.,90.,90.],dtype=np.float32)\n",
    "CUTOFF = 10.\n",
    "NPOINTS = 1000\n",
    "coords = get_coords(BOX, NPOINTS)\n",
    "query = BOX[:3]/2"
   ]
  },
  {
   "cell_type": "markdown",
   "metadata": {},
   "source": [
    "# Check"
   ]
  },
  {
   "cell_type": "markdown",
   "metadata": {},
   "source": [
    "Assuming all the defined points are inside the centre cell. If not, it is an extra operation which would take similar time in all the algorithms."
   ]
  },
  {
   "cell_type": "code",
   "execution_count": 7,
   "metadata": {},
   "outputs": [
    {
     "data": {
      "text/plain": [
       "array([759, 977])"
      ]
     },
     "execution_count": 7,
     "metadata": {},
     "output_type": "execute_result"
    }
   ],
   "source": [
    "skd = scipy_build(coords)\n",
    "skd_indices = scipy_query(skd, coords, query, CUTOFF)\n",
    "skd_indices"
   ]
  },
  {
   "cell_type": "code",
   "execution_count": 8,
   "metadata": {},
   "outputs": [
    {
     "data": {
      "text/plain": [
       "array([759, 977])"
      ]
     },
     "execution_count": 8,
     "metadata": {},
     "output_type": "execute_result"
    }
   ],
   "source": [
    "bkd = biopython_build(coords)\n",
    "bkd_indices = biopython_query(bkd, coords, query, CUTOFF)\n",
    "bkd_indices"
   ]
  },
  {
   "cell_type": "code",
   "execution_count": 9,
   "metadata": {},
   "outputs": [],
   "source": [
    "np.testing.assert_array_equal(np.sort(skd_indices), np.sort(bkd_indices))"
   ]
  },
  {
   "cell_type": "markdown",
   "metadata": {},
   "source": [
    "# Timings"
   ]
  },
  {
   "cell_type": "code",
   "execution_count": 10,
   "metadata": {},
   "outputs": [],
   "source": [
    "from tqdm import tqdm_notebook\n",
    "from collections import defaultdict"
   ]
  },
  {
   "cell_type": "code",
   "execution_count": 37,
   "metadata": {},
   "outputs": [],
   "source": [
    "# setup\n",
    "BOX = np.array([100.,100.,100.,90.,90.,90.],dtype=np.float32)\n",
    "CUTOFF = 4.\n",
    "NPOINTS = np.logspace(2, 5, num=10, dtype= np.int)\n",
    "query = BOX[:3]/2"
   ]
  },
  {
   "cell_type": "code",
   "execution_count": 40,
   "metadata": {},
   "outputs": [
    {
     "data": {
      "application/vnd.jupyter.widget-view+json": {
       "model_id": "1457ac45ba1a46f1ad32cf07f91a825a",
       "version_major": 2,
       "version_minor": 0
      },
      "text/plain": [
       "HBox(children=(IntProgress(value=0, max=10), HTML(value='')))"
      ]
     },
     "metadata": {},
     "output_type": "display_data"
    },
    {
     "name": "stdout",
     "output_type": "stream",
     "text": [
      "\n"
     ]
    }
   ],
   "source": [
    "result_build = defaultdict(list)\n",
    "result_prune = defaultdict(list)\n",
    "\n",
    "for N in tqdm_notebook(np.unique(NPOINTS)):\n",
    "    coords = get_coords(BOX, N)\n",
    "    #Build\n",
    "    skd = scipy_build(coords)\n",
    "    bkd = biopython_build(coords)\n",
    "    \n",
    "        \n",
    "    #Timings\n",
    "    res = %timeit -q -o scipy_build(coords)\n",
    "    result_build['scipy'].append(res.average)\n",
    "    res = %timeit -q -o biopython_build(coords)\n",
    "    result_build['biopython'].append(res.average)\n",
    "    \n",
    "    \n",
    "    #Prune\n",
    "    res = %timeit -q -o scipy_query(skd, coords, query, CUTOFF)\n",
    "    result_prune['scipy'].append(res.average)\n",
    "    res = %timeit -q -o biopython_query(bkd, coords, query, CUTOFF)\n",
    "    result_prune['biopython'].append(res.average)\n",
    "    \n",
    "    result_prune['N'].append(N)"
   ]
  },
  {
   "cell_type": "code",
   "execution_count": 59,
   "metadata": {},
   "outputs": [
    {
     "data": {
      "text/plain": [
       "<matplotlib.legend.Legend at 0x7fb6cbfd3198>"
      ]
     },
     "execution_count": 59,
     "metadata": {},
     "output_type": "execute_result"
    },
    {
     "data": {
      "image/png": "[encoded data removed]",
      "text/plain": [
       "<Figure size 1080x360 with 2 Axes>"
      ]
     },
     "metadata": {},
     "output_type": "display_data"
    }
   ],
   "source": [
    "fig, axes = plt.subplots(ncols=2, figsize=(15,5))\n",
    "\n",
    "ax = axes[0]\n",
    "ax.plot(result_prune['N'], result_build['scipy'], label=\"Scipy cKDTree\")\n",
    "ax.plot(result_prune['N'], result_build['biopython'], label=\"Biopython KDtree\")\n",
    "ax.set(xlabel='Number of particles', ylabel='time [s]', xscale = 'log', yscale='log', title='Build')\n",
    "ax.legend()\n",
    "\n",
    "ax = axes[1]\n",
    "ax.plot(result_prune['N'], result_prune['scipy'], label=\"Scipy cKDTree\")\n",
    "ax.plot(result_prune['N'], result_prune['biopython'], label=\"Biopython KDtree\")\n",
    "ax.set(xlabel='Number of particles', ylabel='time [s]', xscale = 'log', yscale='log', title='Query')\n",
    "ax.legend()\n"
   ]
  },
  {
   "cell_type": "markdown",
   "metadata": {},
   "source": [
    "Another variable is the cutoff radius. To deduce the effect of cutoff radius, lets check the variation of cutoff radius for 10000 particles."
   ]
  },
  {
   "cell_type": "code",
   "execution_count": 60,
   "metadata": {},
   "outputs": [],
   "source": [
    "# setup\n",
    "BOX = np.array([100.,100.,100.,90.,90.,90.],dtype=np.float32)\n",
    "CUTOFF = np.linspace(2, 15, num=13, dtype=np.float)\n",
    "NPOINTS = 10000\n",
    "query = BOX[:3]/2\n",
    "coords = get_coords(BOX, NPOINTS)"
   ]
  },
  {
   "cell_type": "code",
   "execution_count": 61,
   "metadata": {},
   "outputs": [
    {
     "data": {
      "application/vnd.jupyter.widget-view+json": {
       "model_id": "ca0b87cb9a734b9d80a6ff5145ed2869",
       "version_major": 2,
       "version_minor": 0
      },
      "text/plain": [
       "HBox(children=(IntProgress(value=0, max=13), HTML(value='')))"
      ]
     },
     "metadata": {},
     "output_type": "display_data"
    },
    {
     "name": "stdout",
     "output_type": "stream",
     "text": [
      "\n"
     ]
    }
   ],
   "source": [
    "result_prune = defaultdict(list)\n",
    "\n",
    "for cut in tqdm_notebook(np.unique(CUTOFF)):\n",
    "    #Build\n",
    "    skd = scipy_build(coords)\n",
    "    bkd = biopython_build(coords)\n",
    "\n",
    "    #Prune\n",
    "    res = %timeit -q -o scipy_query(skd, coords, query, cut)\n",
    "    result_prune['scipy'].append(res.average)\n",
    "    res = %timeit -q -o biopython_query(bkd, coords, query, cut)\n",
    "    result_prune['biopython'].append(res.average)\n",
    "    \n",
    "    result_prune['cut'].append(cut)"
   ]
  },
  {
   "cell_type": "code",
   "execution_count": 64,
   "metadata": {},
   "outputs": [
    {
     "data": {
      "text/plain": [
       "<matplotlib.legend.Legend at 0x7fb6cbaa0908>"
      ]
     },
     "execution_count": 64,
     "metadata": {},
     "output_type": "execute_result"
    },
    {
     "data": {
      "image/png": "[encoded data removed]",
      "text/plain": [
       "<Figure size 432x288 with 1 Axes>"
      ]
     },
     "metadata": {},
     "output_type": "display_data"
    }
   ],
   "source": [
    "fig, axes = plt.subplots()\n",
    "\n",
    "axes.plot(result_prune['cut'], result_prune['scipy'], label=\"Scipy cKDTree\")\n",
    "axes.plot(result_prune['cut'], result_prune['biopython'], label=\"Biopython KDtree\")\n",
    "axes.set(xlabel='Number of particles', ylabel='time [s]', yscale='log', title='Cutoff Radius')\n",
    "axes.legend()"
   ]
  },
  {
   "cell_type": "markdown",
   "metadata": {},
   "source": [
    "As it can be seen that the scipy cKDtree is faster than KDtree implementation in Biopython. It can be definitely replaced in MDAnalysis. "
   ]
  },
  {
   "cell_type": "markdown",
   "metadata": {},
   "source": [
    "The above case was only for PBC- unaware systems. As described above, the implementation of periodic boundary condition is necessary to serve the users of MDAnalysis. In the next step, duplication of particles to mimic periodic boundary conditions are shown and compared against the current implementation of periodic KDtree which uses Biopython's extension to pkdtree in pure python. "
   ]
  },
  {
   "cell_type": "markdown",
   "metadata": {},
   "source": [
    "The main idea behind the augmented coordinates (as explained [here](http://www.richardjgowers.com/2018/06/28/make_halos.html)) is to duplicate the particles by creating their images in an extended box. These duplicated particles along with the original ones can be used with any non PBC aware near neighbour searching algorithm. All the nearest neighbours can be translated back to their corresponding original coordinates in the central box. Furthermore, since it requires multiple levels of looping and repeated calculations of evaluating the images, huge time reductions are expected by using lower level instructions i.e. using cython instead of implementation in pure python. "
   ]
  },
  {
   "cell_type": "markdown",
   "metadata": {},
   "source": [
    "For this purpose, we begin by defining the cython functions to create duplicates of the particles."
   ]
  },
  {
   "cell_type": "code",
   "execution_count": 11,
   "metadata": {},
   "outputs": [],
   "source": [
    "%load_ext cython"
   ]
  },
  {
   "cell_type": "code",
   "execution_count": 12,
   "metadata": {},
   "outputs": [],
   "source": [
    "%%cython\n",
    "\n",
    "cimport cython\n",
    "import cython\n",
    "\n",
    "cimport numpy as np\n",
    "import numpy as np\n",
    "\n",
    "@cython.boundscheck(False)\n",
    "@cython.wraparound(False)\n",
    "def make_halo(float[:, :] coordinates, float[:] box, float r):\n",
    "    \"\"\"Calculate augmented coordinate set\n",
    "    \n",
    "    Parameters\n",
    "    ----------\n",
    "    coordinates : np.ndarray\n",
    "      coordinates to augment\n",
    "    box : np.ndarray\n",
    "      size of box\n",
    "    r : float\n",
    "      thickness of halo region to buffer by\n",
    "      \n",
    "    Returns\n",
    "    -------\n",
    "    augmented : np.ndarray\n",
    "      coordinates of the new augmented coordinates\n",
    "    indices : np.ndarray\n",
    "      original indices of the augmented coordinates\n",
    "    \"\"\"\n",
    "    cdef bint lo_x, hi_x, lo_y, hi_y, lo_z, hi_z\n",
    "    cdef int i, j, p, N\n",
    "    cdef float shiftX[3]\n",
    "    cdef float shiftY[3]\n",
    "    cdef float shiftZ[3]\n",
    "    cdef float coord[3]\n",
    "\n",
    "    # room for adding triclinic support by using (3,) vectors\n",
    "    shiftX[0] = box[0]\n",
    "    shiftX[1] = 0.0\n",
    "    shiftX[2] = 0.0\n",
    "    \n",
    "    shiftY[0] = 0.0\n",
    "    shiftY[1] = box[1]\n",
    "    shiftY[2] = 0.0\n",
    "    \n",
    "    shiftZ[0] = 0.0\n",
    "    shiftZ[1] = 0.0\n",
    "    shiftZ[2] = box[2]\n",
    "    \n",
    "    N = coordinates.shape[0]\n",
    "    p = 0  # output counter\n",
    "    \n",
    "    # allocate output arrays\n",
    "    # could be more conservative with this\n",
    "    # or use C++ vectors + push etc\n",
    "    cdef float[:, :] output = np.zeros((N, 3), dtype=np.float32)\n",
    "    cdef int[:] indices = np.zeros(N, dtype=np.int32)\n",
    "\n",
    "    for i in range(N):\n",
    "        for j in range(3):\n",
    "            coord[j] = coordinates[i, j]\n",
    "        # detect which face regions particle i is in\n",
    "        lo_x = coord[0] <= r\n",
    "        hi_x = coord[0] >= box[0] - r\n",
    "        lo_y = coord[1] <= r\n",
    "        hi_y = coord[1] >= box[1] - r\n",
    "        lo_z = coord[2] <= r\n",
    "        hi_z = coord[2] >= box[2] - r\n",
    "        \n",
    "        if lo_x:\n",
    "            # if X, face piece\n",
    "            for j in range(3):\n",
    "                # add to output\n",
    "                output[p, j] = coord[j] + shiftX[j]\n",
    "            # keep record of which index this augmented position was created from\n",
    "            indices[p] = i\n",
    "            p += 1\n",
    "           \n",
    "            if lo_y:\n",
    "                # if X&Y, edge piece\n",
    "                for j in range(3):\n",
    "                    output[p, j] = coord[j] + shiftX[j] + shiftY[j]\n",
    "                indices[p] = i\n",
    "                p += 1\n",
    "                \n",
    "                if lo_z:\n",
    "                    # if X&Y&Z, corner piece\n",
    "                    for j in range(3):\n",
    "                        output[p, j] = coord[j] + shiftX[j] + shiftY[j] + shiftZ[j]\n",
    "                    indices[p] = i\n",
    "                    p += 1\n",
    "                    \n",
    "                elif hi_z:\n",
    "                    for j in range(3):\n",
    "                        output[p, j] = coord[j] + shiftX[j] + shiftY[j] - shiftZ[j]\n",
    "                    indices[p] = i\n",
    "                    p += 1\n",
    "\n",
    "            elif hi_y:\n",
    "                for j in range(3):\n",
    "                    output[p, j] = coord[j] + shiftX[j] - shiftY[j]\n",
    "                indices[p] = i\n",
    "                p += 1\n",
    "                \n",
    "                if lo_z:\n",
    "                    for j in range(3):\n",
    "                        output[p, j] = coord[j] + shiftX[j] - shiftY[j] + shiftZ[j]\n",
    "                    indices[p] = i\n",
    "                    p += 1\n",
    "                   \n",
    "                elif hi_z:\n",
    "                    for j in range(3):\n",
    "                        output[p, j] = coord[j] + shiftX[j] - shiftY[j] - shiftZ[j]\n",
    "                    indices[p] = i\n",
    "                    p += 1\n",
    "                \n",
    "            if lo_z:\n",
    "                for j in range(3):\n",
    "                    output[p, j] = coord[j] + shiftX[j] + shiftZ[j]\n",
    "                indices[p] = i\n",
    "                p += 1\n",
    "               \n",
    "            elif hi_z:\n",
    "                for j in range(3):\n",
    "                    output[p, j] = coord[j] + shiftX[j] - shiftZ[j]\n",
    "                indices[p] = i\n",
    "                p += 1\n",
    "                \n",
    "        elif hi_x:\n",
    "            for j in range(3):\n",
    "                output[p, j] = coord[j] - shiftX[j]\n",
    "            indices[p] = i\n",
    "            p += 1\n",
    "            \n",
    "            if lo_y:\n",
    "                for j in range(3):\n",
    "                    output[p, j] = coord[j] - shiftX[j] + shiftY[j]\n",
    "                indices[p] = i\n",
    "                p += 1\n",
    "                \n",
    "                if lo_z:\n",
    "                    for j in range(3):\n",
    "                        output[p, j] = coord[j] - shiftX[j] + shiftY[j] + shiftZ[j]\n",
    "                    indices[p] = i\n",
    "                    p += 1\n",
    "                    \n",
    "                elif hi_z:\n",
    "                    for j in range(3):\n",
    "                        output[p, j] = coord[j] - shiftX[j] + shiftY[j] - shiftZ[j]\n",
    "                    indices[p] = i\n",
    "                    p += 1\n",
    "                \n",
    "\n",
    "            elif hi_y:\n",
    "                for j in range(3):\n",
    "                    output[p, j] = coord[j] - shiftX[j] - shiftY[j]\n",
    "                indices[p] = i\n",
    "                p += 1\n",
    "                \n",
    "                if lo_z:\n",
    "                    for j in range(3):\n",
    "                        output[p, j] = coord[j] - shiftX[j] - shiftY[j] + shiftZ[j]\n",
    "                    indices[p] = i\n",
    "                    p += 1\n",
    "                    \n",
    "                elif hi_z:\n",
    "                    for j in range(3):\n",
    "                        output[p, j] = coord[j] - shiftX[j] - shiftY[j] - shiftZ[j]\n",
    "                    indices[p] = i\n",
    "                    p += 1\n",
    "                    \n",
    "            if lo_z:\n",
    "                for j in range(3):\n",
    "                    output[p, j] = coord[j] - shiftX[j] + shiftZ[j]\n",
    "                indices[p] = i\n",
    "                p += 1\n",
    "                \n",
    "            elif hi_z:\n",
    "                for j in range(3):\n",
    "                    output[p, j] = coord[j] - shiftX[j] - shiftZ[j]\n",
    "                indices[p] = i\n",
    "                p += 1\n",
    "                \n",
    "        if lo_y:\n",
    "            for j in range(3):\n",
    "                output[p, j] = coord[j] + shiftY[j]\n",
    "            indices[p] = i\n",
    "            p += 1\n",
    "            \n",
    "            if lo_z:\n",
    "                for j in range(3):\n",
    "                    output[p, j] = coord[j] + shiftY[j] + shiftZ[j]\n",
    "                indices[p] = i\n",
    "                p += 1\n",
    "                \n",
    "            elif hi_z:\n",
    "                for j in range(3):\n",
    "                    output[p, j] = coord[j] + shiftY[j] - shiftZ[j]\n",
    "                indices[p] = i\n",
    "                p += 1\n",
    "                \n",
    "        elif hi_y:\n",
    "            for j in range(3):\n",
    "                output[p, j] = coord[j] - shiftY[j]\n",
    "            indices[p] = i\n",
    "            p += 1\n",
    "            \n",
    "\n",
    "            if lo_z:\n",
    "                for j in range(3):\n",
    "                    output[p, j] = coord[j] - shiftY[j] + shiftZ[j]\n",
    "                indices[p] = i\n",
    "                p += 1\n",
    "                \n",
    "            elif hi_z:\n",
    "                for j in range(3):\n",
    "                    output[p, j] = coord[j] - shiftY[j] - shiftZ[j]\n",
    "                indices[p] = i\n",
    "                p += 1\n",
    "                \n",
    "        if lo_z:\n",
    "            for j in range(3):\n",
    "                output[p, j] = coord[j] + shiftZ[j]\n",
    "            indices[p] = i\n",
    "            p += 1\n",
    "            \n",
    "        elif hi_z:\n",
    "            for j in range(3):\n",
    "                output[p, j] = coord[j] - shiftZ[j]\n",
    "            indices[p] = i\n",
    "            p += 1\n",
    "            \n",
    "    return np.array(output[:p]), np.array(indices[:p])\n",
    "\n",
    "\n",
    "@cython.boundscheck(False)\n",
    "@cython.wraparound(False)\n",
    "def undo_augment(int[:] results, int[:] translation, int nreal):\n",
    "    \"\"\"Translate augmented indices back to originals\n",
    "    \n",
    "    Note: modifies results in place!\n",
    "    \n",
    "    Parameters\n",
    "    ----------\n",
    "    results : ndarray of ints\n",
    "      indices of coordinates, including \"augmented\" indices\n",
    "    translation : ndarray of ints\n",
    "      original indices of augmented coordinates\n",
    "    nreal : int\n",
    "      number of real coordinates, ie values in results equal or larger than this\n",
    "      need to be translated to their real counterpart\n",
    "      \n",
    "    Returns\n",
    "    -------\n",
    "    results : ndarray of ints\n",
    "    \"\"\"\n",
    "    cdef int N\n",
    "    \n",
    "    N = results.shape[0]\n",
    "    \n",
    "    for i in range(N):\n",
    "        if results[i] >= nreal:\n",
    "            results[i] = translation[results[i] - nreal]\n",
    "            \n",
    "    return results"
   ]
  },
  {
   "cell_type": "markdown",
   "metadata": {},
   "source": [
    "Helper function to access the periodic KDTree as implemented in MDAnalysis, as well as the cython functions introduced above."
   ]
  },
  {
   "cell_type": "code",
   "execution_count": 13,
   "metadata": {},
   "outputs": [],
   "source": [
    "# Helper function for the cython functions described above\n",
    "def augment_kdtree(coords, cutoff, box):\n",
    "    aug, idx = make_halo(coords, box, cutoff)\n",
    "    aug_coord = np.concatenate([coords, aug])\n",
    "    kdtree = spatial.cKDTree(aug_coord)\n",
    "    pairs = np.array(list(kdtree.query_pairs(cutoff)), dtype=np.int32)\n",
    "    if len(pairs) > 1:\n",
    "        undo_augment(pairs[:, 0], idx, len(coords))\n",
    "        undo_augment(pairs[:, 1], idx, len(coords))\n",
    "        pairs = np.unique(np.sort(pairs), axis=0)\n",
    "    return pairs"
   ]
  },
  {
   "cell_type": "code",
   "execution_count": 14,
   "metadata": {},
   "outputs": [],
   "source": [
    "# PKDtree\n",
    "import MDAnalysis.lib.distances as distances\n",
    "def pkdtree(coords, cutoff, box):\n",
    "    pairs, dist = distances.capped_distance(coords, coords, max_cutoff=cutoff, min_cutoff=1e-7, box=box, method='pkdtree')\n",
    "    if len(pairs) > 1:\n",
    "        pairs = pairs[np.where(pairs[:, 0] < pairs[:, 1])[0]]\n",
    "    return np.asarray(pairs)"
   ]
  },
  {
   "cell_type": "markdown",
   "metadata": {},
   "source": [
    "# Check"
   ]
  },
  {
   "cell_type": "code",
   "execution_count": 300,
   "metadata": {},
   "outputs": [],
   "source": [
    "# setup\n",
    "BOX = np.array([100.,100.,100.,90.,90.,90.],dtype=np.float32)\n",
    "CUTOFF = 4.\n",
    "NPOINTS = 1000\n",
    "coords = get_coords(BOX, NPOINTS)"
   ]
  },
  {
   "cell_type": "code",
   "execution_count": 301,
   "metadata": {},
   "outputs": [
    {
     "data": {
      "text/plain": [
       "(132, 2)"
      ]
     },
     "execution_count": 301,
     "metadata": {},
     "output_type": "execute_result"
    }
   ],
   "source": [
    "pairs_pkd = pkdtree(coords, CUTOFF, BOX)\n",
    "pairs_pkd.shape"
   ]
  },
  {
   "cell_type": "code",
   "execution_count": 305,
   "metadata": {},
   "outputs": [
    {
     "data": {
      "text/plain": [
       "(132, 2)"
      ]
     },
     "execution_count": 305,
     "metadata": {},
     "output_type": "execute_result"
    }
   ],
   "source": [
    "pairs_cy = augment_kdtree(coords, CUTOFF, BOX)\n",
    "pairs_cy.shape"
   ]
  },
  {
   "cell_type": "markdown",
   "metadata": {},
   "source": [
    "It has already been established that the performance of scipy KDtree is faster that that of biopython KDtree. The next objective is to check whether the superior performance of nonperiodic KDtree can be replaced with periodic implementation of KDtree in MDAnalysis. For this purpose, the implemented use case is to identify the bonds between the atoms."
   ]
  },
  {
   "cell_type": "markdown",
   "metadata": {},
   "source": [
    "# Benchmarks"
   ]
  },
  {
   "cell_type": "code",
   "execution_count": 308,
   "metadata": {},
   "outputs": [],
   "source": [
    "# Setup\n",
    "BOX = np.array([100.,100.,100.,90.,90.,90.],dtype=np.float32)\n",
    "CUTOFF = 4.\n",
    "NPOINTS = np.logspace(2, 5, num=10, dtype=np.int)"
   ]
  },
  {
   "cell_type": "code",
   "execution_count": 309,
   "metadata": {},
   "outputs": [
    {
     "data": {
      "application/vnd.jupyter.widget-view+json": {
       "model_id": "4f84d6f810bb48dfb5623673f4d2c6fe",
       "version_major": 2,
       "version_minor": 0
      },
      "text/plain": [
       "HBox(children=(IntProgress(value=0, max=10), HTML(value='')))"
      ]
     },
     "metadata": {},
     "output_type": "display_data"
    },
    {
     "name": "stdout",
     "output_type": "stream",
     "text": [
      "\n"
     ]
    }
   ],
   "source": [
    "result_guess = defaultdict(list)\n",
    "for N in tqdm_notebook(np.unique(NPOINTS)):\n",
    "    coords = get_coords(BOX, N)\n",
    "    \n",
    "    #Testing\n",
    "    np.testing.assert_array_equal(pkdtree(coords, CUTOFF, BOX), augment_kdtree(coords, CUTOFF, BOX))\n",
    "    \n",
    "    #Timing\n",
    "    res = %timeit -q -o pkdtree(coords, CUTOFF, BOX)\n",
    "    result_guess['pkd'].append(res.average)\n",
    "    \n",
    "    res = %timeit -q -o augment_kdtree(coords, CUTOFF, BOX)\n",
    "    result_guess['pscipy'].append(res.average)\n",
    "    \n",
    "    result_guess['N'].append(N)\n",
    "    "
   ]
  },
  {
   "cell_type": "code",
   "execution_count": 311,
   "metadata": {},
   "outputs": [
    {
     "data": {
      "text/plain": [
       "<matplotlib.legend.Legend at 0x7fb6caf1b978>"
      ]
     },
     "execution_count": 311,
     "metadata": {},
     "output_type": "execute_result"
    },
    {
     "data": {
      "image/png": "[encoded data removed]",
      "text/plain": [
       "<Figure size 432x288 with 1 Axes>"
      ]
     },
     "metadata": {},
     "output_type": "display_data"
    }
   ],
   "source": [
    "fig, axes = plt.subplots()\n",
    "\n",
    "axes.plot(result_guess['N'], result_guess['pscipy'], label=\"Periodic Scipy cKDTree\")\n",
    "axes.plot(result_guess['N'], result_guess['pkd'], label=\"Periodic KDtree MDAnalysis\")\n",
    "axes.set(xlabel='Number of particles', ylabel='time [s]', xscale='log', yscale='log', title='Guess Bonds - Constant Cutoff Radius = {}'.format(CUTOFF))\n",
    "axes.legend()"
   ]
  },
  {
   "cell_type": "markdown",
   "metadata": {},
   "source": [
    "Since cutoff radius is another parameter and extension of coordintates depends on the cutoff radius, it is essential to assess the performance change due to change in cutoff radius. To check the variation with particle size, lets sample three particle densities i.e. number of particles as 100, 10000, 100000."
   ]
  },
  {
   "cell_type": "code",
   "execution_count": 17,
   "metadata": {},
   "outputs": [],
   "source": [
    "# setup\n",
    "NPOINTS = [100, 10000, 100000]\n",
    "CUTOFF = np.linspace(2, 6, num=4)\n",
    "BOX = np.array([100.,100.,100.,90.,90.,90.],dtype=np.float32)"
   ]
  },
  {
   "cell_type": "code",
   "execution_count": 18,
   "metadata": {},
   "outputs": [
    {
     "data": {
      "application/vnd.jupyter.widget-view+json": {
       "model_id": "01970ddea039400ca82bd30e8739025d",
       "version_major": 2,
       "version_minor": 0
      },
      "text/plain": [
       "HBox(children=(IntProgress(value=0, max=3), HTML(value='')))"
      ]
     },
     "metadata": {},
     "output_type": "display_data"
    },
    {
     "data": {
      "application/vnd.jupyter.widget-view+json": {
       "model_id": "3f26327117384514bf3fc2f4c83ae96c",
       "version_major": 2,
       "version_minor": 0
      },
      "text/plain": [
       "HBox(children=(IntProgress(value=0, max=4), HTML(value='')))"
      ]
     },
     "metadata": {},
     "output_type": "display_data"
    },
    {
     "data": {
      "application/vnd.jupyter.widget-view+json": {
       "model_id": "3bf231d5b3c2421ea7b6b0e4a8c9e4b5",
       "version_major": 2,
       "version_minor": 0
      },
      "text/plain": [
       "HBox(children=(IntProgress(value=0, max=4), HTML(value='')))"
      ]
     },
     "metadata": {},
     "output_type": "display_data"
    },
    {
     "data": {
      "application/vnd.jupyter.widget-view+json": {
       "model_id": "40b24114a1be40cabfabe0f4a3d124eb",
       "version_major": 2,
       "version_minor": 0
      },
      "text/plain": [
       "HBox(children=(IntProgress(value=0, max=4), HTML(value='')))"
      ]
     },
     "metadata": {},
     "output_type": "display_data"
    }
   ],
   "source": [
    "res_cutoff = defaultdict(list)\n",
    "for N in tqdm_notebook(np.unique(NPOINTS)):\n",
    "    coords = get_coords(BOX, N)\n",
    "    for cut in tqdm_notebook(np.unique(CUTOFF)):\n",
    "        res = %timeit -q -o pkdtree(coords, cut, BOX)\n",
    "        res_cutoff[str(N)+'.pkdtree'].append(res.average)\n",
    "        \n",
    "        res = %timeit -q -o augment_kdtree(coords, cut, BOX)\n",
    "        res_cutoff[str(N)+'.scipy'].append(res.average)\n",
    "        \n",
    "        res_cutoff['cut'].append(cut)"
   ]
  },
  {
   "cell_type": "code",
   "execution_count": 23,
   "metadata": {},
   "outputs": [
    {
     "data": {
      "image/png": "[encoded data removed]",
      "text/plain": [
       "<Figure size 1080x360 with 3 Axes>"
      ]
     },
     "metadata": {},
     "output_type": "display_data"
    }
   ],
   "source": [
    "fig, axes = plt.subplots(ncols=3, figsize=(15, 5))\n",
    "\n",
    "for i in range(len(NPOINTS)):\n",
    "    ax = axes[i]\n",
    "    ax.plot(CUTOFF, res_cutoff[str(NPOINTS[i])+'.pkdtree'], label=\"Periodic Biopython KDTree - MDA\")\n",
    "    ax.plot(CUTOFF, res_cutoff[str(NPOINTS[i])+'.scipy'], label=\"Periodic Scipy cKDTree\")\n",
    "    ax.set(xlabel='Number of particles', ylabel='time [s]', yscale='log', title='Guess Bonds  = {}'.format(NPOINTS[i]))\n",
    "    ax.legend()\n",
    "    ax.grid(True)\n",
    "fig.tight_layout()"
   ]
  },
  {
   "cell_type": "markdown",
   "metadata": {},
   "source": [
    "It can be seen that performance of scipy is faster with the cython implementation of periodic boundary conditions by approximately an order of magnitude for less number of particles and atleast 3 times faster at higher particle density.\n",
    "\n",
    "As it is established scipy KDtree is faster than the periodic kdtree method (implemented in MDA). Lets compare the guess bonds for two real cases using PBC aware scipy KDtree, actual implementation of guess_bonds in MDA (brute force) and current periodic KDtree implementation in MDA."
   ]
  },
  {
   "cell_type": "code",
   "execution_count": 84,
   "metadata": {},
   "outputs": [],
   "source": [
    "# Lets modify the functions to deal with the actual guess bonds scenario, where every atom can have a separate radius\n",
    "def mda_guessbonds(points, atomtypes=None, box=None):\n",
    "    \"\"\"\n",
    "    Guess the bonds of particles\n",
    "    Two atoms form bonds if d < f*(R1 + R2)\n",
    "    \"\"\"\n",
    "    if atomtypes is None:\n",
    "        ### Use default values\n",
    "        atomtype = ['C']\n",
    "        atomtypes = np.random.choice(atomtype, size = len(points))\n",
    "    else:\n",
    "        ##First check if every atom radius correspond to one particle\n",
    "        if len(points) != len(atomtypes):\n",
    "            print(\"Atoms and Coordinates should have equal length\")\n",
    "            return\n",
    "        ####Every atom corresponds to a radius for its respective particle\n",
    "        \n",
    "    fudge_factor = 0.72\n",
    "    lower_bound = 0.1\n",
    "    vdwradii = tables.vdwradii.copy()\n",
    "    max_vdw = max([vdwradii[t] for t in atomtypes])\n",
    "    \n",
    "    bonds = []\n",
    "    # Define a maximum distance for every atom to search based on the radius \n",
    "    # of the atom and maximum radius of atom in the atom list. \n",
    "    \n",
    "    for i,coordinate in enumerate(points):\n",
    "        vdw_i = vdwradii[atomtypes[i]]\n",
    "        max_d = (vdw_i + max_vdw) * fudge_factor\n",
    "        dist = distance_array(points[i][None, :], points[i + 1:],box=box)[0]\n",
    "        idx = np.where((dist > lower_bound) & (dist <= max_d))[0]\n",
    "        for a in idx:\n",
    "            j = i + 1 + a\n",
    "            atom_j = points[j]\n",
    "            if dist[a] < (vdwradii[atomtypes[j]] + vdw_i)*fudge_factor:\n",
    "                bonds.append((i, j))\n",
    "    return tuple(bonds)"
   ]
  },
  {
   "cell_type": "code",
   "execution_count": 85,
   "metadata": {},
   "outputs": [],
   "source": [
    "def bio_guessbonds(points, atomtypes=None, box=None):\n",
    "    \"\"\"\n",
    "    For periodic boundary conditions, a wrapper around Biopython._CKDTree\n",
    "    is already implemented, which can be used directly presumably it is faster \n",
    "    than the KDtree implementation than BioPython KDtree.\n",
    "    \"\"\"\n",
    "    if atomtypes is None:\n",
    "        ### Use default values\n",
    "        atomtype = ['C']\n",
    "        atomtypes = np.random.choice(atomtype, size = len(points))\n",
    "    else:\n",
    "        ##First check if every atom radius correspond to one particle\n",
    "        if len(points) != len(atomtypes):\n",
    "            print(\"Atoms and Coordinates should have equal length\")\n",
    "            return\n",
    "        \n",
    "    fudge_factor = 0.72\n",
    "    lower_bound = 0.1\n",
    "\n",
    "    bonds = []\n",
    "    vdwradii = tables.vdwradii.copy()\n",
    "    max_vdw = max([vdwradii[t] for t in atomtypes])\n",
    "    \n",
    "    kdtree = PeriodicKDTree(box, bucket_size=10)\n",
    "    kdtree.set_coords(points)\n",
    "    \n",
    "    for idx,centers in enumerate(points):\n",
    "        vdw_i = vdwradii[atomtypes[idx]]\n",
    "        max_d = (vdw_i + max_vdw)*fudge_factor\n",
    "        kdtree.search(centers,max_d)\n",
    "        indices = kdtree.get_indices()\n",
    "        dist = distance_array(centers.reshape((1,3)), points[indices],box=box)[0]\n",
    "        index = np.where((dist > lower_bound) & (dist <= max_d))[0]\n",
    "        for j in index:\n",
    "            if (indices[j] > idx) and (dist[j] < (vdwradii[atomtypes[indices[j]]] + vdw_i)*fudge_factor):\n",
    "                bonds.append((idx, indices[j])) \n",
    "    return tuple(bonds)"
   ]
  },
  {
   "cell_type": "code",
   "execution_count": 86,
   "metadata": {},
   "outputs": [],
   "source": [
    "def capped_guessbonds(points, atomtypes=None, box=None):\n",
    "    \"\"\"\n",
    "    Using the capped_distances method defined in distances.py\n",
    "    \"\"\"\n",
    "    if atomtypes is None:\n",
    "        ### Use default values\n",
    "        atomtype = ['C']\n",
    "        atomtypes = np.random.choice(atomtype, size = len(points))\n",
    "    else:\n",
    "        ##First check if every atom radius correspond to one particle\n",
    "        if len(points) != len(atomtypes):\n",
    "            print(\"Atoms and Coordinates should have equal length\")\n",
    "            return\n",
    "    \n",
    "    fudge_factor = 0.72\n",
    "    lower_bound = 0.1\n",
    "\n",
    "    bonds = []\n",
    "    vdwradii = tables.vdwradii.copy()\n",
    "    max_vdw = max([vdwradii[t] for t in atomtypes])\n",
    "    pairs, dist = distances.capped_distance(points, points, max_cutoff=2*max_vdw, min_cutoff=lower_bound, box=box, method='pkdtree')\n",
    "    for idx, (i,j) in enumerate(pairs):\n",
    "        if dist[idx] < (vdwradii[atomtypes[i]] + vdwradii[atomtypes[j]])*fudge_factor and i < j:\n",
    "            bonds.append((i,j))\n",
    "    return tuple(bonds)"
   ]
  },
  {
   "cell_type": "code",
   "execution_count": 87,
   "metadata": {},
   "outputs": [],
   "source": [
    "def scipy_guessbonds(points, atomtypes=None, box=None):\n",
    "    \"\"\"\n",
    "    Scipy ckdtree alogn with cython implementation of periodic boundary conditions\n",
    "    \"\"\"\n",
    "    if atomtypes is None:\n",
    "        ### Use default values\n",
    "        atomtype = ['C']\n",
    "        atomtypes = np.random.choice(atomtype, size = len(points))\n",
    "    else:\n",
    "        ##First check if every atom radius correspond to one particle\n",
    "        if len(points) != len(atomtypes):\n",
    "            print(\"Atoms and Coordinates should have equal length\")\n",
    "            return\n",
    "    \n",
    "    fudge_factor = 0.72\n",
    "    lower_bound = 0.1\n",
    "\n",
    "    bonds = []\n",
    "    vdwradii = tables.vdwradii.copy()\n",
    "    max_vdw = max([vdwradii[t] for t in atomtypes])\n",
    "    pairs = augment_kdtree(points, 2.0*max_vdw, box)\n",
    "    for idx, (i,j) in enumerate(pairs):\n",
    "        dist = calc_distance(points[i], points[j],box=box)\n",
    "        if dist < (vdwradii[atomtypes[i]] + vdwradii[atomtypes[j]])*fudge_factor and dist > lower_bound:\n",
    "            bonds.append((i,j))\n",
    "    return tuple(bonds)"
   ]
  },
  {
   "cell_type": "code",
   "execution_count": 73,
   "metadata": {},
   "outputs": [],
   "source": [
    "#Setup\n",
    "## to check a default case with a constant radius\n",
    "NPOINTS = 1000\n",
    "BOX = np.array([100.,100.,100.,90.,90.,90.],dtype=np.float32)\n",
    "coords = get_coords(BOX, NPOINTS)"
   ]
  },
  {
   "cell_type": "markdown",
   "metadata": {},
   "source": [
    "# Check"
   ]
  },
  {
   "cell_type": "code",
   "execution_count": 88,
   "metadata": {},
   "outputs": [],
   "source": [
    "bonds_mda=mda_guessbonds(coords, box=BOX)"
   ]
  },
  {
   "cell_type": "code",
   "execution_count": 89,
   "metadata": {},
   "outputs": [],
   "source": [
    "bonds_bp=bio_guessbonds(coords, box=BOX)"
   ]
  },
  {
   "cell_type": "code",
   "execution_count": 90,
   "metadata": {},
   "outputs": [],
   "source": [
    "bonds_capped=capped_guessbonds(coords, box=BOX)"
   ]
  },
  {
   "cell_type": "code",
   "execution_count": 91,
   "metadata": {},
   "outputs": [],
   "source": [
    "bonds_scipy=scipy_guessbonds(coords, box=BOX)"
   ]
  },
  {
   "cell_type": "code",
   "execution_count": 92,
   "metadata": {},
   "outputs": [],
   "source": [
    "for a,b in itertools.combinations([bonds_mda, bonds_bp, bonds_capped, bonds_scipy], 2):\n",
    "    np.testing.assert_array_equal(np.sort(a, axis=0), np.sort(b, axis=0))"
   ]
  },
  {
   "cell_type": "markdown",
   "metadata": {},
   "source": [
    "# Initialize"
   ]
  },
  {
   "cell_type": "code",
   "execution_count": 93,
   "metadata": {},
   "outputs": [],
   "source": [
    "u1,u2 = mda.Universe('small.gro'), mda.Universe('big.gro')"
   ]
  },
  {
   "cell_type": "code",
   "execution_count": 94,
   "metadata": {},
   "outputs": [
    {
     "data": {
      "text/plain": [
       "8284"
      ]
     },
     "execution_count": 94,
     "metadata": {},
     "output_type": "execute_result"
    }
   ],
   "source": [
    "# Check the result with the function inside MDAnalysis\n",
    "import MDAnalysis.topology.guessers as mda_bf\n",
    "len(mda_bf.guess_bonds(u1.atoms, u1.atoms.positions, u1.dimensions))"
   ]
  },
  {
   "cell_type": "code",
   "execution_count": 95,
   "metadata": {},
   "outputs": [],
   "source": [
    "bonds_mda=mda_guessbonds(u1.atoms.positions,u1.atoms.types, box=u1.dimensions)"
   ]
  },
  {
   "cell_type": "code",
   "execution_count": 97,
   "metadata": {},
   "outputs": [],
   "source": [
    "bonds_bp=bio_guessbonds(u1.atoms.positions,u1.atoms.types, box=u1.dimensions)"
   ]
  },
  {
   "cell_type": "code",
   "execution_count": 98,
   "metadata": {},
   "outputs": [],
   "source": [
    "bonds_capped=capped_guessbonds(u1.atoms.positions,u1.atoms.types, box=u1.dimensions)"
   ]
  },
  {
   "cell_type": "code",
   "execution_count": 99,
   "metadata": {},
   "outputs": [],
   "source": [
    "bonds_scipy=scipy_guessbonds(u1.atoms.positions,u1.atoms.types, box=u1.dimensions)"
   ]
  },
  {
   "cell_type": "code",
   "execution_count": 102,
   "metadata": {},
   "outputs": [
    {
     "name": "stdout",
     "output_type": "stream",
     "text": [
      "8284 8284 8284 8284\n"
     ]
    }
   ],
   "source": [
    "print(len(bonds_mda), len(bonds_bp), len(bonds_capped), len(bonds_scipy))"
   ]
  },
  {
   "cell_type": "markdown",
   "metadata": {},
   "source": [
    "# Benchmark"
   ]
  },
  {
   "cell_type": "markdown",
   "metadata": {},
   "source": [
    "For Smaller Systems"
   ]
  },
  {
   "cell_type": "code",
   "execution_count": 103,
   "metadata": {},
   "outputs": [
    {
     "data": {
      "text/plain": [
       "<TimeitResult : 2.86 s ± 176 ms per loop (mean ± std. dev. of 7 runs, 1 loop each)>"
      ]
     },
     "execution_count": 103,
     "metadata": {},
     "output_type": "execute_result"
    }
   ],
   "source": [
    "%timeit -q -o mda_bf.guess_bonds(u1.atoms, u1.atoms.positions, u1.dimensions)"
   ]
  },
  {
   "cell_type": "code",
   "execution_count": 104,
   "metadata": {},
   "outputs": [
    {
     "data": {
      "text/plain": [
       "<TimeitResult : 2.69 s ± 163 ms per loop (mean ± std. dev. of 7 runs, 1 loop each)>"
      ]
     },
     "execution_count": 104,
     "metadata": {},
     "output_type": "execute_result"
    }
   ],
   "source": [
    "%timeit -q -o bio_guessbonds(u1.atoms.positions,u1.atoms.types, box=u1.dimensions)"
   ]
  },
  {
   "cell_type": "code",
   "execution_count": 105,
   "metadata": {},
   "outputs": [
    {
     "data": {
      "text/plain": [
       "<TimeitResult : 3.11 s ± 68.6 ms per loop (mean ± std. dev. of 7 runs, 1 loop each)>"
      ]
     },
     "execution_count": 105,
     "metadata": {},
     "output_type": "execute_result"
    }
   ],
   "source": [
    "%timeit -q -o capped_guessbonds(u1.atoms.positions,u1.atoms.types, box=u1.dimensions)"
   ]
  },
  {
   "cell_type": "code",
   "execution_count": 106,
   "metadata": {},
   "outputs": [
    {
     "data": {
      "text/plain": [
       "<TimeitResult : 926 ms ± 31.4 ms per loop (mean ± std. dev. of 7 runs, 1 loop each)>"
      ]
     },
     "execution_count": 106,
     "metadata": {},
     "output_type": "execute_result"
    }
   ],
   "source": [
    "%timeit -q -o scipy_guessbonds(u1.atoms.positions,u1.atoms.types, box=u1.dimensions)"
   ]
  },
  {
   "cell_type": "markdown",
   "metadata": {},
   "source": [
    "The performance is approximately 30% faster than as compared to the original implementation in MDAnalysis, even for small number of particles. Furthermore, performance of scipy + cython PBC also surpass the biopython implementation currently established in MDAnalysis.  "
   ]
  },
  {
   "cell_type": "markdown",
   "metadata": {},
   "source": [
    "For Larger System"
   ]
  },
  {
   "cell_type": "markdown",
   "metadata": {},
   "source": [
    "Only the best performing implementation of Periodic KDtree (Cython PBC + Scipy KDTree) is checked against the current implementation of guess_bonds in MDAnalysis"
   ]
  },
  {
   "cell_type": "code",
   "execution_count": null,
   "metadata": {},
   "outputs": [],
   "source": [
    "%timeit -q -o -n 1 -r 1 mda_bf.guess_bonds(u2.atoms, u2.atoms.positions, u2.dimensions)"
   ]
  },
  {
   "cell_type": "code",
   "execution_count": 110,
   "metadata": {},
   "outputs": [
    {
     "data": {
      "text/plain": [
       "<TimeitResult : 6min 5s ± 0 ns per loop (mean ± std. dev. of 1 run, 1 loop each)>"
      ]
     },
     "execution_count": 110,
     "metadata": {},
     "output_type": "execute_result"
    }
   ],
   "source": [
    "%timeit -q -o -n 1 -r 1 bio_guessbonds(u2.atoms.positions,u2.atoms.types, box=u2.dimensions)"
   ]
  },
  {
   "cell_type": "code",
   "execution_count": 108,
   "metadata": {},
   "outputs": [
    {
     "data": {
      "text/plain": [
       "<TimeitResult : 2min ± 0 ns per loop (mean ± std. dev. of 1 run, 1 loop each)>"
      ]
     },
     "execution_count": 108,
     "metadata": {},
     "output_type": "execute_result"
    }
   ],
   "source": [
    "%timeit -q -o -n 1 -r 1 scipy_guessbonds(u2.atoms.positions,u2.atoms.types, box=u2.dimensions)"
   ]
  },
  {
   "cell_type": "markdown",
   "metadata": {},
   "source": [
    "For larger systems, the performance is improved drastically. While the guess bonds cannnot finish in even an hour, scipy version took close to 2 minutes. The current version of pure python implementation of periodic boundary condition and Biopython KDtree also performs slower than that of the scipy cKDTree."
   ]
  }
 ],
 "metadata": {
  "kernelspec": {
   "display_name": "Python 3",
   "language": "python",
   "name": "python3"
  },
  "language_info": {
   "codemirror_mode": {
    "name": "ipython",
    "version": 3
   },
   "file_extension": ".py",
   "mimetype": "text/x-python",
   "name": "python",
   "nbconvert_exporter": "python",
   "pygments_lexer": "ipython3",
   "version": "3.6.5"
  }
 },
 "nbformat": 4,
 "nbformat_minor": 2
}
