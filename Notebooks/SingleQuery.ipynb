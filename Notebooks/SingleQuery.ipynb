{
 "cells": [
  {
   "cell_type": "code",
   "execution_count": 14,
   "metadata": {},
   "outputs": [],
   "source": [
    "import numpy as np\n",
    "from MDAnalysis.lib import distances\n",
    "from collections import defaultdict\n",
    "from MDAnalysis.lib.pkdtree import PeriodicKDTree\n",
    "from tqdm import tqdm_notebook\n",
    "import itertools\n",
    "import cellgrid"
   ]
  },
  {
   "cell_type": "code",
   "execution_count": 2,
   "metadata": {},
   "outputs": [],
   "source": [
    "%matplotlib inline\n",
    "import matplotlib.pyplot as plt"
   ]
  },
  {
   "cell_type": "markdown",
   "metadata": {},
   "source": [
    "This notebook includes benchmarks of distance calculations for different data structures  particularly brute force, cell-list and KDtree. More specifcally, it lists the time for building the data structure and accessing single point query time for each structure. Respective comparison with expected theoretical runtimes are also included.    "
   ]
  },
  {
   "cell_type": "markdown",
   "metadata": {},
   "source": [
    "Different sources are used to access the mentioned data structues. Cellgrid package utilizes the cell-list data structure but with grid size equivalent to the cutoff distance search. Another wrapper around Cellgrid is proposed, which have independent cellsize and cutoff-distance as its parameter. Periodic KDTree data structure is already implemented in MDAnalysis, which is most often used for pair searches and near neighbour selection. Brute force method is also implemented in MDAnalysis under distances module.  "
   ]
  },
  {
   "cell_type": "markdown",
   "metadata": {},
   "source": [
    "The notebook is arranged in the following way:\n",
    "* Class and function definition for Cell List.\n",
    "* Methods for build and query time for each data structure\n",
    "* Tests\n",
    "* Variation of build Time with increase in number of points (i.e. increasing density)\n",
    "* Variation of query time with number of points\n",
    "* Two cases with different number of particles to check the variation of grid size used in cell list for constant cutoff radius.\n",
    "\n",
    "This is one of the elementary operation for neighbour search, and therefore selected for benchmarking distance calculations. "
   ]
  },
  {
   "cell_type": "markdown",
   "metadata": {},
   "source": [
    "# Initialization Data"
   ]
  },
  {
   "cell_type": "code",
   "execution_count": 3,
   "metadata": {},
   "outputs": [],
   "source": [
    "def get_coords(box,Npoints):\n",
    "    return (np.random.uniform(low=0,high=1.0,size=(Npoints,3))*box[:3]).astype(np.float32)\n",
    "\n",
    "def _check_box(box):\n",
    "        return box[:3] if box.shape == (6,) else box    "
   ]
  },
  {
   "cell_type": "markdown",
   "metadata": {},
   "source": [
    "Assuming uniform distribution. The actual distribution will affect the results and time. "
   ]
  },
  {
   "cell_type": "markdown",
   "metadata": {},
   "source": [
    "# Data Structure"
   ]
  },
  {
   "cell_type": "markdown",
   "metadata": {},
   "source": [
    "A data structure of [Cell-List](https://gist.github.com/kain88-de/5002b18630e89c8ce839c2841ebe441d) is utilized here for single point query. Another package [Cellgrid](https://github.com/MDAnalysis/cellgrid/blob/master/cellgrid) also uses CellList data structure, but is not an optimized version for single point query and will be demonstrated further in the notebook."
   ]
  },
  {
   "cell_type": "code",
   "execution_count": 6,
   "metadata": {},
   "outputs": [],
   "source": [
    "class CellList(object):\n",
    "    \"\"\"Generate cell list object\n",
    "\n",
    "    The cell list is stored as a sparse hash-map. Hashes are the 3d coordinates.\n",
    "    The goal for this implementation is to quickly find neighbors to a single point.\n",
    "    Using the dict ensures that we only create 'cells' that are actually occupied.\n",
    "    \"\"\"\n",
    "    nei = [-1, 0, 1]\n",
    "    NEIGHBORS = list(itertools.product(nei, nei, nei))\n",
    "\n",
    "    def __init__(self, box, coords, cell_size):\n",
    "        self._box = _check_box(box)\n",
    "        # pack coords into box\n",
    "        self._coords = distances.apply_PBC(coords.astype(np.float32), self._box.astype(np.float32))\n",
    "        self._cell_size = np.ones(3) * cell_size\n",
    "\n",
    "        self._ncells = (self._box // self._cell_size).astype(int) + 1\n",
    "\n",
    "        cells = (self._coords // self._cell_size).astype(int)\n",
    "        cell_map = defaultdict(list)\n",
    "        for i, cell in enumerate(cells):\n",
    "            cell_map[tuple(cell)].append(i)\n",
    "        self._cell_map = cell_map\n",
    "        \n",
    "    \n",
    "\n",
    "    def candidates(self, pos):\n",
    "        \"\"\"return all candidate coordinates for pos\n",
    "\n",
    "        This means all coordinates of the cell in which pos is and all it's\n",
    "        neighboring cells.\n",
    "\n",
    "        \"\"\"\n",
    "        cell = (pos // self._cell_size).astype(int)\n",
    "        indices = []\n",
    "        for neighbor_shift in self.NEIGHBORS:\n",
    "            neighbor_cell = self._apply_PBC(cell, neighbor_shift)\n",
    "            indices.extend(self._cell_map[tuple(neighbor_cell)])\n",
    "\n",
    "        return self._coords[indices]\n",
    "    \n",
    "    def search(self, pos, cutoff):\n",
    "        pos = np.array(pos, dtype=np.float32)\n",
    "        cand = self.candidates(pos)\n",
    "        dist = distances.distance_array(pos[np.newaxis, :], cand, box=self._box)[0]\n",
    "        return cand[dist <= cutoff]\n",
    "    \n",
    "    def _apply_PBC(self, cell, shift):\n",
    "        address = cell + shift\n",
    "        w = address >= self._ncells\n",
    "        address[w] -= self._ncells[w]\n",
    "        w = address < 0\n",
    "        address[w] += self._ncells[w]\n",
    "        return address\n",
    "    \n",
    "    "
   ]
  },
  {
   "cell_type": "markdown",
   "metadata": {},
   "source": [
    "Typically, cell-list data structure involves creating a grid of cells followed by asignment of each particle to its respective cell based on its location. This contruction, by itself, has a time complexity of O(N) and space complexity of O(kN) where k depends on the grid spacing of cell. \n",
    "A single point query requires brute force distance calculation between the query point and all the coordinates in the neighbouring cells. For this algorithm, the worst performing case is when all the particles are clustered in a single cell which scales as O(N^2), whereas the best performance is achieved for uniform distribution. The time complexity for best performing case is O(kN^2), where k is very small depending on the average number of particles in each cell. Additionally, it needs to check 27 cells around the parent cell, which adds to the time complexity. Space complexity also varies as O(kN^2) where one needs to store interparticle distances between neighbouring cells. Please note that this is not a rigourous analysis, but an estimate to understand the variation of execution time and space consumption."
   ]
  },
  {
   "cell_type": "markdown",
   "metadata": {},
   "source": [
    "[KDTree](https://github.com/MDAnalysis/mdanalysis/blob/develop/package/MDAnalysis/lib/pkdtree.py) constructs a tree data structure using positions of particles. Periodic boundary condition are used such that all the points are centred around the central cell and the data structure is constructed around the central cell. Only the relevant periodic images are queried for the nearest neighbour search. This construct increase the query time as compared to non periodic KDtree, but searching relevant images only slows down the search by a small factor. Variation of query time due to periodicity can be seen [here](https://www.google.com/url?q=https%3A%2F%2Fgithub.com%2FMDAnalysis%2Fmdanalysis%2Fpull%2F1692&sa=D&sntz=1&usg=AFQjCNHKtA6_kwS7LlKWDE42of7MOY8a5w) "
   ]
  },
  {
   "cell_type": "code",
   "execution_count": 7,
   "metadata": {},
   "outputs": [],
   "source": [
    "def kdtree_build(box, coords):\n",
    "    pkdt = PeriodicKDTree(box,bucket_size=10)\n",
    "    pkdt.set_coords(coords)\n",
    "    return pkdt\n",
    "def kdtree_query(struct, pos, cutoff):\n",
    "    struct.search(pos,cutoff)\n",
    "    return coords[struct.get_indices()]"
   ]
  },
  {
   "cell_type": "markdown",
   "metadata": {},
   "source": [
    "Ideally construction of KDtree requires finding the median of the points and seperating the points based on the median. Since we use constant number of bins (i.e. 10 mostly), the majority of time during construction depends on evaluating the median and binning the particles, which scales linearly with number of particles. Therefore, the time complexity varies as O(N). The space complexity due to construction of trees is constant due to constant number of leaf nodes, but depends only on storing each particle in its respective leaf node which depends on the distribution of particles (O(N) for uniform distribution).\n",
    "\n",
    "Query time require depth search to find the first closest leaf node and traverse all the nearest leaf nodes (using temporary queues). For a high dimensional tree structure, most of the time is consumed in traversing the tree, whereas in our case, due to fixed number of leafnodes, time to traverse a tree is almost constant i.e. O(nlogn) where n is the number of leaf nodes. Once neighbouring leaf nodes are assessed based on the cutoff distance, all the distances between query point and points inside the leaf node are evaluated. Therefore the query time depends on the number of particles present inside every leafnode and number of neighbouring leafnodes around a query point. The time complexity for querying in kdtree, therefore, varies as O((N/k)^2nlogn) where k depends on the distribution of particles in each leaf. "
   ]
  },
  {
   "cell_type": "markdown",
   "metadata": {},
   "source": [
    "Cell List implementation in Cellgrid should also be checked for single point query. It progresses by constructing two equivalent cellgrids with different group of particles in each object and finding distances between all the combinations within the neighbouring cell. While this is not the best way, and similar treatment as done in Cell-list can be carried out which will result in similar query time. For a multiple query or a pair contact analysis, this approach is available in cellgrid and could be useful in those cases. "
   ]
  },
  {
   "cell_type": "code",
   "execution_count": 8,
   "metadata": {},
   "outputs": [],
   "source": [
    "def cellgrid_build(box, coords, cellsize):\n",
    "    cg1 = cellgrid.CellGrid(_check_box(box), cellsize, coords)\n",
    "    return cg1\n",
    "def cellgrid_query(struct,pos,cutoff):\n",
    "    cg2 = cellgrid.CellGrid(struct._box,struct._cell_size, pos[np.newaxis, :])\n",
    "    indices, dist = cellgrid.cellgrid_distance_array(cg2, struct)\n",
    "    return struct.coordinates[indices[dist < cutoff][:,1]]"
   ]
  },
  {
   "cell_type": "markdown",
   "metadata": {},
   "source": [
    "# Testing"
   ]
  },
  {
   "cell_type": "code",
   "execution_count": 9,
   "metadata": {},
   "outputs": [],
   "source": [
    "BOX = np.array([100.,100.,100.,90.,90.,90.],dtype=np.float32)\n",
    "CUTOFF = 10.\n",
    "NPOINTS = 1000\n",
    "coords = get_coords(BOX, NPOINTS)"
   ]
  },
  {
   "cell_type": "code",
   "execution_count": 10,
   "metadata": {},
   "outputs": [],
   "source": [
    "#Point to test\n",
    "pos = coords[1]"
   ]
  },
  {
   "cell_type": "code",
   "execution_count": 11,
   "metadata": {},
   "outputs": [
    {
     "data": {
      "text/plain": [
       "array([[76.17692 , 60.179283, 80.95493 ],\n",
       "       [81.084564, 53.61373 , 81.786514],\n",
       "       [74.18051 , 63.95156 , 78.099106],\n",
       "       [84.11168 , 58.346905, 76.32582 ],\n",
       "       [78.90214 , 61.166874, 72.569046],\n",
       "       [80.094734, 51.704967, 78.54351 ],\n",
       "       [78.08158 , 61.199097, 72.23159 ],\n",
       "       [75.11839 , 55.85796 , 84.72054 ]], dtype=float32)"
      ]
     },
     "execution_count": 11,
     "metadata": {},
     "output_type": "execute_result"
    }
   ],
   "source": [
    "#KDTree\n",
    "pkdt = kdtree_build(BOX, coords)\n",
    "kd_neighbor = kdtree_query(pkdt, pos, CUTOFF)\n",
    "kd_neighbor"
   ]
  },
  {
   "cell_type": "code",
   "execution_count": 15,
   "metadata": {},
   "outputs": [
    {
     "name": "stdout",
     "output_type": "stream",
     "text": [
      "[[75.11839  55.85796  84.72054 ]\n",
      " [74.18051  63.95156  78.099106]\n",
      " [78.90214  61.166874 72.569046]\n",
      " [78.08158  61.199097 72.23159 ]\n",
      " [76.17692  60.179283 80.95493 ]\n",
      " [84.11168  58.346905 76.32582 ]\n",
      " [80.094734 51.704967 78.54351 ]\n",
      " [81.084564 53.61373  81.786514]]\n"
     ]
    }
   ],
   "source": [
    "# Cell List\n",
    "cl = CellList(BOX, coords, CUTOFF)\n",
    "cl_neighbor = cl.search(pos, CUTOFF)\n",
    "print(cl_neighbor)"
   ]
  },
  {
   "cell_type": "code",
   "execution_count": 16,
   "metadata": {},
   "outputs": [
    {
     "name": "stdout",
     "output_type": "stream",
     "text": [
      "[[76.17692  60.179283 80.95493 ]\n",
      " [75.11839  55.85796  84.72054 ]\n",
      " [81.084564 53.61373  81.786514]\n",
      " [80.094734 51.704967 78.54351 ]\n",
      " [84.11168  58.346905 76.32582 ]\n",
      " [78.90214  61.166874 72.569046]\n",
      " [74.18051  63.95156  78.099106]\n",
      " [78.08158  61.199097 72.23159 ]]\n"
     ]
    }
   ],
   "source": [
    "# Cellgrid\n",
    "cg = cellgrid_build(BOX, coords, CUTOFF)\n",
    "cg_neighbor = cellgrid_query(cg, pos, CUTOFF)\n",
    "print(cg_neighbor)"
   ]
  },
  {
   "cell_type": "code",
   "execution_count": 17,
   "metadata": {},
   "outputs": [],
   "source": [
    "for a, b in itertools.combinations([kd_neighbor, cl_neighbor, cg_neighbor], 2):\n",
    "    np.testing.assert_equal(np.sort(a,axis=0),np.sort(b,axis=0))"
   ]
  },
  {
   "cell_type": "markdown",
   "metadata": {},
   "source": [
    "# Timings"
   ]
  },
  {
   "cell_type": "markdown",
   "metadata": {},
   "source": [
    "Comparison of build timings for data structure with increase in number of particles in a bounding box of constant volume."
   ]
  },
  {
   "cell_type": "code",
   "execution_count": 18,
   "metadata": {},
   "outputs": [],
   "source": [
    "# Using constant cutoff distance\n",
    "BOX = np.array([100.,100.,100.,90.,90.,90.],dtype=np.float32)\n",
    "CUTOFF = 4.\n",
    "pos = BOX[:3] / 2."
   ]
  },
  {
   "cell_type": "code",
   "execution_count": 19,
   "metadata": {},
   "outputs": [
    {
     "data": {
      "application/vnd.jupyter.widget-view+json": {
       "model_id": "6c5366458b3f44879371a3b39a1a7dbf",
       "version_major": 2,
       "version_minor": 0
      },
      "text/plain": [
       "HBox(children=(IntProgress(value=0, max=10), HTML(value='')))"
      ]
     },
     "metadata": {},
     "output_type": "display_data"
    },
    {
     "name": "stdout",
     "output_type": "stream",
     "text": [
      "\n"
     ]
    }
   ],
   "source": [
    "res = defaultdict(list)\n",
    "res_build = defaultdict(list)\n",
    "\n",
    "for N in tqdm_notebook(np.unique(np.logspace(2, 5, num=10).astype(int))):\n",
    "    \n",
    "    coords = get_coords(BOX, N)\n",
    "\n",
    "    # Building test \n",
    "    res_pkdt = %timeit -o -q kdtree_build(BOX,coords)\n",
    "    res_cl = %timeit -o -q CellList(BOX, coords, CUTOFF)\n",
    "    res_cg = %timeit -o -q cellgrid_build(BOX, coords, CUTOFF)\n",
    "    \n",
    "    res_build['pkdt'].append(res_pkdt.average)\n",
    "    res_build['cl'].append(res_cl.average)\n",
    "    res_build['cg'].append(res_cg.average)\n",
    "    res_build['N'].append(N)\n",
    "    \n",
    "    # Query\n",
    "    kdt = kdtree_build(BOX,coords)\n",
    "    cl = CellList(BOX, coords, CUTOFF)\n",
    "    cg=cellgrid_build(BOX, coords, CUTOFF)\n",
    "    res_pkdt = %timeit -o -q kdtree_query(kdt, pos, CUTOFF)\n",
    "    res_cl = %timeit -o -q cl.search(pos, CUTOFF)\n",
    "    res_cg = %timeit -o -q cellgrid_query(cg, pos, CUTOFF)\n",
    "        \n",
    "    res['pkdt'].append(res_pkdt.average)\n",
    "    res['cl'].append(res_cl.average)\n",
    "    res['cg'].append(res_cg.average)\n",
    "    res['N'].append(N)"
   ]
  },
  {
   "cell_type": "code",
   "execution_count": 20,
   "metadata": {},
   "outputs": [
    {
     "data": {
      "image/png": "[encoded data removed]",
      "text/plain": [
       "<Figure size 576x288 with 2 Axes>"
      ]
     },
     "metadata": {},
     "output_type": "display_data"
    }
   ],
   "source": [
    "fig, axes = plt.subplots(ncols=2, figsize=plt.figaspect(1/2))\n",
    "\n",
    "ax = axes[0]\n",
    "ax.plot(res['N'], res['pkdt'], 'o-', label='PeriodicKDT')\n",
    "ax.plot(res['N'], res['cl'], 'o-', label='Cell List')\n",
    "ax.plot(res['N'], res['cg'], 'o-', label='Cell Grid')\n",
    "ax.set(xlabel='N particles', ylabel='time [s]', xscale='log', yscale='log', title='Query')\n",
    "ax.legend()\n",
    "\n",
    "ax = axes[1]\n",
    "ax.plot(res['N'], res_build['pkdt'], 'o-', label='PeriodicKDT')\n",
    "ax.plot(res['N'], res_build['cl'], 'o-', label='Cell List')\n",
    "ax.plot(res['N'], res_build['cg'], 'o-', label='Cell Grid')\n",
    "ax.set(xlabel='N particles', ylabel='time [s]', xscale='log', yscale='log', title='Build')\n",
    "ax.grid(True)\n",
    "ax.legend()\n",
    "\n",
    "fig.tight_layout()"
   ]
  },
  {
   "cell_type": "markdown",
   "metadata": {},
   "source": [
    "Since it is established, the method celllist is better than Cellgrid package (both use cell-list data structure), both in terms of building the structure as well as for a single query. The next module demonstrates the variation of different cellsize for cutoff distance. This is to exploit the time difference between building and querying the data structure. First we shall see the variation in time for building the data structure for different cellsizes and if it can be optimized for celllist data structures."
   ]
  },
  {
   "cell_type": "code",
   "execution_count": 21,
   "metadata": {},
   "outputs": [],
   "source": [
    "BOX = np.array([100.,100.,100.,90.,90.,90.],dtype=np.float32)\n",
    "CUTOFF = 4.\n",
    "pos = BOX[:3] / 2.\n",
    "Npoints = [20000,40000]\n",
    "coords = [get_coords(BOX, np) for np in Npoints]"
   ]
  },
  {
   "cell_type": "code",
   "execution_count": 22,
   "metadata": {},
   "outputs": [
    {
     "data": {
      "application/vnd.jupyter.widget-view+json": {
       "model_id": "89a8525856444ea9b6d46903650b014f",
       "version_major": 2,
       "version_minor": 0
      },
      "text/plain": [
       "HBox(children=(IntProgress(value=0, max=9), HTML(value='')))"
      ]
     },
     "metadata": {},
     "output_type": "display_data"
    },
    {
     "name": "stdout",
     "output_type": "stream",
     "text": [
      "\n"
     ]
    }
   ],
   "source": [
    "res = defaultdict(list)\n",
    "res_build = defaultdict(list)\n",
    "for cs in tqdm_notebook(np.unique(np.linspace(4, 20, num=9).astype(float))):\n",
    "    for num in range(len(Npoints)):\n",
    "        #Build Time\n",
    "        res_cl = %timeit -o -q CellList(BOX, coords[num], cs)\n",
    "        res_build['cl'+str(num)].append(res_cl.average)\n",
    "        #Query\n",
    "        cl=CellList(BOX, coords[num], cs)\n",
    "        res_cl = %timeit -o -q cl.search(pos,CUTOFF)\n",
    "        res['cl'+str(num)].append(res_cl.average)\n",
    "        res['cs'+str(num)].append(cs)"
   ]
  },
  {
   "cell_type": "code",
   "execution_count": 23,
   "metadata": {},
   "outputs": [
    {
     "data": {
      "image/png": "[encoded data removed]",
      "text/plain": [
       "<Figure size 576x288 with 2 Axes>"
      ]
     },
     "metadata": {},
     "output_type": "display_data"
    }
   ],
   "source": [
    "fig, axes = plt.subplots(ncols=2, figsize=plt.figaspect(1/2))\n",
    "\n",
    "ax = axes[0]\n",
    "ax.plot(res['cs0'], res['cl0'], 'o-', label='NPoints = {}'.format(Npoints[0]))\n",
    "ax.plot(res['cs1'], res['cl1'], 'o-', label='Npoints = {}'.format(Npoints[1]))\n",
    "ax.set(xlabel='Cellsize', ylabel='time [s]', title='Query')\n",
    "ax.legend()\n",
    "\n",
    "ax = axes[1]\n",
    "ax.plot(res['cs0'], res_build['cl0'], 'o-', label='Npoints = {}'.format(Npoints[0]))\n",
    "ax.plot(res['cs1'], res_build['cl1'], 'o-', label='Npoints = {}'.format(Npoints[1]))\n",
    "ax.set(xlabel='Cellsize', ylabel='time [s]', yscale='log', title='Build')\n",
    "ax.grid(True)\n",
    "ax.legend()\n",
    "\n",
    "fig.tight_layout()"
   ]
  },
  {
   "cell_type": "markdown",
   "metadata": {},
   "source": [
    "For a single point query, it is observed that the majority of the time is spent in building the data structure. For large number of particles, the cell list algorithm works better in comparison to KDtree data structure (MDAnalysis) and cell-list data structure as implemented in CellGrid package.\n",
    "Few observations can be listed as follows:\n",
    "\n",
    "1) Majority of time is spent in bulding the data structure, while the time spent is querying the neighbor selection is dependent on the position of the query point. However, one trend is certain for cell-list data structures, building time can be decreased by increasing the cellsize. It should be advisable to use a cellgrid size of 0.1boxsize as opposed to grid size equivalent to the cutoff radius. However, it should be mentioned that smaller grid size than the cutoff distance would produce incorrect results.\n",
    "\n",
    "2) KDTree is best alternative data-structure for low particle density, but at higher particle density cell-list starts to approach the build time of Cellgrid. Based on the above observation, the total time should further decrease if optimized cell size is used.\n"
   ]
  },
  {
   "cell_type": "markdown",
   "metadata": {},
   "source": [
    "Lets check the total time for single point query using optimized grid size for cell-list against KDtree."
   ]
  },
  {
   "cell_type": "code",
   "execution_count": 24,
   "metadata": {},
   "outputs": [],
   "source": [
    "# Using constant cutoff distance\n",
    "BOX = np.array([100.,100.,100.,90.,90.,90.],dtype=np.float32)\n",
    "CUTOFF = 4.\n",
    "pos = BOX[:3] / 2."
   ]
  },
  {
   "cell_type": "code",
   "execution_count": 25,
   "metadata": {},
   "outputs": [
    {
     "data": {
      "application/vnd.jupyter.widget-view+json": {
       "model_id": "55c3dcb5c9114b9ebf8192119a280564",
       "version_major": 2,
       "version_minor": 0
      },
      "text/plain": [
       "HBox(children=(IntProgress(value=0, max=10), HTML(value='')))"
      ]
     },
     "metadata": {},
     "output_type": "display_data"
    },
    {
     "name": "stdout",
     "output_type": "stream",
     "text": [
      "\n"
     ]
    }
   ],
   "source": [
    "res = defaultdict(list)\n",
    "res_build = defaultdict(list)\n",
    "\n",
    "for N in tqdm_notebook(np.unique(np.logspace(2, 5, num=10).astype(int))):\n",
    "    \n",
    "    coords = get_coords(BOX, N)\n",
    "\n",
    "    # Building test \n",
    "    res_pkdt = %timeit -o -q kdtree_build(BOX,coords)\n",
    "    res_cl = %timeit -o -q CellList(BOX, coords, 0.1*BOX[0])\n",
    "    \n",
    "    res_build['pkdt'].append(res_pkdt.average)\n",
    "    res_build['cl'].append(res_cl.average)\n",
    "    res_build['N'].append(N)\n",
    "    \n",
    "    # Query\n",
    "    kdt = kdtree_build(BOX,coords)\n",
    "    cl = CellList(BOX, coords, 0.1*BOX[0])\n",
    "    res_pkdt = %timeit -o -q kdtree_query(kdt, pos, CUTOFF)\n",
    "    res_cl = %timeit -o -q cl.search(pos, CUTOFF)\n",
    "        \n",
    "    res['pkdt'].append(res_pkdt.average)\n",
    "    res['cl'].append(res_cl.average)\n",
    "    res['N'].append(N)"
   ]
  },
  {
   "cell_type": "code",
   "execution_count": 27,
   "metadata": {},
   "outputs": [
    {
     "data": {
      "image/png": "[encoded data removed]",
      "text/plain": [
       "<Figure size 576x288 with 2 Axes>"
      ]
     },
     "metadata": {},
     "output_type": "display_data"
    }
   ],
   "source": [
    "fig, axes = plt.subplots(ncols=2, figsize=plt.figaspect(1/2))\n",
    "\n",
    "ax = axes[0]\n",
    "ax.plot(res['N'], res['pkdt'], 'o-', label='PeriodicKDT')\n",
    "ax.plot(res['N'], res['cl'], 'o-', label='Cell List')\n",
    "ax.set(xlabel='Cellsize', xscale='log', ylabel='time [s]', title='Query')\n",
    "ax.legend()\n",
    "\n",
    "ax = axes[1]\n",
    "ax.plot(res['N'], res_build['pkdt'], 'o-', label='PeriodicKDT')\n",
    "ax.plot(res['N'], res_build['cl'], 'o-', label='Cell List')\n",
    "ax.set(xlabel='Cellsize', ylabel='time [s]', xscale='log', yscale='log', title='Build')\n",
    "ax.grid(True)\n",
    "ax.legend()\n",
    "\n",
    "fig.tight_layout()"
   ]
  },
  {
   "cell_type": "markdown",
   "metadata": {},
   "source": [
    "# Discussion"
   ]
  },
  {
   "cell_type": "markdown",
   "metadata": {},
   "source": [
    "For a single point pruning, the time increases by a factor of 9 times at 100k particles while searching for a cutoff of 4 units.  Since build time is still the most time consuming, cellgrid becomes advantageous above 10000 number of particles. This difference, however less, should scale up with the number of prune points i.e when pair contact analysis or neighbour analysis around a group of particles are considered. \n",
    "It can be observed that an efficient cell size can be used for reducing the buid time, as query time is reatively small for pruning a single point. However, multiple queries would scale with Query time and kdtree is a better option if nearest neighbours for a group of particles are evaluated by looping over individual pruning.\n",
    "However, another approach, as implemented in Cellgrid, would be beneficial for multiple pruning, where one can store all the distances between group of particles in a single cell and its neighbouring cells, which would hopefully reduce the amount of selection time drastically."
   ]
  },
  {
   "cell_type": "markdown",
   "metadata": {},
   "source": [
    "Another approach also exist, which uses combined cell-list and verlet method for pruning. Basically, the grid spacing is chosen smaller than the cutoff radius. For a given query point, all the cells which are in the neighbourhood (i.e. whose cell motifs are within the radius of cutoff distance) are utilized for distance evaluations. This decreases the amount of cells (27 in our case above) to fewer cells and removes the undesired distance calculations. \n",
    "However, the time scales as cube of the number of cells, it would seem that time for single point query could be decreased by use of such algorithm at the cost of high build time. "
   ]
  }
 ],
 "metadata": {
  "kernelspec": {
   "display_name": "Python 3",
   "language": "python",
   "name": "python3"
  },
  "language_info": {
   "codemirror_mode": {
    "name": "ipython",
    "version": 3
   },
   "file_extension": ".py",
   "mimetype": "text/x-python",
   "name": "python",
   "nbconvert_exporter": "python",
   "pygments_lexer": "ipython3",
   "version": "3.6.5"
  }
 },
 "nbformat": 4,
 "nbformat_minor": 2
}
