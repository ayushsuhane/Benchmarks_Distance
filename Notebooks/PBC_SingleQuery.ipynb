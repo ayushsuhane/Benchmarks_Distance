{
 "cells": [
  {
   "cell_type": "markdown",
   "metadata": {},
   "source": [
    "This notebook deals with the single query benchmarks comparing different data structures with periodic boundary conditions. Different data structures include :\n",
    "\n",
    "* Brute Force implemented in MDAnalysis (see [here](https://github.com/MDAnalysis/mdanalysis))\n",
    "* CellList implemented in FATSLiM (see [here](http://fatslim.github.io/))\n",
    "* CellList implemented in CellGrid (see [here](https://github.com/MDAnalysis/cellgrid))\n",
    "* Non Periodic KDTree implemented in BioPython (see [here](http://biopython.org/DIST/docs/api/Bio.KDTree-module.html))\n",
    "* Non Periodic cKDTree implementation in Scipy (see [here](https://docs.scipy.org/doc/scipy/reference/generated/scipy.spatial.cKDTree.html))\n",
    "* Non Periodic Octree implemented in PCL (see [here](https://github.com/strawlab/python-pcl))\n",
    "\n",
    "Previous benchmarks compared the performance of these methods but was limited by ability of various data structures to deal with the periodic boundary conditions. Therefore, a fixed single query at the centre of the box was chosen for single query distance evaluations. It was found that Scipy ckdtree is faster than Biopython's KDTree implementation for non-periodic boundary conditions. Other interesting feature was query and build time for non-periodic octree was the fastest followed by cell-list data structure implemented in FATSLiM. More details can be found [here](http://localhost:8888/notebooks/SingleQuery_NoPBC.ipynb) and [here](http://localhost:8888/notebooks/OctreeComparison.ipynb)."
   ]
  },
  {
   "cell_type": "markdown",
   "metadata": {},
   "source": [
    "The goal of this notebook is to benchmark all the above mentioned methods such that they handle periodic boundary conditions as well. Periodic Boundary conditions are applied such that any particle going away from any of the face results in a similar particle approaching the opposite face in a box. "
   ]
  },
  {
   "cell_type": "markdown",
   "metadata": {},
   "source": [
    "While KDTree implementation in MDAnalysis as well as Brute force and Cell-list implementations are periodic aware, others like Octree and various implemenations of KDTree are not PBC aware. To get around this drawback, an intuitive fix is to increase the box size and introduce relevant images of particles (which might have been present within the cutoff distance from the box face). These particles can then be sent to any other PBC-unaware data structures for evaluations.  "
   ]
  },
  {
   "cell_type": "markdown",
   "metadata": {},
   "source": [
    "Lets begin by defining the helper functions which takes in a set of coordinates, and returns the augmented coordinates i.e. original coordinates and image particles along with the mapping of image particles. These augmented particles can be used for distance operations. The returned pairs can then be postprocessed using the mapping to return the original set of coordinates."
   ]
  },
  {
   "cell_type": "code",
   "execution_count": 44,
   "metadata": {},
   "outputs": [],
   "source": [
    "import numpy as np\n",
    "import itertools\n",
    "import matplotlib.pyplot as plt\n",
    "%matplotlib inline"
   ]
  },
  {
   "cell_type": "code",
   "execution_count": 3,
   "metadata": {},
   "outputs": [],
   "source": [
    "from collections import defaultdict\n",
    "def augment(points, cutoff, box):\n",
    "    \"\"\"\n",
    "    Augments the cordinates and returns the coordinates in \n",
    "    the extended box, such that all the atoms in the box \n",
    "    are PBC aware\n",
    "    \n",
    "    Parameters\n",
    "    ----------\n",
    "    points : coordinates of dimension (N, 3)\n",
    "    cutoff : cutoff radius \n",
    "    box : PBC aware box\n",
    "    \n",
    "    Returns\n",
    "    -------\n",
    "    augmented_coords : similar to points but added coordinates \n",
    "    mapid : hash map with the original to artificial mapping\n",
    "    \"\"\"\n",
    "    a, b, c = box[:3]\n",
    "    dm = np.array([[a, 0, 0], [0, b, 0], [0, 0, c]], dtype=np.float32)\n",
    "    rm = np.array([[1, 0, 0], [0, 1, 0], [0, 0, 1]], dtype=np.float32)\n",
    "    \n",
    "    augmented_coords = points.copy() ## So as to not change the original coordinates\n",
    "    mapid = defaultdict(list) # hash maps\n",
    "    for idx, coords in enumerate(points):\n",
    "        images = list()\n",
    "        distances = np.dot(rm, coords)\n",
    "        displacements = list(dm[np.where(distances < cutoff)[0]])\n",
    "        distances = np.einsum('ij,ij->i', rm,dm - coords)\n",
    "        displacements.extend(list(-dm[np.where(distances < cutoff)[0]]))\n",
    "        n_displacements = len(displacements)\n",
    "        if n_displacements > 1:\n",
    "            for start in range(n_displacements - 1, -1, -1):\n",
    "                for i in range(start+1, len(displacements)):\n",
    "                    displacements.append(displacements[start]+displacements[i])\n",
    "        images.extend([coords + d for d in displacements])\n",
    "        updated_N = len(augmented_coords)\n",
    "        if len(images) > 0 :\n",
    "            augmented_coords = np.append(augmented_coords, [images[i] for i in range(len(images))], axis = 0)\n",
    "            for newidx in range(len(images)):\n",
    "                mapid[updated_N + newidx].append(idx)\n",
    "    return augmented_coords, mapid"
   ]
  },
  {
   "cell_type": "code",
   "execution_count": 4,
   "metadata": {},
   "outputs": [],
   "source": [
    "def inverse_augment(pairs, mapid, N):\n",
    "    \"\"\"\n",
    "    Returns the set of unique pairs\n",
    "    \n",
    "    pairs is a list of pairs which needs to be replaced\n",
    "    \n",
    "    Parameters\n",
    "    ----------\n",
    "    pairs : tuple of indices\n",
    "    mapid : hash map returned from augment \n",
    "    N : Number of points in original indices\n",
    "    \n",
    "    Returns\n",
    "    -------\n",
    "    numpy array of unique bonds\n",
    "    \"\"\"\n",
    "\n",
    "    for idx, val in enumerate(pairs[0]):\n",
    "        if val >= N:\n",
    "            pairs[0][idx] = mapid[val][0]\n",
    "    if pairs.shape[1] == 0:\n",
    "        return pairs\n",
    "    else:\n",
    "        return np.unique(pairs, axis = 0) "
   ]
  },
  {
   "cell_type": "markdown",
   "metadata": {},
   "source": [
    "Inorder to check the correct implementation to return the augment coordinates. Lets begin by checking it against the brute force for a single query"
   ]
  },
  {
   "cell_type": "code",
   "execution_count": 5,
   "metadata": {},
   "outputs": [],
   "source": [
    "from MDAnalysis.lib.distances import distance_array\n",
    "def bf_select(query, points, maxdist, box = None):\n",
    "    bonds = []\n",
    "    if query.shape[0] == 3:\n",
    "        query = query[None,:]\n",
    "    for i,coordinate in enumerate(query):\n",
    "        dist = distance_array(coordinate[None, :], points,box=box)[0]\n",
    "        idx = np.where((dist <= maxdist))[0]\n",
    "        bonds.append(idx)\n",
    "    return np.array(bonds)"
   ]
  },
  {
   "cell_type": "code",
   "execution_count": 6,
   "metadata": {},
   "outputs": [],
   "source": [
    "def aug_select(function, points, maxdist, box):\n",
    "    augment_coords, mapid = augment(points, maxdist, box)\n",
    "    art_bonds = function(augment_coords, maxdist)\n",
    "    bonds = inverse_augment(art_bonds, mapid, len(points))\n",
    "    return bonds"
   ]
  },
  {
   "cell_type": "code",
   "execution_count": 7,
   "metadata": {},
   "outputs": [],
   "source": [
    "def get_coords(box,Npoints):\n",
    "    return (np.random.uniform(low=0,high=1.0,size=(Npoints,3))*box[:3]).astype(np.float32)"
   ]
  },
  {
   "cell_type": "code",
   "execution_count": 8,
   "metadata": {},
   "outputs": [],
   "source": [
    "#Initialize\n",
    "BOX = np.array([100.,100.,100.,90.,90.,90.],dtype=np.float32)\n",
    "CUTOFF = 10.\n",
    "NPOINTS = 1000\n",
    "points = get_coords(BOX, NPOINTS)"
   ]
  },
  {
   "cell_type": "code",
   "execution_count": 64,
   "metadata": {},
   "outputs": [],
   "source": [
    "query = np.array([1.,1.,1.], dtype = np.float32)"
   ]
  },
  {
   "cell_type": "code",
   "execution_count": 65,
   "metadata": {},
   "outputs": [],
   "source": [
    "bf_n = bf_select(query, points, CUTOFF, BOX)"
   ]
  },
  {
   "cell_type": "code",
   "execution_count": 66,
   "metadata": {},
   "outputs": [
    {
     "data": {
      "text/plain": [
       "array([[339, 524, 698, 926]])"
      ]
     },
     "execution_count": 66,
     "metadata": {},
     "output_type": "execute_result"
    }
   ],
   "source": [
    "bf_n"
   ]
  },
  {
   "cell_type": "markdown",
   "metadata": {},
   "source": [
    "Lets test the augment function output using similar function but not invoking any PBC while doing so."
   ]
  },
  {
   "cell_type": "code",
   "execution_count": 71,
   "metadata": {},
   "outputs": [],
   "source": [
    "aug_points, mapping = augment(points, CUTOFF, BOX)"
   ]
  },
  {
   "cell_type": "code",
   "execution_count": 72,
   "metadata": {},
   "outputs": [
    {
     "data": {
      "text/plain": [
       "array([[1241, 1381, 1494, 1638]])"
      ]
     },
     "execution_count": 72,
     "metadata": {},
     "output_type": "execute_result"
    }
   ],
   "source": [
    "all_bonds = bf_select(query, aug_points, CUTOFF)\n",
    "all_bonds"
   ]
  },
  {
   "cell_type": "code",
   "execution_count": 73,
   "metadata": {},
   "outputs": [],
   "source": [
    "bonds = inverse_augment(all_bonds, mapping, len(points))"
   ]
  },
  {
   "cell_type": "code",
   "execution_count": 74,
   "metadata": {},
   "outputs": [
    {
     "data": {
      "text/plain": [
       "array([[339, 524, 698, 926]])"
      ]
     },
     "execution_count": 74,
     "metadata": {},
     "output_type": "execute_result"
    }
   ],
   "source": [
    "np.sort(bonds)"
   ]
  },
  {
   "cell_type": "code",
   "execution_count": 75,
   "metadata": {},
   "outputs": [
    {
     "data": {
      "text/plain": [
       "((1, 4), (1, 4))"
      ]
     },
     "execution_count": 75,
     "metadata": {},
     "output_type": "execute_result"
    }
   ],
   "source": [
    "bonds.shape, bf_n.shape"
   ]
  },
  {
   "cell_type": "code",
   "execution_count": 39,
   "metadata": {},
   "outputs": [],
   "source": [
    "np.testing.assert_array_equal(bf_n, np.sort(bonds))"
   ]
  },
  {
   "cell_type": "markdown",
   "metadata": {},
   "source": [
    "The augment function is operational without passing the box as an argument. Lets move on to the definitions of the other functions, such that the augment function works in a similar fashion. Inputs and outputs are also kept consistent for all the functions. Furthermore, lets seperate build and query time as well to check individual time difference."
   ]
  },
  {
   "cell_type": "markdown",
   "metadata": {},
   "source": [
    "# FATSLiM"
   ]
  },
  {
   "cell_type": "markdown",
   "metadata": {},
   "source": [
    "This is already PBC aware, so no need for augment coordinates. The function returns the coordinates of the "
   ]
  },
  {
   "cell_type": "code",
   "execution_count": 9,
   "metadata": {},
   "outputs": [],
   "source": [
    "from core_ns import FastNS\n",
    "def ns_build(box, coords, cutoff):\n",
    "    triclinic_box = np.array([[box[0], 0, 0],[0, box[1], 0],[0,0,box[2]]], dtype=np.float32)\n",
    "    searcher = FastNS(triclinic_box)\n",
    "    searcher.set_cutoff(cutoff)\n",
    "    searcher.set_coords(coords)\n",
    "    searcher.prepare()\n",
    "    return searcher\n",
    "def ns_query(struct, coords, query):\n",
    "    results, sqdist, index = struct.search(np.array([query,]))\n",
    "    return np.array(index)"
   ]
  },
  {
   "cell_type": "markdown",
   "metadata": {},
   "source": [
    "# Cellgrid"
   ]
  },
  {
   "cell_type": "code",
   "execution_count": 10,
   "metadata": {},
   "outputs": [],
   "source": [
    "import cellgrid\n",
    "from cellgrid.cgmath import (\n",
    "    inter_distance_array_withpbc,\n",
    "    inter_index_array,\n",
    ")\n",
    "def cg_build(box, coords, cellsize):\n",
    "    \n",
    "    cg1 = cellgrid.CellGrid(box[:3], cellsize, coords)\n",
    "    return cg1\n",
    "\n",
    "def cg_query(struct,pos,cutoff):\n",
    "    \n",
    "    cell = (pos/struct._cell_size).astype(int)\n",
    "    \n",
    "    ##Array Initialization\n",
    "    n_tot = 0\n",
    "    #print(struct[cell].all_neighbours)\n",
    "    for other_cell in itertools.chain(struct[cell].all_neighbours,[cell]):\n",
    "        n_tot += len(struct[other_cell]) \n",
    "    distances = np.zeros(n_tot, dtype=np.float32)\n",
    "    pair_indices = np.zeros((n_tot, 2), dtype=np.int)\n",
    "    \n",
    "    ##Distance Evaluations\n",
    "    p = 0 # pointer to array\n",
    "    indices = []\n",
    "    for item in itertools.chain(struct[cell].all_neighbours,[cell]):\n",
    "        other_cell = struct[item]\n",
    "        length = len(other_cell)\n",
    "        inter_distance_array_withpbc(pos[np.newaxis,:], other_cell.coordinates, struct._box, distances[p:])\n",
    "        indices += [i for i in itertools.chain(other_cell.indices)]\n",
    "        p +=  len(other_cell)\n",
    "    \n",
    "    mask = np.where((distances <= cutoff) & (distances > 0))\n",
    "    #return None if struct.coordinates[np.array(indices)[mask]].shape[0] == 0 else struct.coordinates[np.array(indices)[mask]]\n",
    "    return np.reshape(np.array(indices)[mask], (1 , np.array(indices)[mask].shape[0] ))"
   ]
  },
  {
   "cell_type": "markdown",
   "metadata": {},
   "source": [
    "# BioPython"
   ]
  },
  {
   "cell_type": "code",
   "execution_count": 11,
   "metadata": {},
   "outputs": [],
   "source": [
    "from Bio.KDTree import KDTree\n",
    "def bp_build(box, coords):\n",
    "    kdtree = KDTree(dim=3)\n",
    "    kdtree.set_coords(coords)\n",
    "    return kdtree\n",
    "def bp_query(struct, coords, query, cutoff):\n",
    "    struct.search(query,cutoff)\n",
    "    return struct.get_indices()\n",
    "def augbp_build(box, coords, cutoff):\n",
    "    augment_coords, mapid = augment(points, cutoff, box)\n",
    "    bp = bp_build(box, augment_coords)\n",
    "    return bp, augment_coords, mapid\n",
    "def augbp_query(struct, augment_coords, query, cutoff, mapid):\n",
    "    art_indices = bp_query(struct, augment_coords, query, cutoff)\n",
    "    art_indices = np.reshape(art_indices, (1, len(art_indices)))\n",
    "    indices = inverse_augment(art_indices, mapid, min(mapid.keys()))\n",
    "    return indices"
   ]
  },
  {
   "cell_type": "markdown",
   "metadata": {},
   "source": [
    "# Scipy"
   ]
  },
  {
   "cell_type": "code",
   "execution_count": 12,
   "metadata": {},
   "outputs": [],
   "source": [
    "from scipy import spatial\n",
    "def scipy_build(box, coords):\n",
    "    return spatial.cKDTree(coords)\n",
    "def scipy_query(struct, coords, query, cutoff):\n",
    "    return struct.query_ball_point(query,cutoff)\n",
    "def augscipy_build(box, coords, cutoff):\n",
    "    augment_coords, mapid = augment(points, cutoff, box)\n",
    "    skd = scipy_build(box, augment_coords)\n",
    "    return skd, augment_coords, mapid\n",
    "def augscipy_query(struct, augment_coords, query, cutoff, mapid):\n",
    "    art_indices = scipy_query(struct, augment_coords, query, cutoff)\n",
    "    art_indices = np.reshape(art_indices, (1, len(art_indices)))\n",
    "    indices = inverse_augment(art_indices, mapid, min(mapid.keys()))\n",
    "    return indices"
   ]
  },
  {
   "cell_type": "markdown",
   "metadata": {},
   "source": [
    "# PKDTree"
   ]
  },
  {
   "cell_type": "code",
   "execution_count": 13,
   "metadata": {},
   "outputs": [],
   "source": [
    "from MDAnalysis.lib.pkdtree import PeriodicKDTree\n",
    "def pkdt_build(box, coords):\n",
    "    pkdt = PeriodicKDTree(box,bucket_size=10)\n",
    "    pkdt.set_coords(coords)\n",
    "    return pkdt\n",
    "def pkdt_query(struct, coords, query, cutoff):\n",
    "    struct.search(query,cutoff)\n",
    "    return np.reshape(np.array(struct.get_indices()), (1, np.array(struct.get_indices()).shape[0])) "
   ]
  },
  {
   "cell_type": "markdown",
   "metadata": {},
   "source": [
    "# Octree"
   ]
  },
  {
   "cell_type": "code",
   "execution_count": 14,
   "metadata": {},
   "outputs": [],
   "source": [
    "import pcl\n",
    "def oct_build(box, coords):\n",
    "    cloud = pcl.PointCloud(coords)\n",
    "    resolution = 0.1*BOX[0]\n",
    "    octree = cloud.make_octreeSearch(resolution)\n",
    "    octree.add_points_from_input_cloud()\n",
    "    return octree\n",
    "def oct_query(struct, coords, query, cutoff):\n",
    "    [ind, sqdist] = struct.radius_search (query, cutoff)\n",
    "    return np.array(ind)\n",
    "def augoct_build(box, coords, cutoff):\n",
    "    augment_coords, mapid = augment(points, cutoff, box)\n",
    "    octree = oct_build(box, augment_coords)\n",
    "    return octree, augment_coords, mapid\n",
    "def augoct_query(struct, augment_coords, query, cutoff, mapid):\n",
    "    art_indices = oct_query(struct, augment_coords, query, cutoff)\n",
    "    art_indices = np.reshape(art_indices, (1, len(art_indices)))\n",
    "    indices = inverse_augment(art_indices, mapid, min(mapid.keys()))\n",
    "    return indices"
   ]
  },
  {
   "cell_type": "markdown",
   "metadata": {},
   "source": [
    "# Check"
   ]
  },
  {
   "cell_type": "markdown",
   "metadata": {},
   "source": [
    "Check for the neighbours for a simple case."
   ]
  },
  {
   "cell_type": "code",
   "execution_count": 15,
   "metadata": {},
   "outputs": [],
   "source": [
    "#initialize\n",
    "BOX = np.array([100.,100.,100.,90.,90.,90.],dtype=np.float32)\n",
    "CUTOFF = 10.\n",
    "NPOINTS = 10\n",
    "points = get_coords(BOX, NPOINTS)\n",
    "query = np.array([1.,1.,1.], dtype = np.float32)"
   ]
  },
  {
   "cell_type": "markdown",
   "metadata": {},
   "source": [
    "### FATSLiM"
   ]
  },
  {
   "cell_type": "code",
   "execution_count": 16,
   "metadata": {},
   "outputs": [],
   "source": [
    "ns = ns_build(BOX, points, CUTOFF)\n",
    "ns_b = ns_query(ns, points, query)"
   ]
  },
  {
   "cell_type": "code",
   "execution_count": 17,
   "metadata": {},
   "outputs": [
    {
     "data": {
      "text/plain": [
       "array([], shape=(1, 0), dtype=int64)"
      ]
     },
     "execution_count": 17,
     "metadata": {},
     "output_type": "execute_result"
    }
   ],
   "source": [
    "np.sort(ns_b)"
   ]
  },
  {
   "cell_type": "code",
   "execution_count": 18,
   "metadata": {},
   "outputs": [
    {
     "data": {
      "text/plain": [
       "(1, 0)"
      ]
     },
     "execution_count": 18,
     "metadata": {},
     "output_type": "execute_result"
    }
   ],
   "source": [
    "ns_b.shape"
   ]
  },
  {
   "cell_type": "markdown",
   "metadata": {},
   "source": [
    "### CellGrid"
   ]
  },
  {
   "cell_type": "code",
   "execution_count": 19,
   "metadata": {},
   "outputs": [],
   "source": [
    "cg = cg_build(BOX, points, CUTOFF)\n",
    "cg_b = cg_query(cg , query ,CUTOFF)"
   ]
  },
  {
   "cell_type": "code",
   "execution_count": 20,
   "metadata": {},
   "outputs": [
    {
     "data": {
      "text/plain": [
       "array([], shape=(1, 0), dtype=int64)"
      ]
     },
     "execution_count": 20,
     "metadata": {},
     "output_type": "execute_result"
    }
   ],
   "source": [
    "cg_b"
   ]
  },
  {
   "cell_type": "code",
   "execution_count": 21,
   "metadata": {},
   "outputs": [
    {
     "data": {
      "text/plain": [
       "(1, 0)"
      ]
     },
     "execution_count": 21,
     "metadata": {},
     "output_type": "execute_result"
    }
   ],
   "source": [
    "cg_b.shape"
   ]
  },
  {
   "cell_type": "markdown",
   "metadata": {},
   "source": [
    "### BioPython KDTree"
   ]
  },
  {
   "cell_type": "code",
   "execution_count": 22,
   "metadata": {},
   "outputs": [],
   "source": [
    "bp, augment_coords, mapid = augbp_build(BOX, points, CUTOFF)"
   ]
  },
  {
   "cell_type": "code",
   "execution_count": 23,
   "metadata": {},
   "outputs": [],
   "source": [
    "bp_b = augbp_query(bp, augment_coords, query, CUTOFF, mapid)"
   ]
  },
  {
   "cell_type": "code",
   "execution_count": 24,
   "metadata": {},
   "outputs": [
    {
     "data": {
      "text/plain": [
       "array([], shape=(1, 0), dtype=float64)"
      ]
     },
     "execution_count": 24,
     "metadata": {},
     "output_type": "execute_result"
    }
   ],
   "source": [
    "bp_b"
   ]
  },
  {
   "cell_type": "code",
   "execution_count": 25,
   "metadata": {},
   "outputs": [
    {
     "data": {
      "text/plain": [
       "(1, 0)"
      ]
     },
     "execution_count": 25,
     "metadata": {},
     "output_type": "execute_result"
    }
   ],
   "source": [
    "bp_b.shape"
   ]
  },
  {
   "cell_type": "markdown",
   "metadata": {},
   "source": [
    "### Scipy KDTree"
   ]
  },
  {
   "cell_type": "code",
   "execution_count": 26,
   "metadata": {},
   "outputs": [],
   "source": [
    "sckd, augment_coords, mapid = augscipy_build(BOX, points, CUTOFF)"
   ]
  },
  {
   "cell_type": "code",
   "execution_count": 27,
   "metadata": {},
   "outputs": [],
   "source": [
    "sckd_b = augscipy_query(sckd, augment_coords, query, CUTOFF, mapid)"
   ]
  },
  {
   "cell_type": "code",
   "execution_count": 28,
   "metadata": {},
   "outputs": [
    {
     "data": {
      "text/plain": [
       "array([], shape=(1, 0), dtype=float64)"
      ]
     },
     "execution_count": 28,
     "metadata": {},
     "output_type": "execute_result"
    }
   ],
   "source": [
    "sckd_b"
   ]
  },
  {
   "cell_type": "code",
   "execution_count": 29,
   "metadata": {},
   "outputs": [
    {
     "data": {
      "text/plain": [
       "(1, 0)"
      ]
     },
     "execution_count": 29,
     "metadata": {},
     "output_type": "execute_result"
    }
   ],
   "source": [
    "sckd_b.shape"
   ]
  },
  {
   "cell_type": "markdown",
   "metadata": {},
   "source": [
    "### Periodic KDtree"
   ]
  },
  {
   "cell_type": "code",
   "execution_count": 30,
   "metadata": {},
   "outputs": [],
   "source": [
    "pkdt = pkdt_build(BOX, points)\n",
    "pkdt_b = pkdt_query(pkdt, points, query, CUTOFF)"
   ]
  },
  {
   "cell_type": "code",
   "execution_count": 31,
   "metadata": {},
   "outputs": [
    {
     "data": {
      "text/plain": [
       "array([], shape=(1, 0), dtype=float64)"
      ]
     },
     "execution_count": 31,
     "metadata": {},
     "output_type": "execute_result"
    }
   ],
   "source": [
    "pkdt_b"
   ]
  },
  {
   "cell_type": "code",
   "execution_count": 32,
   "metadata": {},
   "outputs": [
    {
     "data": {
      "text/plain": [
       "(1, 0)"
      ]
     },
     "execution_count": 32,
     "metadata": {},
     "output_type": "execute_result"
    }
   ],
   "source": [
    "pkdt_b.shape"
   ]
  },
  {
   "cell_type": "markdown",
   "metadata": {},
   "source": [
    "### Octree"
   ]
  },
  {
   "cell_type": "code",
   "execution_count": 33,
   "metadata": {},
   "outputs": [],
   "source": [
    "octree, augment_coords, mapid = augoct_build(BOX, points, CUTOFF)\n",
    "oct_b = augoct_query(octree, augment_coords, query, CUTOFF, mapid)"
   ]
  },
  {
   "cell_type": "code",
   "execution_count": 34,
   "metadata": {},
   "outputs": [
    {
     "data": {
      "text/plain": [
       "array([], shape=(1, 0), dtype=int32)"
      ]
     },
     "execution_count": 34,
     "metadata": {},
     "output_type": "execute_result"
    }
   ],
   "source": [
    "oct_b"
   ]
  },
  {
   "cell_type": "code",
   "execution_count": 35,
   "metadata": {},
   "outputs": [
    {
     "data": {
      "text/plain": [
       "(1, 0)"
      ]
     },
     "execution_count": 35,
     "metadata": {},
     "output_type": "execute_result"
    }
   ],
   "source": [
    "oct_b.shape"
   ]
  },
  {
   "cell_type": "markdown",
   "metadata": {},
   "source": [
    "## Testing"
   ]
  },
  {
   "cell_type": "code",
   "execution_count": 36,
   "metadata": {},
   "outputs": [],
   "source": [
    "for (a,b) in itertools.combinations([ns_b, cg_b, bp_b, sckd_b, pkdt_b, oct_b],2):\n",
    "    np.testing.assert_array_equal(np.sort(a, axis = 1), np.sort(b, axis = 1))"
   ]
  },
  {
   "cell_type": "markdown",
   "metadata": {},
   "source": [
    "# Benchmarking"
   ]
  },
  {
   "cell_type": "markdown",
   "metadata": {},
   "source": [
    "For comparison, lets choose one point inside the domain of the box and another near one of the faces. The parameters for benchmark are number of particles . Lets begin by the benchmarks of number of particles."
   ]
  },
  {
   "cell_type": "code",
   "execution_count": 57,
   "metadata": {},
   "outputs": [],
   "source": [
    "#initialize\n",
    "box = np.array([100.,100.,100.,90.,90.,90.],dtype=np.float32)\n",
    "cutoff = 10.\n",
    "npoints = np.logspace(2,5, num = 5, dtype = np.int)\n",
    "#points = get_coords(BOX, NPOINTS)\n",
    "query = np.array([1.,1.,1.], dtype = np.float32) ## Close to the one of the phases"
   ]
  },
  {
   "cell_type": "code",
   "execution_count": 58,
   "metadata": {},
   "outputs": [
    {
     "data": {
      "application/vnd.jupyter.widget-view+json": {
       "model_id": "4973b8836d4c4d8b885c987e956bcdfa",
       "version_major": 2,
       "version_minor": 0
      },
      "text/plain": [
       "HBox(children=(IntProgress(value=0, max=5), HTML(value='')))"
      ]
     },
     "metadata": {},
     "output_type": "display_data"
    }
   ],
   "source": [
    "from tqdm import tqdm_notebook\n",
    "\n",
    "res_build = defaultdict(list)\n",
    "res_query = defaultdict(list)\n",
    "res_total = defaultdict(list)\n",
    "\n",
    "for N in tqdm_notebook(np.unique(npoints)):\n",
    "    points = get_coords(box, N)\n",
    "    \n",
    "    # FATSLiM\n",
    "    #ns = ns_build(box, points, cutoff)\n",
    "    #ns_b = ns_query(ns, points, query)\n",
    "    ##build\n",
    "    #bres = %timeit -q -o ns_build(box, points, cutoff)\n",
    "    #res_build['ns'].append(bres.average)\n",
    "    ##query\n",
    "    #qres = %timeit -q -o ns_query(ns, points, query)\n",
    "    #res_query['ns'].append(qres.average)\n",
    "    ##Total\n",
    "    #res_total['ns'].append(bres.average + qres.average)\n",
    "    \n",
    "    # CellGrid\n",
    "    cg = cg_build(box, points, cutoff)\n",
    "    cg_b = cg_query(cg , query ,cutoff)\n",
    "    ## build\n",
    "    bres = %timeit -q -o cg_build(box, points, cutoff)\n",
    "    res_build['cg'].append(bres.average)\n",
    "    ## querybres = %timeit -q -o cg_build(BOX, points, CUTOFF)\n",
    "    qres = %timeit -q -o cg_query(cg, query, cutoff)\n",
    "    res_query['cg'].append(qres.average)\n",
    "    ## Total\n",
    "    res_total['cg'].append(bres.average + qres.average)\n",
    "    \n",
    "    # Biopython\n",
    "    bp, augment_coords, mapid = augbp_build(box, points, cutoff)\n",
    "    bp_b = augbp_query(bp, augment_coords, query, cutoff, mapid)\n",
    "    ## build\n",
    "    bres = %timeit -q -o augbp_build(box, points, cutoff)\n",
    "    res_build['bp'].append(bres.average)\n",
    "    ##query\n",
    "    qres = %timeit -q -o augbp_query(bp, augment_coords, query, cutoff, mapid)\n",
    "    res_query['bp'].append(qres.average)\n",
    "    ## Total\n",
    "    res_total['bp'].append(bres.average + qres.average)\n",
    "    \n",
    "    # Scipy\n",
    "    sckd, augment_coords, mapid = augscipy_build(box, points, cutoff)\n",
    "    sckd_b = augscipy_query(sckd, augment_coords, query, cutoff, mapid)\n",
    "    ## build\n",
    "    bres = %timeit -q -o augscipy_build(box, points, cutoff)\n",
    "    res_build['scipy'].append(bres.average)\n",
    "    ##query\n",
    "    qres = %timeit -q -o augscipy_query(sckd, augment_coords, query, cutoff, mapid)\n",
    "    res_query['scipy'].append(qres.average)\n",
    "    ## Total\n",
    "    res_total['scipy'].append(bres.average + qres.average)\n",
    "    \n",
    "    # Periodic KDTree\n",
    "    pkdt = pkdt_build(box, points)\n",
    "    pkdt_b = pkdt_query(pkdt, points, query, cutoff)\n",
    "    ## build\n",
    "    bres = %timeit -q -o pkdt_build(box, points)\n",
    "    res_build['pkdt'].append(bres.average)\n",
    "    ##query\n",
    "    qres = %timeit -q -o pkdt_query(pkdt, points, query, cutoff)\n",
    "    res_query['pkdt'].append(qres.average)\n",
    "    ## Total\n",
    "    res_total['pkdt'].append(bres.average + qres.average)\n",
    "    \n",
    "    # Octree\n",
    "    octree, augment_coords, mapid = augoct_build(box, points, cutoff)\n",
    "    oct_b = augoct_query(octree, augment_coords, query, cutoff, mapid)\n",
    "    ## build\n",
    "    bres = %timeit -q -o augoct_build(BOX, points, CUTOFF)\n",
    "    res_build['octree'].append(bres.average)\n",
    "    ##query\n",
    "    qres = %timeit -q -o augoct_query(octree, augment_coords, query, cutoff, mapid)\n",
    "    res_query['octree'].append(qres.average)\n",
    "    ##Total\n",
    "    res_total['octree'].append(bres.average + qres.average)\n",
    "    \n",
    "    # Brute Force\n",
    "    bf_n = bf_select(query, points, cutoff, box)\n",
    "    res = %timeit -q -o bf_select(query, points, cutoff, BOX)\n",
    "    #Total\n",
    "    res_total['bf'].append(res.average)\n",
    "    \n",
    "    res_total['N'].append(N)\n",
    "    \n",
    "    #testing\n",
    "    for (a,b) in itertools.combinations([ cg_b, bp_b, sckd_b, pkdt_b, oct_b, bf_n],2):\n",
    "        np.testing.assert_array_equal(np.sort(a, axis = 1), np.sort(b, axis = 1))"
   ]
  },
  {
   "cell_type": "code",
   "execution_count": 60,
   "metadata": {},
   "outputs": [
    {
     "data": {
      "text/plain": [
       "<matplotlib.legend.Legend at 0x7fa6c41e8fd0>"
      ]
     },
     "execution_count": 60,
     "metadata": {},
     "output_type": "execute_result"
    },
    {
     "data": {
      "image/png": "[encoded data removed]",
      "text/plain": [
       "<Figure size 864x288 with 3 Axes>"
      ]
     },
     "metadata": {},
     "output_type": "display_data"
    }
   ],
   "source": [
    "fig, axes = plt.subplots(ncols = 3, figsize = plt.figaspect(1/3))\n",
    "\n",
    "ax = axes[0]\n",
    "ax.plot(res_total['N'], res_query['cg'], 'o-', label='CellGrid')\n",
    "ax.plot(res_total['N'], res_query['bp'], 'o-', label='BioPython KDTree')\n",
    "ax.plot(res_total['N'], res_query['scipy'], 'o-', label='Scipy KDTree')\n",
    "ax.plot(res_total['N'], res_query['pkdt'], 'o-', label='Periodic KDTree')\n",
    "ax.plot(res_total['N'], res_query['octree'], 'o-', label='Octree')\n",
    "ax.set(xlabel='N particles', ylabel='time [s]', xscale='log', yscale='log', title='Query')\n",
    "ax.legend()\n",
    "\n",
    "ax = axes[1]\n",
    "ax.plot(res_total['N'], res_build['cg'], 'o-', label='CellGrid')\n",
    "ax.plot(res_total['N'], res_build['bp'], 'o-', label='BioPython KDTree')\n",
    "ax.plot(res_total['N'], res_build['scipy'], 'o-', label='Scipy KDTree')\n",
    "ax.plot(res_total['N'], res_build['pkdt'], 'o-', label='Periodic KDTree')\n",
    "ax.plot(res_total['N'], res_build['octree'], 'o-', label='Octree')\n",
    "ax.set(xlabel='N particles', ylabel='time [s]', xscale='log', yscale='log', title='Build')\n",
    "ax.legend()\n",
    "\n",
    "ax = axes[2]\n",
    "ax.plot(res_total['N'], res_total['cg'], 'o-', label='CellGrid')\n",
    "ax.plot(res_total['N'], res_total['bp'], 'o-', label='BioPython KDTree')\n",
    "ax.plot(res_total['N'], res_total['scipy'], 'o-', label='Scipy KDTree')\n",
    "ax.plot(res_total['N'], res_total['pkdt'], 'o-', label='Periodic KDTree')\n",
    "ax.plot(res_total['N'], res_total['octree'], 'o-', label='Octree')\n",
    "ax.set(xlabel='N particles', ylabel='time [s]', xscale='log', yscale='log', title='Total')\n",
    "ax.legend()"
   ]
  },
  {
   "cell_type": "markdown",
   "metadata": {},
   "source": [
    "Lets check the timings for a query point inside the box such that PBC is not invoked."
   ]
  },
  {
   "cell_type": "code",
   "execution_count": 61,
   "metadata": {},
   "outputs": [],
   "source": [
    "#initialize\n",
    "box = np.array([100.,100.,100.,90.,90.,90.],dtype=np.float32)\n",
    "cutoff = 10.\n",
    "npoints = np.logspace(2,5, num = 5, dtype = np.int)\n",
    "#points = get_coords(BOX, NPOINTS)\n",
    "query = box[:3]/2 ## Close to the one of the phases"
   ]
  },
  {
   "cell_type": "code",
   "execution_count": 62,
   "metadata": {},
   "outputs": [
    {
     "data": {
      "application/vnd.jupyter.widget-view+json": {
       "model_id": "2a3294db15d4429fb6c6a2a287aabc44",
       "version_major": 2,
       "version_minor": 0
      },
      "text/plain": [
       "HBox(children=(IntProgress(value=0, max=5), HTML(value='')))"
      ]
     },
     "metadata": {},
     "output_type": "display_data"
    }
   ],
   "source": [
    "from tqdm import tqdm_notebook\n",
    "\n",
    "res_build2 = defaultdict(list)\n",
    "res_query2 = defaultdict(list)\n",
    "res_total2 = defaultdict(list)\n",
    "\n",
    "for N in tqdm_notebook(np.unique(npoints)):\n",
    "    points = get_coords(box, N)\n",
    "    \n",
    "    # FATSLiM\n",
    "    #ns = ns_build(box, points, cutoff)\n",
    "    #ns_b = ns_query(ns, points, query)\n",
    "    ##build\n",
    "    #bres = %timeit -q -o ns_build(box, points, cutoff)\n",
    "    #res_build['ns'].append(bres.average)\n",
    "    ##query\n",
    "    #qres = %timeit -q -o ns_query(ns, points, query)\n",
    "    #res_query['ns'].append(qres.average)\n",
    "    ##Total\n",
    "    #res_total['ns'].append(bres.average + qres.average)\n",
    "    \n",
    "    # CellGrid\n",
    "    cg = cg_build(box, points, cutoff)\n",
    "    cg_b = cg_query(cg , query ,cutoff)\n",
    "    ## build\n",
    "    bres = %timeit -q -o cg_build(box, points, cutoff)\n",
    "    res_build2['cg'].append(bres.average)\n",
    "    ## querybres = %timeit -q -o cg_build(BOX, points, CUTOFF)\n",
    "    qres = %timeit -q -o cg_query(cg, query, cutoff)\n",
    "    res_query2['cg'].append(qres.average)\n",
    "    ## Total\n",
    "    res_total2['cg'].append(bres.average + qres.average)\n",
    "    \n",
    "    # Biopython\n",
    "    bp, augment_coords, mapid = augbp_build(box, points, cutoff)\n",
    "    bp_b = augbp_query(bp, augment_coords, query, cutoff, mapid)\n",
    "    ## build\n",
    "    bres = %timeit -q -o augbp_build(box, points, cutoff)\n",
    "    res_build2['bp'].append(bres.average)\n",
    "    ##query\n",
    "    qres = %timeit -q -o augbp_query(bp, augment_coords, query, cutoff, mapid)\n",
    "    res_query2['bp'].append(qres.average)\n",
    "    ## Total\n",
    "    res_total2['bp'].append(bres.average + qres.average)\n",
    "    \n",
    "    # Scipy\n",
    "    sckd, augment_coords, mapid = augscipy_build(box, points, cutoff)\n",
    "    sckd_b = augscipy_query(sckd, augment_coords, query, cutoff, mapid)\n",
    "    ## build\n",
    "    bres = %timeit -q -o augscipy_build(box, points, cutoff)\n",
    "    res_build2['scipy'].append(bres.average)\n",
    "    ##query\n",
    "    qres = %timeit -q -o augscipy_query(sckd, augment_coords, query, cutoff, mapid)\n",
    "    res_query2['scipy'].append(qres.average)\n",
    "    ## Total\n",
    "    res_total2['scipy'].append(bres.average + qres.average)\n",
    "    \n",
    "    # Periodic KDTree\n",
    "    pkdt = pkdt_build(box, points)\n",
    "    pkdt_b = pkdt_query(pkdt, points, query, cutoff)\n",
    "    ## build\n",
    "    bres = %timeit -q -o pkdt_build(box, points)\n",
    "    res_build2['pkdt'].append(bres.average)\n",
    "    ##query\n",
    "    qres = %timeit -q -o pkdt_query(pkdt, points, query, cutoff)\n",
    "    res_query2['pkdt'].append(qres.average)\n",
    "    ## Total\n",
    "    res_total2['pkdt'].append(bres.average + qres.average)\n",
    "    \n",
    "    # Octree\n",
    "    octree, augment_coords, mapid = augoct_build(box, points, cutoff)\n",
    "    oct_b = augoct_query(octree, augment_coords, query, cutoff, mapid)\n",
    "    ## build\n",
    "    bres = %timeit -q -o augoct_build(BOX, points, CUTOFF)\n",
    "    res_build2['octree'].append(bres.average)\n",
    "    ##query\n",
    "    qres = %timeit -q -o augoct_query(octree, augment_coords, query, cutoff, mapid)\n",
    "    res_query2['octree'].append(qres.average)\n",
    "    ##Total\n",
    "    res_total2['octree'].append(bres.average + qres.average)\n",
    "    \n",
    "    # Brute Force\n",
    "    bf_n = bf_select(query, points, cutoff, box)\n",
    "    res = %timeit -q -o bf_select(query, points, cutoff, BOX)\n",
    "    #Total\n",
    "    res_total2['bf'].append(res.average)\n",
    "    \n",
    "    res_total2['N'].append(N)\n",
    "    \n",
    "    #testing\n",
    "    for (a,b) in itertools.combinations([ cg_b, bp_b, sckd_b, pkdt_b, oct_b, bf_n],2):\n",
    "        np.testing.assert_array_equal(np.sort(a, axis = 1), np.sort(b, axis = 1))"
   ]
  },
  {
   "cell_type": "code",
   "execution_count": 64,
   "metadata": {},
   "outputs": [
    {
     "data": {
      "text/plain": [
       "<matplotlib.legend.Legend at 0x7fa6c4f97400>"
      ]
     },
     "execution_count": 64,
     "metadata": {},
     "output_type": "execute_result"
    },
    {
     "data": {
      "image/png": "[encoded data removed]",
      "text/plain": [
       "<Figure size 864x288 with 3 Axes>"
      ]
     },
     "metadata": {},
     "output_type": "display_data"
    }
   ],
   "source": [
    "fig, axes = plt.subplots(ncols = 3, figsize = plt.figaspect(1/3))\n",
    "\n",
    "ax = axes[0]\n",
    "ax.plot(res_total2['N'], res_query2['cg'], 'o-', label='CellGrid')\n",
    "ax.plot(res_total2['N'], res_query2['bp'], 'o-', label='BioPython KDTree')\n",
    "ax.plot(res_total2['N'], res_query2['scipy'], 'o-', label='Scipy KDTree')\n",
    "ax.plot(res_total2['N'], res_query2['pkdt'], 'o-', label='Periodic KDTree')\n",
    "ax.plot(res_total2['N'], res_query2['octree'], 'o-', label='Octree')\n",
    "ax.set(xlabel='N particles', ylabel='time [s]', xscale='log', yscale='log', title='Query')\n",
    "ax.legend()\n",
    "\n",
    "ax = axes[1]\n",
    "ax.plot(res_total2['N'], res_build2['cg'], 'o-', label='CellGrid')\n",
    "ax.plot(res_total2['N'], res_build2['bp'], 'o-', label='BioPython KDTree')\n",
    "ax.plot(res_total2['N'], res_build2['scipy'], 'o-', label='Scipy KDTree')\n",
    "ax.plot(res_total2['N'], res_build2['pkdt'], 'o-', label='Periodic KDTree')\n",
    "ax.plot(res_total2['N'], res_build2['octree'], 'o-', label='Octree')\n",
    "ax.set(xlabel='N particles', ylabel='time [s]', xscale='log', yscale='log', title='Build')\n",
    "ax.legend()\n",
    "\n",
    "ax = axes[2]\n",
    "ax.plot(res_total2['N'], res_total2['cg'], 'o-', label='CellGrid')\n",
    "ax.plot(res_total2['N'], res_total2['bp'], 'o-', label='BioPython KDTree')\n",
    "ax.plot(res_total2['N'], res_total2['scipy'], 'o-', label='Scipy KDTree')\n",
    "ax.plot(res_total2['N'], res_total2['pkdt'], 'o-', label='Periodic KDTree')\n",
    "ax.plot(res_total2['N'], res_total2['octree'], 'o-', label='Octree')\n",
    "ax.set(xlabel='N particles', ylabel='time [s]', xscale='log', yscale='log', title='Total')\n",
    "ax.legend()"
   ]
  },
  {
   "cell_type": "markdown",
   "metadata": {},
   "source": [
    "Build Times is two orders of magnitude larger for almost all the methods as compared to periodic KDtree, which is intuitive due to iteration over all the particles. Query time for edge cases is also large for all the methods with augment coordinates after 3k particles. Primary reason is effective large number of particles and therefore more number of subdivisions in a tree.  "
   ]
  },
  {
   "cell_type": "markdown",
   "metadata": {},
   "source": [
    "We have already compared the FATSLiM method in previous benchmarks, and it would seem FATSLiM is the fastest method for distance calculations followed by Periodic KDTree for PBC aware single point calculations."
   ]
  }
 ],
 "metadata": {
  "kernelspec": {
   "display_name": "Python 3",
   "language": "python",
   "name": "python3"
  },
  "language_info": {
   "codemirror_mode": {
    "name": "ipython",
    "version": 3
   },
   "file_extension": ".py",
   "mimetype": "text/x-python",
   "name": "python",
   "nbconvert_exporter": "python",
   "pygments_lexer": "ipython3",
   "version": "3.6.5"
  }
 },
 "nbformat": 4,
 "nbformat_minor": 2
}
