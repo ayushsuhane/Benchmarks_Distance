{
 "cells": [
  {
   "cell_type": "markdown",
   "metadata": {},
   "source": [
    "This notebook commpares the new augment and scipy cKDtree with the grid search and brute force based search for single query calculations. \n",
    "\n",
    "The objective is to check the benefit of augment coordinates against the periodic wrapper of Bio.KDTree in MDAnalysis. "
   ]
  },
  {
   "cell_type": "code",
   "execution_count": 21,
   "metadata": {},
   "outputs": [],
   "source": [
    "import numpy as np\n",
    "from MDAnalysis.lib._augment import augment_coordinates, undo_augment\n",
    "from gridlocal import FastNS\n",
    "from MDAnalysis.lib.pkdtree import PeriodicKDTree\n",
    "from Bio.KDTree import KDTree, _CKDTree\n",
    "from MDAnalysis.lib.distances import distance_array\n",
    "from scipy import spatial\n",
    "import itertools\n",
    "from tqdm import tqdm_notebook\n",
    "from collections import defaultdict"
   ]
  },
  {
   "cell_type": "code",
   "execution_count": 2,
   "metadata": {},
   "outputs": [],
   "source": [
    "import matplotlib\n",
    "matplotlib.use('agg')\n",
    "import matplotlib.pyplot as plt\n",
    "%matplotlib inline"
   ]
  },
  {
   "cell_type": "code",
   "execution_count": 3,
   "metadata": {},
   "outputs": [],
   "source": [
    "def pkdt_build(box, coords):\n",
    "    pkdt = PeriodicKDTree(box,bucket_size=10)\n",
    "    pkdt.set_coords(coords)\n",
    "    return pkdt\n",
    "def pkdt_query(struct, coords, query, cutoff):\n",
    "    struct.search(query,cutoff)\n",
    "    return np.array(struct.get_indices())"
   ]
  },
  {
   "cell_type": "code",
   "execution_count": 63,
   "metadata": {},
   "outputs": [],
   "source": [
    "def paug_build(box, coords, cutoff):\n",
    "    aug, mapping = augment_coordinates(coords, box, cutoff)\n",
    "    all_coords = np.concatenate([coords, aug])\n",
    "    kdtree = _CKDTree.KDTree(3, 10)\n",
    "    kdtree.set_data(all_coords)\n",
    "    return kdtree, mapping\n",
    "def paug_query(struct, query, cutoff, mapping, nreal):\n",
    "    struct.search_center_radius(query,cutoff)\n",
    "    n = struct.get_count()\n",
    "    indices = []\n",
    "    if n:\n",
    "        indices = np.empty(n, int)\n",
    "        struct.get_indices(indices)\n",
    "        indices = undo_augment(np.asarray(indices, dtype=np.int32), mapping, nreal)\n",
    "        return np.sort(indices)\n",
    "    else:\n",
    "        return indices"
   ]
  },
  {
   "cell_type": "code",
   "execution_count": 5,
   "metadata": {},
   "outputs": [],
   "source": [
    "def scaug_build(box, coords, cutoff):\n",
    "    aug, mapping = augment_coordinates(coords, box, cutoff)\n",
    "    all_coords = np.concatenate([coords, aug])\n",
    "    skdtree = spatial.cKDTree(all_coords)\n",
    "    return skdtree, mapping\n",
    "def scaug_query(struct, query, cutoff, mapping, nreal):\n",
    "    indices = np.asarray(struct.query_ball_point(query,cutoff), dtype=np.int32)\n",
    "    indices = undo_augment(indices, mapping, nreal)\n",
    "    return np.sort(indices)"
   ]
  },
  {
   "cell_type": "markdown",
   "metadata": {},
   "source": [
    "Other helper functions"
   ]
  },
  {
   "cell_type": "code",
   "execution_count": 6,
   "metadata": {},
   "outputs": [],
   "source": [
    "def get_coords(box,Npoints):\n",
    "    return (np.random.uniform(low=0,high=1.0,size=(Npoints,3))*box[:3]).astype(np.float32)"
   ]
  },
  {
   "cell_type": "markdown",
   "metadata": {},
   "source": [
    "  * check for correctness"
   ]
  },
  {
   "cell_type": "code",
   "execution_count": 75,
   "metadata": {},
   "outputs": [],
   "source": [
    "#Initialize\n",
    "BOX = np.array([100.,100.,100.,90.,90.,90.],dtype=np.float32)\n",
    "CUTOFF = 4.\n",
    "NPOINTS = 100000\n",
    "points = get_coords(BOX, NPOINTS)"
   ]
  },
  {
   "cell_type": "code",
   "execution_count": 76,
   "metadata": {},
   "outputs": [],
   "source": [
    "query = np.array([1.,1.,1.], dtype = np.float32)"
   ]
  },
  {
   "cell_type": "code",
   "execution_count": 77,
   "metadata": {},
   "outputs": [],
   "source": [
    "pkdt = pkdt_build(BOX, points)\n",
    "indices_pkdt = pkdt_query(pkdt, points, query, CUTOFF)"
   ]
  },
  {
   "cell_type": "code",
   "execution_count": 78,
   "metadata": {},
   "outputs": [
    {
     "data": {
      "text/plain": [
       "array([ 3301,  9050,  9551, 10005, 11072, 13376, 15623, 22530, 25499,\n",
       "       26092, 26765, 33092, 34318, 37808, 40108, 40864, 43472, 44931,\n",
       "       48008, 53911, 55258, 56343, 57299, 59815, 60076, 62734, 65623,\n",
       "       66121, 66600, 88402, 88816, 90163, 91530, 91737, 93871, 93955,\n",
       "       97938, 98445])"
      ]
     },
     "execution_count": 78,
     "metadata": {},
     "output_type": "execute_result"
    }
   ],
   "source": [
    "indices_pkdt "
   ]
  },
  {
   "cell_type": "code",
   "execution_count": 79,
   "metadata": {},
   "outputs": [],
   "source": [
    "paug, mapping = paug_build(BOX, points, CUTOFF)"
   ]
  },
  {
   "cell_type": "code",
   "execution_count": 80,
   "metadata": {},
   "outputs": [],
   "source": [
    "indices_paug = paug_query(paug, query, CUTOFF, mapping, len(points))"
   ]
  },
  {
   "cell_type": "code",
   "execution_count": 81,
   "metadata": {},
   "outputs": [
    {
     "data": {
      "text/plain": [
       "array([ 3301,  9050,  9551, 10005, 11072, 13376, 15623, 22530, 25499,\n",
       "       26092, 26765, 33092, 34318, 37808, 40108, 40864, 43472, 44931,\n",
       "       48008, 53911, 55258, 56343, 57299, 59815, 60076, 62734, 65623,\n",
       "       66121, 66600, 88402, 88816, 90163, 91530, 91737, 93871, 93955,\n",
       "       97938, 98445])"
      ]
     },
     "execution_count": 81,
     "metadata": {},
     "output_type": "execute_result"
    }
   ],
   "source": [
    "indices_paug"
   ]
  },
  {
   "cell_type": "code",
   "execution_count": 82,
   "metadata": {},
   "outputs": [],
   "source": [
    "saug,  smapping = scaug_build(BOX, points, CUTOFF)"
   ]
  },
  {
   "cell_type": "code",
   "execution_count": 83,
   "metadata": {},
   "outputs": [],
   "source": [
    "indices_saug = scaug_query(saug, query, CUTOFF, smapping, len(points))"
   ]
  },
  {
   "cell_type": "code",
   "execution_count": 84,
   "metadata": {},
   "outputs": [
    {
     "data": {
      "text/plain": [
       "array([ 3301,  9050,  9551, 10005, 11072, 13376, 15623, 22530, 25499,\n",
       "       26092, 26765, 33092, 34318, 37808, 40108, 40864, 43472, 44931,\n",
       "       48008, 53911, 55258, 56343, 57299, 59815, 60076, 62734, 65623,\n",
       "       66121, 66600, 88402, 88816, 90163, 91530, 91737, 93871, 93955,\n",
       "       97938, 98445])"
      ]
     },
     "execution_count": 84,
     "metadata": {},
     "output_type": "execute_result"
    }
   ],
   "source": [
    "indices_saug"
   ]
  },
  {
   "cell_type": "code",
   "execution_count": 17,
   "metadata": {},
   "outputs": [],
   "source": [
    "for (a,b) in itertools.combinations([indices_pkdt, indices_paug, indices_saug],2):\n",
    "    np.testing.assert_array_equal(a, b)"
   ]
  },
  {
   "cell_type": "markdown",
   "metadata": {},
   "source": [
    "# Benchmark"
   ]
  },
  {
   "cell_type": "code",
   "execution_count": 72,
   "metadata": {},
   "outputs": [],
   "source": [
    "#initialize\n",
    "box = np.array([100.,100.,100.,90.,90.,90.],dtype=np.float32)\n",
    "cutoff = 10.\n",
    "npoints = np.logspace(2,5, num = 10, dtype = np.int)\n",
    "query = np.array([1.,1.,1.], dtype = np.float32) ## Close to the one of the phases"
   ]
  },
  {
   "cell_type": "code",
   "execution_count": 73,
   "metadata": {},
   "outputs": [
    {
     "data": {
      "application/vnd.jupyter.widget-view+json": {
       "model_id": "1cca552a117a473ea0e9cf3908d3996e",
       "version_major": 2,
       "version_minor": 0
      },
      "text/plain": [
       "HBox(children=(IntProgress(value=0, max=10), HTML(value='')))"
      ]
     },
     "metadata": {},
     "output_type": "display_data"
    },
    {
     "name": "stdout",
     "output_type": "stream",
     "text": [
      "\n"
     ]
    }
   ],
   "source": [
    "from tqdm import tqdm_notebook\n",
    "\n",
    "res_build = defaultdict(list)\n",
    "res_query = defaultdict(list)\n",
    "res_total = defaultdict(list)\n",
    "\n",
    "for N in tqdm_notebook(np.unique(npoints)):\n",
    "    points = get_coords(box, N)\n",
    "    \n",
    "    # Build\n",
    "    pkdt = pkdt_build(box, points)\n",
    "    paug, mapping = paug_build(box, points, cutoff)\n",
    "    saug, smapping = scaug_build(box, points, cutoff)\n",
    "    \n",
    "    # Run\n",
    "    qres = %timeit -q -o pkdt_query(pkdt, points, query, cutoff)\n",
    "    res_query['pkdtree'].append(qres.average)\n",
    "    \n",
    "    bres = %timeit -q -o pkdt_build(box, points)\n",
    "    res_build['pkdtree'].append(bres.average)\n",
    "    \n",
    "    res_total['pkdtree'].append(bres.average + qres.average)\n",
    "    \n",
    "    qres = %timeit -q -o paug_query(paug, query, cutoff, mapping, len(points))\n",
    "    res_query['augment+KDtree'].append(qres.average)\n",
    "    \n",
    "    bres = %timeit -q -o paug_build(BOX, points, cutoff)\n",
    "    res_build['augment+KDtree'].append(bres.average)\n",
    "    res_total['augment+KDtree'].append(bres.average + qres.average)\n",
    "    \n",
    "    \n",
    "    qres = %timeit -q -o scaug_query(saug, query, cutoff, smapping, len(points))\n",
    "    res_query['augment+scipy-KDtree'].append(qres.average)\n",
    "    \n",
    "    bres = %timeit -q -o scaug_build(BOX, points, cutoff)\n",
    "    res_build['augment+scipy-KDtree'].append(bres.average)\n",
    "    res_total['augment+scipy-KDtree'].append(bres.average + qres.average)"
   ]
  },
  {
   "cell_type": "code",
   "execution_count": 74,
   "metadata": {},
   "outputs": [
    {
     "data": {
      "text/plain": [
       "<matplotlib.legend.Legend at 0x7f178d766c18>"
      ]
     },
     "execution_count": 74,
     "metadata": {},
     "output_type": "execute_result"
    },
    {
     "data": {
      "image/png": "[encoded data removed]",
      "text/plain": [
       "<Figure size 864x288 with 3 Axes>"
      ]
     },
     "metadata": {},
     "output_type": "display_data"
    }
   ],
   "source": [
    "fig, axes = plt.subplots(ncols = 3, figsize = plt.figaspect(1/3))\n",
    "\n",
    "ax = axes[0]\n",
    "\n",
    "ax.plot(npoints, res_query['augment+KDtree'], 'o-', label='BioPython KDTree')\n",
    "ax.plot(npoints, res_query['augment+scipy-KDtree'], 'o-', label='Scipy KDTree')\n",
    "ax.plot(npoints, res_query['pkdtree'], 'o-', label='Periodic KDTree')\n",
    "ax.set(xlabel='N particles', ylabel='time [s]', xscale='log', yscale='log', title='Query')\n",
    "ax.legend()\n",
    "\n",
    "ax = axes[1]\n",
    "ax.plot(npoints, res_build['augment+KDtree'], 'o-', label='BioPython KDTree')\n",
    "ax.plot(npoints, res_build['augment+scipy-KDtree'], 'o-', label='Scipy KDTree')\n",
    "ax.plot(npoints, res_build['pkdtree'], 'o-', label='Periodic KDTree')\n",
    "ax.set(xlabel='N particles', ylabel='time [s]', xscale='log', yscale='log', title='Build')\n",
    "ax.legend()\n",
    "\n",
    "ax = axes[2]\n",
    "ax.plot(npoints, res_total['augment+KDtree'], 'o-', label='BioPython KDTree')\n",
    "ax.plot(npoints, res_total['augment+scipy-KDtree'], 'o-', label='Scipy KDTree')\n",
    "ax.plot(npoints, res_total['pkdtree'], 'o-', label='Periodic KDTree')\n",
    "ax.set(xlabel='N particles', ylabel='time [s]', xscale='log', yscale='log', title='Total')\n",
    "ax.legend()"
   ]
  },
  {
   "cell_type": "markdown",
   "metadata": {},
   "source": [
    "It can be clearly seen that there is an significant advantage in query time due to use of cythonized version of augment coordinates. The difference can be seen from the comparison of BioPython KDTree + cythonized augment coordinates and Periodic KDTree. Similarly, advantages of scipy KDTree and augmented coordinates results in almost 10 times faster distance calculations as compared to PeriodicKDtree wrapper. \n",
    "\n",
    "It can be clearly seen that major advantages are due to replacement of python version of finding images with cython version of augment coordinates. It can be concluded based on the difference in performance of PeriodicKDTree and BioPython _CKDTree (which is used in the wrapper). The only difference among them is how they deal with the periodic boundary conditions. Similarly, scipy implementation most definitely is better as build time from scipy is less than BioKDtree, which also becomes a significant time particularly for few query selections. \n",
    "\n"
   ]
  },
  {
   "cell_type": "markdown",
   "metadata": {},
   "source": [
    "Therefore, the recommendation is to replace the Bio.KDTree with scipy.spacial which is a stable KDTree version and use cythonized version to evaluate the distance from the images."
   ]
  }
 ],
 "metadata": {
  "kernelspec": {
   "display_name": "Python 3",
   "language": "python",
   "name": "python3"
  },
  "language_info": {
   "codemirror_mode": {
    "name": "ipython",
    "version": 3
   },
   "file_extension": ".py",
   "mimetype": "text/x-python",
   "name": "python",
   "nbconvert_exporter": "python",
   "pygments_lexer": "ipython3",
   "version": "3.6.5"
  }
 },
 "nbformat": 4,
 "nbformat_minor": 2
}
