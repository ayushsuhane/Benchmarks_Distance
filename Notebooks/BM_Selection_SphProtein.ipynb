{
 "cells": [
  {
   "cell_type": "code",
   "execution_count": 1,
   "metadata": {},
   "outputs": [],
   "source": [
    "from cellgrid import CellGrid ,capped_distance_array\n",
    "from MDAnalysis.lib.pkdtree import PeriodicKDTree\n",
    "import numpy as np\n",
    "from scipy.special import gammainc\n",
    "from MDAnalysis.lib.distances import self_distance_array,distance_array\n",
    "%matplotlib inline"
   ]
  },
  {
   "cell_type": "code",
   "execution_count": 3,
   "metadata": {},
   "outputs": [],
   "source": [
    "%load_ext memory_profiler"
   ]
  },
  {
   "cell_type": "code",
   "execution_count": 2,
   "metadata": {},
   "outputs": [],
   "source": [
    "##Methods for initialization\n",
    "def generate_protein(center,radius,nparticles,box=None):\n",
    "    r = radius\n",
    "    ndim = center.size\n",
    "    x = np.random.normal(size=(nparticles, ndim))\n",
    "    ssq = np.sum(x**2,axis=1)\n",
    "    fr = r*gammainc(ndim/2,ssq/2)**(1/ndim)/np.sqrt(ssq)\n",
    "    frtiled = np.tile(fr.reshape(nparticles,1),(1,ndim))\n",
    "    p = center + np.multiply(x,frtiled)\n",
    "    return p.astype('float32')\n",
    "\n",
    "def generate_solvent(center,radius,nparticles,box):\n",
    "    points = np.random.uniform(low=0,high=1.0,size=(nparticles,3))*box[:3]\n",
    "    idx = np.where(np.sum((points-center)**2,axis=1)<radius**2)\n",
    "    points[idx] += np.sign(points[idx]-center)*radius\n",
    "    return(points[np.where(np.sum((points-center)**2,axis=1)>radius**2)].astype('float32'))"
   ]
  },
  {
   "cell_type": "code",
   "execution_count": 4,
   "metadata": {},
   "outputs": [],
   "source": [
    "##Methods to compare\n",
    "def cg_select_around(protein_particles,solvent_particles,maxdist,box):\n",
    "    if box.shape == (6,):\n",
    "        box1 = box[:3]\n",
    "    else:\n",
    "        box1 = box\n",
    "    indx,dist = capped_distance_array(protein_particles,solvent_particles,maxdist,box1)\n",
    "    mask = np.where(dist<maxdist)\n",
    "    indices = (np.unique((indx[mask])[:,1]))\n",
    "    return indices\n",
    "\n",
    "def bf_select_around(protein_particles,solvent_particles,maxdist,box):\n",
    "    distance = distance_array(protein_particles,solvent_particles,box)\n",
    "    mask = np.where(distance<maxdist)[1]\n",
    "    return np.unique(mask)\n",
    "\n",
    "def kdtree_select_around(protein_particles,solvent_particles,maxdist,box):\n",
    "    kdtree = PeriodicKDTree(box,bucket_size=10)\n",
    "    kdtree.set_coords(solvent_particles)\n",
    "    kdtree.search(protein_particles,maxdist)\n",
    "    indices = kdtree.get_indices()\n",
    "    return np.array(indices)"
   ]
  },
  {
   "cell_type": "code",
   "execution_count": 5,
   "metadata": {},
   "outputs": [],
   "source": [
    "###Testing different methods\n",
    "\n",
    "##Settings\n",
    "box = np.array([100,100,100,90,90,90],dtype=np.float32)\n",
    "center = np.array([box[0]/2,box[1]/2,box[2]/2])\n",
    "Nprotein,Nsolvent = 100,10000\n",
    "radius = 10.0\n",
    "maxdist = 6.0"
   ]
  },
  {
   "cell_type": "code",
   "execution_count": 6,
   "metadata": {},
   "outputs": [],
   "source": [
    "#initialize\n",
    "solvent_particles = generate_solvent(center,radius,Nsolvent,box)\n",
    "protein_particles = generate_protein(center,radius,Nprotein)"
   ]
  },
  {
   "cell_type": "code",
   "execution_count": 7,
   "metadata": {},
   "outputs": [],
   "source": [
    "##Evaluate Once\n",
    "cg_selection = cg_select_around(protein_particles,solvent_particles, maxdist,box)\n",
    "kdtree_selection = kdtree_select_around(protein_particles,solvent_particles,maxdist,box)\n",
    "bf_selection = bf_select_around(protein_particles,solvent_particles,maxdist,box)"
   ]
  },
  {
   "cell_type": "code",
   "execution_count": 8,
   "metadata": {},
   "outputs": [],
   "source": [
    "#Testing\n",
    "np.testing.assert_equal(bf_selection,cg_selection)\n",
    "np.testing.assert_equal(bf_selection,kdtree_selection)"
   ]
  },
  {
   "cell_type": "code",
   "execution_count": 9,
   "metadata": {},
   "outputs": [
    {
     "name": "stdout",
     "output_type": "stream",
     "text": [
      "22.3 ms ± 2.19 ms per loop (mean ± std. dev. of 3 runs, 5 loops each)\n",
      "39.5 ms ± 391 µs per loop (mean ± std. dev. of 3 runs, 5 loops each)\n",
      "2.11 s ± 48.5 ms per loop (mean ± std. dev. of 3 runs, 5 loops each)\n"
     ]
    }
   ],
   "source": [
    "#Benchmark for single use case => less time consuming to compare\n",
    "%timeit -n 5 -r 3 kdtree_select_around(protein_particles,solvent_particles,maxdist,box)\n",
    "%timeit -n 5 -r 3 bf_select_around(protein_particles,solvent_particles,maxdist,box)\n",
    "%timeit -n 5 -r 3 cg_select_around(protein_particles,solvent_particles, maxdist, box)"
   ]
  },
  {
   "cell_type": "code",
   "execution_count": 10,
   "metadata": {},
   "outputs": [
    {
     "name": "stdout",
     "output_type": "stream",
     "text": [
      "peak memory: 109.68 MiB, increment: 0.01 MiB\n",
      "peak memory: 110.31 MiB, increment: 0.62 MiB\n",
      "peak memory: 112.68 MiB, increment: 2.37 MiB\n"
     ]
    }
   ],
   "source": [
    "%memit kdtree_select_around(protein_particles,solvent_particles,maxdist,box)\n",
    "%memit bf_select_around(protein_particles,solvent_particles,maxdist,box)\n",
    "%memit cg_select_around(protein_particles,solvent_particles, maxdist, box)"
   ]
  },
  {
   "cell_type": "code",
   "execution_count": 11,
   "metadata": {},
   "outputs": [],
   "source": [
    "#Benchmark scaling : neighbour selection within \n",
    "#6 unit distance with increase in solvent density \n",
    "\n",
    "##Setting\n",
    "box = np.array([100,100,100,90,90,90],dtype=np.float32)\n",
    "center = np.array([box[0]/2,box[1]/2,box[2]/2])\n",
    "Nsolvent,Nprotein = np.logspace(2,5,num=5,dtype='int32'),100\n",
    "maxdist = 6.0\n",
    "radius = 10.0"
   ]
  },
  {
   "cell_type": "code",
   "execution_count": 13,
   "metadata": {},
   "outputs": [],
   "source": [
    "##Benchmarks\n",
    "time_kd,time_bf,time_cg = [],[],[]\n",
    "mem_kd,mem_bf,mem_cg = [],[],[]\n",
    "func_dict = dict(KDtree=[kdtree_select_around,time_kd,mem_kd],BruteForce=[bf_select_around,time_bf,mem_bf],Cellgrid=[cg_select_around,time_cg,mem_cg])\n",
    "for nsolvent in Nsolvent:\n",
    "    solvent_particles = generate_solvent(center,radius,nsolvent,box)\n",
    "    for key in func_dict:\n",
    "        time = %timeit -q -o -n 1 -r 3 func_dict[key][0](protein_particles,solvent_particles,maxdist,box)\n",
    "        mem = %memit -q -o func_dict[key][0](protein_particles,solvent_particles,maxdist,box)\n",
    "        func_dict[key][1].append([time.average,time.stdev])\n",
    "        func_dict[key][2].append(mem.mem_usage)"
   ]
  },
  {
   "cell_type": "code",
   "execution_count": 19,
   "metadata": {},
   "outputs": [
    {
     "name": "stdout",
     "output_type": "stream",
     "text": [
      "Solvent Particles : 100, Protein particles : 100, Protein Radius :10.0, Protein Centre : [50. 50. 50.]\n",
      "KDtree \t\t Average Time: 0.0047820000005837455 Standard Deviation: 0.00021270793745136637 \n",
      "\t\t Memory Usage [111.55859375] MB\n",
      "BruteForce \t\t Average Time: 0.0005000000001018634 Standard Deviation: 0.00010141334575261877 \n",
      "\t\t Memory Usage [111.55859375] MB\n",
      "Cellgrid \t\t Average Time: 2.256523333333462 Standard Deviation: 0.0549277785842327 \n",
      "\t\t Memory Usage [115.7421875] MB\n",
      "\n",
      "Solvent Particles : 562, Protein particles : 100, Protein Radius :10.0, Protein Centre : [50. 50. 50.]\n",
      "KDtree \t\t Average Time: 0.004205999999612686 Standard Deviation: 0.0004040602266788182 \n",
      "\t\t Memory Usage [112.28125] MB\n",
      "BruteForce \t\t Average Time: 0.0023600000001048707 Standard Deviation: 0.00029640175475522827 \n",
      "\t\t Memory Usage [112.28125] MB\n",
      "Cellgrid \t\t Average Time: 2.4682600000002517 Standard Deviation: 0.20096559552334203 \n",
      "\t\t Memory Usage [115.7421875] MB\n",
      "\n",
      "Solvent Particles : 3162, Protein particles : 100, Protein Radius :10.0, Protein Centre : [50. 50. 50.]\n",
      "KDtree \t\t Average Time: 0.007845999999820682 Standard Deviation: 0.00042369407193354073 \n",
      "\t\t Memory Usage [112.53125] MB\n",
      "BruteForce \t\t Average Time: 0.01291499999994509 Standard Deviation: 0.0010249295915253174 \n",
      "\t\t Memory Usage [112.53125] MB\n",
      "Cellgrid \t\t Average Time: 2.370683666666688 Standard Deviation: 0.18183393750079022 \n",
      "\t\t Memory Usage [115.7578125] MB\n",
      "\n",
      "Solvent Particles : 17782, Protein particles : 100, Protein Radius :10.0, Protein Centre : [50. 50. 50.]\n",
      "KDtree \t\t Average Time: 0.037607999999939544 Standard Deviation: 0.0046566237416757255 \n",
      "\t\t Memory Usage [113.15234375] MB\n",
      "BruteForce \t\t Average Time: 0.07561433333345728 Standard Deviation: 0.005616674718171057 \n",
      "\t\t Memory Usage [122.34765625] MB\n",
      "Cellgrid \t\t Average Time: 2.248839333333611 Standard Deviation: 0.0316245902458465 \n",
      "\t\t Memory Usage [125.078125] MB\n",
      "\n",
      "Solvent Particles : 100000, Protein particles : 100, Protein Radius :10.0, Protein Centre : [50. 50. 50.]\n",
      "KDtree \t\t Average Time: 0.24151466666686852 Standard Deviation: 0.000942284222264395 \n",
      "\t\t Memory Usage [122.8515625] MB\n",
      "BruteForce \t\t Average Time: 0.44962600000023184 Standard Deviation: 0.0038164198754986616 \n",
      "\t\t Memory Usage [199.1484375] MB\n",
      "Cellgrid \t\t Average Time: 2.53979900000013 Standard Deviation: 0.020626047658728174 \n",
      "\t\t Memory Usage [125.06640625] MB\n",
      "\n"
     ]
    }
   ],
   "source": [
    "#Output\n",
    "for idx,value in enumerate(Nsolvent):\n",
    "    print(\"Solvent Particles : {}, Protein particles : {}, Protein Radius :{}, Protein Centre : {}\".format(value,\n",
    "                                                                                                           Nprotein,\n",
    "                                                                                                          radius, center))\n",
    "    for key in func_dict:    \n",
    "        print(\"{} \\t\\t Average Time: {} Standard Deviation: {} \\n\\t\\t Memory Usage {} MB\".format(key,func_dict[key][1][idx][0],func_dict[key][1][idx][1],func_dict[key][2][idx]))\n",
    "    print()"
   ]
  },
  {
   "cell_type": "code",
   "execution_count": 20,
   "metadata": {},
   "outputs": [],
   "source": [
    "import matplotlib\n",
    "import matplotlib.pyplot as plt"
   ]
  },
  {
   "cell_type": "code",
   "execution_count": 21,
   "metadata": {},
   "outputs": [
    {
     "data": {
      "image/png": "[encoded data removed]",
      "text/plain": [
       "<Figure size 432x288 with 1 Axes>"
      ]
     },
     "metadata": {},
     "output_type": "display_data"
    }
   ],
   "source": [
    "##Plots for visual comparison\n",
    "for key in func_dict:\n",
    "    avg_time,sd = np.array(func_dict[key][1],dtype=np.float32)[:,0],np.array(func_dict[key][1],dtype=np.float32)[:,1]\n",
    "    plt.errorbar(Nsolvent,avg_time,yerr=sd,label='Method = {}'.format(key))\n",
    "    plt.legend()\n",
    "    plt.xlabel('Number of Solvent Particles')\n",
    "    plt.ylabel('Time (s)')\n",
    "    plt.title('Execution time')"
   ]
  },
  {
   "cell_type": "code",
   "execution_count": 23,
   "metadata": {},
   "outputs": [
    {
     "data": {
      "image/png": "[encoded data removed]",
      "text/plain": [
       "<Figure size 432x288 with 1 Axes>"
      ]
     },
     "metadata": {},
     "output_type": "display_data"
    }
   ],
   "source": [
    "for key in func_dict:\n",
    "    avg_mem = np.array(func_dict[key][2],dtype=np.float32)\n",
    "    plt.errorbar(Nsolvent,avg_mem,label='Method = {}'.format(key))\n",
    "    plt.legend()\n",
    "    plt.xlabel('Number of Solvent Particles')\n",
    "    plt.ylabel('Memory (MB)')\n",
    "    plt.title('Memory Usage')"
   ]
  },
  {
   "cell_type": "code",
   "execution_count": 15,
   "metadata": {},
   "outputs": [],
   "source": [
    "###Benchmarks for different cutoff radius and density of number of particles only for cellgrid\n",
    "\n",
    "#Setting\n",
    "box = np.array([100,100,100,90,90,90],dtype=np.float32)\n",
    "center = np.array([box[0]/2,box[1]/2,box[2]/2])\n",
    "Nsolvent,Nprotein = np.logspace(2,3,num=5,dtype='int32'),100\n",
    "Maxdist = np.linspace(4,10,num=7,dtype=np.int32)\n",
    "radius = 10.0"
   ]
  },
  {
   "cell_type": "code",
   "execution_count": 16,
   "metadata": {},
   "outputs": [],
   "source": [
    "##Benchmarks\n",
    "time_cg = []\n",
    "for nsolvent in Nsolvent:\n",
    "    solvent_particles = generate_solvent(center,radius,nsolvent,box)\n",
    "    for maxdist in Maxdist:\n",
    "        time = %timeit -q -o -n 1 -r 3 cg_select_around(protein_particles,solvent_particles,maxdist,box)\n",
    "        time_cg.append([nsolvent,maxdist,time.average,time.stdev])"
   ]
  },
  {
   "cell_type": "code",
   "execution_count": 17,
   "metadata": {},
   "outputs": [
    {
     "data": {
      "image/png": "[encoded data removed]",
      "text/plain": [
       "<Figure size 432x288 with 1 Axes>"
      ]
     },
     "metadata": {},
     "output_type": "display_data"
    }
   ],
   "source": [
    "##Plot for visual comparison\n",
    "arr = np.array(time_cg)\n",
    "for maxdist in Maxdist:\n",
    "    mask = (arr[:,1]==maxdist)\n",
    "    npt,avg,sd = (arr[mask,:][:,0]),(arr[mask,:][:,2]),(arr[mask,:][:,3])\n",
    "    plt.errorbar(npt,avg,yerr=sd,label='Cutoff Radius = {}'.format(maxdist))\n",
    "    plt.legend()\n",
    "    plt.xlabel('Number of Points')\n",
    "    plt.ylabel('Time (s)')"
   ]
  }
 ],
 "metadata": {
  "kernelspec": {
   "display_name": "Python 3",
   "language": "python",
   "name": "python3"
  },
  "language_info": {
   "codemirror_mode": {
    "name": "ipython",
    "version": 3
   },
   "file_extension": ".py",
   "mimetype": "text/x-python",
   "name": "python",
   "nbconvert_exporter": "python",
   "pygments_lexer": "ipython3",
   "version": "3.6.5"
  }
 },
 "nbformat": 4,
 "nbformat_minor": 2
}
