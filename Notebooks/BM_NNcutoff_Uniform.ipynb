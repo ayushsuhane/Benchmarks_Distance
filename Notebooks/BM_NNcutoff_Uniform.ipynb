{
 "cells": [
  {
   "cell_type": "code",
   "execution_count": 1,
   "metadata": {},
   "outputs": [
    {
     "name": "stdout",
     "output_type": "stream",
     "text": [
      "1.1.0\n"
     ]
    }
   ],
   "source": [
    "import scipy\n",
    "print(scipy.__version__)\n",
    "%matplotlib inline"
   ]
  },
  {
   "cell_type": "code",
   "execution_count": 2,
   "metadata": {},
   "outputs": [],
   "source": [
    "import cellgrid \n",
    "import numpy as np\n",
    "import itertools\n",
    "from initialization import init_uniform"
   ]
  },
  {
   "cell_type": "code",
   "execution_count": 3,
   "metadata": {},
   "outputs": [],
   "source": [
    "def cg_select(box, points, maxdist):\n",
    "    indx,dist = cellgrid.capped_self_distance_array(points,maxdist,box=box)\n",
    "    mask = np.where(dist<maxdist)\n",
    "    return indx[mask],dist[mask]"
   ]
  },
  {
   "cell_type": "code",
   "execution_count": 12,
   "metadata": {},
   "outputs": [],
   "source": [
    "#Benchmarking Time ---------> Cutoff Radius\n",
    "#Setup\n",
    "box = np.array([100,100,100,90,90,90],dtype=np.float32)\n",
    "Npoints = np.logspace(2,3,num=2,dtype=np.int32)\n",
    "Max_Dist = np.linspace(10,30,num=2)\n",
    "#maxdist = np.array([10])\n",
    "#maxdist"
   ]
  },
  {
   "cell_type": "code",
   "execution_count": 96,
   "metadata": {},
   "outputs": [
    {
     "name": "stdout",
     "output_type": "stream",
     "text": [
      "Npoints 100 Cutoff_radius 10.0\n",
      "Average Timing 0.13890186666637117 Standard Deviation 0.001757206998304513\n",
      "Npoints 100 Cutoff_radius 30.0\n",
      "Average Timing 0.007755933333100984 Standard Deviation 0.0004671647342291544\n",
      "Npoints 1000 Cutoff_radius 10.0\n",
      "Average Timing 0.2259455999999773 Standard Deviation 0.003301252445030422\n",
      "Npoints 1000 Cutoff_radius 30.0\n",
      "Average Timing 0.020466666666470703 Standard Deviation 0.0016316973765767722\n",
      "[[100, 10.0, 0.13890186666637117, 0.001757206998304513], [100, 30.0, 0.007755933333100984, 0.0004671647342291544], [1000, 10.0, 0.2259455999999773, 0.003301252445030422], [1000, 30.0, 0.020466666666470703, 0.0016316973765767722]]\n"
     ]
    }
   ],
   "source": [
    "time_cgpair = []\n",
    "for npt,maxdist in list(itertools.product(Npoints,Max_Dist)):\n",
    "    box1, points = init_uniform(box,npt)\n",
    "    print(\"Npoints\",npt,\"Cutoff_radius\",maxdist)\n",
    "    cgpair = %timeit -o -q -n 5 -r 3 cg_select(box1,points,maxdist)\n",
    "    print(\"Average Timing\",cgpair.average,\"Standard Deviation\",cgpair.stdev)\n",
    "    time_cgpair.append([npt,maxdist,cgpair.average,cgpair.stdev])\n",
    "print(time_cgpair)"
   ]
  },
  {
   "cell_type": "code",
   "execution_count": 55,
   "metadata": {},
   "outputs": [],
   "source": [
    "arr = np.array(time_cgpair)"
   ]
  },
  {
   "cell_type": "code",
   "execution_count": 94,
   "metadata": {},
   "outputs": [
    {
     "data": {
      "image/png": "[encoded data removed]",
      "text/plain": [
       "<Figure size 432x288 with 1 Axes>"
      ]
     },
     "metadata": {},
     "output_type": "display_data"
    }
   ],
   "source": [
    "import matplotlib\n",
    "import matplotlib.pyplot as plt\n",
    "for maxdist in Max_Dist:\n",
    "    mask = (arr[:,1]==maxdist)\n",
    "    npt,avg,sd = (arr[mask,:][:,0]),(arr[mask,:][:,2]),(arr[mask,:][:,3])\n",
    "    plt.errorbar(npt,avg,yerr=sd,label='Cutoff Radius = {}'.format(maxdist))\n",
    "    plt.legend()\n",
    "    plt.xlabel('Number of Points')\n",
    "    plt.ylabel('Time (s)')"
   ]
  }
 ],
 "metadata": {
  "kernelspec": {
   "display_name": "Python 3",
   "language": "python",
   "name": "python3"
  },
  "language_info": {
   "codemirror_mode": {
    "name": "ipython",
    "version": 3
   },
   "file_extension": ".py",
   "mimetype": "text/x-python",
   "name": "python",
   "nbconvert_exporter": "python",
   "pygments_lexer": "ipython3",
   "version": "3.6.5"
  }
 },
 "nbformat": 4,
 "nbformat_minor": 2
}
