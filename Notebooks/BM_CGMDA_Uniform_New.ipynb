{
 "cells": [
  {
   "cell_type": "code",
   "execution_count": 525,
   "metadata": {},
   "outputs": [],
   "source": [
    "import cellgrid \n",
    "import numpy as np\n",
    "from MDAnalysis.lib.distances import distance_array\n",
    "from scipy.spatial.distance import squareform \n",
    "\n",
    "##Initialize the class for benchmarks\n",
    "class SimpleCGBench():\n",
    "    \"\"\"\n",
    "    Class for simple CG benchmarks\n",
    "    \"\"\"\n",
    "    def __init__(self):\n",
    "        #self.box = np.array([100.,100.,100.,90.,90.,90.],dtype=np.float32)\n",
    "        self.box = np.ones(3).astype(np.float32)*100\n",
    "        self.points = np.random.uniform(low=0,high=1.0,size=(10000,3))*self.box[:3]\n",
    "        self.points = np.array(self.points,dtype=np.float32)\n",
    "        self.maxdist = 10.0\n",
    "\n",
    "    def bf_select(self, box, points, maxdist):\n",
    "        \"\"\" \n",
    "        Comparison between cellgrid and brute force method \n",
    "        to select all the points within a distance of \n",
    "        {maxdist} units using periodic boundary conditions\n",
    "        Contact maps with single trajectory - Homogeneous points and \n",
    "        cutoff radius of 10 units\n",
    "        Inputs : points, box, maxdist\n",
    "        Output : Numpy array with point indices and corresponding distance\n",
    "        \"\"\"\n",
    "        distance = self_distance_array(points,box)\n",
    "        distance = scipy.spatial.distance.squareform(distance)\n",
    "        distance[np.tril_indices(distance.shape[0])] = (1.1*maxdist)\n",
    "        mask = np.where((distance < maxdist))\n",
    "        out = tuple((np.column_stack((mask[0],mask[1])),distance[mask]))\n",
    "        return out\n",
    "        \n",
    "    def cg_select(self, box, points, maxdist):\n",
    "        indx,dist = cellgrid.capped_self_distance_array(points,maxdist,box=box)\n",
    "        mask = np.where(dist<maxdist)\n",
    "        return indx[mask],dist[mask]"
   ]
  },
  {
   "cell_type": "code",
   "execution_count": 526,
   "metadata": {},
   "outputs": [
    {
     "data": {
      "text/plain": [
       "tuple"
      ]
     },
     "execution_count": 526,
     "metadata": {},
     "output_type": "execute_result"
    }
   ],
   "source": [
    "ob = SimpleCGBench()\n",
    "a = ob.cg_select(ob.box,ob.points,ob.maxdist)\n",
    "type(a)"
   ]
  },
  {
   "cell_type": "code",
   "execution_count": 533,
   "metadata": {},
   "outputs": [],
   "source": [
    "p = ob.bf_select(ob.box,ob.points,ob.maxdist)"
   ]
  },
  {
   "cell_type": "code",
   "execution_count": 528,
   "metadata": {},
   "outputs": [
    {
     "data": {
      "text/plain": [
       "(dtype('float32'), dtype('float64'))"
      ]
     },
     "execution_count": 528,
     "metadata": {},
     "output_type": "execute_result"
    }
   ],
   "source": [
    "(a[1].dtype),(p[1].dtype)"
   ]
  },
  {
   "cell_type": "code",
   "execution_count": 529,
   "metadata": {},
   "outputs": [],
   "source": [
    "np.testing.assert_array_almost_equal(np.sort(a[1].astype(np.float64)),np.sort(p[1]),decimal=5)\n",
    "np.testing.assert_equal(a[1].shape,p[1].shape)"
   ]
  },
  {
   "cell_type": "code",
   "execution_count": 530,
   "metadata": {},
   "outputs": [
    {
     "name": "stdout",
     "output_type": "stream",
     "text": [
      "8.63 s ± 1.25 s per loop (mean ± std. dev. of 7 runs, 1 loop each)\n"
     ]
    }
   ],
   "source": [
    "%timeit ob.bf_select(ob.box,ob.points,ob.maxdist)"
   ]
  },
  {
   "cell_type": "code",
   "execution_count": 531,
   "metadata": {},
   "outputs": [
    {
     "name": "stdout",
     "output_type": "stream",
     "text": [
      "694 ms ± 95 ms per loop (mean ± std. dev. of 7 runs, 1 loop each)\n"
     ]
    }
   ],
   "source": [
    "%timeit ob.cg_select(ob.box,ob.points,ob.maxdist)"
   ]
  }
 ],
 "metadata": {
  "kernelspec": {
   "display_name": "Python 3",
   "language": "python",
   "name": "python3"
  },
  "language_info": {
   "codemirror_mode": {
    "name": "ipython",
    "version": 3
   },
   "file_extension": ".py",
   "mimetype": "text/x-python",
   "name": "python",
   "nbconvert_exporter": "python",
   "pygments_lexer": "ipython3",
   "version": "3.6.5"
  }
 },
 "nbformat": 4,
 "nbformat_minor": 2
}
