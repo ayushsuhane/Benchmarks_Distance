{
 "cells": [
  {
   "cell_type": "code",
   "execution_count": 2,
   "metadata": {},
   "outputs": [],
   "source": [
    "from cellgrid import CellGrid ,capped_distance_array\n",
    "from MDAnalysis.lib.pkdtree import PeriodicKDTree\n",
    "import numpy as np\n",
    "from scipy.special import gammainc\n",
    "from MDAnalysis.lib.distances import self_distance_array,distance_array\n",
    "%matplotlib inline"
   ]
  },
  {
   "cell_type": "code",
   "execution_count": 3,
   "metadata": {},
   "outputs": [],
   "source": [
    "%load_ext memory_profiler"
   ]
  },
  {
   "cell_type": "code",
   "execution_count": 4,
   "metadata": {},
   "outputs": [],
   "source": [
    "##Methods for initialization\n",
    "def generate_protein(center,radius,nparticles,box=None):\n",
    "    r = radius\n",
    "    ndim = center.size\n",
    "    x = np.random.normal(size=(nparticles, ndim))\n",
    "    ssq = np.sum(x**2,axis=1)\n",
    "    fr = r*gammainc(ndim/2,ssq/2)**(1/ndim)/np.sqrt(ssq)\n",
    "    frtiled = np.tile(fr.reshape(nparticles,1),(1,ndim))\n",
    "    p = center + np.multiply(x,frtiled)\n",
    "    return p.astype('float32')\n",
    "\n",
    "def generate_solvent(center,radius,nparticles,box):\n",
    "    points = np.random.uniform(low=0,high=1.0,size=(nparticles,3))*box[:3]\n",
    "    idx = np.where(np.sum((points-center)**2,axis=1)<radius**2)\n",
    "    points[idx] += np.sign(points[idx]-center)*radius\n",
    "    return(points[np.where(np.sum((points-center)**2,axis=1)>radius**2)].astype('float32'))"
   ]
  },
  {
   "cell_type": "code",
   "execution_count": 5,
   "metadata": {},
   "outputs": [],
   "source": [
    "##Methods to compare\n",
    "def cg_select_around(protein_particles,solvent_particles,maxdist,box):\n",
    "    if box.shape == (6,):\n",
    "        box1 = box[:3]\n",
    "    else:\n",
    "        box1 = box\n",
    "    indx,dist = capped_distance_array(protein_particles,solvent_particles,maxdist,box1)\n",
    "    mask = np.where(dist<maxdist)\n",
    "    indices = (np.unique((indx[mask])[:,1]))\n",
    "    return indices\n",
    "\n",
    "def bf_select_around(protein_particles,solvent_particles,maxdist,box):\n",
    "    distance = distance_array(protein_particles,solvent_particles,box)\n",
    "    mask = np.where(distance<maxdist)[1]\n",
    "    return np.unique(mask)\n",
    "\n",
    "def kdtree_select_around(protein_particles,solvent_particles,maxdist,box):\n",
    "    kdtree = PeriodicKDTree(box,bucket_size=10)\n",
    "    kdtree.set_coords(solvent_particles)\n",
    "    kdtree.search(protein_particles,maxdist)\n",
    "    indices = kdtree.get_indices()\n",
    "    return np.array(indices)"
   ]
  },
  {
   "cell_type": "code",
   "execution_count": 6,
   "metadata": {},
   "outputs": [],
   "source": [
    "###Testing different methods\n",
    "\n",
    "##Settings\n",
    "box = np.array([100,100,100,90,90,90],dtype=np.float32)\n",
    "center = np.array([box[0]/2,box[1]/2,box[2]/2])\n",
    "Nprotein,Nsolvent = 100,10000\n",
    "radius = 10.0\n",
    "maxdist = 6.0"
   ]
  },
  {
   "cell_type": "code",
   "execution_count": 7,
   "metadata": {},
   "outputs": [],
   "source": [
    "#initialize\n",
    "solvent_particles = generate_solvent(center,radius,Nsolvent,box)\n",
    "protein_particles = generate_protein(center,radius,Nprotein)"
   ]
  },
  {
   "cell_type": "code",
   "execution_count": 8,
   "metadata": {},
   "outputs": [],
   "source": [
    "##Evaluate Once\n",
    "cg_selection = cg_select_around(protein_particles,solvent_particles, maxdist,box)\n",
    "kdtree_selection = kdtree_select_around(protein_particles,solvent_particles,maxdist,box)\n",
    "bf_selection = bf_select_around(protein_particles,solvent_particles,maxdist,box)"
   ]
  },
  {
   "cell_type": "code",
   "execution_count": 9,
   "metadata": {},
   "outputs": [],
   "source": [
    "#Testing\n",
    "np.testing.assert_equal(bf_selection,cg_selection)\n",
    "np.testing.assert_equal(bf_selection,kdtree_selection)"
   ]
  },
  {
   "cell_type": "code",
   "execution_count": 9,
   "metadata": {},
   "outputs": [
    {
     "name": "stdout",
     "output_type": "stream",
     "text": [
      "22.3 ms ± 2.19 ms per loop (mean ± std. dev. of 3 runs, 5 loops each)\n",
      "39.5 ms ± 391 µs per loop (mean ± std. dev. of 3 runs, 5 loops each)\n",
      "2.11 s ± 48.5 ms per loop (mean ± std. dev. of 3 runs, 5 loops each)\n"
     ]
    }
   ],
   "source": [
    "#Benchmark for single use case => less time consuming to compare\n",
    "%timeit -n 5 -r 3 kdtree_select_around(protein_particles,solvent_particles,maxdist,box)\n",
    "%timeit -n 5 -r 3 bf_select_around(protein_particles,solvent_particles,maxdist,box)\n",
    "%timeit -n 5 -r 3 cg_select_around(protein_particles,solvent_particles, maxdist, box)"
   ]
  },
  {
   "cell_type": "code",
   "execution_count": 10,
   "metadata": {},
   "outputs": [
    {
     "name": "stdout",
     "output_type": "stream",
     "text": [
      "peak memory: 109.68 MiB, increment: 0.01 MiB\n",
      "peak memory: 110.31 MiB, increment: 0.62 MiB\n",
      "peak memory: 112.68 MiB, increment: 2.37 MiB\n"
     ]
    }
   ],
   "source": [
    "%memit kdtree_select_around(protein_particles,solvent_particles,maxdist,box)\n",
    "%memit bf_select_around(protein_particles,solvent_particles,maxdist,box)\n",
    "%memit cg_select_around(protein_particles,solvent_particles, maxdist, box)"
   ]
  },
  {
   "cell_type": "code",
   "execution_count": 10,
   "metadata": {},
   "outputs": [],
   "source": [
    "#Benchmark scaling : neighbour selection within \n",
    "#6 unit distance with increase in solvent density \n",
    "\n",
    "##Setting\n",
    "box = np.array([100,100,100,90,90,90],dtype=np.float32)\n",
    "center = np.array([box[0]/2,box[1]/2,box[2]/2])\n",
    "Nsolvent,Nprotein = np.logspace(2,5,num=5,dtype='int32'),100\n",
    "maxdist = 6.0\n",
    "radius = 10.0"
   ]
  },
  {
   "cell_type": "code",
   "execution_count": 12,
   "metadata": {},
   "outputs": [],
   "source": [
    "##Benchmarks\n",
    "time_kd,time_bf,time_cg = [],[],[]\n",
    "mem_kd,mem_bf,mem_cg = [],[],[]\n",
    "func_dict = dict(KDtree=[kdtree_select_around,time_kd,mem_kd],BruteForce=[bf_select_around,time_bf,mem_bf],Cellgrid=[cg_select_around,time_cg,mem_cg])\n",
    "for nsolvent in Nsolvent:\n",
    "    solvent_particles = generate_solvent(center,radius,nsolvent,box)\n",
    "    for key in func_dict:\n",
    "        time = %timeit -q -o -n 1 -r 3 func_dict[key][0](protein_particles,solvent_particles,maxdist,box)\n",
    "        mem = %memit -q -o func_dict[key][0](protein_particles,solvent_particles,maxdist,box)\n",
    "        func_dict[key][1].append([time.average,time.stdev])\n",
    "        func_dict[key][2].append(mem.mem_usage)"
   ]
  },
  {
   "cell_type": "code",
   "execution_count": 14,
   "metadata": {},
   "outputs": [
    {
     "name": "stdout",
     "output_type": "stream",
     "text": [
      "Solvent Particles : 100, Protein particles : 100, Protein Radius :10.0, Protein Centre : [50. 50. 50.]\n",
      "KDtree \t\t Average Time: 0.005530666666648661 Standard Deviation: 0.0005617094943193105 \n",
      "\t\t Memory Usage [117.79296875] MB\n",
      "BruteForce \t\t Average Time: 0.0005566666659433395 Standard Deviation: 0.00010984939172644215 \n",
      "\t\t Memory Usage [117.79296875] MB\n",
      "Cellgrid \t\t Average Time: 2.687738333333376 Standard Deviation: 0.2545967392713829 \n",
      "\t\t Memory Usage [121.9609375] MB\n",
      "\n",
      "Solvent Particles : 562, Protein particles : 100, Protein Radius :10.0, Protein Centre : [50. 50. 50.]\n",
      "KDtree \t\t Average Time: 0.005167333332792623 Standard Deviation: 0.0013553096403934992 \n",
      "\t\t Memory Usage [118.27734375] MB\n",
      "BruteForce \t\t Average Time: 0.002357000000605088 Standard Deviation: 0.0002737529302948464 \n",
      "\t\t Memory Usage [118.27734375] MB\n",
      "Cellgrid \t\t Average Time: 2.7205366666670066 Standard Deviation: 0.5784309747915326 \n",
      "\t\t Memory Usage [121.99609375] MB\n",
      "\n",
      "Solvent Particles : 3162, Protein particles : 100, Protein Radius :10.0, Protein Centre : [50. 50. 50.]\n",
      "KDtree \t\t Average Time: 0.008348999999725493 Standard Deviation: 0.0005285533714887782 \n",
      "\t\t Memory Usage [118.52734375] MB\n",
      "BruteForce \t\t Average Time: 0.01401633333383264 Standard Deviation: 0.001149133102592365 \n",
      "\t\t Memory Usage [118.52734375] MB\n",
      "Cellgrid \t\t Average Time: 2.295920999999604 Standard Deviation: 0.11945646914548039 \n",
      "\t\t Memory Usage [122.0234375] MB\n",
      "\n",
      "Solvent Particles : 17782, Protein particles : 100, Protein Radius :10.0, Protein Centre : [50. 50. 50.]\n",
      "KDtree \t\t Average Time: 0.08093466666650784 Standard Deviation: 0.01664754348869083 \n",
      "\t\t Memory Usage [118.53125] MB\n",
      "BruteForce \t\t Average Time: 0.10772933333343342 Standard Deviation: 0.028811086898033217 \n",
      "\t\t Memory Usage [130.98828125] MB\n",
      "Cellgrid \t\t Average Time: 2.2043906666670714 Standard Deviation: 0.039184082144797974 \n",
      "\t\t Memory Usage [134.44140625] MB\n",
      "\n",
      "Solvent Particles : 100000, Protein particles : 100, Protein Radius :10.0, Protein Centre : [50. 50. 50.]\n",
      "KDtree \t\t Average Time: 0.2496856666663613 Standard Deviation: 0.008934233648746225 \n",
      "\t\t Memory Usage [131.234375] MB\n",
      "BruteForce \t\t Average Time: 0.45460699999906257 Standard Deviation: 0.003035414414350415 \n",
      "\t\t Memory Usage [206.83984375] MB\n",
      "Cellgrid \t\t Average Time: 3.0423519999997857 Standard Deviation: 0.16556366692636182 \n",
      "\t\t Memory Usage [135.265625] MB\n",
      "\n"
     ]
    }
   ],
   "source": [
    "#Output\n",
    "for idx,value in enumerate(Nsolvent):\n",
    "    print(\"Solvent Particles : {}, Protein particles : {}, Protein Radius :{}, Protein Centre : {}\".format(value,\n",
    "                                                                                                           Nprotein,\n",
    "                                                                                                          radius, center))\n",
    "    for key in func_dict:    \n",
    "        print(\"{} \\t\\t Average Time: {} Standard Deviation: {} \\n\\t\\t Memory Usage {} MB\".format(key,func_dict[key][1][idx][0],func_dict[key][1][idx][1],func_dict[key][2][idx]))\n",
    "    print()"
   ]
  },
  {
   "cell_type": "code",
   "execution_count": 15,
   "metadata": {},
   "outputs": [],
   "source": [
    "import matplotlib\n",
    "import matplotlib.pyplot as plt"
   ]
  },
  {
   "cell_type": "code",
   "execution_count": 16,
   "metadata": {},
   "outputs": [
    {
     "data": {
      "image/png": "[encoded data removed]",
      "text/plain": [
       "<Figure size 432x288 with 1 Axes>"
      ]
     },
     "metadata": {},
     "output_type": "display_data"
    }
   ],
   "source": [
    "##Plots for visual comparison\n",
    "for key in func_dict:\n",
    "    avg_time,sd = np.array(func_dict[key][1],dtype=np.float32)[:,0],np.array(func_dict[key][1],dtype=np.float32)[:,1]\n",
    "    plt.errorbar(Nsolvent,avg_time,yerr=sd,label='Method = {}'.format(key))\n",
    "    plt.legend()\n",
    "    plt.xlabel('Number of Solvent Particles')\n",
    "    plt.ylabel('Time (s)')\n",
    "    plt.title('Execution time')"
   ]
  },
  {
   "cell_type": "code",
   "execution_count": 17,
   "metadata": {},
   "outputs": [
    {
     "data": {
      "image/png": "[encoded data removed]",
      "text/plain": [
       "<Figure size 432x288 with 1 Axes>"
      ]
     },
     "metadata": {},
     "output_type": "display_data"
    }
   ],
   "source": [
    "for key in func_dict:\n",
    "    avg_mem = np.array(func_dict[key][2],dtype=np.float32)\n",
    "    plt.errorbar(Nsolvent,avg_mem,label='Method = {}'.format(key))\n",
    "    plt.legend()\n",
    "    plt.xlabel('Number of Solvent Particles')\n",
    "    plt.ylabel('Memory (MB)')\n",
    "    plt.title('Memory Usage')"
   ]
  },
  {
   "cell_type": "code",
   "execution_count": 18,
   "metadata": {},
   "outputs": [],
   "source": [
    "###Benchmarks for different cutoff radius and density of number of particles only for cellgrid\n",
    "\n",
    "#Setting\n",
    "box = np.array([100,100,100,90,90,90],dtype=np.float32)\n",
    "center = np.array([box[0]/2,box[1]/2,box[2]/2])\n",
    "Nsolvent,Nprotein = np.logspace(2,5,num=5,dtype='int32'),100\n",
    "Maxdist = np.linspace(4,10,num=7,dtype=np.int32)\n",
    "radius = 10.0"
   ]
  },
  {
   "cell_type": "code",
   "execution_count": 19,
   "metadata": {},
   "outputs": [],
   "source": [
    "##Benchmarks\n",
    "time_cg = []\n",
    "for nsolvent in Nsolvent:\n",
    "    solvent_particles = generate_solvent(center,radius,nsolvent,box)\n",
    "    for maxdist in Maxdist:\n",
    "        time = %timeit -q -o -n 1 -r 3 cg_select_around(protein_particles,solvent_particles,maxdist,box)\n",
    "        time_cg.append([nsolvent,maxdist,time.average,time.stdev])"
   ]
  },
  {
   "cell_type": "code",
   "execution_count": 20,
   "metadata": {},
   "outputs": [
    {
     "data": {
      "image/png": "[encoded data removed]",
      "text/plain": [
       "<Figure size 432x288 with 1 Axes>"
      ]
     },
     "metadata": {},
     "output_type": "display_data"
    }
   ],
   "source": [
    "##Plot for visual comparison\n",
    "arr = np.array(time_cg)\n",
    "for maxdist in Maxdist:\n",
    "    mask = (arr[:,1]==maxdist)\n",
    "    npt,avg,sd = (arr[mask,:][:,0]),(arr[mask,:][:,2]),(arr[mask,:][:,3])\n",
    "    plt.errorbar(npt,avg,yerr=sd,label='Cutoff Radius = {}'.format(maxdist))\n",
    "    plt.legend()\n",
    "    plt.xlabel('Number of Points')\n",
    "    plt.ylabel('Time (s)')\n",
    "    plt.title('Execution Time')"
   ]
  }
 ],
 "metadata": {
  "kernelspec": {
   "display_name": "Python 3",
   "language": "python",
   "name": "python3"
  },
  "language_info": {
   "codemirror_mode": {
    "name": "ipython",
    "version": 3
   },
   "file_extension": ".py",
   "mimetype": "text/x-python",
   "name": "python",
   "nbconvert_exporter": "python",
   "pygments_lexer": "ipython3",
   "version": "3.6.5"
  }
 },
 "nbformat": 4,
 "nbformat_minor": 2
}
