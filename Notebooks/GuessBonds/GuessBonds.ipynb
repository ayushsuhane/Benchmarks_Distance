{
 "cells": [
  {
   "cell_type": "markdown",
   "metadata": {},
   "source": [
    "This notebook is to test the efficiency of cell-list data structure to guess bonds between atoms along with comparison with present implementation of distances array for guessing bonds. The function is modified using a helper function to compare different size of datasets. Finally, the time reduction for uessing of bonds is shown using the test universe available in MDAnalysis.Tests."
   ]
  },
  {
   "cell_type": "code",
   "execution_count": 1,
   "metadata": {},
   "outputs": [],
   "source": [
    "import numpy as np\n",
    "from MDAnalysis.lib.distances import distance_array\n",
    "import cellgrid\n",
    "from MDAnalysis.lib.pkdtree import PeriodicKDTree\n",
    "import itertools"
   ]
  },
  {
   "cell_type": "code",
   "execution_count": 2,
   "metadata": {},
   "outputs": [
    {
     "data": {
      "text/plain": [
       "<module 'cellgrid' from '/home/karan/miniconda3/envs/mda/lib/python3.6/site-packages/cellgrid-0.1.0-py3.6-linux-x86_64.egg/cellgrid/__init__.py'>"
      ]
     },
     "execution_count": 2,
     "metadata": {},
     "output_type": "execute_result"
    }
   ],
   "source": [
    "import importlib\n",
    "importlib.reload(cellgrid)"
   ]
  },
  {
   "cell_type": "code",
   "execution_count": 3,
   "metadata": {},
   "outputs": [],
   "source": [
    "def bf_guessbond( points, atoms = None,  box = None):\n",
    "    \"\"\"\n",
    "    Guess the bonds of particles\n",
    "    Two atoms form bonds if d < f*(R1 + R2)\n",
    "    \"\"\"\n",
    "    if atoms is None:\n",
    "        ### Use default values\n",
    "        vdw = 2.0\n",
    "        atoms = np.ones(len(points), dtype = np.float32)*vdw\n",
    "    else:\n",
    "        ##First check if every atom radius correspond to one particle\n",
    "        if len(points) != len(atoms):\n",
    "            print(\"Atoms and Coordinates should have equal length\")\n",
    "            return\n",
    "        ####Every atom corresponds to a radius for its respective particle\n",
    "        \n",
    "    fudge_factor = 0.72\n",
    "    lower_bound = 0.1\n",
    "\n",
    "    \n",
    "    bonds = []\n",
    "    # Define a maximum distance for every atom to search based on the radius \n",
    "    # of the atom and maximum radius of atom in the atom list.\n",
    "    max_vdw = np.amax(atoms) \n",
    "    \n",
    "    # Self distance use very high amount of memory for large particles\n",
    "    # Individual particles should be used instead of sparse matrix \n",
    "    # for all the pairs\n",
    "    for i,coordinate in enumerate(points):\n",
    "        vdw_i = atoms[i]\n",
    "        max_d = (vdw_i + max_vdw) * fudge_factor\n",
    "        dist = distance_array(points[i][None, :], points[i + 1:],box=box)[0]\n",
    "        idx = np.where((dist > lower_bound) & (dist <= max_d))[0]\n",
    "        for a in idx:\n",
    "            j = i + 1 + a\n",
    "            atom_j = points[j]\n",
    "            if dist[a] < (atoms[j] + vdw_i)*fudge_factor:\n",
    "                bonds.append((i, j))\n",
    "    return tuple(bonds)"
   ]
  },
  {
   "cell_type": "code",
   "execution_count": 4,
   "metadata": {},
   "outputs": [],
   "source": [
    "def cg_guessbonds(points, atoms = None, box = None):\n",
    "    \"\"\"\n",
    "    Guessing Bonds with cell-List data structures \n",
    "    as implemented in Cellgrid Structure\n",
    "    \"\"\" \n",
    "    if atoms is None:\n",
    "        ### Use default values\n",
    "        vdw = 2.0\n",
    "        atoms = np.ones(len(points), dtype = np.float32)*vdw\n",
    "    else:\n",
    "        ##First check if every atom radius correspond to one particle\n",
    "        if len(points) != len(atoms):\n",
    "            print(\"Atoms and Coordinates should have equal length\")\n",
    "            return\n",
    "        \n",
    "    fudge_factor = 0.72\n",
    "    lower_bound = 0.1\n",
    "    \n",
    "    bonds = []\n",
    "\n",
    "    max_vdw = np.amax(atoms)\n",
    "    \n",
    "    indx,dist = cellgrid.capped_self_distance_array(points, 2.0*max_vdw*fudge_factor, box=box[:3])\n",
    "    mask = np.where((dist <= (2.0*max_vdw)*fudge_factor) & (dist > lower_bound))\n",
    "    for num, (i,j) in enumerate(indx[mask]):\n",
    "        if dist[mask][num] < (atoms[i] + atoms[j]) * fudge_factor:\n",
    "            bonds.append((i,j))  \n",
    "    return tuple(bonds)"
   ]
  },
  {
   "cell_type": "code",
   "execution_count": 5,
   "metadata": {},
   "outputs": [],
   "source": [
    "def kd_guessbonds(points, atoms = None, box = None):\n",
    "    \"\"\"\n",
    "    Already implemented tree structure in MDAnalysis\n",
    "    \"\"\"\n",
    "    if atoms is None:\n",
    "        ### Use default values\n",
    "        vdw = 2.0\n",
    "        atoms = np.ones(len(points), dtype = np.float32)*vdw\n",
    "    else:\n",
    "        ##First check if every atom radius correspond to one particle\n",
    "        if len(points) != len(atoms):\n",
    "            print(\"Atoms and Coordinates should have equal length\")\n",
    "            return\n",
    "        \n",
    "    fudge_factor = 0.72\n",
    "    lower_bound = 0.1\n",
    "\n",
    "    bonds = []\n",
    "    \n",
    "    max_vdw = np.amax(atoms)\n",
    "    \n",
    "    kdtree = PeriodicKDTree(box, bucket_size=10)\n",
    "    kdtree.set_coords(points)\n",
    "    \n",
    "    for idx,centers in enumerate(points):\n",
    "        vdw_i = atoms[idx]\n",
    "        max_d = (vdw_i + max_vdw)*fudge_factor\n",
    "        kdtree.search(centers,max_d)\n",
    "        indices = kdtree.get_indices()\n",
    "        dist = distance_array(centers.reshape((1,3)), points[indices],box=box)[0]\n",
    "        index = np.where((dist > lower_bound) & (dist <= max_d))[0]\n",
    "        for j in index:\n",
    "            if (indices[j] > idx) and (dist[j] < (atoms[indices[j]] + vdw_i)*fudge_factor):\n",
    "                bonds.append((idx, indices[j])) \n",
    "    return tuple(bonds)"
   ]
  },
  {
   "cell_type": "code",
   "execution_count": 7,
   "metadata": {},
   "outputs": [],
   "source": [
    "# Neighbour search FATSLiM\n",
    "from core_ns import FastNS\n",
    "def ns_guessbonds(points, atoms = None, box = None):\n",
    "    if atoms is None:\n",
    "        ### Use default values\n",
    "        vdw = 2.0\n",
    "        atoms = np.ones(len(points), dtype = np.float32)*vdw\n",
    "    else:\n",
    "        ##First check if every atom radius correspond to one particle\n",
    "        if len(points) != len(atoms):\n",
    "            print(\"Atoms and Coordinates should have equal length\")\n",
    "            return\n",
    "        \n",
    "    fudge_factor = 0.72\n",
    "    lower_bound = 0.1\n",
    "\n",
    "    bonds = []\n",
    "    \n",
    "    max_vdw = np.amax(atoms)\n",
    "    \n",
    "    triclinic_box = np.array([[box[0], 0, 0],[0, box[1], 0],[0,0,box[2]]], dtype=np.float32)\n",
    "    searcher = FastNS(triclinic_box)\n",
    "    searcher.set_cutoff(2*max_vdw)\n",
    "    searcher.set_coords(points)\n",
    "    searcher.prepare()\n",
    "    for idx, centers in enumerate(points):\n",
    "        vdw_i = atoms[idx]\n",
    "        max_d = (vdw_i + max_vdw)*fudge_factor\n",
    "        \n",
    "        results, sqdist, index = searcher.search(np.array([centers,]))\n",
    "        if len(index[0]) > 0:\n",
    "            for i, val in enumerate(index[0]):\n",
    "                d = (atoms[val] + vdw_i)*fudge_factor\n",
    "                if (sqdist[0][i] < d*d) and (val > idx):\n",
    "                    bonds.append((idx, val))\n",
    "    return bonds"
   ]
  },
  {
   "cell_type": "markdown",
   "metadata": {},
   "source": [
    "For a single type of atom, lets check the time to guess bonds"
   ]
  },
  {
   "cell_type": "code",
   "execution_count": 8,
   "metadata": {},
   "outputs": [],
   "source": [
    "#Initialization\n",
    "BOX = np.array([100., 100., 100., 90., 90., 90.], dtype = np.float32)\n",
    "NPOINTS = 10000"
   ]
  },
  {
   "cell_type": "code",
   "execution_count": 9,
   "metadata": {},
   "outputs": [],
   "source": [
    "def get_coords(box,Npoints):\n",
    "    return (np.random.uniform(low=0,high=1.0,size=(Npoints,3))*box[:3]).astype(np.float32)"
   ]
  },
  {
   "cell_type": "code",
   "execution_count": 10,
   "metadata": {},
   "outputs": [],
   "source": [
    "points = get_coords(BOX, NPOINTS)"
   ]
  },
  {
   "cell_type": "code",
   "execution_count": 11,
   "metadata": {},
   "outputs": [
    {
     "name": "stdout",
     "output_type": "stream",
     "text": [
      "5030\n"
     ]
    }
   ],
   "source": [
    "bonds = bf_guessbond(points, box = BOX)\n",
    "print(len(bonds))"
   ]
  },
  {
   "cell_type": "code",
   "execution_count": 12,
   "metadata": {},
   "outputs": [
    {
     "data": {
      "text/plain": [
       "5030"
      ]
     },
     "execution_count": 12,
     "metadata": {},
     "output_type": "execute_result"
    }
   ],
   "source": [
    "cgbonds = cg_guessbonds(points, box = BOX[:3])\n",
    "len(cgbonds)"
   ]
  },
  {
   "cell_type": "code",
   "execution_count": 13,
   "metadata": {},
   "outputs": [
    {
     "name": "stdout",
     "output_type": "stream",
     "text": [
      "5030\n"
     ]
    }
   ],
   "source": [
    "kdbonds = kd_guessbonds(np.array(points, dtype = np.float32), box = BOX)\n",
    "print(len(kdbonds))"
   ]
  },
  {
   "cell_type": "code",
   "execution_count": 14,
   "metadata": {},
   "outputs": [
    {
     "name": "stdout",
     "output_type": "stream",
     "text": [
      "5030\n"
     ]
    }
   ],
   "source": [
    "nsbonds = ns_guessbonds(points, box = BOX)\n",
    "print(len(nsbonds))"
   ]
  },
  {
   "cell_type": "code",
   "execution_count": 15,
   "metadata": {},
   "outputs": [],
   "source": [
    "time_bf = %timeit -q -o -n 5 -r 5 bf_guessbond(points, box = BOX)"
   ]
  },
  {
   "cell_type": "code",
   "execution_count": 16,
   "metadata": {},
   "outputs": [],
   "source": [
    "time_cg = %timeit -q -o -n 5 -r 5 cg_guessbonds(points, box = BOX[:3])"
   ]
  },
  {
   "cell_type": "code",
   "execution_count": 17,
   "metadata": {},
   "outputs": [],
   "source": [
    "time_kd = %timeit -q -o -n 5 -r 5 kd_guessbonds(points, box = BOX)"
   ]
  },
  {
   "cell_type": "code",
   "execution_count": 18,
   "metadata": {},
   "outputs": [],
   "source": [
    "time_ns = %timeit -q -o -n 5 -r 5 ns_guessbonds(points, box = BOX)"
   ]
  },
  {
   "cell_type": "code",
   "execution_count": null,
   "metadata": {},
   "outputs": [],
   "source": [
    "time_bf.average, time_cg.average, time_kd.average, time_ns.average"
   ]
  },
  {
   "cell_type": "markdown",
   "metadata": {},
   "source": [
    "Cell Grid performs better for 1000 particles. Lets check the variation of time for guessing bonds with number of particles, provided a constant bond length i.e all particles are similar."
   ]
  },
  {
   "cell_type": "code",
   "execution_count": null,
   "metadata": {},
   "outputs": [],
   "source": [
    "#Initial Setup\n",
    "NPOINTS = np.logspace(2, 5, num = 10, dtype = np.int32)\n",
    "BOX = np.array([100., 100., 100., 90., 90., 90.], dtype = np.float32)"
   ]
  },
  {
   "cell_type": "code",
   "execution_count": null,
   "metadata": {},
   "outputs": [],
   "source": [
    "from tqdm import tqdm_notebook\n",
    "from collections import defaultdict\n",
    "\n",
    "result = defaultdict(list)\n",
    "\n",
    "for N in tqdm_notebook(np.unique(np.logspace(2, 5, num = 10, dtype = np.int32))):\n",
    "    points = get_coords(BOX, N)\n",
    "    \n",
    "    #KDTree\n",
    "    res = %timeit -o -q kd_guessbonds(points, box = BOX)\n",
    "    result['pkdt'].append(res.average)\n",
    "    \n",
    "    #Brute Force\n",
    "    res = %timeit -o -q bf_guessbond(points, box = BOX)\n",
    "    result['bf'].append(res.average)\n",
    "    \n",
    "    #CG\n",
    "    res = %timeit -o -q cg_guessbonds(points, box = BOX[:3])\n",
    "    result['cg'].append(res.average)\n",
    "    \n",
    "    NS\n",
    "    res = %timeit -o -q ns_guessbonds(points, box = BOX)\n",
    "    result['ns'].append(res.average)\n",
    "    \n",
    "    result['N'].append(N)\n",
    "\n"
   ]
  },
  {
   "cell_type": "code",
   "execution_count": null,
   "metadata": {},
   "outputs": [],
   "source": [
    "%matplotlib inline"
   ]
  },
  {
   "cell_type": "code",
   "execution_count": null,
   "metadata": {},
   "outputs": [],
   "source": [
    "import matplotlib\n",
    "import matplotlib.pyplot as plt\n",
    "fig, axes = plt.subplots()\n",
    "\n",
    "axes.plot(time['N'], time['pkdt'], 'o-', label='PeriodicKDT')\n",
    "axes.plot(time['N'], time['bf'], 'o-', label='Brute Force')\n",
    "axes.plot(time['N'], time['cg'], 'o-', label='Cell Grid')\n",
    "axes.plot(time['N'], time['ns'], 'o-', label='PeriodicKDT')\n",
    "axes.set(xlabel='N particles', ylabel='time [s]', xscale='log', yscale='log', title='Bonds Guess')\n",
    "axes.legend()"
   ]
  },
  {
   "cell_type": "markdown",
   "metadata": {},
   "source": [
    "Suppose every particle has a certain vanderwall radius. The objective is now to distribute a vaue of random radius to each particle and check the timing with different number of particles. "
   ]
  },
  {
   "cell_type": "markdown",
   "metadata": {},
   "source": [
    "First define an helper function to distribute atomtypes corresponding "
   ]
  },
  {
   "cell_type": "code",
   "execution_count": null,
   "metadata": {},
   "outputs": [],
   "source": [
    "import MDAnalysis.topology.tables as tables\n",
    "def define_atoms(N):\n",
    "    atomtype = ['C', 'H']\n",
    "    atomtypes = np.random.choice(atomtype, size = N)\n",
    "    vdwradii = tables.vdwradii.copy()\n",
    "    atoms = [vdwradii[i] for i in atomtypes]\n",
    "    return atoms"
   ]
  },
  {
   "cell_type": "code",
   "execution_count": null,
   "metadata": {},
   "outputs": [],
   "source": [
    "NPOINTS = np.logspace(2, 5, num = 10, dtype = np.int32)\n",
    "BOX = np.array([100., 100., 100., 90., 90., 90.], dtype = np.float32)"
   ]
  },
  {
   "cell_type": "code",
   "execution_count": null,
   "metadata": {},
   "outputs": [],
   "source": [
    "from tqdm import tqdm_notebook\n",
    "from collections import defaultdict\n",
    "\n",
    "time2 = defaultdict(list)\n",
    "for N in tqdm_notebook(np.unique(NPOINTS)):\n",
    "    points = get_coords(BOX, N)\n",
    "    atoms = define_atoms(N)\n",
    "    \n",
    "\n",
    "    #Brute Force\n",
    "    time_bf = %timeit -q -o -n 5 -r 5 bf_guessbond(points, atoms = atoms,  box = BOX)\n",
    "    time2['bf'].append(time_bf.average)\n",
    "    \n",
    "    #Cellgrid\n",
    "    time_cg = %timeit -q -o -n 5 -r 5 cg_guessbonds(points, atoms = atoms,  box = BOX[:3])\n",
    "    time2['cg'].append(time_cg.average)\n",
    "    \n",
    "    #KDTree\n",
    "    time_kd = %timeit -q -o -n 5 -r 5 kd_guessbonds(points, atoms = atoms,  box = BOX)\n",
    "    time2['kd'].append(time_kd.average)\n",
    "    \n",
    "    #NS\n",
    "    #res = %timeit -o -q ns_guessbonds(points, atoms = atoms,  box = BOX)\n",
    "    #result['ns'].append(res.average)\n",
    "\n",
    "    time2['N'].append(N)"
   ]
  },
  {
   "cell_type": "code",
   "execution_count": null,
   "metadata": {},
   "outputs": [],
   "source": [
    "fig, axes = plt.subplots()\n",
    "\n",
    "axes.plot(time2['N'], time['pkdt'], 'o-', label='PeriodicKDT')\n",
    "axes.plot(time2['N'], time['bf'], 'o-', label='Brute Force')\n",
    "axes.plot(time2['N'], time['cg'], 'o-', label='Cell Grid')\n",
    "axes.plot(time2['N'], time['ns'], 'o-', label='Cython NS')\n",
    "axes.set(xlabel='N particles', ylabel='time [s]', xscale='log', yscale='log', title='Bonds Guess')\n",
    "axes.legend()"
   ]
  }
 ],
 "metadata": {
  "kernelspec": {
   "display_name": "Python 3",
   "language": "python",
   "name": "python3"
  },
  "language_info": {
   "codemirror_mode": {
    "name": "ipython",
    "version": 3
   },
   "file_extension": ".py",
   "mimetype": "text/x-python",
   "name": "python",
   "nbconvert_exporter": "python",
   "pygments_lexer": "ipython3",
   "version": "3.6.5"
  }
 },
 "nbformat": 4,
 "nbformat_minor": 2
}
