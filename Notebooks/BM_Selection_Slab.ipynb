{
 "cells": [
  {
   "cell_type": "code",
   "execution_count": 53,
   "metadata": {},
   "outputs": [],
   "source": [
    "from cellgrid import CellGrid ,capped_distance_array\n",
    "from MDAnalysis.lib.pkdtree import PeriodicKDTree\n",
    "import numpy as np\n",
    "from scipy.special import gammainc\n",
    "from MDAnalysis.lib.distances import self_distance_array,distance_array\n",
    "%matplotlib inline"
   ]
  },
  {
   "cell_type": "code",
   "execution_count": 58,
   "metadata": {},
   "outputs": [],
   "source": [
    "def generate_slab(box,Npoints):\n",
    "    points = np.random.uniform(low=0,high=1.0,size=(Npoints,3))*box[:3]\n",
    "    points = np.array(points,dtype=np.float32)\n",
    "    return points"
   ]
  },
  {
   "cell_type": "code",
   "execution_count": 59,
   "metadata": {},
   "outputs": [],
   "source": [
    "def cg_select_around(protein_particles,solvent_particles,maxdist,box):\n",
    "    if box.shape == (6,):\n",
    "        box1 = box[:3]\n",
    "    else:\n",
    "        box1 = box\n",
    "    indx,dist = capped_distance_array(protein_particles,solvent_particles,maxdist,box1)\n",
    "    mask = np.where(dist<maxdist)\n",
    "    indices = (np.unique((indx[mask])[:,1]))\n",
    "    return indices\n",
    "\n",
    "def bf_select_around(protein_particles,solvent_particles,maxdist,box):\n",
    "    distance = distance_array(protein_particles,solvent_particles,box)\n",
    "    mask = np.where(distance<maxdist)[1]\n",
    "    return np.unique(mask)\n",
    "\n",
    "def kdtree_select_around(protein_particles,solvent_particles,maxdist,box):\n",
    "    kdtree = PeriodicKDTree(box,bucket_size=10)\n",
    "    kdtree.set_coords(solvent_particles)\n",
    "    kdtree.search(protein_particles,maxdist)\n",
    "    indices = kdtree.get_indices()\n",
    "    return np.array(indices)"
   ]
  },
  {
   "cell_type": "code",
   "execution_count": 60,
   "metadata": {},
   "outputs": [],
   "source": [
    "#Benchmark setting\n",
    "box = np.array([100,100,100,90,90,90],dtype=np.float32)\n",
    "Nprotein,Nsolvent = 1000,1000\n",
    "maxdist = 6.0"
   ]
  },
  {
   "cell_type": "code",
   "execution_count": 61,
   "metadata": {},
   "outputs": [],
   "source": [
    "##Initialize\n",
    "slabheight = box[2]/2\n",
    "new_box = box.copy()\n",
    "new_box[2] = slabheight\n",
    "slab_bot = generate_slab(new_box,Nprotein)\n",
    "slab_top = generate_slab(new_box,Nsolvent) + np.array([0,0,slabheight],dtype=np.float32)"
   ]
  },
  {
   "cell_type": "code",
   "execution_count": 62,
   "metadata": {},
   "outputs": [],
   "source": [
    "cg_selection = cg_select_around(slab_bot,slab_top, maxdist,box)\n",
    "kdtree_selection = kdtree_select_around(slab_bot,slab_top,maxdist,box)\n",
    "bf_selection = bf_select_around(slab_bot,slab_top,maxdist,box)"
   ]
  },
  {
   "cell_type": "code",
   "execution_count": 63,
   "metadata": {},
   "outputs": [],
   "source": [
    "#Testing\n",
    "np.testing.assert_equal(bf_selection,cg_selection)\n",
    "np.testing.assert_equal(bf_selection,kdtree_selection)"
   ]
  },
  {
   "cell_type": "code",
   "execution_count": 64,
   "metadata": {},
   "outputs": [
    {
     "name": "stdout",
     "output_type": "stream",
     "text": [
      "35.8 ms ± 2.45 ms per loop (mean ± std. dev. of 3 runs, 10 loops each)\n",
      "40.3 ms ± 1.02 ms per loop (mean ± std. dev. of 3 runs, 10 loops each)\n",
      "2.58 s ± 517 ms per loop (mean ± std. dev. of 3 runs, 10 loops each)\n"
     ]
    }
   ],
   "source": [
    "%timeit -n 10 -r 3 kdtree_select_around(slab_bot,slab_top,maxdist,box)\n",
    "%timeit -n 10 -r 3 bf_select_around(slab_bot,slab_top,maxdist,box)\n",
    "%timeit -n 10 -r 3 cg_select_around(slab_bot,slab_top, maxdist, box)"
   ]
  },
  {
   "cell_type": "code",
   "execution_count": 65,
   "metadata": {},
   "outputs": [],
   "source": [
    "#Benchmark scaling : neighbour selection  \n",
    "# with increase in  density \n",
    "\n",
    "##Setting\n",
    "box = np.array([100,100,100,90,90,90],dtype=np.float32)\n",
    "slabheight = box[2]/2.\n",
    "new_box = box.copy()\n",
    "new_box[2] = slabheight\n",
    "N = np.logspace(2,3,num=3,dtype='int32') #Both Nprotein,Nsolvent\n",
    "maxdist = 6.0"
   ]
  },
  {
   "cell_type": "code",
   "execution_count": 67,
   "metadata": {},
   "outputs": [],
   "source": [
    "##Benchmarks\n",
    "time_kd,time_bf,time_cg = [],[],[]\n",
    "func_dict = dict(KDtree=[kdtree_select_around,time_kd],BruteForce=[bf_select_around,time_bf],Cellgrid=[cg_select_around,time_cg])\n",
    "for n in N:\n",
    "    slab_bot = generate_slab(new_box,n)\n",
    "    slab_top = generate_slab(new_box,n) + np.array([0,0,slabheight],dtype=np.float32)\n",
    "    for key in func_dict:\n",
    "        time = %timeit -q -o -n 1 -r 3 func_dict[key][0](slab_bot,slab_top,maxdist,box)\n",
    "        func_dict[key][1].append([time.average,time.stdev])"
   ]
  },
  {
   "cell_type": "code",
   "execution_count": 68,
   "metadata": {},
   "outputs": [
    {
     "name": "stdout",
     "output_type": "stream",
     "text": [
      "Number of Particles : Top => 100, Bottom => 100\n",
      "KDtree \t\t Average Time: 0.005694333332940005 Standard Deviation: 0.0004802813983799757\n",
      "BruteForce \t\t Average Time: 0.0008896666671110628 Standard Deviation: 0.0002517860661288117\n",
      "Cellgrid \t\t Average Time: 2.3050709999988612 Standard Deviation: 0.05676487268206319\n",
      "\n",
      "Number of Particles : Top => 316, Bottom => 316\n",
      "KDtree \t\t Average Time: 0.01084633333327171 Standard Deviation: 0.0006041083398681291\n",
      "BruteForce \t\t Average Time: 0.00422700000005231 Standard Deviation: 0.00054563785231696\n",
      "Cellgrid \t\t Average Time: 2.3601086666664437 Standard Deviation: 0.07539668467131588\n",
      "\n",
      "Number of Particles : Top => 1000, Bottom => 1000\n",
      "KDtree \t\t Average Time: 0.043358666667093836 Standard Deviation: 0.006565720744450134\n",
      "BruteForce \t\t Average Time: 0.03926499999943189 Standard Deviation: 0.0006962217082295912\n",
      "Cellgrid \t\t Average Time: 2.573954999998629 Standard Deviation: 0.24420356518752154\n",
      "\n"
     ]
    }
   ],
   "source": [
    "#Output\n",
    "for idx,value in enumerate(N):\n",
    "    print(\"Number of Particles : Top => {}, Bottom => {}\".format(value,value))\n",
    "    for key in func_dict:    \n",
    "        print(\"{} \\t\\t Average Time: {} Standard Deviation: {}\".format(key,func_dict[key][1][idx][0],func_dict[key][1][idx][1]))\n",
    "    print()"
   ]
  },
  {
   "cell_type": "code",
   "execution_count": 69,
   "metadata": {},
   "outputs": [],
   "source": [
    "import matplotlib\n",
    "import matplotlib.pyplot as plt"
   ]
  },
  {
   "cell_type": "code",
   "execution_count": 72,
   "metadata": {},
   "outputs": [
    {
     "data": {
      "image/png": "[encoded data removed]",
      "text/plain": [
       "<Figure size 432x288 with 1 Axes>"
      ]
     },
     "metadata": {},
     "output_type": "display_data"
    }
   ],
   "source": [
    "##Plots for visual comparison\n",
    "for key in func_dict:\n",
    "    avg_time,sd = np.array(func_dict[key][1],dtype=np.float32)[:,0],np.array(func_dict[key][1],dtype=np.float32)[:,1]\n",
    "    plt.errorbar(N*2,avg_time,yerr=sd,label='Method = {}'.format(key))\n",
    "    plt.legend()\n",
    "    plt.xlabel('Number of Particles')\n",
    "    plt.ylabel('Time (s)')"
   ]
  },
  {
   "cell_type": "code",
   "execution_count": 73,
   "metadata": {},
   "outputs": [],
   "source": [
    "###Benchmarks for different cutoff radius and density of number of particles only for cellgrid\n",
    "\n",
    "#Setting\n",
    "box = np.array([100,100,100,90,90,90],dtype=np.float32)\n",
    "slabheight = box[2]/2\n",
    "new_box = box.copy()\n",
    "new_box[2] = slabheight\n",
    "N = np.logspace(2,3,num=3,dtype='int32') #Both Nprotein,Nsolvent\n",
    "Maxdist = np.linspace(4,10,num=7,dtype=np.int32)"
   ]
  },
  {
   "cell_type": "code",
   "execution_count": 75,
   "metadata": {},
   "outputs": [],
   "source": [
    "##Benchmarks\n",
    "time_cg = []\n",
    "for n in N:\n",
    "    slab_bot = generate_slab(new_box,n)\n",
    "    slab_top = generate_slab(new_box,n) + np.array([0,0,slabheight],dtype=np.float32)\n",
    "    for maxdist in Maxdist:\n",
    "        time = %timeit -q -o -n 1 -r 3 cg_select_around(slab_bot,slab_top,maxdist,box)\n",
    "        time_cg.append([n,maxdist,time.average,time.stdev])"
   ]
  },
  {
   "cell_type": "code",
   "execution_count": 76,
   "metadata": {},
   "outputs": [
    {
     "data": {
      "image/png": "[encoded data removed]",
      "text/plain": [
       "<Figure size 432x288 with 1 Axes>"
      ]
     },
     "metadata": {},
     "output_type": "display_data"
    }
   ],
   "source": [
    "##Plot for visual comparison\n",
    "arr = np.array(time_cg)\n",
    "for maxdist in Maxdist:\n",
    "    mask = (arr[:,1]==maxdist)\n",
    "    npt,avg,sd = (arr[mask,:][:,0]),(arr[mask,:][:,2]),(arr[mask,:][:,3])\n",
    "    plt.errorbar(npt,avg,yerr=sd,label='Cutoff Radius = {}'.format(maxdist))\n",
    "    plt.legend()\n",
    "    plt.xlabel('Number of Points')\n",
    "    plt.ylabel('Time (s)')"
   ]
  }
 ],
 "metadata": {
  "kernelspec": {
   "display_name": "Python 3",
   "language": "python",
   "name": "python3"
  },
  "language_info": {
   "codemirror_mode": {
    "name": "ipython",
    "version": 3
   },
   "file_extension": ".py",
   "mimetype": "text/x-python",
   "name": "python",
   "nbconvert_exporter": "python",
   "pygments_lexer": "ipython3",
   "version": "3.6.5"
  }
 },
 "nbformat": 4,
 "nbformat_minor": 2
}
