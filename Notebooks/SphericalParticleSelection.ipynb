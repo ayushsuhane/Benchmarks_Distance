{
 "cells": [
  {
   "cell_type": "markdown",
   "metadata": {},
   "source": [
    "A typical use case is selection of solvent particles near a protein. Proteins can be treated as a group of atoms compressed in a form of sphere. Here, we consider a single protein at the centre of the simulation box  to compare PBC aware and non PBC data structures to evaluate the \"around\" selection."
   ]
  },
  {
   "cell_type": "markdown",
   "metadata": {},
   "source": [
    "The goal is to compare different shortlisted methods for this particular use case. The two types of data structures (hierarchical and grids) and naive brute frorce are used here. For linear grid data structures,  CellGrid ([here](https://github.com/MDAnalysis/cellgrid)) and Neighbour search implemented in FatsLiM([here](http://fatslim.github.io/)) are used. For hierarchical tree structures, Periodic KDtree implemented in MDAnalysis is used. Another tree structure, OCtree, which recursively divides a cuboid into its 8 children, is adopted from PointCloud library ([here](https://github.com/strawlab/python-pcl)). "
   ]
  },
  {
   "cell_type": "markdown",
   "metadata": {},
   "source": [
    "A similar benchmarks for single query are done for the same datastructures, which can be accesed from [here](https://github.com/ayushsuhane/Benchmarks_Distance/blob/master/Notebooks/OctreeComparison.ipynb). A variant of similar benchmarks are done by Jonathan ([here](https://github.com/jbarnoud/Benchmarks_Distance)) and Sébastian' ([here](https://github.com/seb-buch/Benchmarks_Distance/blob/master/Notebooks/CythonNS.ipynb) as well. This is an extension to multiple particles to check the scaling behaviour of build and query time for multiple selections and with different cutoff radius. "
   ]
  },
  {
   "cell_type": "code",
   "execution_count": 12,
   "metadata": {},
   "outputs": [],
   "source": [
    "import numpy as np\n",
    "from cellgrid import capped_distance_array\n",
    "from scipy.special import gammainc\n",
    "from collections import defaultdict\n",
    "import itertools"
   ]
  },
  {
   "cell_type": "code",
   "execution_count": 31,
   "metadata": {},
   "outputs": [],
   "source": [
    "def generate_protein(center,radius,nparticles,box=None):\n",
    "    \"\"\"\n",
    "    Generates set of particles distributed\n",
    "    inside a sphere\n",
    "    \"\"\"\n",
    "    r = radius\n",
    "    ndim = center.size\n",
    "    x = np.random.normal(size=(nparticles, ndim))\n",
    "    ssq = np.sum(x**2,axis=1)\n",
    "    fr = r*gammainc(ndim/2,ssq/2)**(1/ndim)/np.sqrt(ssq)\n",
    "    frtiled = np.tile(fr.reshape(nparticles,1),(1,ndim))\n",
    "    p = center + np.multiply(x,frtiled)\n",
    "    return p.astype('float32')\n",
    "\n",
    "def generate_solvent(center,radius,nparticles,box):\n",
    "    \"\"\"\n",
    "    Solvent particles are generated in the box uniformly\n",
    "    except inside the sphere\n",
    "    \"\"\"\n",
    "    points = np.random.uniform(low=0,high=1.0,size=(nparticles,3))*box[:3]\n",
    "    idx = np.where(np.sum((points-center)**2,axis=1)<radius**2)\n",
    "    points[idx] += np.sign(points[idx]-center)*radius\n",
    "    return(points[np.where(np.sum((points-center)**2,axis=1)>radius**2)].astype('float32'))"
   ]
  },
  {
   "cell_type": "markdown",
   "metadata": {},
   "source": [
    "# CellGrid"
   ]
  },
  {
   "cell_type": "code",
   "execution_count": 22,
   "metadata": {},
   "outputs": [],
   "source": [
    "def cg_select(protein,solvent,maxdist,box):\n",
    "    indx,dist = capped_distance_array(protein,solvent,maxdist,box[:3])\n",
    "    mask = np.where(dist<maxdist)\n",
    "    indices = (np.unique((indx[mask])[:,1]))\n",
    "    return solvent[indices]"
   ]
  },
  {
   "cell_type": "markdown",
   "metadata": {},
   "source": [
    "# Periodic KDtree"
   ]
  },
  {
   "cell_type": "code",
   "execution_count": 23,
   "metadata": {},
   "outputs": [],
   "source": [
    "from MDAnalysis.lib.pkdtree import PeriodicKDTree\n",
    "def kdtree_select(protein,solvent,maxdist,box):\n",
    "    kdtree = PeriodicKDTree(box,bucket_size=10)\n",
    "    kdtree.set_coords(solvent)\n",
    "    kdtree.search(protein,maxdist)\n",
    "    indices = kdtree.get_indices()\n",
    "    return solvent[indices]"
   ]
  },
  {
   "cell_type": "markdown",
   "metadata": {},
   "source": [
    "# Cython Neighbour Search - FATSLiM"
   ]
  },
  {
   "cell_type": "code",
   "execution_count": 24,
   "metadata": {},
   "outputs": [],
   "source": [
    "from core_ns import FastNS\n",
    "def ns_select(protein, solvent, maxdist, box):\n",
    "    triclinic_box = np.array([[box[0], 0, 0],[0, box[1], 0],[0,0,box[2]]], dtype=np.float32)\n",
    "    searcher = FastNS(triclinic_box)\n",
    "    searcher.set_cutoff(maxdist)\n",
    "    searcher.set_coords(solvent)\n",
    "    searcher.prepare()\n",
    "    results = []\n",
    "    for coord in protein:\n",
    "        res = searcher.search(np.array([coord,]))[0]\n",
    "        if res.shape[0] != 0:\n",
    "            results.append(res[0])\n",
    "    if len(results) != 0:\n",
    "        return np.unique(results, axis = 0)\n",
    "    return\n",
    "    "
   ]
  },
  {
   "cell_type": "markdown",
   "metadata": {},
   "source": [
    "# Octree"
   ]
  },
  {
   "cell_type": "code",
   "execution_count": 25,
   "metadata": {},
   "outputs": [],
   "source": [
    "import pcl\n",
    "def oct_select(protein, solvent, maxdist, box):\n",
    "    cloud = pcl.PointCloud(solvent)\n",
    "    resolution = 0.2*box[0]\n",
    "    octree = cloud.make_octreeSearch(resolution)\n",
    "    octree.add_points_from_input_cloud()\n",
    "    result = []\n",
    "    for coord in protein: \n",
    "        [ind, sqdist] = octree.radius_search (coord, maxdist)\n",
    "        if len(ind) != 0 :\n",
    "            result.append(solvent[ind][0])\n",
    "    if len(result) != 0:\n",
    "        return np.unique(result, axis = 0) \n",
    "    \n",
    "    return"
   ]
  },
  {
   "cell_type": "markdown",
   "metadata": {},
   "source": [
    "# Brute Force"
   ]
  },
  {
   "cell_type": "code",
   "execution_count": 26,
   "metadata": {},
   "outputs": [],
   "source": [
    "from MDAnalysis.lib.distances import distance_array\n",
    "def bf_select(protein,solvent,maxdist,box):\n",
    "    distance = distance_array(protein,solvent,box)\n",
    "    mask = np.where(distance<maxdist)[1]\n",
    "    return solvent[np.unique(mask)]"
   ]
  },
  {
   "cell_type": "markdown",
   "metadata": {},
   "source": [
    "# Benchmarks\n",
    "\n",
    "Total time to select solvent particles around a spherical protein using different methods is shown below.\n",
    "\n",
    "For the first set, the scaling with number of solvent particles is shown. A radius of 6 units is chosen here for the purpose of demonstration. It is then followed by the variation of cutoff radius. \n"
   ]
  },
  {
   "cell_type": "code",
   "execution_count": 8,
   "metadata": {},
   "outputs": [],
   "source": [
    "#Initialize\n",
    "box = np.array([100,100,100,90,90,90],dtype=np.float32)\n",
    "center = box[:3]/2\n",
    "radius = 10.0\n",
    "maxdist = 6.0"
   ]
  },
  {
   "cell_type": "code",
   "execution_count": 16,
   "metadata": {},
   "outputs": [],
   "source": [
    "from tqdm import tqdm_notebook\n",
    "def timer(**params):\n",
    "    Nprotein = params.get('Nprotein', None)\n",
    "    Nsolvent = params.get('Nsolvent', None)\n",
    "    maxdist = params.get('maxdist', None)\n",
    "    centre = params.get('centre', None)\n",
    "    radius = params.get('radius', None)\n",
    "    protein = generate_protein(center,radius,Nprotein)\n",
    "    results = defaultdict(list)\n",
    "    \n",
    "    for Nsolvent in tqdm_notebook(np.unique(Nsolvent)):\n",
    "    \n",
    "        solvent = generate_solvent(center, radius, Nsolvent, box)\n",
    "        for cut in tqdm_notebook(np.unique(maxdist)):\n",
    "            \n",
    "            \n",
    "            res = %timeit -q -o kdtree_select(protein, solvent, cut, box)\n",
    "            results['kd'+'.'+str(cut)].append(res.average)\n",
    "            \n",
    "            res = %timeit -q -o ns_select(protein, solvent, cut, box)\n",
    "            results['ns'+'.'+str(cut)].append(res.average)\n",
    "            \n",
    "            res = %timeit -q -o cg_select(protein, solvent, cut, box)\n",
    "            results['cg'+'.'+str(cut)].append(res.average)\n",
    "    \n",
    "            res = %timeit -q -o bf_select(protein, solvent, cut, box)\n",
    "            results['bf'+'.'+str(cut)].append(res.average)\n",
    "\n",
    "            res = %timeit -q -o oct_select(protein, solvent, cut, box)\n",
    "            results['oct'+'.'+str(cut)].append(res.average)\n",
    "    \n",
    "    return results"
   ]
  },
  {
   "cell_type": "code",
   "execution_count": 18,
   "metadata": {},
   "outputs": [],
   "source": [
    "Nprotein = 100\n",
    "Nsolvent = np.logspace(3 ,5 ,num = 6, dtype = np.int)\n",
    "center = box[:3]/2\n",
    "radius = 10.0\n",
    "maxdist = 6.0"
   ]
  },
  {
   "cell_type": "code",
   "execution_count": 19,
   "metadata": {},
   "outputs": [],
   "source": [
    "params = {\n",
    "    'Nprotein':Nprotein,\n",
    "    'Nsolvent':Nsolvent,\n",
    "    'maxdist':maxdist,\n",
    "    'centre':center,\n",
    "    'radius':radius\n",
    "         }"
   ]
  },
  {
   "cell_type": "code",
   "execution_count": 20,
   "metadata": {},
   "outputs": [
    {
     "data": {
      "application/vnd.jupyter.widget-view+json": {
       "model_id": "8f842e58285749c2a0639af98360cabb",
       "version_major": 2,
       "version_minor": 0
      },
      "text/plain": [
       "HBox(children=(IntProgress(value=0, max=6), HTML(value='')))"
      ]
     },
     "metadata": {},
     "output_type": "display_data"
    },
    {
     "data": {
      "application/vnd.jupyter.widget-view+json": {
       "model_id": "daffbfdb0f0345208686438c2cf99408",
       "version_major": 2,
       "version_minor": 0
      },
      "text/plain": [
       "HBox(children=(IntProgress(value=0, max=1), HTML(value='')))"
      ]
     },
     "metadata": {},
     "output_type": "display_data"
    },
    {
     "data": {
      "application/vnd.jupyter.widget-view+json": {
       "model_id": "ae0f96046d3e466e9b7fbfd4d6129cc5",
       "version_major": 2,
       "version_minor": 0
      },
      "text/plain": [
       "HBox(children=(IntProgress(value=0, max=1), HTML(value='')))"
      ]
     },
     "metadata": {},
     "output_type": "display_data"
    },
    {
     "data": {
      "application/vnd.jupyter.widget-view+json": {
       "model_id": "1debd38d45f94f69854a7c5e9a9f3c21",
       "version_major": 2,
       "version_minor": 0
      },
      "text/plain": [
       "HBox(children=(IntProgress(value=0, max=1), HTML(value='')))"
      ]
     },
     "metadata": {},
     "output_type": "display_data"
    },
    {
     "data": {
      "application/vnd.jupyter.widget-view+json": {
       "model_id": "ba7f6afd76754234a2b89ec3f694f478",
       "version_major": 2,
       "version_minor": 0
      },
      "text/plain": [
       "HBox(children=(IntProgress(value=0, max=1), HTML(value='')))"
      ]
     },
     "metadata": {},
     "output_type": "display_data"
    },
    {
     "data": {
      "application/vnd.jupyter.widget-view+json": {
       "model_id": "9b4b269e5c1d4a5f9cbc0e5f1bcb47c7",
       "version_major": 2,
       "version_minor": 0
      },
      "text/plain": [
       "HBox(children=(IntProgress(value=0, max=1), HTML(value='')))"
      ]
     },
     "metadata": {},
     "output_type": "display_data"
    },
    {
     "data": {
      "application/vnd.jupyter.widget-view+json": {
       "model_id": "62373593575d41bf8984442139103a79",
       "version_major": 2,
       "version_minor": 0
      },
      "text/plain": [
       "HBox(children=(IntProgress(value=0, max=1), HTML(value='')))"
      ]
     },
     "metadata": {},
     "output_type": "display_data"
    }
   ],
   "source": [
    "timing = timer(**params)"
   ]
  },
  {
   "cell_type": "code",
   "execution_count": 10,
   "metadata": {},
   "outputs": [],
   "source": [
    "%matplotlib inline"
   ]
  },
  {
   "cell_type": "code",
   "execution_count": 24,
   "metadata": {},
   "outputs": [
    {
     "data": {
      "text/plain": [
       "<matplotlib.legend.Legend at 0x7ff3f09f7978>"
      ]
     },
     "execution_count": 24,
     "metadata": {},
     "output_type": "execute_result"
    },
    {
     "data": {
      "image/png": "[encoded data removed]",
      "text/plain": [
       "<Figure size 432x288 with 1 Axes>"
      ]
     },
     "metadata": {},
     "output_type": "display_data"
    }
   ],
   "source": [
    "import matplotlib.pyplot as plt\n",
    "fig, ax = plt.subplots()\n",
    "label = {'kd':\"KDTree\",\n",
    "        'cg':\"Cellgrid\",\n",
    "        'ns': \"Cython NS\",\n",
    "        'bf': \"Brute Force\",\n",
    "        'oct': \"PCL Octree\"}\n",
    "\n",
    "for key in ['kd', 'cg', 'ns', 'bf', 'oct']:\n",
    "    ax.plot(Nsolvent, timing[str(key)+'.'+str(maxdist)], '-o', label = label[key])\n",
    "ax.set(xlabel='N particles', ylabel='time [s]', xscale='log', yscale='log', title='Total Time')\n",
    "ax.legend()"
   ]
  },
  {
   "cell_type": "markdown",
   "metadata": {},
   "source": [
    "For very low number of particles, brute force is a good method. However, if multiple selections are required, then it is not feasible to recalculate pair distance matrix again. Other option to store the pair distances as one of the triangular matrix is also not a good option, as the memory consumption increases with the number of particles. "
   ]
  },
  {
   "cell_type": "markdown",
   "metadata": {},
   "source": [
    "For lesser density of particles, while it looks like octree is a good option, but it is a non-periodic implementation. While, similar tweaks can be adapted from periodic KDtree implementation, the scaling cannot be predicted due to different traversing strategies in KDtree and Octree. In any case, it would be interesting to test an efficient periodic implementation of octree. For the range of number of particles generally considered in Molecular Dynamics, Neighbour search, definitely consumes less time as compared to periodic KDtree for fixed distance selections, also anticipated from single query benchmarks [here](https://github.com/ayushsuhane/Benchmarks_Distance/blob/master/Notebooks/OctreeComparison.ipynb).  "
   ]
  },
  {
   "cell_type": "markdown",
   "metadata": {},
   "source": [
    "Another dimension is to test the execution time for different cutoff radius. Lets check the variation with cutoff radius for fixed number of particles as 40000."
   ]
  },
  {
   "cell_type": "code",
   "execution_count": 11,
   "metadata": {},
   "outputs": [],
   "source": [
    "Nprotein = 100\n",
    "Nsolvent = 40000\n",
    "center = box[:3]/2\n",
    "radius = 10.0\n",
    "maxdist = np.linspace(4, 10, num = 6, dtype = np.int)"
   ]
  },
  {
   "cell_type": "code",
   "execution_count": 12,
   "metadata": {},
   "outputs": [],
   "source": [
    "params = {\n",
    "    'Nprotein':Nprotein,\n",
    "    'Nsolvent':Nsolvent,\n",
    "    'maxdist':maxdist,\n",
    "    'centre':center,\n",
    "    'radius':radius\n",
    "         }"
   ]
  },
  {
   "cell_type": "code",
   "execution_count": 13,
   "metadata": {},
   "outputs": [
    {
     "data": {
      "application/vnd.jupyter.widget-view+json": {
       "model_id": "636ced1064b2432eb9dadb411185f1f2",
       "version_major": 2,
       "version_minor": 0
      },
      "text/plain": [
       "HBox(children=(IntProgress(value=0, max=1), HTML(value='')))"
      ]
     },
     "metadata": {},
     "output_type": "display_data"
    },
    {
     "data": {
      "application/vnd.jupyter.widget-view+json": {
       "model_id": "64246bbf3661406787d9a620508c0c3a",
       "version_major": 2,
       "version_minor": 0
      },
      "text/plain": [
       "HBox(children=(IntProgress(value=0, max=6), HTML(value='')))"
      ]
     },
     "metadata": {},
     "output_type": "display_data"
    },
    {
     "name": "stdout",
     "output_type": "stream",
     "text": [
      "\n"
     ]
    }
   ],
   "source": [
    "timing = timer(**params)"
   ]
  },
  {
   "cell_type": "code",
   "execution_count": 23,
   "metadata": {},
   "outputs": [
    {
     "data": {
      "text/plain": [
       "<matplotlib.legend.Legend at 0x7f4c5e2f7f98>"
      ]
     },
     "execution_count": 23,
     "metadata": {},
     "output_type": "execute_result"
    },
    {
     "data": {
      "image/png": "[encoded data removed]",
      "text/plain": [
       "<Figure size 432x288 with 1 Axes>"
      ]
     },
     "metadata": {},
     "output_type": "display_data"
    }
   ],
   "source": [
    "import matplotlib.pyplot as plt\n",
    "fig, ax = plt.subplots()\n",
    "label = {'kd':\"KDTree\",\n",
    "        'cg':\"Cellgrid\",\n",
    "        'ns': \"Cython NS\",\n",
    "        'bf': \"Brute Force\",\n",
    "        'oct': \"PCL Octree\"}\n",
    "result_cut = defaultdict(list)\n",
    "for key in timing:\n",
    "    method = key.split('.')[0]\n",
    "    result_cut[method].append(timing[key])\n",
    "    \n",
    "for key in ['kd', 'cg', 'ns', 'bf', 'oct']:\n",
    "    ax.plot(maxdist, result_cut[key], '-o', label = label[key])\n",
    "ax.set(xlabel='Cutoff Radius', ylabel='time [s]', yscale='log', title='N = 40000')\n",
    "ax.legend()"
   ]
  },
  {
   "cell_type": "markdown",
   "metadata": {},
   "source": [
    "Except cellgrid, other methods dont scale with the cutoff radius to a large extent. However, neighbour search and Octree also scales with cutoff radius but with a very small slope. "
   ]
  },
  {
   "cell_type": "markdown",
   "metadata": {},
   "source": [
    "Below is the script which results in dead kernel. I suspected it might be due to consumption of memory, but it was not the case. \n",
    "Even the above script dies if I try to run for multiple cutoff distances, and/or particles. It definitely is not due to the number of particles, because I tried with less number of runs but large number of particles. I suspect it can be due to two reasons (1) Either handling of memory on my system is not so efficient (looks like there is a lot of clutter) on my system. (2) The more likely one, the kernel might be storing the data which I can't figure out to remove after executing all the methods for one setup (one instance of number of particles)."
   ]
  },
  {
   "cell_type": "markdown",
   "metadata": {},
   "source": [
    "Another weird feature is the peak memory consumption. I am not sure if that is the culprit, but it could be."
   ]
  },
  {
   "cell_type": "code",
   "execution_count": 7,
   "metadata": {},
   "outputs": [
    {
     "name": "stdout",
     "output_type": "stream",
     "text": [
      "The memory_profiler extension is already loaded. To reload it, use:\n",
      "  %reload_ext memory_profiler\n"
     ]
    }
   ],
   "source": [
    "%load_ext memory_profiler"
   ]
  },
  {
   "cell_type": "code",
   "execution_count": 8,
   "metadata": {},
   "outputs": [],
   "source": [
    "Methods2 = dict(KDTree=kdtree_select, NS=ns_select, OCT=oct_select, BF=bf_select)"
   ]
  },
  {
   "cell_type": "code",
   "execution_count": 9,
   "metadata": {},
   "outputs": [
    {
     "name": "stdout",
     "output_type": "stream",
     "text": [
      "peak memory: 110.70 MiB, increment: 0.03 MiB\n"
     ]
    }
   ],
   "source": [
    "%memit Methods2"
   ]
  },
  {
   "cell_type": "code",
   "execution_count": 17,
   "metadata": {},
   "outputs": [],
   "source": [
    "box = np.array([100,100,100,90,90,90],dtype=np.float32)\n",
    "Nprotein = 100\n",
    "Nsolvent = 1000\n",
    "center = box[:3]/2\n",
    "radius = 10.0\n",
    "maxdist = 6.0"
   ]
  },
  {
   "cell_type": "code",
   "execution_count": 18,
   "metadata": {},
   "outputs": [],
   "source": [
    "params = {\n",
    "    'Nprotein':Nprotein,\n",
    "    'Nsolvent':Nsolvent,\n",
    "    'maxdist':maxdist,\n",
    "    'centre':center,\n",
    "    'radius':radius\n",
    "         }"
   ]
  },
  {
   "cell_type": "code",
   "execution_count": 27,
   "metadata": {},
   "outputs": [
    {
     "data": {
      "application/vnd.jupyter.widget-view+json": {
       "model_id": "bbed4f93bc9d4c10b32a2882347442ed",
       "version_major": 2,
       "version_minor": 0
      },
      "text/plain": [
       "HBox(children=(IntProgress(value=0, max=1), HTML(value='')))"
      ]
     },
     "metadata": {},
     "output_type": "display_data"
    },
    {
     "data": {
      "application/vnd.jupyter.widget-view+json": {
       "model_id": "4491e5a135414ebdb4bb895af98d6292",
       "version_major": 2,
       "version_minor": 0
      },
      "text/plain": [
       "HBox(children=(IntProgress(value=0, max=1), HTML(value='')))"
      ]
     },
     "metadata": {},
     "output_type": "display_data"
    }
   ],
   "source": [
    "timing = %memit -q -o timer(**params)"
   ]
  },
  {
   "cell_type": "code",
   "execution_count": 28,
   "metadata": {},
   "outputs": [
    {
     "data": {
      "text/plain": [
       "<MemitResult : peak memory: 2862.06 MiB, increment: 1379.27 MiB>"
      ]
     },
     "execution_count": 28,
     "metadata": {},
     "output_type": "execute_result"
    }
   ],
   "source": [
    "timing"
   ]
  },
  {
   "cell_type": "markdown",
   "metadata": {},
   "source": [
    "Such a high amount of memory is consumed when the number of particles are very less. I tried with different number of particles for different methods, this looks like a background memory consumption, but according to the docs it should be only depend on the memory usage by the function."
   ]
  },
  {
   "cell_type": "markdown",
   "metadata": {},
   "source": [
    "Everything below this is just for reference and to identify the problems I faced in this notebook."
   ]
  },
  {
   "cell_type": "code",
   "execution_count": 29,
   "metadata": {},
   "outputs": [],
   "source": [
    "Methods2 = dict(KDTree=kdtree_select, NS=ns_select, OCT=oct_select, BF=bf_select, CG=cg_select)"
   ]
  },
  {
   "cell_type": "code",
   "execution_count": null,
   "metadata": {},
   "outputs": [],
   "source": [
    "from tqdm import tqdm_notebook\n",
    "\n",
    "results, struct = defaultdict(list), defaultdict(list)\n",
    "Nprotein = 100\n",
    "Nsolvent = np.logspace(3 ,5 ,num = 6, dtype = np.int)\n",
    "protein = generate_protein(center,radius,Nprotein)\n",
    "\n",
    "for N in tqdm_notebook(np.unique(Nsolvent)):\n",
    "    #Initialize\n",
    "    struct = defaultdict(list)\n",
    "    solvent = generate_solvent(center, radius, N, box)\n",
    "    print(\"Number of Points:\", N)\n",
    "    \n",
    "    \n",
    "    for key, functions in Methods.items():\n",
    "        struct[str(key)] = functions(protein, solvent, maxdist, box)\n",
    "        res = %timeit -q -o functions(protein, solvent, maxdist, box)\n",
    "        results[str(key)].append(res.average)\n",
    "        del res\n",
    "    results['N'].append(N)\n",
    "    # Testing\n",
    "    for a, b in itertools.combinations([struct[str(key)] for key in Methods], 2):\n",
    "        if (a is not None) and (b is not None):\n",
    "            np.testing.assert_equal(a.sort(axis = 0),b.sort(axis = 0))\n",
    "        else:\n",
    "            np.testing.assert_equal(a,b)\n",
    "    del struct\n",
    "    print(\"ALL TESTS PASSED\")\n"
   ]
  },
  {
   "cell_type": "code",
   "execution_count": null,
   "metadata": {},
   "outputs": [],
   "source": [
    "import matplotlib.pyplot as plt\n",
    "fig, ax = plt.subplots()\n",
    "\n",
    "for key in Methods:\n",
    "    ax.plot(results['N'], results[key], '-o', label = key)\n",
    "ax.set(xlabel='N particles', ylabel='time [s]', xscale='log', yscale='log', title='Total Time')\n",
    "ax.legend()"
   ]
  },
  {
   "cell_type": "markdown",
   "metadata": {},
   "source": [
    "For selection purposes, brute force is better at lower particle density upto around 1000 particles. Total time for non-periodic Octree also seems promising, however, its behaviour with PBC  is unknown. Neighbour search in FATSlim scales pretty well with number of particles, where it has a significant advantage for large number of particles. "
   ]
  },
  {
   "cell_type": "markdown",
   "metadata": {},
   "source": [
    "Although the trend can be easily extended from the single query benchmarks. But for the sake of completeness, lets check if there is any unexpected variation for selection with different cutoff radius. "
   ]
  },
  {
   "cell_type": "code",
   "execution_count": 9,
   "metadata": {},
   "outputs": [],
   "source": [
    "Methods2 = dict(KDTree=kdtree_select, NS=ns_select, OCT=oct_select, BF=bf_select)"
   ]
  },
  {
   "cell_type": "code",
   "execution_count": 14,
   "metadata": {},
   "outputs": [],
   "source": [
    "box = np.array([100,100,100,90,90,90],dtype=np.float32)\n",
    "center = box[:3]/2\n",
    "radius = 10.0\n",
    "maxdist = np.linspace(4, 10, num = 3, dtype = np.float32)\n",
    "Nprotein = 100\n",
    "Nsolvent = np.array([1000])\n",
    "protein = generate_protein(center,radius,Nprotein)"
   ]
  },
  {
   "cell_type": "code",
   "execution_count": 2,
   "metadata": {},
   "outputs": [],
   "source": [
    "%load_ext memory_profiler"
   ]
  },
  {
   "cell_type": "code",
   "execution_count": 15,
   "metadata": {},
   "outputs": [],
   "source": [
    "def timer(method, protein, solvent, cut, box):\n",
    "    res = %timeit -q -o method(protein, solvent, cut, box)\n",
    "    return res.average\n",
    "def memory(method, protein, solvent, cut, box):\n",
    "    res = %memit -q -o method(protein, solvent, cut, box)\n",
    "    return res.mem_usage[0]"
   ]
  },
  {
   "cell_type": "code",
   "execution_count": 16,
   "metadata": {},
   "outputs": [
    {
     "data": {
      "application/vnd.jupyter.widget-view+json": {
       "model_id": "419b54c5c466424fbf9c28c83360d821",
       "version_major": 2,
       "version_minor": 0
      },
      "text/plain": [
       "HBox(children=(IntProgress(value=0, max=1), HTML(value='')))"
      ]
     },
     "metadata": {},
     "output_type": "display_data"
    },
    {
     "name": "stdout",
     "output_type": "stream",
     "text": [
      "Number of Points: 1000\n"
     ]
    },
    {
     "data": {
      "application/vnd.jupyter.widget-view+json": {
       "model_id": "2aaf5ee6ebb045098e3bf1459c82e93d",
       "version_major": 2,
       "version_minor": 0
      },
      "text/plain": [
       "HBox(children=(IntProgress(value=0, max=3), HTML(value='')))"
      ]
     },
     "metadata": {},
     "output_type": "display_data"
    },
    {
     "name": "stdout",
     "output_type": "stream",
     "text": [
      "KDTree\n",
      "NS\n",
      "OCT\n",
      "BF\n",
      "KDTree\n",
      "NS\n",
      "OCT\n",
      "BF\n",
      "KDTree\n",
      "NS\n",
      "OCT\n",
      "BF\n",
      "\n"
     ]
    }
   ],
   "source": [
    "from tqdm import tqdm_notebook\n",
    "results2, struct2 = defaultdict(list), defaultdict(list)\n",
    "for N in tqdm_notebook(np.unique(Nsolvent)):\n",
    "    #Initialize\n",
    "    solvent = generate_solvent(center, radius, N, box)\n",
    "    print(\"Number of Points:\", N)\n",
    "    results2['N'].append(N)\n",
    "    for cut in tqdm_notebook(np.unique(maxdist)):\n",
    "        \n",
    "        for key in Methods2:\n",
    "            print(key)\n",
    "            results2[str(key)+'.'+str(N)].append(timer(Methods2[key], protein, solvent, cut, box))\n",
    "            results2['mem'+str(key)+'.'+str(N)].append(memory(Methods2[key], protein, solvent, cut, box))\n",
    "            del Methods2[key]"
   ]
  },
  {
   "cell_type": "code",
   "execution_count": 17,
   "metadata": {},
   "outputs": [
    {
     "data": {
      "text/plain": [
       "<MemitResult : peak memory: 5441.15 MiB, increment: 0.00 MiB>"
      ]
     },
     "execution_count": 17,
     "metadata": {},
     "output_type": "execute_result"
    }
   ],
   "source": [
    "%memit -q -o Methods2"
   ]
  },
  {
   "cell_type": "code",
   "execution_count": 19,
   "metadata": {},
   "outputs": [
    {
     "data": {
      "text/plain": [
       "defaultdict(list,\n",
       "            {'N': [1000],\n",
       "             'KDTree.1000': [0.004731408571429451,\n",
       "              0.005371267142857375,\n",
       "              0.007642431428570749],\n",
       "             'memKDTree.1000': [113.30859375, 5314.88671875, 5291.15234375],\n",
       "             'NS.1000': [0.013609149999999447,\n",
       "              0.005241251428573637,\n",
       "              0.0028423099999989585],\n",
       "             'memNS.1000': [5313.96484375, 5290.31640625, 5440.2578125],\n",
       "             'OCT.1000': [0.0011210305714287512,\n",
       "              0.0015515371428578614,\n",
       "              0.002058074285714611],\n",
       "             'memOCT.1000': [5314.0859375, 5290.31640625, 5440.26171875],\n",
       "             'BF.1000': [0.0036874957142845233,\n",
       "              0.0042731114285730395,\n",
       "              0.0038277171428580913],\n",
       "             'memBF.1000': [5314.88671875, 5291.15234375, 5441.078125]})"
      ]
     },
     "execution_count": 19,
     "metadata": {},
     "output_type": "execute_result"
    }
   ],
   "source": [
    "results2"
   ]
  },
  {
   "cell_type": "code",
   "execution_count": 21,
   "metadata": {},
   "outputs": [
    {
     "ename": "IndexError",
     "evalue": "index 1 is out of bounds for axis 0 with size 1",
     "output_type": "error",
     "traceback": [
      "\u001b[0;31m---------------------------------------------------------------------------\u001b[0m",
      "\u001b[0;31mIndexError\u001b[0m                                Traceback (most recent call last)",
      "\u001b[0;32m<ipython-input-21-2c6414581c5a>\u001b[0m in \u001b[0;36m<module>\u001b[0;34m()\u001b[0m\n\u001b[1;32m      4\u001b[0m \u001b[0;32mfor\u001b[0m \u001b[0mi\u001b[0m \u001b[0;32min\u001b[0m \u001b[0mrange\u001b[0m\u001b[0;34m(\u001b[0m\u001b[0mlen\u001b[0m\u001b[0;34m(\u001b[0m\u001b[0maxes\u001b[0m\u001b[0;34m)\u001b[0m\u001b[0;34m)\u001b[0m\u001b[0;34m:\u001b[0m\u001b[0;34m\u001b[0m\u001b[0m\n\u001b[1;32m      5\u001b[0m     \u001b[0max\u001b[0m \u001b[0;34m=\u001b[0m \u001b[0maxes\u001b[0m\u001b[0;34m[\u001b[0m\u001b[0mi\u001b[0m\u001b[0;34m]\u001b[0m\u001b[0;34m\u001b[0m\u001b[0m\n\u001b[0;32m----> 6\u001b[0;31m     \u001b[0mN\u001b[0m \u001b[0;34m=\u001b[0m \u001b[0mNsolvent\u001b[0m\u001b[0;34m[\u001b[0m\u001b[0mi\u001b[0m\u001b[0;34m]\u001b[0m\u001b[0;34m\u001b[0m\u001b[0m\n\u001b[0m\u001b[1;32m      7\u001b[0m     \u001b[0;32mfor\u001b[0m \u001b[0mkey\u001b[0m \u001b[0;32min\u001b[0m \u001b[0mMethods2\u001b[0m\u001b[0;34m:\u001b[0m\u001b[0;34m\u001b[0m\u001b[0m\n\u001b[1;32m      8\u001b[0m         \u001b[0max\u001b[0m\u001b[0;34m.\u001b[0m\u001b[0mplot\u001b[0m\u001b[0;34m(\u001b[0m\u001b[0mmaxdist\u001b[0m\u001b[0;34m,\u001b[0m \u001b[0mresults2\u001b[0m\u001b[0;34m[\u001b[0m\u001b[0mstr\u001b[0m\u001b[0;34m(\u001b[0m\u001b[0mkey\u001b[0m\u001b[0;34m)\u001b[0m\u001b[0;34m+\u001b[0m\u001b[0;34m'.'\u001b[0m\u001b[0;34m+\u001b[0m\u001b[0mstr\u001b[0m\u001b[0;34m(\u001b[0m\u001b[0mN\u001b[0m\u001b[0;34m)\u001b[0m\u001b[0;34m]\u001b[0m\u001b[0;34m,\u001b[0m \u001b[0;34m'-o'\u001b[0m\u001b[0;34m,\u001b[0m \u001b[0mlabel\u001b[0m \u001b[0;34m=\u001b[0m \u001b[0mkey\u001b[0m\u001b[0;34m)\u001b[0m\u001b[0;34m\u001b[0m\u001b[0m\n",
      "\u001b[0;31mIndexError\u001b[0m: index 1 is out of bounds for axis 0 with size 1"
     ]
    },
    {
     "data": {
      "image/png": "[encoded data removed]",
      "text/plain": [
       "<Figure size 432x288 with 2 Axes>"
      ]
     },
     "metadata": {},
     "output_type": "display_data"
    }
   ],
   "source": [
    "import matplotlib.pyplot as plt\n",
    "fig, axes = plt.subplots(ncols = 2,)\n",
    "\n",
    "for i in range(len(axes)):\n",
    "    ax = axes[i]\n",
    "    N = Nsolvent[i]\n",
    "    for key in Methods2:\n",
    "        ax.plot(maxdist, results2[str(key)+'.'+str(N)], '-o', label = key)\n",
    "    ax.set(xlabel='Cutoff Radius', ylabel='time [s]', yscale='log', title=' N Solvent = {}'.format(N))\n",
    "    ax.legend()\n",
    "    ax.grid(True)"
   ]
  }
 ],
 "metadata": {
  "kernelspec": {
   "display_name": "Python 3",
   "language": "python",
   "name": "python3"
  },
  "language_info": {
   "codemirror_mode": {
    "name": "ipython",
    "version": 3
   },
   "file_extension": ".py",
   "mimetype": "text/x-python",
   "name": "python",
   "nbconvert_exporter": "python",
   "pygments_lexer": "ipython3",
   "version": "3.6.5"
  }
 },
 "nbformat": 4,
 "nbformat_minor": 2
}
