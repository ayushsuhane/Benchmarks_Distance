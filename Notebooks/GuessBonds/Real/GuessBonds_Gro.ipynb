{
 "cells": [
  {
   "cell_type": "markdown",
   "metadata": {},
   "source": [
    "The aim of this notebook is to benchmark different methods such as KDTree, brute force, Gridsearch (CellGrid and NeighbourSearch) for a real case. The files for the data are obtained from [here](https://github.com/richardjgowers/atomgroup_olympics). The dataset is primarily molecules of water in a box, so ideally a set of three particles should be bonded to each other."
   ]
  },
  {
   "cell_type": "markdown",
   "metadata": {},
   "source": [
    "The previous comparisons for guessing the bonds (see [here](https://github.com/ayushsuhane/Benchmarks_Distance/blob/master/Notebooks/GuessBonds/GuessBonds.ipynb)) are used with little modification for this benchmark."
   ]
  },
  {
   "cell_type": "markdown",
   "metadata": {},
   "source": [
    "First, lets begin by defining functions to guess the bonds."
   ]
  },
  {
   "cell_type": "code",
   "execution_count": 1,
   "metadata": {},
   "outputs": [],
   "source": [
    "import numpy as np\n",
    "import MDAnalysis as mda\n",
    "import MDAnalysis.topology.guessers as mda_bf\n",
    "from MDAnalysis.topology import tables\n",
    "from MDAnalysis.lib.pkdtree import PeriodicKDTree\n",
    "from MDAnalysis.lib.distances import distance_array\n",
    "import cellgrid"
   ]
  },
  {
   "cell_type": "markdown",
   "metadata": {},
   "source": [
    "# Cellgrid"
   ]
  },
  {
   "cell_type": "code",
   "execution_count": 2,
   "metadata": {},
   "outputs": [],
   "source": [
    "def cg_guessbonds(points, atoms = None, box = None):\n",
    "    \"\"\"\n",
    "    Guessing Bonds with cell-List data structures \n",
    "    as implemented in Cellgrid Structure\n",
    "    \"\"\" \n",
    "    if atoms is None:\n",
    "        ### Use default values\n",
    "        vdw = 2.0\n",
    "        atoms = np.ones(len(points), dtype = np.float32)*vdw\n",
    "    else:\n",
    "        ##First check if every atom radius correspond to one particle\n",
    "        if len(points) != len(atoms):\n",
    "            print(\"Atoms and Coordinates should have equal length\")\n",
    "            return\n",
    "        \n",
    "    fudge_factor = 0.72\n",
    "    lower_bound = 0.1\n",
    "    \n",
    "    bonds = []\n",
    "    vdwradii = tables.vdwradii.copy()\n",
    "    max_vdw = max([vdwradii[t] for t in atoms])\n",
    "    \n",
    "    indx,dist = cellgrid.capped_self_distance_array(points, 2.0*max_vdw*fudge_factor , box=box[:3], particles_per_cell = False)\n",
    "    mask = np.where((dist <= (2.0*max_vdw)*fudge_factor) & (dist > lower_bound))[0]\n",
    "    for num, (i,j) in enumerate(indx[mask]):\n",
    "        if dist[mask][num] < ((vdwradii[atoms[i]] + vdwradii[atoms[j]]) * fudge_factor):\n",
    "            bonds.append((i,j))  \n",
    "    return tuple(bonds)"
   ]
  },
  {
   "cell_type": "markdown",
   "metadata": {},
   "source": [
    "# KDTree"
   ]
  },
  {
   "cell_type": "code",
   "execution_count": 3,
   "metadata": {},
   "outputs": [],
   "source": [
    "def kd_guessbonds(points, atoms = None, box = None):\n",
    "    \"\"\"\n",
    "    Already implemented tree structure in MDAnalysis\n",
    "    \"\"\"\n",
    "    if atoms is None:\n",
    "        ### Use default values\n",
    "        vdw = 2.0\n",
    "        atoms = np.ones(len(points), dtype = np.float32)*vdw\n",
    "    else:\n",
    "        ##First check if every atom radius correspond to one particle\n",
    "        if len(points) != len(atoms):\n",
    "            print(\"Atoms and Coordinates should have equal length\")\n",
    "            return\n",
    "        \n",
    "    fudge_factor = 0.72\n",
    "    lower_bound = 0.1\n",
    "\n",
    "    bonds = []\n",
    "    \n",
    "    vdwradii = tables.vdwradii.copy()\n",
    "    max_vdw = max([vdwradii[t] for t in atoms])\n",
    "    \n",
    "    kdtree = PeriodicKDTree(box, bucket_size=10)\n",
    "    kdtree.set_coords(points)\n",
    "    \n",
    "    for idx,centers in enumerate(points):\n",
    "        vdw_i = vdwradii[atoms[idx]]\n",
    "        max_d = (vdw_i + max_vdw)*fudge_factor\n",
    "        kdtree.search(centers,max_d)\n",
    "        indices = kdtree.get_indices()\n",
    "        dist = distance_array(centers.reshape((1,3)), points[indices],box=box)[0]\n",
    "        index = np.where((dist > lower_bound) & (dist <= max_d))[0]\n",
    "        for j in index:\n",
    "            if (indices[j] > idx) and (dist[j] < (vdwradii[atoms[indices[j]]] + vdw_i)*fudge_factor):\n",
    "                bonds.append((idx, indices[j])) \n",
    "    return tuple(bonds)"
   ]
  },
  {
   "cell_type": "markdown",
   "metadata": {},
   "source": [
    "# FATSLiM"
   ]
  },
  {
   "cell_type": "code",
   "execution_count": 4,
   "metadata": {},
   "outputs": [],
   "source": [
    "# Neighbour search FATSLiM\n",
    "from core_ns import FastNS\n",
    "def ns_guessbonds(points, atoms = None, box = None):\n",
    "    if atoms is None:\n",
    "        ### Use default values\n",
    "        vdw = 2.0\n",
    "        atoms = np.ones(len(points), dtype = np.float32)*vdw\n",
    "    else:\n",
    "        ##First check if every atom radius correspond to one particle\n",
    "        if len(points) != len(atoms):\n",
    "            print(\"Atoms and Coordinates should have equal length\")\n",
    "            return\n",
    "        \n",
    "    fudge_factor = 0.72\n",
    "    lower_bound = 0.1\n",
    "\n",
    "    bonds = []\n",
    "    \n",
    "    vdwradii = tables.vdwradii.copy()\n",
    "    max_vdw = max([vdwradii[t] for t in atoms])\n",
    "    \n",
    "    \n",
    "    triclinic_box = np.array([[box[0], 0, 0],[0, box[1], 0],[0,0,box[2]]], dtype=np.float32)\n",
    "    searcher = FastNS(triclinic_box)\n",
    "    searcher.set_cutoff(2*max_vdw)\n",
    "    searcher.set_coords(points)\n",
    "    searcher.prepare()\n",
    "    for idx, centers in enumerate(points):\n",
    "        vdw_i = vdwradii[atoms[idx]]\n",
    "        max_d = (vdw_i + max_vdw)*fudge_factor\n",
    "        \n",
    "        results, sqdist, index = searcher.search(np.array([centers,]))\n",
    "        if len(index[0]) > 0:\n",
    "            for i, val in enumerate(index[0]):\n",
    "                d = (vdwradii[atoms[val]] + vdw_i)*fudge_factor\n",
    "                if (sqdist[0][i] < d*d) and (val > idx):\n",
    "                    bonds.append((idx, val))\n",
    "    return bonds"
   ]
  },
  {
   "cell_type": "markdown",
   "metadata": {},
   "source": [
    "# Octree"
   ]
  },
  {
   "cell_type": "code",
   "execution_count": 5,
   "metadata": {},
   "outputs": [],
   "source": [
    "import pcl\n",
    "def oct_guessbonds(points, atoms = None, box = None):\n",
    "    \n",
    "    fudge_factor = 0.72\n",
    "    lower_bound = 0.1\n",
    "\n",
    "    bonds = []\n",
    "    \n",
    "    vdwradii = tables.vdwradii.copy()\n",
    "    max_vdw = max([vdwradii[t] for t in atoms])\n",
    "    \n",
    "    cloud = pcl.PointCloud(points)\n",
    "    resolution = 0.1*box[0]\n",
    "    octree = cloud.make_octreeSearch(resolution)\n",
    "    octree.add_points_from_input_cloud()\n",
    "    bonds = []\n",
    "    \n",
    "    for idx, centers in enumerate(points):\n",
    "        vdw_i = vdwradii[atoms[idx]]\n",
    "        max_d = (vdw_i + max_vdw)*fudge_factor\n",
    "        \n",
    "        [ind, sqdist] = octree.radius_search (centers, 2*max_vdw)\n",
    "        \n",
    "        if len(ind) != 0 :\n",
    "            for i, val in enumerate(ind):\n",
    "                d = (vdwradii[atoms[val]] + vdw_i)*fudge_factor\n",
    "                if (sqdist[i] < d*d) and (val > idx):\n",
    "                    bonds.append((idx, val))\n",
    "           \n",
    "    return bonds"
   ]
  },
  {
   "cell_type": "markdown",
   "metadata": {},
   "source": [
    "The first step is to read the files small.gro and big.gro "
   ]
  },
  {
   "cell_type": "code",
   "execution_count": 6,
   "metadata": {},
   "outputs": [],
   "source": [
    "u1,u2 = mda.Universe('small.gro'), mda.Universe('big.gro')"
   ]
  },
  {
   "cell_type": "markdown",
   "metadata": {},
   "source": [
    "First check the output of MDAnalysis, which utilizes brute force algorithm."
   ]
  },
  {
   "cell_type": "code",
   "execution_count": 7,
   "metadata": {},
   "outputs": [
    {
     "data": {
      "text/plain": [
       "8284"
      ]
     },
     "execution_count": 7,
     "metadata": {},
     "output_type": "execute_result"
    }
   ],
   "source": [
    "len(mda_bf.guess_bonds(u1.atoms, u1.atoms.positions, u1.dimensions))"
   ]
  },
  {
   "cell_type": "markdown",
   "metadata": {},
   "source": [
    "Lets evaluate the pair contacts due to all the functions defined above. "
   ]
  },
  {
   "cell_type": "code",
   "execution_count": 46,
   "metadata": {},
   "outputs": [
    {
     "data": {
      "text/plain": [
       "8284"
      ]
     },
     "execution_count": 46,
     "metadata": {},
     "output_type": "execute_result"
    }
   ],
   "source": [
    "len(ns_guessbonds(u1.atoms.positions, u1.atoms.types, u1.dimensions[:3]))"
   ]
  },
  {
   "cell_type": "code",
   "execution_count": 297,
   "metadata": {},
   "outputs": [
    {
     "data": {
      "text/plain": [
       "8284"
      ]
     },
     "execution_count": 297,
     "metadata": {},
     "output_type": "execute_result"
    }
   ],
   "source": [
    "len(oct_guessbonds(u1.atoms.positions, u1.atoms.types, u1.dimensions[:3]))"
   ]
  },
  {
   "cell_type": "code",
   "execution_count": 298,
   "metadata": {},
   "outputs": [
    {
     "data": {
      "text/plain": [
       "8284"
      ]
     },
     "execution_count": 298,
     "metadata": {},
     "output_type": "execute_result"
    }
   ],
   "source": [
    "len(kd_guessbonds(u1.atoms.positions, u1.atoms.types, u1.dimensions))"
   ]
  },
  {
   "cell_type": "code",
   "execution_count": 301,
   "metadata": {},
   "outputs": [
    {
     "data": {
      "text/plain": [
       "8180"
      ]
     },
     "execution_count": 301,
     "metadata": {},
     "output_type": "execute_result"
    }
   ],
   "source": [
    "len(cg_guessbonds(u1.atoms.positions, u1.atoms.types, u1.dimensions[:3]))"
   ]
  },
  {
   "cell_type": "markdown",
   "metadata": {},
   "source": [
    "CellGrid needs to be checked. Even after trying with the option `particles_per_cell = False` returns a wrong result here. Till the time, lets check the performance of other methods."
   ]
  },
  {
   "cell_type": "code",
   "execution_count": 325,
   "metadata": {},
   "outputs": [
    {
     "data": {
      "text/plain": [
       "1043128"
      ]
     },
     "execution_count": 325,
     "metadata": {},
     "output_type": "execute_result"
    }
   ],
   "source": [
    "import itertools\n",
    "ns = ns_guessbonds(u2.atoms.positions, u2.atoms.types, u2.dimensions[:3])\n",
    "len(ns)"
   ]
  },
  {
   "cell_type": "code",
   "execution_count": 326,
   "metadata": {},
   "outputs": [
    {
     "data": {
      "text/plain": [
       "1043128"
      ]
     },
     "execution_count": 326,
     "metadata": {},
     "output_type": "execute_result"
    }
   ],
   "source": [
    "octree = oct_guessbonds(u2.atoms.positions, u2.atoms.types, u2.dimensions[:3])\n",
    "len(octree)"
   ]
  },
  {
   "cell_type": "code",
   "execution_count": 327,
   "metadata": {},
   "outputs": [
    {
     "data": {
      "text/plain": [
       "1043128"
      ]
     },
     "execution_count": 327,
     "metadata": {},
     "output_type": "execute_result"
    }
   ],
   "source": [
    "pkdt = kd_guessbonds(u2.atoms.positions, u2.atoms.types, u2.dimensions)\n",
    "len(pkdt)"
   ]
  },
  {
   "cell_type": "code",
   "execution_count": null,
   "metadata": {},
   "outputs": [],
   "source": [
    "bf = mda_bf.guess_bonds(u2.atoms, u2.atoms.positions, u2.dimensions)\n",
    "len(bf)"
   ]
  },
  {
   "cell_type": "code",
   "execution_count": 8,
   "metadata": {},
   "outputs": [],
   "source": [
    "from tqdm import tqdm_notebook"
   ]
  },
  {
   "cell_type": "code",
   "execution_count": 8,
   "metadata": {},
   "outputs": [],
   "source": [
    "# Timings\n",
    "from collections import defaultdict\n",
    "from tqdm import tqdm_notebook\n",
    "\n",
    "result = defaultdict(list)\n",
    "\n",
    "for u in [u1]:\n",
    "    #NS\n",
    "    res = %timeit -q -o -n 5 -r 5 ns_guessbonds(u.atoms.positions, u.atoms.types, u.dimensions[:3])\n",
    "    result['ns'].append(res.average)\n",
    "    \n",
    "    #PKDT\n",
    "    res = %timeit -q -o -n 5 -r 5 kd_guessbonds(u.atoms.positions, u.atoms.types, u.dimensions)\n",
    "    result['pkdt'].append(res.average)\n",
    "    \n",
    "    #Octree\n",
    "    res = %timeit -q -o -n 5 -r 5 oct_guessbonds(u.atoms.positions, u.atoms.types, u.dimensions[:3])\n",
    "    result['oct'].append(res.average)\n",
    "    \n",
    "    #BF\n",
    "    res = %timeit -q -o -n 5 -r 5 mda_bf.guess_bonds(u.atoms, u.atoms.positions, u.dimensions)\n",
    "    result['bf'].append(res.average)\n",
    "    "
   ]
  },
  {
   "cell_type": "code",
   "execution_count": 29,
   "metadata": {},
   "outputs": [
    {
     "name": "stdout",
     "output_type": "stream",
     "text": [
      "Filename   NParticles PKDTree Octree  FATSLiM BruteForce\n",
      "small.gro       12426  2.0887 0.38741 0.40072  3.5214 \n"
     ]
    }
   ],
   "source": [
    "print(\"{:10} {:10} {:7} {:7} {:7} {:7}\".format('Filename', 'NParticles', 'PKDTree', 'Octree', 'FATSLiM', 'BruteForce'))\n",
    "print(\"{:10} {:10} {:7.5} {:7.5} {:7.5} {:7.5} \".format('small.gro', len(u1.atoms), result['pkdt'][0], result['oct'][0], result['ns'][0], result['bf'][0]))\n"
   ]
  },
  {
   "cell_type": "code",
   "execution_count": 32,
   "metadata": {},
   "outputs": [],
   "source": [
    "result = defaultdict(list)"
   ]
  },
  {
   "cell_type": "code",
   "execution_count": 33,
   "metadata": {},
   "outputs": [],
   "source": [
    "res = %timeit -q -o -n 1 -r 1 ns_guessbonds(u2.atoms.positions, u2.atoms.types, u2.dimensions[:3])\n",
    "result['ns'].append(res.average)"
   ]
  },
  {
   "cell_type": "code",
   "execution_count": 36,
   "metadata": {},
   "outputs": [],
   "source": [
    "res = %timeit -q -o -n 1 -r 1 kd_guessbonds(u2.atoms.positions, u2.atoms.types, u2.dimensions)\n",
    "result['pkdt'].append(res.average)"
   ]
  },
  {
   "cell_type": "code",
   "execution_count": 38,
   "metadata": {},
   "outputs": [],
   "source": [
    "#Octree\n",
    "res = %timeit -q -o -n 1 -r 1 oct_guessbonds(u2.atoms.positions, u2.atoms.types, u2.dimensions[:3])\n",
    "result['oct'].append(res.average)"
   ]
  },
  {
   "cell_type": "code",
   "execution_count": null,
   "metadata": {},
   "outputs": [],
   "source": [
    "#Brute Force\n",
    "res = %timeit -q -o -n 1 -r 1 mda_bf.guess_bonds(u2.atoms, u2.atoms.positions, u2.dimensions)\n",
    "result['bf'].append(res.average)"
   ]
  },
  {
   "cell_type": "code",
   "execution_count": 39,
   "metadata": {},
   "outputs": [
    {
     "data": {
      "text/plain": [
       "([54.3090979999979], [236.48744599999918], [151.2018640000024])"
      ]
     },
     "execution_count": 39,
     "metadata": {},
     "output_type": "execute_result"
    }
   ],
   "source": [
    "result['ns'], result['pkdt'], result['oct']"
   ]
  },
  {
   "cell_type": "code",
   "execution_count": null,
   "metadata": {},
   "outputs": [],
   "source": [
    "print(\"{:10} {:10} {:7} {:7} {:7} {:7}\".format('Filename', 'NParticles', 'PKDTree', 'Octree', 'FATSLiM', 'BruteForce'))\n",
    "print(\"{:10} {:10} {:7.5} {:7.5} {:7.5} {:7.5} \".format('small.gro', len(u2.atoms), result['pkdt'][0], result['oct'][0], result['ns'][0], result['bf'][0]))"
   ]
  }
 ],
 "metadata": {
  "kernelspec": {
   "display_name": "Python 3",
   "language": "python",
   "name": "python3"
  },
  "language_info": {
   "codemirror_mode": {
    "name": "ipython",
    "version": 3
   },
   "file_extension": ".py",
   "mimetype": "text/x-python",
   "name": "python",
   "nbconvert_exporter": "python",
   "pygments_lexer": "ipython3",
   "version": "3.6.5"
  }
 },
 "nbformat": 4,
 "nbformat_minor": 2
}
