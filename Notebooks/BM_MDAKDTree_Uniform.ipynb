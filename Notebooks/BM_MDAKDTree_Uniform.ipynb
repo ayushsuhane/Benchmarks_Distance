{
 "cells": [
  {
   "cell_type": "code",
   "execution_count": 1,
   "metadata": {},
   "outputs": [
    {
     "data": {
      "text/plain": [
       "array([[33.229294, 13.656529, 56.061867],\n",
       "       [23.825771, 23.437624, 28.862265],\n",
       "       [79.285576, 85.216835, 84.78078 ],\n",
       "       ...,\n",
       "       [14.779184, 39.14883 , 60.47615 ],\n",
       "       [78.36501 , 99.39047 , 16.328688],\n",
       "       [ 7.393593, 97.84592 , 68.38035 ]], dtype=float32)"
      ]
     },
     "execution_count": 1,
     "metadata": {},
     "output_type": "execute_result"
    }
   ],
   "source": [
    "import MDAnalysis as mda\n",
    "from MDAnalysis.lib.pkdtree import PeriodicKDTree\n",
    "import numpy as np\n",
    "\n",
    "box = np.ones(3).astype(np.float32)*100\n",
    "points = np.random.uniform(low=0,high=1.0,size=(1000,3))*box\n",
    "points = np.array(points,order='F',dtype=np.float32)\n",
    "maxdist = 10.0\n",
    "points"
   ]
  },
  {
   "cell_type": "code",
   "execution_count": 2,
   "metadata": {},
   "outputs": [],
   "source": [
    "def kdtree_distance(points,box,maxdist):\n",
    "    kdtree = PeriodicKDTree(box,bucket_size=10)\n",
    "    kdtree.set_coords(points)\n",
    "    n = 0\n",
    "    for idx,centers in enumerate(points):\n",
    "        kdtree.search(centers,maxdist)\n",
    "        indices = kdtree.get_indices()\n",
    "        indices.remove(idx)\n",
    "        distances = mda.lib.distances.distance_array(centers.reshape((1,3)),points[indices],box)\n",
    "        pairs = list(zip(indices,distances))\n",
    "        n += len(indices)\n",
    "    return n//2"
   ]
  },
  {
   "cell_type": "code",
   "execution_count": 3,
   "metadata": {},
   "outputs": [],
   "source": [
    "#Test\n",
    "brute_force = mda.lib.distances.distance_array(points,points,box)\n",
    "row, col = np.where(brute_force < maxdist)\n",
    "np.testing.assert_equal((len(row)-points.shape[0])/2, kdtree_distance(points,box,maxdist))"
   ]
  },
  {
   "cell_type": "code",
   "execution_count": 5,
   "metadata": {},
   "outputs": [
    {
     "name": "stdout",
     "output_type": "stream",
     "text": [
      "36.5 ms ± 608 µs per loop (mean ± std. dev. of 7 runs, 10 loops each)\n"
     ]
    }
   ],
   "source": [
    "#Performance\n",
    "%timeit mda.lib.distances.distance_array(points,points,box)"
   ]
  },
  {
   "cell_type": "code",
   "execution_count": 6,
   "metadata": {},
   "outputs": [
    {
     "name": "stdout",
     "output_type": "stream",
     "text": [
      "121 ms ± 5.78 ms per loop (mean ± std. dev. of 7 runs, 10 loops each)\n"
     ]
    }
   ],
   "source": [
    "%timeit kdtree_distance(points,box,maxdist)"
   ]
  }
 ],
 "metadata": {
  "kernelspec": {
   "display_name": "Python 3",
   "language": "python",
   "name": "python3"
  },
  "language_info": {
   "codemirror_mode": {
    "name": "ipython",
    "version": 3
   },
   "file_extension": ".py",
   "mimetype": "text/x-python",
   "name": "python",
   "nbconvert_exporter": "python",
   "pygments_lexer": "ipython3",
   "version": "3.6.5"
  }
 },
 "nbformat": 4,
 "nbformat_minor": 2
}
