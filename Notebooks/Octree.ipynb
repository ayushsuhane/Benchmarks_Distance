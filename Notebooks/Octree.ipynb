{
 "cells": [
  {
   "cell_type": "markdown",
   "metadata": {},
   "source": [
    "This notebook is written to compare the c++ octree implementation for fixed neighbour search (available [here](https://github.com/jbehley/octree)). This is an adhoc comparison between the c++ code and python implementation of KDtree in MdAnalysis. It is done by generating files for different number of coordinates distributed uniformly in a [100,100,100] box. These files are then read by the C++ octree code, and respective build tiime and query times are resported for same coordinates dataset."
   ]
  },
  {
   "cell_type": "code",
   "execution_count": 1,
   "metadata": {},
   "outputs": [],
   "source": [
    "import numpy as np\n",
    "from collections import defaultdict"
   ]
  },
  {
   "cell_type": "code",
   "execution_count": 2,
   "metadata": {},
   "outputs": [],
   "source": [
    "def get_coords(box,Npoints):\n",
    "    return (np.random.uniform(low=0,high=1.0,size=(Npoints,3))*box[:3]).astype(np.float32)\n",
    "\n",
    "def _check_box(box):\n",
    "        return box[:3] if box.shape == (6,) else box    "
   ]
  },
  {
   "cell_type": "code",
   "execution_count": 9,
   "metadata": {},
   "outputs": [],
   "source": [
    "BOX = np.array([100.,100.,100.,90,90,90],dtype=np.float32)\n",
    "CUTOFF = 10\n",
    "NPOINTS = np.logspace(2, 5, num = 10, dtype = np.int)"
   ]
  },
  {
   "cell_type": "code",
   "execution_count": 10,
   "metadata": {},
   "outputs": [],
   "source": [
    "for item in NPOINTS:\n",
    "    coords = get_coords(BOX, item)\n",
    "    np.savetxt('test'+str(item)+'.txt',coords)"
   ]
  },
  {
   "cell_type": "markdown",
   "metadata": {},
   "source": [
    "KDTree used from previous benchmarks direclty, where it was tested against brute force and cellgrid. "
   ]
  },
  {
   "cell_type": "code",
   "execution_count": 11,
   "metadata": {},
   "outputs": [],
   "source": [
    "from MDAnalysis.lib.pkdtree import PeriodicKDTree\n",
    "def kdtree_build(box, coords):\n",
    "    pkdt = PeriodicKDTree(box,bucket_size=10)\n",
    "    pkdt.set_coords(coords)\n",
    "    return pkdt\n",
    "def kdtree_query(struct, pos, cutoff):\n",
    "    struct.search(pos,cutoff)\n",
    "    return coords[struct.get_indices()]"
   ]
  },
  {
   "cell_type": "markdown",
   "metadata": {},
   "source": [
    "We only check the query at the midpoint of the box and cutoff radius of 10 units."
   ]
  },
  {
   "cell_type": "code",
   "execution_count": 13,
   "metadata": {},
   "outputs": [
    {
     "data": {
      "text/plain": [
       "array([50., 50., 50.], dtype=float32)"
      ]
     },
     "execution_count": 13,
     "metadata": {},
     "output_type": "execute_result"
    }
   ],
   "source": [
    "#coords = np.loadtxt('test.txt',dtype = np.float32)\n",
    "pos = BOX[:3]/2\n",
    "pos"
   ]
  },
  {
   "cell_type": "markdown",
   "metadata": {},
   "source": [
    "# Single Query"
   ]
  },
  {
   "cell_type": "code",
   "execution_count": 16,
   "metadata": {},
   "outputs": [
    {
     "name": "stdout",
     "output_type": "stream",
     "text": [
      "106 µs ± 5.46 µs per loop (mean ± std. dev. of 7 runs, 10000 loops each)\n",
      "89.4 µs ± 6.79 µs per loop (mean ± std. dev. of 7 runs, 10000 loops each)\n",
      "202 µs ± 9.68 µs per loop (mean ± std. dev. of 7 runs, 10000 loops each)\n",
      "104 µs ± 9.45 µs per loop (mean ± std. dev. of 7 runs, 10000 loops each)\n",
      "420 µs ± 41.4 µs per loop (mean ± std. dev. of 7 runs, 1000 loops each)\n",
      "110 µs ± 9.61 µs per loop (mean ± std. dev. of 7 runs, 10000 loops each)\n",
      "1 ms ± 91.8 µs per loop (mean ± std. dev. of 7 runs, 1000 loops each)\n",
      "110 µs ± 5.64 µs per loop (mean ± std. dev. of 7 runs, 10000 loops each)\n",
      "2.29 ms ± 313 µs per loop (mean ± std. dev. of 7 runs, 100 loops each)\n",
      "122 µs ± 4.1 µs per loop (mean ± std. dev. of 7 runs, 10000 loops each)\n",
      "6.56 ms ± 763 µs per loop (mean ± std. dev. of 7 runs, 100 loops each)\n",
      "145 µs ± 29.9 µs per loop (mean ± std. dev. of 7 runs, 1000 loops each)\n",
      "15.4 ms ± 1.17 ms per loop (mean ± std. dev. of 7 runs, 100 loops each)\n",
      "153 µs ± 10.2 µs per loop (mean ± std. dev. of 7 runs, 10000 loops each)\n",
      "41 ms ± 4.69 ms per loop (mean ± std. dev. of 7 runs, 10 loops each)\n",
      "298 µs ± 79.5 µs per loop (mean ± std. dev. of 7 runs, 1000 loops each)\n",
      "103 ms ± 3.49 ms per loop (mean ± std. dev. of 7 runs, 10 loops each)\n",
      "317 µs ± 20.5 µs per loop (mean ± std. dev. of 7 runs, 1000 loops each)\n",
      "247 ms ± 22.3 ms per loop (mean ± std. dev. of 7 runs, 1 loop each)\n",
      "619 µs ± 61.6 µs per loop (mean ± std. dev. of 7 runs, 1000 loops each)\n"
     ]
    }
   ],
   "source": [
    "res = defaultdict(list)\n",
    "for item in NPOINTS:\n",
    "    coords = np.loadtxt('test'+str(item)+'.txt',dtype = np.float32)\n",
    "    build = %timeit -o kdtree_build(BOX, coords)\n",
    "    res['build'].append(build.average)\n",
    "    \n",
    "    pkdt = kdtree_build(BOX,coords)\n",
    "    query = %timeit -o kdtree_query(pkdt, pos, CUTOFF)\n",
    "    res['query'].append(query.average)\n",
    "    res['N'].append(item)"
   ]
  },
  {
   "cell_type": "markdown",
   "metadata": {},
   "source": [
    "# Data collected from outside the notebook"
   ]
  },
  {
   "cell_type": "code",
   "execution_count": 26,
   "metadata": {},
   "outputs": [],
   "source": [
    "res_octree = defaultdict(list)\n",
    "res_octree['build'] = [0.000035900, 0.000085800, 0.000157700, 0.000229500, \n",
    "                           0.001341700, 0.002891500, 0.002448400, 0.008294600,\n",
    "                           0.017574700, 0.038262600]\n",
    "res_octree['query'] = [0.000052300, 0.000088600, 0.000058300, 0.000050400 , 0.000126900, \n",
    "                       0.000096600, 0.000070400, 0.000115700, 0.000162800, 0.000237400]\n",
    "res_octree['N'] = res['N']"
   ]
  },
  {
   "cell_type": "code",
   "execution_count": 27,
   "metadata": {},
   "outputs": [
    {
     "data": {
      "text/plain": [
       "defaultdict(list,\n",
       "            {'build': [0.00010625211428574143,\n",
       "              0.00020243374285714057,\n",
       "              0.0004204029999998186,\n",
       "              0.0010005411428572707,\n",
       "              0.002294972857141277,\n",
       "              0.006560897142855017,\n",
       "              0.015437699999998325,\n",
       "              0.040997471428558384,\n",
       "              0.1028760714285454,\n",
       "              0.24747571428568854],\n",
       "             'query': [8.936121428571694e-05,\n",
       "              0.00010360277142858001,\n",
       "              0.00010964991428570232,\n",
       "              0.00010961948571430184,\n",
       "              0.00012177345714287314,\n",
       "              0.00014504842857136934,\n",
       "              0.00015315087142857268,\n",
       "              0.0002980545714285004,\n",
       "              0.00031735785714291913,\n",
       "              0.0006185525714285437],\n",
       "             'N': [100,\n",
       "              215,\n",
       "              464,\n",
       "              1000,\n",
       "              2154,\n",
       "              4641,\n",
       "              10000,\n",
       "              21544,\n",
       "              46415,\n",
       "              100000]})"
      ]
     },
     "execution_count": 27,
     "metadata": {},
     "output_type": "execute_result"
    }
   ],
   "source": [
    "res"
   ]
  },
  {
   "cell_type": "markdown",
   "metadata": {},
   "source": [
    "All the points within Cutoff distance\n"
   ]
  },
  {
   "cell_type": "markdown",
   "metadata": {},
   "source": [
    "# Comparison between Octree and KDtree\n"
   ]
  },
  {
   "cell_type": "code",
   "execution_count": 28,
   "metadata": {},
   "outputs": [],
   "source": [
    "%matplotlib inline\n",
    "import matplotlib.pyplot as plt"
   ]
  },
  {
   "cell_type": "code",
   "execution_count": 29,
   "metadata": {},
   "outputs": [
    {
     "data": {
      "image/png": "[encoded data removed]",
      "text/plain": [
       "<Figure size 576x288 with 2 Axes>"
      ]
     },
     "metadata": {},
     "output_type": "display_data"
    }
   ],
   "source": [
    "fig, axes = plt.subplots(ncols=2, figsize=plt.figaspect(1/2))\n",
    "\n",
    "ax = axes[0]\n",
    "ax.plot(res['N'], res['build'], 'o-', label='PeriodicKDT')\n",
    "ax.plot(res_octree['N'], res_octree['build'], 'o-', label='Octree')\n",
    "ax.set(xlabel='N particles', ylabel='time [s]', xscale='log', yscale='log', title='Build')\n",
    "ax.legend()\n",
    "\n",
    "ax = axes[1]\n",
    "ax.plot(res['N'], res['query'], 'o-', label='PeriodicKDT')\n",
    "ax.plot(res_octree['N'], res_octree['query'], 'o-', label='Octree')\n",
    "ax.set(xlabel='N particles', ylabel='time [s]', xscale='log', yscale='log', title='Query')\n",
    "ax.grid(True)\n",
    "ax.legend()\n",
    "\n",
    "fig.tight_layout()"
   ]
  },
  {
   "cell_type": "markdown",
   "metadata": {},
   "source": [
    "OCtree with index based construction is a promising data structure to replace distance based calculations.  "
   ]
  },
  {
   "cell_type": "markdown",
   "metadata": {},
   "source": [
    "# Lets check the variation with cutoff radius"
   ]
  },
  {
   "cell_type": "markdown",
   "metadata": {},
   "source": [
    "To see the variation, which is useful for the general use cases in MDAnalysis, lets chose number of particles to be ~40k from above. "
   ]
  },
  {
   "cell_type": "code",
   "execution_count": 32,
   "metadata": {},
   "outputs": [],
   "source": [
    "cutoff = np.linspace(2,10,num = 9, dtype = np.float32)"
   ]
  },
  {
   "cell_type": "code",
   "execution_count": 33,
   "metadata": {},
   "outputs": [
    {
     "name": "stdout",
     "output_type": "stream",
     "text": [
      "135 µs ± 8.32 µs per loop (mean ± std. dev. of 7 runs, 10000 loops each)\n",
      "138 µs ± 7.25 µs per loop (mean ± std. dev. of 7 runs, 10000 loops each)\n",
      "160 µs ± 18.8 µs per loop (mean ± std. dev. of 7 runs, 10000 loops each)\n",
      "154 µs ± 22.2 µs per loop (mean ± std. dev. of 7 runs, 1000 loops each)\n",
      "183 µs ± 8.77 µs per loop (mean ± std. dev. of 7 runs, 10000 loops each)\n",
      "208 µs ± 17.6 µs per loop (mean ± std. dev. of 7 runs, 1000 loops each)\n",
      "256 µs ± 23.6 µs per loop (mean ± std. dev. of 7 runs, 1000 loops each)\n",
      "282 µs ± 26.4 µs per loop (mean ± std. dev. of 7 runs, 1000 loops each)\n",
      "331 µs ± 26.9 µs per loop (mean ± std. dev. of 7 runs, 1000 loops each)\n"
     ]
    }
   ],
   "source": [
    "res = defaultdict(list)\n",
    "coords = np.loadtxt('test'+str(NPOINTS[8])+'.txt',dtype = np.float32)\n",
    "for item in cutoff:\n",
    "    pkdt = kdtree_build(BOX,coords)\n",
    "    query = %timeit -o kdtree_query(pkdt, pos, item)\n",
    "    res['query'].append(query.average)\n",
    "    res['cutoff'].append(item)"
   ]
  },
  {
   "cell_type": "code",
   "execution_count": 34,
   "metadata": {},
   "outputs": [],
   "source": [
    "res_octree = defaultdict(list)\n",
    "res_octree['query'] = [ 0.000064400 , 0.000108300, 0.000050900, 0.000056900,\n",
    "                       0.000053700, 0.000090000, 0.000191700, 0.000403100, 0.000154000]\n",
    "res_octree['cutoff'] = res['cutoff']"
   ]
  },
  {
   "cell_type": "code",
   "execution_count": 42,
   "metadata": {},
   "outputs": [
    {
     "data": {
      "text/plain": [
       "(defaultdict(list,\n",
       "             {'query': [0.00013462202857140903,\n",
       "               0.000138117385714265,\n",
       "               0.0001597245714285756,\n",
       "               0.00015396671428555107,\n",
       "               0.00018325394285717008,\n",
       "               0.0002076654285717398,\n",
       "               0.00025582685714289254,\n",
       "               0.000281704285714503,\n",
       "               0.0003313301428570412],\n",
       "              'cutoff': [2.0, 3.0, 4.0, 5.0, 6.0, 7.0, 8.0, 9.0, 10.0],\n",
       "              'N': []}),\n",
       " defaultdict(list,\n",
       "             {'query': [6.44e-05,\n",
       "               0.0001083,\n",
       "               5.09e-05,\n",
       "               5.69e-05,\n",
       "               5.37e-05,\n",
       "               9e-05,\n",
       "               0.0001917,\n",
       "               0.0004031,\n",
       "               0.000154],\n",
       "              'cutoff': [2.0, 3.0, 4.0, 5.0, 6.0, 7.0, 8.0, 9.0, 10.0]}))"
      ]
     },
     "execution_count": 42,
     "metadata": {},
     "output_type": "execute_result"
    }
   ],
   "source": [
    "res,res_octree"
   ]
  },
  {
   "cell_type": "code",
   "execution_count": 43,
   "metadata": {},
   "outputs": [
    {
     "data": {
      "text/plain": [
       "<matplotlib.legend.Legend at 0x7fd3f25989e8>"
      ]
     },
     "execution_count": 43,
     "metadata": {},
     "output_type": "execute_result"
    },
    {
     "data": {
      "image/png": "[encoded data removed]",
      "text/plain": [
       "<Figure size 432x288 with 1 Axes>"
      ]
     },
     "metadata": {},
     "output_type": "display_data"
    }
   ],
   "source": [
    "fig, ax = plt.subplots()\n",
    "ax.plot(res['cutoff'], res['query'], 'o-', label='PeriodicKDT')\n",
    "ax.plot(res_octree['cutoff'], res_octree['query'], 'o-', label='Octree')\n",
    "ax.set(xlabel='Cutoff Distance', ylabel='time [s]', yscale='log', title='Cutoff')\n",
    "ax.legend()"
   ]
  }
 ],
 "metadata": {
  "kernelspec": {
   "display_name": "Python 3",
   "language": "python",
   "name": "python3"
  },
  "language_info": {
   "codemirror_mode": {
    "name": "ipython",
    "version": 3
   },
   "file_extension": ".py",
   "mimetype": "text/x-python",
   "name": "python",
   "nbconvert_exporter": "python",
   "pygments_lexer": "ipython3",
   "version": "3.6.5"
  }
 },
 "nbformat": 4,
 "nbformat_minor": 2
}
