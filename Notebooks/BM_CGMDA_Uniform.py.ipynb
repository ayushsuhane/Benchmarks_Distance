{
 "cells": [
  {
   "cell_type": "code",
   "execution_count": null,
   "metadata": {},
   "outputs": [],
   "source": [
    "import cellgrid \n",
    "import MDAnalysis as mda\n",
    "import numpy as np\n",
    "\n",
    "## Modify the output of capped_self_distance_array by masking\n",
    "\n",
    "def distance(points,maxdist,box):\n",
    "    indx,dist = cellgrid.capped_self_distance_array(points,maxdist,box=box)\n",
    "    mask = np.where(dist<cellsize)\n",
    "    capped_distance = list(zip(indx[mask],dist[mask]))\n",
    "    return capped_distance"
   ]
  },
  {
   "cell_type": "code",
   "execution_count": 5,
   "metadata": {},
   "outputs": [],
   "source": [
    "box = np.ones(3).astype(np.float32)*100\n",
    "points = np.random.uniform(low=0,high=1.0,size=(1000,3))*box\n",
    "points = np.array(points,order='F',dtype=np.float32)\n",
    "maxdist = 10.0"
   ]
  },
  {
   "cell_type": "code",
   "execution_count": 8,
   "metadata": {},
   "outputs": [],
   "source": [
    "## Testing \n",
    "capped_distance = distance(points,maxdist,box)\n",
    "brute_force = mda.lib.distances.distance_array(points,points,box)\n",
    "row, col = np.where(brute_force < maxdist)\n",
    "np.testing.assert_equal((len(row)-points.shape[0])/2, len(capped_distance))"
   ]
  },
  {
   "cell_type": "code",
   "execution_count": 9,
   "metadata": {},
   "outputs": [
    {
     "name": "stdout",
     "output_type": "stream",
     "text": [
      "261 ms ± 51.7 ms per loop (mean ± std. dev. of 7 runs, 1 loop each)\n"
     ]
    }
   ],
   "source": [
    "## Performance\n",
    "%timeit capped_distance = distance(points,maxdist,box)"
   ]
  },
  {
   "cell_type": "code",
   "execution_count": 10,
   "metadata": {},
   "outputs": [
    {
     "name": "stdout",
     "output_type": "stream",
     "text": [
      "36.3 ms ± 475 µs per loop (mean ± std. dev. of 7 runs, 10 loops each)\n"
     ]
    }
   ],
   "source": [
    "%timeit mda.lib.distances.distance_array(points,points,box)"
   ]
  }
 ],
 "metadata": {
  "kernelspec": {
   "display_name": "Python 3",
   "language": "python",
   "name": "python3"
  },
  "language_info": {
   "codemirror_mode": {
    "name": "ipython",
    "version": 3
   },
   "file_extension": ".py",
   "mimetype": "text/x-python",
   "name": "python",
   "nbconvert_exporter": "python",
   "pygments_lexer": "ipython3",
   "version": "3.6.5"
  }
 },
 "nbformat": 4,
 "nbformat_minor": 2
}
