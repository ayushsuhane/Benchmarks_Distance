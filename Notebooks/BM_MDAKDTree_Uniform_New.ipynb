{
 "cells": [
  {
   "cell_type": "code",
   "execution_count": 3,
   "metadata": {},
   "outputs": [
    {
     "data": {
      "text/plain": [
       "'1.1.0'"
      ]
     },
     "execution_count": 3,
     "metadata": {},
     "output_type": "execute_result"
    }
   ],
   "source": [
    "import scipy\n",
    "scipy.__version__"
   ]
  },
  {
   "cell_type": "code",
   "execution_count": 13,
   "metadata": {},
   "outputs": [],
   "source": [
    "from MDAnalysis.lib.pkdtree import PeriodicKDTree\n",
    "import numpy as np\n",
    "from MDAnalysis.lib.distances import self_distance_array,distance_array\n",
    "import scipy\n",
    "from scipy.spatial.distance import squareform\n",
    "import itertools\n",
    "\n",
    "##Initialize the class for benchmarks\n",
    "class SimpleKDBench():\n",
    "    \"\"\"\n",
    "    Class for simple KDtree benchmarks\n",
    "    \"\"\"\n",
    "    def __init__(self):\n",
    "        #self.box = np.array([100.,100.,100.,90.,90.,90.],dtype=np.float32)\n",
    "        self.box = np.ones(3).astype(np.float32)*100\n",
    "        self.points = np.random.uniform(low=0,high=1.0,size=(10000,3))*self.box[:3]\n",
    "        self.points = np.array(self.points,dtype=np.float32)\n",
    "        self.maxdist = 10.0\n",
    "    \n",
    "    def kdtree_distance(self,points,box,maxdist):\n",
    "        kdtree = PeriodicKDTree(box,bucket_size=10)\n",
    "        kdtree.set_coords(points)\n",
    "        pair,distances = list(),list()\n",
    "        for idx,centers in enumerate(points):\n",
    "            kdtree.search(centers,maxdist)\n",
    "            indices = kdtree.get_indices()\n",
    "            indices = [i for i in indices if i > idx]\n",
    "            distances += list(distance_array(centers.reshape((1,3)),points[indices],box).flatten())\n",
    "            pair += list(itertools.product(([idx]),indices))    \n",
    "        return tuple((np.asarray(pair),np.asarray(distances)))\n",
    "    \n",
    "    def bf_select(self, points, box, maxdist):\n",
    "        distance = self_distance_array(points,box)\n",
    "        distance = scipy.spatial.distance.squareform(distance)\n",
    "        distance[np.tril_indices(distance.shape[0])] = (1.1*maxdist)\n",
    "        mask = np.where((distance < maxdist))\n",
    "        out = tuple((np.column_stack((mask[0],mask[1])),distance[mask]))\n",
    "        return out"
   ]
  },
  {
   "cell_type": "code",
   "execution_count": 14,
   "metadata": {},
   "outputs": [
    {
     "name": "stdout",
     "output_type": "stream",
     "text": [
      "(array([[   0,  160],\n",
      "       [   0,  630],\n",
      "       [   0,  880],\n",
      "       ...,\n",
      "       [9952, 9980],\n",
      "       [9969, 9973],\n",
      "       [9986, 9991]]), array([7.1049704 , 6.95386775, 9.70376903, ..., 4.61587456, 9.72549188,\n",
      "       9.93232761]))\n"
     ]
    }
   ],
   "source": [
    "ob = SimpleKDBench()\n",
    "kd = ob.kdtree_distance(ob.points, ob.box, ob.maxdist)\n",
    "print(kd)"
   ]
  },
  {
   "cell_type": "code",
   "execution_count": 16,
   "metadata": {},
   "outputs": [
    {
     "data": {
      "text/plain": [
       "(array([[   0,  160],\n",
       "        [   0,  630],\n",
       "        [   0,  880],\n",
       "        ...,\n",
       "        [9952, 9980],\n",
       "        [9969, 9973],\n",
       "        [9986, 9991]]),\n",
       " array([7.1049704 , 6.95386775, 9.70376903, ..., 4.61587456, 9.72549188,\n",
       "        9.93232761]))"
      ]
     },
     "execution_count": 16,
     "metadata": {},
     "output_type": "execute_result"
    }
   ],
   "source": [
    "p = ob.bf_select(ob.points,ob.box,ob.maxdist)\n",
    "p"
   ]
  },
  {
   "cell_type": "code",
   "execution_count": 17,
   "metadata": {},
   "outputs": [],
   "source": [
    "#Testing\n",
    "np.testing.assert_almost_equal(p[1],kd[1]) #Distances\n",
    "np.testing.assert_almost_equal(p[0],kd[0]) #Selections"
   ]
  },
  {
   "cell_type": "code",
   "execution_count": 18,
   "metadata": {},
   "outputs": [
    {
     "name": "stdout",
     "output_type": "stream",
     "text": [
      "1.97 s ± 38 ms per loop (mean ± std. dev. of 7 runs, 1 loop each)\n"
     ]
    }
   ],
   "source": [
    "%timeit ob.kdtree_distance(ob.points, ob.box, ob.maxdist)"
   ]
  },
  {
   "cell_type": "code",
   "execution_count": 19,
   "metadata": {},
   "outputs": [
    {
     "name": "stdout",
     "output_type": "stream",
     "text": [
      "5.14 s ± 87.4 ms per loop (mean ± std. dev. of 7 runs, 1 loop each)\n"
     ]
    }
   ],
   "source": [
    "%timeit ob.bf_select(ob.points,ob.box,ob.maxdist)"
   ]
  }
 ],
 "metadata": {
  "kernelspec": {
   "display_name": "Python 3",
   "language": "python",
   "name": "python3"
  },
  "language_info": {
   "codemirror_mode": {
    "name": "ipython",
    "version": 3
   },
   "file_extension": ".py",
   "mimetype": "text/x-python",
   "name": "python",
   "nbconvert_exporter": "python",
   "pygments_lexer": "ipython3",
   "version": "3.6.5"
  }
 },
 "nbformat": 4,
 "nbformat_minor": 2
}
