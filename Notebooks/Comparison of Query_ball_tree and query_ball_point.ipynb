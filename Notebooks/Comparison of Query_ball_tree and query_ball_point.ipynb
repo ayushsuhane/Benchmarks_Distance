{
 "cells": [
  {
   "cell_type": "markdown",
   "metadata": {},
   "source": [
    "The objective of this notebook is to compare the performance of query_ball_point vs query_ball_tree to search the fixed neighbour queries."
   ]
  },
  {
   "cell_type": "markdown",
   "metadata": {},
   "source": [
    "While one requires both the queries and search space to be tree structures, other searches every point in the query using for loop."
   ]
  },
  {
   "cell_type": "markdown",
   "metadata": {},
   "source": [
    "First begin by testing for a single query, whether constructing a tree for it is worth the performance or not."
   ]
  },
  {
   "cell_type": "code",
   "execution_count": 35,
   "metadata": {},
   "outputs": [],
   "source": [
    "import numpy as np\n",
    "from MDAnalysis.lib.pkdtree import PeriodicKDTree\n",
    "from collections import defaultdict\n",
    "from tqdm import tqdm_notebook\n",
    "from scipy.spatial import cKDTree\n",
    "import itertools\n",
    "from MDAnalysis.lib._cutil import unique_int_1d "
   ]
  },
  {
   "cell_type": "code",
   "execution_count": 4,
   "metadata": {},
   "outputs": [],
   "source": [
    "def get_coords(box,Npoints):\n",
    "    return (np.random.uniform(low=0,high=1.0,size=(Npoints,3))*box[:3]).astype(np.float32)"
   ]
  },
  {
   "cell_type": "code",
   "execution_count": 10,
   "metadata": {},
   "outputs": [],
   "source": [
    "%matplotlib inline\n",
    "import matplotlib.pyplot as plt"
   ]
  },
  {
   "cell_type": "code",
   "execution_count": 121,
   "metadata": {},
   "outputs": [],
   "source": [
    "def tree_point(tree, query, radius):\n",
    "    query = np.asarray(query)\n",
    "    if query.shape == (3, ):\n",
    "        query = query.reshape((1, 3))\n",
    "    indices = list(tree.query_ball_point(query,radius))\n",
    "    indices = np.array(list(itertools.chain.from_iterable(indices)),\n",
    "                                     dtype=np.int)\n",
    "    return unique_int_1d(indices)"
   ]
  },
  {
   "cell_type": "code",
   "execution_count": 117,
   "metadata": {},
   "outputs": [],
   "source": [
    "def tree_tree(tree, query, radius):\n",
    "    query = np.asarray(query)\n",
    "    if query.shape == (3, ):\n",
    "        query = query.reshape((1, 3))\n",
    "    \n",
    "    treeq = cKDTree(query, 10)\n",
    "    indices = treeq.query_ball_tree(tree, radius)\n",
    "    indices = np.array(list(itertools.chain.from_iterable(indices)), dtype=np.int64)\n",
    "    return unique_int_1d(indices)"
   ]
  },
  {
   "cell_type": "markdown",
   "metadata": {},
   "source": [
    "# check results"
   ]
  },
  {
   "cell_type": "code",
   "execution_count": 66,
   "metadata": {},
   "outputs": [],
   "source": [
    "box = np.array([100, 100, 100, 90, 90, 90], dtype=np.float32)\n",
    "NPoints = 1000\n",
    "radius = 10"
   ]
  },
  {
   "cell_type": "code",
   "execution_count": 54,
   "metadata": {},
   "outputs": [],
   "source": [
    "coords = get_coords(box, NPoints)"
   ]
  },
  {
   "cell_type": "code",
   "execution_count": 55,
   "metadata": {},
   "outputs": [],
   "source": [
    "pkdtree = PeriodicKDTree(box=box)\n",
    "pkdtree.set_coords(coords, cutoff=radius)"
   ]
  },
  {
   "cell_type": "code",
   "execution_count": 67,
   "metadata": {},
   "outputs": [],
   "source": [
    "q1 = np.array([[1, 1, 1]])"
   ]
  },
  {
   "cell_type": "code",
   "execution_count": 68,
   "metadata": {},
   "outputs": [],
   "source": [
    "indices_point = tree_point(pkdtree.ckdt, q1, radius)"
   ]
  },
  {
   "cell_type": "code",
   "execution_count": 69,
   "metadata": {},
   "outputs": [
    {
     "data": {
      "text/plain": [
       "5"
      ]
     },
     "execution_count": 69,
     "metadata": {},
     "output_type": "execute_result"
    }
   ],
   "source": [
    "len(indices_point)"
   ]
  },
  {
   "cell_type": "code",
   "execution_count": 70,
   "metadata": {},
   "outputs": [],
   "source": [
    "indices_tree = tree_tree(pkdtree.ckdt, q1, radius)"
   ]
  },
  {
   "cell_type": "code",
   "execution_count": 71,
   "metadata": {},
   "outputs": [
    {
     "data": {
      "text/plain": [
       "5"
      ]
     },
     "execution_count": 71,
     "metadata": {},
     "output_type": "execute_result"
    }
   ],
   "source": [
    "len(indices_tree)"
   ]
  },
  {
   "cell_type": "markdown",
   "metadata": {},
   "source": [
    "# Benchmark for single query"
   ]
  },
  {
   "cell_type": "code",
   "execution_count": 79,
   "metadata": {},
   "outputs": [],
   "source": [
    "box = np.array([100, 100, 100, 90, 90, 90], dtype=np.float32)\n",
    "NPoints = np.logspace(2, 5, num=10, dtype= np.int64)\n",
    "radius = 4\n",
    "query = np.array([1., 1., 1.])"
   ]
  },
  {
   "cell_type": "code",
   "execution_count": 84,
   "metadata": {},
   "outputs": [
    {
     "data": {
      "application/vnd.jupyter.widget-view+json": {
       "model_id": "47753b0bd5814529985b128d85c6b856",
       "version_major": 2,
       "version_minor": 0
      },
      "text/plain": [
       "HBox(children=(IntProgress(value=0, max=10), HTML(value='')))"
      ]
     },
     "metadata": {},
     "output_type": "display_data"
    }
   ],
   "source": [
    "results = defaultdict(list)\n",
    "\n",
    "for n in tqdm_notebook(np.unique(NPoints)):\n",
    "    coords =  get_coords(box, n)\n",
    "    pkdtree = PeriodicKDTree(box=box)\n",
    "    pkdtree.set_coords(coords, cutoff=radius)\n",
    "    \n",
    "    res = %timeit -q -o tree_point(pkdtree.ckdt, query, radius)\n",
    "    results['point'].append(res.average)\n",
    "    \n",
    "    res = %timeit -q -o tree_tree(pkdtree.ckdt, query, radius)\n",
    "    results['tree'].append(res.average)\n",
    "    \n",
    "    results['n'].append(n)"
   ]
  },
  {
   "cell_type": "code",
   "execution_count": 86,
   "metadata": {},
   "outputs": [
    {
     "data": {
      "text/plain": [
       "<matplotlib.legend.Legend at 0x7f2427f87588>"
      ]
     },
     "execution_count": 86,
     "metadata": {},
     "output_type": "execute_result"
    },
    {
     "data": {
      "image/png": "[encoded data removed]",
      "text/plain": [
       "<Figure size 432x288 with 1 Axes>"
      ]
     },
     "metadata": {},
     "output_type": "display_data"
    }
   ],
   "source": [
    "fig, axes = plt.subplots()\n",
    "\n",
    "axes.plot(results['n'], results['point'], label=\"Point pruning\")\n",
    "axes.plot(results['n'], results['tree'], label=\"Tree pruning\")\n",
    "axes.set(xlabel='Number of particles', ylabel='time [s]', xscale = 'log', yscale='log', title='Single query')\n",
    "axes.legend()"
   ]
  },
  {
   "cell_type": "code",
   "execution_count": 90,
   "metadata": {},
   "outputs": [],
   "source": [
    "# Multiple Pruning\n",
    "box = np.array([100, 100, 100, 90, 90, 90], dtype=np.float32)\n",
    "NPoints = 40000\n",
    "radius = 4"
   ]
  },
  {
   "cell_type": "code",
   "execution_count": 91,
   "metadata": {},
   "outputs": [],
   "source": [
    "coords = get_coords(box, NPoints)"
   ]
  },
  {
   "cell_type": "code",
   "execution_count": 98,
   "metadata": {},
   "outputs": [],
   "source": [
    "q = [coords[1:n+1] for n in range(1, 100)]"
   ]
  },
  {
   "cell_type": "code",
   "execution_count": 122,
   "metadata": {},
   "outputs": [
    {
     "data": {
      "application/vnd.jupyter.widget-view+json": {
       "model_id": "e681672d18f7472494c0ef95cd02fc6e",
       "version_major": 2,
       "version_minor": 0
      },
      "text/plain": [
       "HBox(children=(IntProgress(value=0, max=99), HTML(value='')))"
      ]
     },
     "metadata": {},
     "output_type": "display_data"
    }
   ],
   "source": [
    "results = defaultdict(list)\n",
    "i = 0\n",
    "pkdtree = PeriodicKDTree(box=box)\n",
    "pkdtree.set_coords(coords, cutoff=radius)\n",
    "\n",
    "for n in tqdm_notebook(q):\n",
    "    \n",
    "    i = i+1\n",
    "    res = %timeit -q -o tree_point(pkdtree.ckdt, n, radius)\n",
    "    results['point'].append(res.average)\n",
    "    \n",
    "    res = %timeit -q -o tree_tree(pkdtree.ckdt, n, radius)\n",
    "    results['tree'].append(res.average)\n",
    "    \n",
    "    results['n'].append(i)"
   ]
  },
  {
   "cell_type": "code",
   "execution_count": 123,
   "metadata": {},
   "outputs": [
    {
     "data": {
      "text/plain": [
       "<matplotlib.legend.Legend at 0x7f24275e9940>"
      ]
     },
     "execution_count": 123,
     "metadata": {},
     "output_type": "execute_result"
    },
    {
     "data": {
      "image/png": "[encoded data removed]",
      "text/plain": [
       "<Figure size 432x288 with 1 Axes>"
      ]
     },
     "metadata": {},
     "output_type": "display_data"
    }
   ],
   "source": [
    "fig, axes = plt.subplots()\n",
    "\n",
    "axes.plot(results['n'], results['point'], label=\"Point pruning\")\n",
    "axes.plot(results['n'], results['tree'], label=\"Tree pruning\")\n",
    "axes.set(xlabel='Number of queries', ylabel='time [s]', yscale='log', title='Multiple query')\n",
    "axes.legend()"
   ]
  },
  {
   "cell_type": "code",
   "execution_count": 113,
   "metadata": {},
   "outputs": [],
   "source": [
    "pkdtree = PeriodicKDTree(box=box)\n",
    "pkdtree.set_coords(coords, cutoff=radius)"
   ]
  },
  {
   "cell_type": "code",
   "execution_count": null,
   "metadata": {},
   "outputs": [],
   "source": []
  }
 ],
 "metadata": {
  "kernelspec": {
   "display_name": "Python 3",
   "language": "python",
   "name": "python3"
  },
  "language_info": {
   "codemirror_mode": {
    "name": "ipython",
    "version": 3
   },
   "file_extension": ".py",
   "mimetype": "text/x-python",
   "name": "python",
   "nbconvert_exporter": "python",
   "pygments_lexer": "ipython3",
   "version": "3.6.5"
  }
 },
 "nbformat": 4,
 "nbformat_minor": 2
}
