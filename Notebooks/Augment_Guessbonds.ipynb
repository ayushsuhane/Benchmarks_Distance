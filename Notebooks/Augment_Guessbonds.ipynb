{
 "cells": [
  {
   "cell_type": "markdown",
   "metadata": {},
   "source": [
    "Most of the simulations in Molecular dynamics require Periodic boundary conditions to simulate bulk properties of a material. While many of the fast near neighbour searches are already in place, their periodic implementation in a triclinic cell is a challenge. Inorder to  implement periodic boundary condition, one has to produce images of all the particles in the neighbourhood cells. Minimum distance of the particle from the any of the image is designated as the pairwise distance between a set of particles. Ideally, to capture the images of all the particles in the vicinity of the cell, the cutoff distance should be half the cellsize, but typically the requirements of near neighbour distances are quite small compared to the box(cell) length. The box can therefore extended till a small cutoff distance and particles within the range can be duplicated. This extended box can then be supplied to the near neighbour searching algorithms which are PBC unaware. \n"
   ]
  },
  {
   "cell_type": "markdown",
   "metadata": {},
   "source": [
    "An implementation for PBC which is KDtree specific, is implemented in MDAnalysis. This can be used as a reference to check the performance of the above mentioned algorithm. More information about the duplication can be found [here](http://www.richardjgowers.com/2018/06/28/make_halos.html). Furthermore, as reported in this [benchmarks](http://nbviewer.jupyter.org/url/jakevdp.github.com/downloads/notebooks/memview_bench.ipynb), huge time reduction can be achieved by using cython functions as all the loops in the code are relatively constly in python."
   ]
  },
  {
   "cell_type": "markdown",
   "metadata": {},
   "source": [
    "Lets begin by comparing the performance of two non periodic tree structures \n",
    "\n",
    "* KDtree in BioPython  \n",
    "* cKDTree in Scipy"
   ]
  },
  {
   "cell_type": "code",
   "execution_count": 5,
   "metadata": {},
   "outputs": [],
   "source": [
    "import MDAnalysis as mda\n",
    "import numpy as np"
   ]
  },
  {
   "cell_type": "code",
   "execution_count": 42,
   "metadata": {},
   "outputs": [],
   "source": [
    "%matplotlib inline\n",
    "import matplotlib.pyplot as plt"
   ]
  },
  {
   "cell_type": "code",
   "execution_count": 23,
   "metadata": {},
   "outputs": [],
   "source": [
    "from Bio.KDTree import KDTree\n",
    "def biopython_build(coords):\n",
    "    kdtree = KDTree(dim=3)\n",
    "    kdtree.set_coords(coords)\n",
    "    return kdtree\n",
    "def biopython_query(struct, coords, pos, cutoff):\n",
    "    struct.search(pos,cutoff)\n",
    "    return np.asarray(struct.get_indices())"
   ]
  },
  {
   "cell_type": "code",
   "execution_count": 22,
   "metadata": {},
   "outputs": [],
   "source": [
    "from scipy import spatial\n",
    "def scipy_build(coords):\n",
    "    return spatial.cKDTree(coords)\n",
    "def scipy_query(struct, coords, pos, cutoff):\n",
    "    return np.asarray(struct.query_ball_point(pos,cutoff))"
   ]
  },
  {
   "cell_type": "code",
   "execution_count": 24,
   "metadata": {},
   "outputs": [],
   "source": [
    "# Helper function for populating the points\n",
    "def get_coords(box,Npoints):\n",
    "    return (np.random.uniform(low=0,high=1.0,size=(Npoints,3))*box[:3]).astype(np.float32)"
   ]
  },
  {
   "cell_type": "code",
   "execution_count": 28,
   "metadata": {},
   "outputs": [],
   "source": [
    "# Setup\n",
    "BOX = np.array([100.,100.,100.,90.,90.,90.],dtype=np.float32)\n",
    "CUTOFF = 10.\n",
    "NPOINTS = 1000\n",
    "coords = get_coords(BOX, NPOINTS)\n",
    "query = BOX[:3]/2"
   ]
  },
  {
   "cell_type": "markdown",
   "metadata": {},
   "source": [
    "# Check"
   ]
  },
  {
   "cell_type": "markdown",
   "metadata": {},
   "source": [
    "Assuming all the defined points are inside the centre cell. If not, it is an extra operation which would take similar time in all the algorithms."
   ]
  },
  {
   "cell_type": "code",
   "execution_count": 29,
   "metadata": {},
   "outputs": [
    {
     "data": {
      "text/plain": [
       "array([105, 140,   4])"
      ]
     },
     "execution_count": 29,
     "metadata": {},
     "output_type": "execute_result"
    }
   ],
   "source": [
    "skd = scipy_build(coords)\n",
    "skd_indices = scipy_query(skd, coords, query, CUTOFF)\n",
    "skd_indices"
   ]
  },
  {
   "cell_type": "code",
   "execution_count": 30,
   "metadata": {},
   "outputs": [
    {
     "data": {
      "text/plain": [
       "array([140, 105,   4])"
      ]
     },
     "execution_count": 30,
     "metadata": {},
     "output_type": "execute_result"
    }
   ],
   "source": [
    "bkd = biopython_build(coords)\n",
    "bkd_indices = biopython_query(bkd, coords, query, CUTOFF)\n",
    "bkd_indices"
   ]
  },
  {
   "cell_type": "code",
   "execution_count": 31,
   "metadata": {},
   "outputs": [],
   "source": [
    "np.testing.assert_array_equal(np.sort(skd_indices), np.sort(bkd_indices))"
   ]
  },
  {
   "cell_type": "markdown",
   "metadata": {},
   "source": [
    "# Timings"
   ]
  },
  {
   "cell_type": "code",
   "execution_count": 36,
   "metadata": {},
   "outputs": [],
   "source": [
    "from tqdm import tqdm_notebook\n",
    "from collections import defaultdict"
   ]
  },
  {
   "cell_type": "code",
   "execution_count": 37,
   "metadata": {},
   "outputs": [],
   "source": [
    "# setup\n",
    "BOX = np.array([100.,100.,100.,90.,90.,90.],dtype=np.float32)\n",
    "CUTOFF = 4.\n",
    "NPOINTS = np.logspace(2, 5, num=10, dtype= np.int)\n",
    "query = BOX[:3]/2"
   ]
  },
  {
   "cell_type": "code",
   "execution_count": 40,
   "metadata": {},
   "outputs": [
    {
     "data": {
      "application/vnd.jupyter.widget-view+json": {
       "model_id": "1457ac45ba1a46f1ad32cf07f91a825a",
       "version_major": 2,
       "version_minor": 0
      },
      "text/plain": [
       "HBox(children=(IntProgress(value=0, max=10), HTML(value='')))"
      ]
     },
     "metadata": {},
     "output_type": "display_data"
    },
    {
     "name": "stdout",
     "output_type": "stream",
     "text": [
      "\n"
     ]
    }
   ],
   "source": [
    "result_build = defaultdict(list)\n",
    "result_prune = defaultdict(list)\n",
    "\n",
    "for N in tqdm_notebook(np.unique(NPOINTS)):\n",
    "    coords = get_coords(BOX, N)\n",
    "    #Build\n",
    "    skd = scipy_build(coords)\n",
    "    bkd = biopython_build(coords)\n",
    "        \n",
    "    #Timings\n",
    "    res = %timeit -q -o scipy_build(coords)\n",
    "    result_build['scipy'].append(res.average)\n",
    "    res = %timeit -q -o biopython_build(coords)\n",
    "    result_build['biopython'].append(res.average)\n",
    "    \n",
    "    #Prune\n",
    "    res = %timeit -q -o scipy_query(skd, coords, query, CUTOFF)\n",
    "    result_prune['scipy'].append(res.average)\n",
    "    res = %timeit -q -o biopython_query(bkd, coords, query, CUTOFF)\n",
    "    result_prune['biopython'].append(res.average)\n",
    "    \n",
    "    result_prune['N'].append(N)"
   ]
  },
  {
   "cell_type": "code",
   "execution_count": 59,
   "metadata": {},
   "outputs": [
    {
     "data": {
      "text/plain": [
       "<matplotlib.legend.Legend at 0x7fb6cbfd3198>"
      ]
     },
     "execution_count": 59,
     "metadata": {},
     "output_type": "execute_result"
    },
    {
     "data": {
      "image/png": "[encoded data removed]",
      "text/plain": [
       "<Figure size 1080x360 with 2 Axes>"
      ]
     },
     "metadata": {},
     "output_type": "display_data"
    }
   ],
   "source": [
    "fig, axes = plt.subplots(ncols=2, figsize=(15,5))\n",
    "\n",
    "ax = axes[0]\n",
    "ax.plot(result_prune['N'], result_build['scipy'], label=\"Scipy cKDTree\")\n",
    "ax.plot(result_prune['N'], result_build['biopython'], label=\"Biopython KDtree\")\n",
    "ax.set(xlabel='Number of particles', ylabel='time [s]', xscale = 'log', yscale='log', title='Build')\n",
    "ax.legend()\n",
    "\n",
    "ax = axes[1]\n",
    "ax.plot(result_prune['N'], result_prune['scipy'], label=\"Scipy cKDTree\")\n",
    "ax.plot(result_prune['N'], result_prune['biopython'], label=\"Biopython KDtree\")\n",
    "ax.set(xlabel='Number of particles', ylabel='time [s]', xscale = 'log', yscale='log', title='Query')\n",
    "ax.legend()\n"
   ]
  },
  {
   "cell_type": "markdown",
   "metadata": {},
   "source": [
    "Another variable is the cutoff radius. To deduce the effect of cutoff radius, lets check the variation of cutoff radius for 10000 particles."
   ]
  },
  {
   "cell_type": "code",
   "execution_count": 60,
   "metadata": {},
   "outputs": [],
   "source": [
    "# setup\n",
    "BOX = np.array([100.,100.,100.,90.,90.,90.],dtype=np.float32)\n",
    "CUTOFF = np.linspace(2, 15, num=13, dtype=np.float)\n",
    "NPOINTS = 10000\n",
    "query = BOX[:3]/2\n",
    "coords = get_coords(BOX, NPOINTS)"
   ]
  },
  {
   "cell_type": "code",
   "execution_count": 61,
   "metadata": {},
   "outputs": [
    {
     "data": {
      "application/vnd.jupyter.widget-view+json": {
       "model_id": "ca0b87cb9a734b9d80a6ff5145ed2869",
       "version_major": 2,
       "version_minor": 0
      },
      "text/plain": [
       "HBox(children=(IntProgress(value=0, max=13), HTML(value='')))"
      ]
     },
     "metadata": {},
     "output_type": "display_data"
    },
    {
     "name": "stdout",
     "output_type": "stream",
     "text": [
      "\n"
     ]
    }
   ],
   "source": [
    "result_prune = defaultdict(list)\n",
    "\n",
    "for cut in tqdm_notebook(np.unique(CUTOFF)):\n",
    "    #Build\n",
    "    skd = scipy_build(coords)\n",
    "    bkd = biopython_build(coords)\n",
    "\n",
    "    #Prune\n",
    "    res = %timeit -q -o scipy_query(skd, coords, query, cut)\n",
    "    result_prune['scipy'].append(res.average)\n",
    "    res = %timeit -q -o biopython_query(bkd, coords, query, cut)\n",
    "    result_prune['biopython'].append(res.average)\n",
    "    \n",
    "    result_prune['cut'].append(cut)"
   ]
  },
  {
   "cell_type": "code",
   "execution_count": 64,
   "metadata": {},
   "outputs": [
    {
     "data": {
      "text/plain": [
       "<matplotlib.legend.Legend at 0x7fb6cbaa0908>"
      ]
     },
     "execution_count": 64,
     "metadata": {},
     "output_type": "execute_result"
    },
    {
     "data": {
      "image/png": "[encoded data removed]",
      "text/plain": [
       "<Figure size 432x288 with 1 Axes>"
      ]
     },
     "metadata": {},
     "output_type": "display_data"
    }
   ],
   "source": [
    "fig, axes = plt.subplots()\n",
    "\n",
    "axes.plot(result_prune['cut'], result_prune['scipy'], label=\"Scipy cKDTree\")\n",
    "axes.plot(result_prune['cut'], result_prune['biopython'], label=\"Biopython KDtree\")\n",
    "axes.set(xlabel='Number of particles', ylabel='time [s]', yscale='log', title='Cutoff Radius')\n",
    "axes.legend()"
   ]
  },
  {
   "cell_type": "markdown",
   "metadata": {},
   "source": [
    "As it can be seen that the scipy cKDtree is faster than KDtree implementation in Biopython. It can be definitely replaced in MDAnalysis. "
   ]
  },
  {
   "cell_type": "markdown",
   "metadata": {},
   "source": [
    "The above case was only for PBC- unaware systems. As described above, the implementation of periodic boundary condition is necessary to serve the users of MDAnalysis. In the next step, duplication of particles to mimic periodic boundary conditions are shown and compared against the current implementation of periodic KDtree which uses Biopython's extension to pkdtree in pure python. "
   ]
  },
  {
   "cell_type": "markdown",
   "metadata": {},
   "source": [
    "The main idea behind the augmented coordinates (as explained [here](http://www.richardjgowers.com/2018/06/28/make_halos.html)) is to duplicate the particles by creating their images in an extended box. These duplicated particles along with the original ones can be used with any non PBC aware near neighbour searching algorithm. All the nearest neighbours can be translated back to their corresponding original coordinates in the central box. Furthermore, since it requires multiple levels of looping and repeated calculations of evaluating the images, huge time reductions are expected by using lower level instructions like cython instead of implementation in pure python. "
   ]
  },
  {
   "cell_type": "markdown",
   "metadata": {},
   "source": [
    "For this purpose, we begin by defining the cython functions to create duplicates of the particles."
   ]
  },
  {
   "cell_type": "code",
   "execution_count": 67,
   "metadata": {},
   "outputs": [
    {
     "name": "stdout",
     "output_type": "stream",
     "text": [
      "The cython extension is already loaded. To reload it, use:\n",
      "  %reload_ext cython\n"
     ]
    }
   ],
   "source": [
    "%load_ext cython"
   ]
  },
  {
   "cell_type": "code",
   "execution_count": 68,
   "metadata": {},
   "outputs": [],
   "source": [
    "%%cython\n",
    "\n",
    "cimport cython\n",
    "import cython\n",
    "\n",
    "cimport numpy as np\n",
    "import numpy as np\n",
    "\n",
    "@cython.boundscheck(False)\n",
    "@cython.wraparound(False)\n",
    "def make_halo(float[:, :] coordinates, float[:] box, float r):\n",
    "    \"\"\"Calculate augmented coordinate set\n",
    "    \n",
    "    Parameters\n",
    "    ----------\n",
    "    coordinates : np.ndarray\n",
    "      coordinates to augment\n",
    "    box : np.ndarray\n",
    "      size of box\n",
    "    r : float\n",
    "      thickness of halo region to buffer by\n",
    "      \n",
    "    Returns\n",
    "    -------\n",
    "    augmented : np.ndarray\n",
    "      coordinates of the new augmented coordinates\n",
    "    indices : np.ndarray\n",
    "      original indices of the augmented coordinates\n",
    "    \"\"\"\n",
    "    cdef bint lo_x, hi_x, lo_y, hi_y, lo_z, hi_z\n",
    "    cdef int i, j, p, N\n",
    "    cdef float shiftX[3]\n",
    "    cdef float shiftY[3]\n",
    "    cdef float shiftZ[3]\n",
    "    cdef float coord[3]\n",
    "\n",
    "    # room for adding triclinic support by using (3,) vectors\n",
    "    shiftX[0] = box[0]\n",
    "    shiftX[1] = 0.0\n",
    "    shiftX[2] = 0.0\n",
    "    \n",
    "    shiftY[0] = 0.0\n",
    "    shiftY[1] = box[1]\n",
    "    shiftY[2] = 0.0\n",
    "    \n",
    "    shiftZ[0] = 0.0\n",
    "    shiftZ[1] = 0.0\n",
    "    shiftZ[2] = box[2]\n",
    "    \n",
    "    N = coordinates.shape[0]\n",
    "    p = 0  # output counter\n",
    "    \n",
    "    # allocate output arrays\n",
    "    # could be more conservative with this\n",
    "    # or use C++ vectors + push etc\n",
    "    cdef float[:, :] output = np.zeros((N, 3), dtype=np.float32)\n",
    "    cdef int[:] indices = np.zeros(N, dtype=np.int32)\n",
    "\n",
    "    for i in range(N):\n",
    "        for j in range(3):\n",
    "            coord[j] = coordinates[i, j]\n",
    "        # detect which face regions particle i is in\n",
    "        lo_x = coord[0] <= r\n",
    "        hi_x = coord[0] >= box[0] - r\n",
    "        lo_y = coord[1] <= r\n",
    "        hi_y = coord[1] >= box[1] - r\n",
    "        lo_z = coord[2] <= r\n",
    "        hi_z = coord[2] >= box[2] - r\n",
    "        \n",
    "        if lo_x:\n",
    "            # if X, face piece\n",
    "            for j in range(3):\n",
    "                # add to output\n",
    "                output[p, j] = coord[j] + shiftX[j]\n",
    "            # keep record of which index this augmented position was created from\n",
    "            indices[p] = i\n",
    "            p += 1\n",
    "            \n",
    "            if lo_y:\n",
    "                # if X&Y, edge piece\n",
    "                for j in range(3):\n",
    "                    output[p, j] = coord[j] + shiftX[j] + shiftY[j]\n",
    "                indices[p] = i\n",
    "                p += 1\n",
    "                \n",
    "                if lo_z:\n",
    "                    # if X&Y&Z, corner piece\n",
    "                    for j in range(3):\n",
    "                        output[p, j] = coord[j] + shiftX[j] + shiftY[j] + shiftZ[j]\n",
    "                    indices[p] = i\n",
    "                    p += 1\n",
    "                elif hi_z:\n",
    "                    for j in range(3):\n",
    "                        output[p, j] = coord[j] + shiftX[j] + shiftY[j] - shiftZ[j]\n",
    "                    indices[p] = i\n",
    "                    p += 1\n",
    "            elif hi_y:\n",
    "                for j in range(3):\n",
    "                    output[p, j] = coord[j] + shiftX[j] - shiftY[j]\n",
    "                indices[p] = i\n",
    "                p += 1\n",
    "                \n",
    "                if lo_z:\n",
    "                    for j in range(3):\n",
    "                        output[p, j] = coord[j] + shiftX[j] - shiftY[j] + shiftZ[j]\n",
    "                    indices[p] = i\n",
    "                    p += 1\n",
    "                elif hi_z:\n",
    "                    for k in range(3):\n",
    "                        output[p, j] = coord[j] + shiftX[j] - shiftY[j] - shiftZ[j]\n",
    "                    indices[p] = i\n",
    "                    p += 1\n",
    "\n",
    "            if lo_z:\n",
    "                for j in range(3):\n",
    "                    output[p, j] = coord[j] + shiftX[j] + shiftZ[j]\n",
    "                indices[p] = i\n",
    "                p += 1\n",
    "            elif hi_z:\n",
    "                for j in range(3):\n",
    "                    output[p, j] = coord[j] + shiftX[j] - shiftZ[j]\n",
    "                indices[p] = i\n",
    "                p += 1\n",
    "        elif hi_x:\n",
    "            for j in range(3):\n",
    "                output[p, j] = coord[j] - shiftX[j]\n",
    "            indices[p] = i\n",
    "            p += 1\n",
    "\n",
    "            if lo_y:\n",
    "                for j in range(3):\n",
    "                    output[p, j] = coord[j] - shiftX[j] + shiftY[j]\n",
    "                indices[p] = i\n",
    "                p += 1\n",
    "                \n",
    "                if lo_z:\n",
    "                    for j in range(3):\n",
    "                        output[p, j] = coord[j] - shiftX[j] + shiftY[j] + shiftZ[j]\n",
    "                    indices[p] = i\n",
    "                    p += 1\n",
    "                elif hi_z:\n",
    "                    for j in range(3):\n",
    "                        output[p, j] = coord[j] - shiftX[j] + shiftY[j] - shiftZ[j]\n",
    "                    indices[p] = i\n",
    "                    p += 1\n",
    "\n",
    "            elif hi_y:\n",
    "                for j in range(3):\n",
    "                    output[p, j] = coord[j] - shiftX[j] - shiftY[j]\n",
    "                indices[p] = i\n",
    "                p += 1\n",
    "                \n",
    "                if lo_z:\n",
    "                    for j in range(3):\n",
    "                        output[p, j] = coord[j] - shiftX[j] - shiftY[j] + shiftZ[j]\n",
    "                    indices[p] = i\n",
    "                    p += 1\n",
    "                elif hi_z:\n",
    "                    for j in range(3):\n",
    "                        output[p, j] = coord[j] - shiftX[j] - shiftY[j] - shiftZ[j]\n",
    "                    indices[p] = i\n",
    "                    p += 1\n",
    "\n",
    "            if lo_z:\n",
    "                for j in range(3):\n",
    "                    output[p, j] = coord[j] - shiftX[j] + shiftZ[j]\n",
    "                indices[p] = i\n",
    "                p += 1\n",
    "            elif hi_z:\n",
    "                for j in range(3):\n",
    "                    output[p, j] = coord[j] - shiftX[j] - shiftZ[j]\n",
    "                indices[p] = i\n",
    "                p += 1\n",
    "\n",
    "        if lo_y:\n",
    "            for j in range(3):\n",
    "                output[p, j] = coord[j] + shiftY[j]\n",
    "            indices[p] = i\n",
    "            p += 1\n",
    "\n",
    "            if lo_z:\n",
    "                for j in range(3):\n",
    "                    output[p, j] = coord[j] + shiftY[j] + shiftZ[j]\n",
    "                indices[p] = i\n",
    "                p += 1\n",
    "            elif hi_z:\n",
    "                for j in range(3):\n",
    "                    output[p, j] = coord[j] + shiftY[j] - shiftZ[j]\n",
    "                indices[p] = i\n",
    "                p += 1\n",
    "        elif hi_y:\n",
    "            for j in range(3):\n",
    "                output[p, j] = coord[j] - shiftY[j]\n",
    "            indices[p] = i\n",
    "            p += 1\n",
    "\n",
    "            if lo_z:\n",
    "                for j in range(3):\n",
    "                    output[p, j] = coord[j] - shiftY[j] + shiftZ[j]\n",
    "                indices[p] = i\n",
    "                p += 1\n",
    "            elif hi_z:\n",
    "                for j in range(3):\n",
    "                    output[p, j] = coord[j] - shiftY[j] - shiftZ[j]\n",
    "                indices[p] = i\n",
    "                p += 1\n",
    "\n",
    "        if lo_z:\n",
    "            for j in range(3):\n",
    "                output[p, j] = coord[j] + shiftZ[j]\n",
    "            indices[p] = i\n",
    "            p += 1\n",
    "        elif hi_z:\n",
    "            for j in range(3):\n",
    "                output[p, j] = coord[j] - shiftZ[j]\n",
    "            indices[p] = i\n",
    "            p += 1\n",
    "            \n",
    "    return np.array(output[:p]), np.array(indices[:p])\n",
    "\n",
    "\n",
    "@cython.boundscheck(False)\n",
    "@cython.wraparound(False)\n",
    "def undo_augment(int[:] results, int[:] translation, int nreal):\n",
    "    \"\"\"Translate augmented indices back to originals\n",
    "    \n",
    "    Note: modifies results in place!\n",
    "    \n",
    "    Parameters\n",
    "    ----------\n",
    "    results : ndarray of ints\n",
    "      indices of coordinates, including \"augmented\" indices\n",
    "    translation : ndarray of ints\n",
    "      original indices of augmented coordinates\n",
    "    nreal : int\n",
    "      number of real coordinates, ie values in results equal or larger than this\n",
    "      need to be translated to their real counterpart\n",
    "      \n",
    "    Returns\n",
    "    -------\n",
    "    results : ndarray of ints\n",
    "    \"\"\"\n",
    "    cdef int N\n",
    "    \n",
    "    N = results.shape[0]\n",
    "    \n",
    "    for i in range(N):\n",
    "        if results[i] >= nreal:\n",
    "            results[i] = translation[results[i] - nreal]\n",
    "            \n",
    "    return results"
   ]
  },
  {
   "cell_type": "markdown",
   "metadata": {},
   "source": [
    "Helper function to access the periodic KDTree as implemented in MDAnalysis, as well as the cython functions introduced above."
   ]
  },
  {
   "cell_type": "code",
   "execution_count": 227,
   "metadata": {},
   "outputs": [],
   "source": [
    "# Helper function for the cython functions described above\n",
    "def augment_kdtree(coords, cutoff, box):\n",
    "    aug, idx = make_halo(coords, box, cutoff)\n",
    "    aug_coord = np.concatenate([coords, aug])\n",
    "    print(coords[601], idx)\n",
    "    kdtree = spatial.cKDTree(aug_coord)\n",
    "    pairs = np.array(list(kdtree.query_pairs(cutoff)), dtype=np.int32)\n",
    "    if len(pairs) > 1:\n",
    "        undo_augment(pairs[:, 0], idx, len(coords))\n",
    "        undo_augment(pairs[:, 1], idx, len(coords))\n",
    "    return np.unique(pairs, axis=0)"
   ]
  },
  {
   "cell_type": "code",
   "execution_count": 198,
   "metadata": {},
   "outputs": [],
   "source": [
    "# PKDtree\n",
    "import MDAnalysis.lib.distances as distances\n",
    "def pkdtree(coords, cutoff, box):\n",
    "    pairs, dist = distances.capped_distance(coords, coords, max_cutoff=cutoff, min_cutoff=1e-7, box=box, method='pkdtree')\n",
    "    if len(pairs) > 1:\n",
    "        pairs = pairs[np.where(pairs[:, 0] < pairs[:, 1])[0]]\n",
    "    return np.asarray(pairs)"
   ]
  },
  {
   "cell_type": "markdown",
   "metadata": {},
   "source": [
    "# Check"
   ]
  },
  {
   "cell_type": "code",
   "execution_count": 193,
   "metadata": {},
   "outputs": [],
   "source": [
    "# setup\n",
    "BOX = np.array([100.,100.,100.,90.,90.,90.],dtype=np.float32)\n",
    "CUTOFF = 4.\n",
    "NPOINTS = 1000\n",
    "coords = get_coords(BOX, NPOINTS)"
   ]
  },
  {
   "cell_type": "code",
   "execution_count": 228,
   "metadata": {},
   "outputs": [
    {
     "data": {
      "text/plain": [
       "(array([[  4, 181],\n",
       "        [  4, 671],\n",
       "        [  7, 688],\n",
       "        [  8, 215],\n",
       "        [  9, 590],\n",
       "        [ 19,  24],\n",
       "        [ 19, 543],\n",
       "        [ 24, 543],\n",
       "        [ 25, 903],\n",
       "        [ 35, 234],\n",
       "        [ 43, 996],\n",
       "        [ 50, 602],\n",
       "        [ 56, 509],\n",
       "        [ 63, 679],\n",
       "        [ 67, 747],\n",
       "        [ 68, 641],\n",
       "        [ 76, 312],\n",
       "        [ 77, 143],\n",
       "        [ 78, 465],\n",
       "        [ 83, 375],\n",
       "        [ 87, 647],\n",
       "        [ 92, 109],\n",
       "        [ 95, 160],\n",
       "        [102, 237],\n",
       "        [103, 337],\n",
       "        [103, 588],\n",
       "        [113, 322],\n",
       "        [113, 742],\n",
       "        [113, 807],\n",
       "        [114, 408],\n",
       "        [115, 185],\n",
       "        [117, 925],\n",
       "        [121, 866],\n",
       "        [133, 606],\n",
       "        [139, 663],\n",
       "        [142, 539],\n",
       "        [145, 510],\n",
       "        [149, 815],\n",
       "        [158, 291],\n",
       "        [158, 338],\n",
       "        [160, 530],\n",
       "        [167, 201],\n",
       "        [169, 268],\n",
       "        [180, 813],\n",
       "        [181, 671],\n",
       "        [181, 971],\n",
       "        [183, 362],\n",
       "        [183, 547],\n",
       "        [186, 340],\n",
       "        [191, 949],\n",
       "        [193, 406],\n",
       "        [195, 206],\n",
       "        [197, 851],\n",
       "        [199, 762],\n",
       "        [202, 549],\n",
       "        [207, 942],\n",
       "        [210, 244],\n",
       "        [212, 828],\n",
       "        [231, 340],\n",
       "        [231, 627],\n",
       "        [233, 356],\n",
       "        [239, 551],\n",
       "        [252, 357],\n",
       "        [258, 518],\n",
       "        [259, 640],\n",
       "        [272, 955],\n",
       "        [288, 933],\n",
       "        [297, 662],\n",
       "        [299, 647],\n",
       "        [307, 391],\n",
       "        [307, 953],\n",
       "        [314, 874],\n",
       "        [315, 628],\n",
       "        [324, 745],\n",
       "        [329, 527],\n",
       "        [342, 757],\n",
       "        [343, 456],\n",
       "        [343, 760],\n",
       "        [345, 887],\n",
       "        [353, 870],\n",
       "        [362, 547],\n",
       "        [365, 492],\n",
       "        [370, 755],\n",
       "        [384, 411],\n",
       "        [391, 953],\n",
       "        [398, 445],\n",
       "        [398, 694],\n",
       "        [398, 811],\n",
       "        [400, 625],\n",
       "        [421, 566],\n",
       "        [425, 493],\n",
       "        [455, 631],\n",
       "        [468, 696],\n",
       "        [473, 809],\n",
       "        [478, 522],\n",
       "        [484, 739],\n",
       "        [490, 714],\n",
       "        [506, 644],\n",
       "        [506, 871],\n",
       "        [523, 808],\n",
       "        [536, 695],\n",
       "        [545, 554],\n",
       "        [549, 750],\n",
       "        [561, 860],\n",
       "        [567, 903],\n",
       "        [583, 850],\n",
       "        [589, 680],\n",
       "        [598, 873],\n",
       "        [628, 704],\n",
       "        [644, 871],\n",
       "        [658, 858],\n",
       "        [674, 751],\n",
       "        [683, 967],\n",
       "        [694, 811],\n",
       "        [727, 849],\n",
       "        [730, 986],\n",
       "        [746, 984],\n",
       "        [761, 941],\n",
       "        [774, 885],\n",
       "        [776, 819],\n",
       "        [802, 964],\n",
       "        [810, 988],\n",
       "        [822, 959],\n",
       "        [850, 864]]), (124, 2))"
      ]
     },
     "execution_count": 228,
     "metadata": {},
     "output_type": "execute_result"
    }
   ],
   "source": [
    "pairs_pkd = pkdtree(coords, CUTOFF, BOX)\n",
    "pairs_pkd, pairs_pkd.shape"
   ]
  },
  {
   "cell_type": "code",
   "execution_count": 229,
   "metadata": {},
   "outputs": [
    {
     "name": "stdout",
     "output_type": "stream",
     "text": [
      "[ 2.255829 97.07861  97.84134 ] [  0   5   8  12  13  19  19  19  20  21  24  24  24  25  26  37  39  40\n",
      "  42  44  45  47  47  47  62  67  70  76  77  79  84  89  93  97 101 105\n",
      " 107 110 113 115 117 122 127 139 141 146 149 161 164 169 173 174 178 182\n",
      " 185 186 186 186 187 192 194 200 204 210 215 218 227 227 227 230 231 231\n",
      " 231 236 238 240 243 244 252 257 259 266 271 278 282 287 292 293 296 300\n",
      " 305 306 313 315 320 322 327 333 333 333 340 340 340 345 347 357 360 366\n",
      " 371 380 381 382 383 390 399 399 399 404 404 404 410 415 419 423 426 436\n",
      " 438 439 441 444 454 455 458 460 462 465 467 468 468 468 474 477 479 479\n",
      " 479 483 486 487 494 495 498 498 498 501 502 506 516 523 524 528 535 542\n",
      " 543 544 548 551 558 561 565 567 568 569 570 573 574 575 577 586 587 591\n",
      " 593 601 601 601 601 601 601 601 604 619 627 631 633 637 640 644 652 653\n",
      " 655 660 661 663 668 682 684 690 693 696 696 696 711 712 713 719 719 719\n",
      " 722 729 729 729 732 733 740 742 747 753 754 759 761 767 768 768 768 769\n",
      " 773 778 779 785 792 796 797 798 798 798 801 807 808 810 812 814 815 821\n",
      " 829 830 837 842 844 846 846 846 860 861 862 863 865 867 867 867 871 877\n",
      " 880 883 887 888 889 891 893 894 903 904 914 925 930 936 937 941 942 948\n",
      " 955 957 958 963 966 970 975 975 975 980 985 986 987 988 989 993 994]\n"
     ]
    },
    {
     "data": {
      "text/plain": [
       "array([[  4, 181],\n",
       "       [  4, 671],\n",
       "       [  7, 688],\n",
       "       [  8, 215],\n",
       "       [  9, 590],\n",
       "       [ 19,  24],\n",
       "       [ 19, 543],\n",
       "       [ 24, 543],\n",
       "       [ 25, 903],\n",
       "       [ 35, 234],\n",
       "       [ 43, 996],\n",
       "       [ 50, 602],\n",
       "       [ 56, 509],\n",
       "       [ 63, 679],\n",
       "       [ 67, 747],\n",
       "       [ 68, 641],\n",
       "       [ 76, 312],\n",
       "       [ 77, 143],\n",
       "       [ 78, 465],\n",
       "       [ 83, 375],\n",
       "       [ 87, 647],\n",
       "       [ 92, 109],\n",
       "       [ 95, 160],\n",
       "       [102, 237],\n",
       "       [103, 337],\n",
       "       [103, 588],\n",
       "       [113, 322],\n",
       "       [113, 742],\n",
       "       [113, 807],\n",
       "       [114, 408],\n",
       "       [115, 185],\n",
       "       [117, 925],\n",
       "       [121, 866],\n",
       "       [133, 606],\n",
       "       [139, 663],\n",
       "       [142, 539],\n",
       "       [145, 510],\n",
       "       [149, 815],\n",
       "       [158, 291],\n",
       "       [158, 338],\n",
       "       [160, 530],\n",
       "       [167, 201],\n",
       "       [169, 268],\n",
       "       [180, 813],\n",
       "       [181, 671],\n",
       "       [181, 971],\n",
       "       [183, 362],\n",
       "       [183, 547],\n",
       "       [186, 340],\n",
       "       [191, 949],\n",
       "       [193, 406],\n",
       "       [195, 206],\n",
       "       [197, 851],\n",
       "       [199, 762],\n",
       "       [202, 549],\n",
       "       [207, 942],\n",
       "       [210, 244],\n",
       "       [212, 828],\n",
       "       [231, 340],\n",
       "       [231, 627],\n",
       "       [233, 356],\n",
       "       [239, 551],\n",
       "       [252, 357],\n",
       "       [258, 518],\n",
       "       [259, 640],\n",
       "       [272, 955],\n",
       "       [288, 933],\n",
       "       [297, 662],\n",
       "       [299, 647],\n",
       "       [307, 391],\n",
       "       [307, 953],\n",
       "       [314, 874],\n",
       "       [315, 628],\n",
       "       [324, 745],\n",
       "       [329, 527],\n",
       "       [340, 186],\n",
       "       [342, 757],\n",
       "       [343, 456],\n",
       "       [343, 760],\n",
       "       [345, 887],\n",
       "       [353, 870],\n",
       "       [362, 547],\n",
       "       [365, 492],\n",
       "       [370, 755],\n",
       "       [384, 411],\n",
       "       [391, 953],\n",
       "       [398, 445],\n",
       "       [398, 694],\n",
       "       [398, 811],\n",
       "       [400, 625],\n",
       "       [421, 566],\n",
       "       [425, 493],\n",
       "       [455, 631],\n",
       "       [468, 696],\n",
       "       [473, 809],\n",
       "       [478, 522],\n",
       "       [484, 739],\n",
       "       [490, 714],\n",
       "       [506, 644],\n",
       "       [506, 871],\n",
       "       [523, 808],\n",
       "       [536, 695],\n",
       "       [545, 554],\n",
       "       [549, 750],\n",
       "       [561, 860],\n",
       "       [567, 903],\n",
       "       [583, 850],\n",
       "       [589, 680],\n",
       "       [598, 873],\n",
       "       [601, 601],\n",
       "       [627, 231],\n",
       "       [628, 704],\n",
       "       [644, 506],\n",
       "       [644, 871],\n",
       "       [658, 858],\n",
       "       [674, 751],\n",
       "       [683, 967],\n",
       "       [694, 811],\n",
       "       [696, 468],\n",
       "       [727, 849],\n",
       "       [730, 986],\n",
       "       [746, 984],\n",
       "       [747,  67],\n",
       "       [761, 941],\n",
       "       [774, 885],\n",
       "       [776, 819],\n",
       "       [802, 964],\n",
       "       [810, 988],\n",
       "       [822, 959],\n",
       "       [850, 864],\n",
       "       [871, 644],\n",
       "       [925, 117]], dtype=int32)"
      ]
     },
     "execution_count": 229,
     "metadata": {},
     "output_type": "execute_result"
    }
   ],
   "source": [
    "pairs_cy = augment_kdtree(coords, CUTOFF, BOX)\n",
    "pairs_cy"
   ]
  },
  {
   "cell_type": "code",
   "execution_count": null,
   "metadata": {},
   "outputs": [],
   "source": [
    "np.unique(np.sort(pairs_cy), axis=0)"
   ]
  },
  {
   "cell_type": "markdown",
   "metadata": {},
   "source": [
    "It has already been established that the performance of scipy KDtree is better that that of biopython KDtree. The next objective is to check whether the superior performance of nonperiodic KDtree can be replaced with periodic implementation of KDtree in MDAnalysis. For this purpose, the use case is to identify the bonds between the atoms."
   ]
  }
 ],
 "metadata": {
  "kernelspec": {
   "display_name": "Python 3",
   "language": "python",
   "name": "python3"
  },
  "language_info": {
   "codemirror_mode": {
    "name": "ipython",
    "version": 3
   },
   "file_extension": ".py",
   "mimetype": "text/x-python",
   "name": "python",
   "nbconvert_exporter": "python",
   "pygments_lexer": "ipython3",
   "version": "3.6.5"
  }
 },
 "nbformat": 4,
 "nbformat_minor": 2
}
