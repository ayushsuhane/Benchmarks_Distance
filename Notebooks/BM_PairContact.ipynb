{
 "cells": [
  {
   "cell_type": "code",
   "execution_count": null,
   "metadata": {},
   "outputs": [],
   "source": [
    "import scipy\n",
    "print(scipy.__version__)\n",
    "%matplotlib inline"
   ]
  },
  {
   "cell_type": "code",
   "execution_count": null,
   "metadata": {},
   "outputs": [],
   "source": [
    "import cellgrid \n",
    "import numpy as np\n",
    "from MDAnalysis.lib.distances import self_distance_array,distance_array\n",
    "from scipy.spatial.distance import squareform\n",
    "from initialization import init_uniform\n",
    "from MDAnalysis.lib.pkdtree import PeriodicKDTree\n",
    "import itertools"
   ]
  },
  {
   "cell_type": "code",
   "execution_count": null,
   "metadata": {},
   "outputs": [],
   "source": [
    "def bf_select(box, points, maxdist):\n",
    "    distance = self_distance_array(points,box)\n",
    "    distance = scipy.spatial.distance.squareform(distance)\n",
    "    distance[np.tril_indices(distance.shape[0])] = (1.1*maxdist)\n",
    "    mask = np.where((distance < maxdist))\n",
    "    out = tuple((np.column_stack((mask[0],mask[1])),distance[mask]))\n",
    "    return out\n",
    "    \n",
    "def cg_select(box, points, maxdist):\n",
    "    indx,dist = cellgrid.capped_self_distance_array(points,maxdist,box=box)\n",
    "    mask = np.where(dist<maxdist)\n",
    "    return indx[mask],dist[mask]\n",
    "\n",
    "def kdtree_distance(box,points,maxdist):\n",
    "    kdtree = PeriodicKDTree(box,bucket_size=10)\n",
    "    kdtree.set_coords(points)\n",
    "    pair,distances = list(),list()\n",
    "    for idx,centers in enumerate(points):\n",
    "        kdtree.search(centers,maxdist)\n",
    "        indices = kdtree.get_indices()\n",
    "        indices = [i for i in indices if i > idx]\n",
    "        distances += list(distance_array(centers.reshape((1,3)),points[indices],box).flatten())\n",
    "        pair += list(itertools.product(([idx]),indices))    \n",
    "    return tuple((np.asarray(pair),np.asarray(distances)))"
   ]
  },
  {
   "cell_type": "code",
   "execution_count": null,
   "metadata": {},
   "outputs": [],
   "source": [
    "box = np.array([100,100,100,90,90,90],dtype=np.float32)\n",
    "box1, points = init_uniform(box,Npoints=1000)\n",
    "maxdist = 10.0"
   ]
  },
  {
   "cell_type": "code",
   "execution_count": null,
   "metadata": {},
   "outputs": [],
   "source": [
    "#Brute Force\n",
    "bf = bf_select(box,points,maxdist)\n",
    "print(bf)"
   ]
  },
  {
   "cell_type": "code",
   "execution_count": null,
   "metadata": {},
   "outputs": [],
   "source": [
    "#CellGrid Selection\n",
    "cg = cg_select(box1,points,maxdist)\n",
    "print(cg)"
   ]
  },
  {
   "cell_type": "code",
   "execution_count": null,
   "metadata": {},
   "outputs": [],
   "source": [
    "#KDTree selections\n",
    "kd = kdtree_distance(box,points,maxdist)\n",
    "print(kd,\"type:\",type(kd))"
   ]
  },
  {
   "cell_type": "code",
   "execution_count": null,
   "metadata": {},
   "outputs": [],
   "source": [
    "#Testing\n",
    "#Number of contacts\n",
    "np.testing.assert_equal(kd[1].shape,cg[1].shape) #Comparing total number of pairs with distance array\n",
    "np.testing.assert_equal(bf[1].shape,cg[1].shape)\n",
    "\n",
    "#Array Values \n",
    "np.testing.assert_array_almost_equal(np.sort(bf[1].astype(np.float64)),np.sort(cg[1]),decimal=5) #Comparing array values\n",
    "np.testing.assert_almost_equal(bf[1],kd[1]) "
   ]
  },
  {
   "cell_type": "code",
   "execution_count": null,
   "metadata": {},
   "outputs": [],
   "source": [
    "##Benchmarking - Time ------------> Number of particles\n",
    "Npoints = np.logspace(2,5,num=10,dtype='int32')\n",
    "box = np.array([100,100,100,90,90,90],dtype=np.float32)\n",
    "maxdist = 10.0"
   ]
  },
  {
   "cell_type": "code",
   "execution_count": null,
   "metadata": {},
   "outputs": [],
   "source": [
    "time_kdpair,time_bfpair,time_cgpair = [],[],[]\n",
    "func_dict = dict(KDtree=kdtree_distance,BruteForce=bf_select,Cellgrid=cg_select)\n",
    "time_dict = dict(t_kdtree=time_kdpair,t_bruteforce=time_bfpair,t_cellgrid=time_cgpair)\n",
    "for num in Npoints:\n",
    "    box1, points = init_uniform(box,Npoints=num)\n",
    "    kdpair = %timeit -q -o -n 10 kdtree_distance(box,points,maxdist)\n",
    "    time_kdpair.append([kdpair.average,kdpair.stdev])\n",
    "    bfpair = %timeit -q -o -n 10 bf_select(box,points,maxdist)\n",
    "    time_bfpair.append([bfpair.average,bfpair.stdev])\n",
    "    cgpair = %timeit -q -o -n 10 cg_select(box1,points,maxdist)\n",
    "    time_cgpair.append([cgpair.average,cgpair.stdev])"
   ]
  },
  {
   "cell_type": "code",
   "execution_count": null,
   "metadata": {},
   "outputs": [],
   "source": [
    "kd_plot,bf_plot,cg_plot = np.array(time_kdpair).T,np.array(time_bfpair).T,np.array(time_cgpair).T\n",
    "kd_error,bf_error,cg_error = np.array([-kd_plot[1],kd_plot[1]]),np.array([-bf_plot[1],bf_plot[1]]),np.array([-cg_plot[1],cg_plot[1]])"
   ]
  },
  {
   "cell_type": "code",
   "execution_count": null,
   "metadata": {},
   "outputs": [],
   "source": [
    "import matplotlib\n",
    "import matplotlib.pyplot as plt"
   ]
  },
  {
   "cell_type": "code",
   "execution_count": null,
   "metadata": {},
   "outputs": [],
   "source": [
    "plotvals = dict(KDtree=kd_plot,BruteForce=bf_plot,CellGrid=cg_plot)\n",
    "errorvals = dict(KDtree=kd_error,BruteForce=bf_error,CellGrid=cg_error)\n",
    "\n",
    "#print(plotvals)\n",
    "for key in plotvals:\n",
    "    plt.errorbar(Npoints,plotvals[key][0], yerr=errorvals[key], marker='^',fmt='-o',label=(key))\n",
    "    plt.legend()"
   ]
  }
 ],
 "metadata": {
  "kernelspec": {
   "display_name": "Python 3",
   "language": "python",
   "name": "python3"
  },
  "language_info": {
   "codemirror_mode": {
    "name": "ipython",
    "version": 3
   },
   "file_extension": ".py",
   "mimetype": "text/x-python",
   "name": "python",
   "nbconvert_exporter": "python",
   "pygments_lexer": "ipython3",
   "version": "3.6.5"
  }
 },
 "nbformat": 4,
 "nbformat_minor": 2
}
