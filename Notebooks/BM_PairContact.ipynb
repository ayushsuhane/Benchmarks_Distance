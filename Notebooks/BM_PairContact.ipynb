{
 "cells": [
  {
   "cell_type": "code",
   "execution_count": 81,
   "metadata": {},
   "outputs": [
    {
     "name": "stdout",
     "output_type": "stream",
     "text": [
      "1.1.0\n"
     ]
    }
   ],
   "source": [
    "import scipy\n",
    "print(scipy.__version__)\n",
    "%matplotlib inline"
   ]
  },
  {
   "cell_type": "code",
   "execution_count": 9,
   "metadata": {},
   "outputs": [],
   "source": [
    "import cellgrid \n",
    "import numpy as np\n",
    "from MDAnalysis.lib.distances import self_distance_array,distance_array\n",
    "from scipy.spatial.distance import squareform\n",
    "from initialization import init_uniform\n",
    "from MDAnalysis.lib.pkdtree import PeriodicKDTree\n",
    "import itertools"
   ]
  },
  {
   "cell_type": "code",
   "execution_count": 43,
   "metadata": {},
   "outputs": [],
   "source": [
    "def bf_select(box, points, maxdist):\n",
    "    distance = self_distance_array(points,box)\n",
    "    distance = scipy.spatial.distance.squareform(distance)\n",
    "    distance[np.tril_indices(distance.shape[0])] = (1.1*maxdist)\n",
    "    mask = np.where((distance < maxdist))\n",
    "    out = tuple((np.column_stack((mask[0],mask[1])),distance[mask]))\n",
    "    return out\n",
    "    \n",
    "def cg_select(box, points, maxdist):\n",
    "    indx,dist = cellgrid.capped_self_distance_array(points,maxdist,box=box)\n",
    "    mask = np.where(dist<maxdist)\n",
    "    return indx[mask],dist[mask]\n",
    "\n",
    "def kdtree_distance(box,points,maxdist):\n",
    "    kdtree = PeriodicKDTree(box,bucket_size=10)\n",
    "    kdtree.set_coords(points)\n",
    "    pair,distances = list(),list()\n",
    "    for idx,centers in enumerate(points):\n",
    "        kdtree.search(centers,maxdist)\n",
    "        indices = kdtree.get_indices()\n",
    "        indices = [i for i in indices if i > idx]\n",
    "        distances += list(distance_array(centers.reshape((1,3)),points[indices],box).flatten())\n",
    "        pair += list(itertools.product(([idx]),indices))    \n",
    "    return tuple((np.asarray(pair),np.asarray(distances)))"
   ]
  },
  {
   "cell_type": "code",
   "execution_count": 11,
   "metadata": {},
   "outputs": [],
   "source": [
    "box = np.array([100,100,100,90,90,90],dtype=np.float32)\n",
    "box1, points = init_uniform(box,Npoints=1000)\n",
    "maxdist = 10.0"
   ]
  },
  {
   "cell_type": "code",
   "execution_count": 54,
   "metadata": {},
   "outputs": [
    {
     "name": "stdout",
     "output_type": "stream",
     "text": [
      "(array([[  0,   4],\n",
      "       [  0, 177],\n",
      "       [  0, 200],\n",
      "       ...,\n",
      "       [953, 997],\n",
      "       [957, 960],\n",
      "       [963, 984]]), array([9.64893475, 8.10482213, 9.1653019 , ..., 8.90244494, 3.7786522 ,\n",
      "       9.05695633]))\n"
     ]
    }
   ],
   "source": [
    "#Brute Force\n",
    "bf = bf_select(box,points,maxdist)\n",
    "print(bf)"
   ]
  },
  {
   "cell_type": "code",
   "execution_count": 55,
   "metadata": {},
   "outputs": [
    {
     "name": "stdout",
     "output_type": "stream",
     "text": [
      "(array([[252, 468],\n",
      "       [252, 884],\n",
      "       [252,  66],\n",
      "       ...,\n",
      "       [490, 135],\n",
      "       [490, 179],\n",
      "       [490, 261]]), array([7.502872 , 9.05817  , 8.593316 , ..., 7.2601304, 5.7279763,\n",
      "       9.795639 ], dtype=float32))\n"
     ]
    }
   ],
   "source": [
    "#CellGrid Selection\n",
    "cg = cg_select(box1,points,maxdist)\n",
    "print(cg)"
   ]
  },
  {
   "cell_type": "code",
   "execution_count": 14,
   "metadata": {},
   "outputs": [
    {
     "name": "stdout",
     "output_type": "stream",
     "text": [
      "(array([[  0,   4],\n",
      "       [  0, 177],\n",
      "       [  0, 200],\n",
      "       ...,\n",
      "       [953, 997],\n",
      "       [957, 960],\n",
      "       [963, 984]]), array([9.64893475, 8.10482213, 9.1653019 , ..., 8.90244494, 3.7786522 ,\n",
      "       9.05695633])) type: <class 'tuple'>\n"
     ]
    }
   ],
   "source": [
    "#KDTree selections\n",
    "kd = kdtree_distance(box,points,maxdist)\n",
    "print(kd,\"type:\",type(kd))"
   ]
  },
  {
   "cell_type": "code",
   "execution_count": 56,
   "metadata": {},
   "outputs": [],
   "source": [
    "#Testing\n",
    "#Number of contacts\n",
    "np.testing.assert_equal(kd[1].shape,cg[1].shape) #Comparing total number of pairs with distance array\n",
    "np.testing.assert_equal(bf[1].shape,cg[1].shape)\n",
    "\n",
    "#Array Values \n",
    "np.testing.assert_array_almost_equal(np.sort(bf[1].astype(np.float64)),np.sort(cg[1]),decimal=5) #Comparing array values\n",
    "np.testing.assert_almost_equal(bf[1],kd[1]) "
   ]
  },
  {
   "cell_type": "code",
   "execution_count": 78,
   "metadata": {},
   "outputs": [],
   "source": [
    "##Benchmarking - Time\n",
    "Npoints = np.logspace(2,3,num=5,dtype='int32')\n",
    "box = np.array([100,100,100,90,90,90],dtype=np.float32)\n",
    "maxdist = 10.0"
   ]
  },
  {
   "cell_type": "code",
   "execution_count": 153,
   "metadata": {},
   "outputs": [
    {
     "name": "stdout",
     "output_type": "stream",
     "text": [
      "12.1 ms ± 1.44 ms per loop (mean ± std. dev. of 7 runs, 10 loops each)\n",
      "22.4 ms ± 1.06 ms per loop (mean ± std. dev. of 7 runs, 10 loops each)\n",
      "39 ms ± 916 µs per loop (mean ± std. dev. of 7 runs, 10 loops each)\n",
      "71.4 ms ± 1.43 ms per loop (mean ± std. dev. of 7 runs, 10 loops each)\n",
      "134 ms ± 1.26 ms per loop (mean ± std. dev. of 7 runs, 10 loops each)\n"
     ]
    }
   ],
   "source": [
    "time_kdpair = []\n",
    "for num in Npoints:\n",
    "    box1, points = init_uniform(box,Npoints=num)\n",
    "    kdpair = %timeit -o -n 10 kdtree_distance(box,points,maxdist)\n",
    "    time_kdpair.append([kdpair.average,kdpair.stdev])"
   ]
  },
  {
   "cell_type": "code",
   "execution_count": 195,
   "metadata": {},
   "outputs": [
    {
     "name": "stdout",
     "output_type": "stream",
     "text": [
      "[0.01206623 0.02235613 0.0390171  0.07143534 0.13359461]\n",
      "[[-0.00144469 -0.00106152 -0.00091639 -0.0014263  -0.00126105]\n",
      " [ 0.00144469  0.00106152  0.00091639  0.0014263   0.00126105]]\n"
     ]
    }
   ],
   "source": [
    "kd_plot = np.array(time_kdpair).T\n",
    "print(kd_plot[0])\n",
    "kd_error = np.array([-kd_plot[1],kd_plot[1]])\n",
    "print(error)"
   ]
  },
  {
   "cell_type": "code",
   "execution_count": 112,
   "metadata": {},
   "outputs": [],
   "source": [
    "import matplotlib\n",
    "import matplotlib.pyplot as plt"
   ]
  },
  {
   "cell_type": "code",
   "execution_count": 194,
   "metadata": {},
   "outputs": [
    {
     "data": {
      "text/plain": [
       "<ErrorbarContainer object of 3 artists>"
      ]
     },
     "execution_count": 194,
     "metadata": {},
     "output_type": "execute_result"
    },
    {
     "data": {
      "image/png": "[encoded data removed]",
      "text/plain": [
       "<Figure size 432x288 with 1 Axes>"
      ]
     },
     "metadata": {},
     "output_type": "display_data"
    }
   ],
   "source": [
    "plt.errorbar(Npoints,var_plot[0], yerr=error, marker='^',fmt='-o')"
   ]
  }
 ],
 "metadata": {
  "kernelspec": {
   "display_name": "Python 3",
   "language": "python",
   "name": "python3"
  },
  "language_info": {
   "codemirror_mode": {
    "name": "ipython",
    "version": 3
   },
   "file_extension": ".py",
   "mimetype": "text/x-python",
   "name": "python",
   "nbconvert_exporter": "python",
   "pygments_lexer": "ipython3",
   "version": "3.6.5"
  }
 },
 "nbformat": 4,
 "nbformat_minor": 2
}
