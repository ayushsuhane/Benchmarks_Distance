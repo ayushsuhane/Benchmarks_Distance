{
 "cells": [
  {
   "cell_type": "markdown",
   "metadata": {},
   "source": [
    "This notebook contiues the preious benchmarks of pair contacts. The primary aim is to quantify the implementation of periodic boundary conditions with the non-periodic octree. Previous benchmarks (see [here](https://github.com/ayushsuhane/Benchmarks_Distance/blob/master/Notebooks/BM_PairContact_MOD.ipynb) concluded that cell-lists are probably better in comparison to KDtree and brute force, specifically at higher number of particles, whereas brute force is most effective till 1k particles.  "
   ]
  },
  {
   "cell_type": "markdown",
   "metadata": {},
   "source": [
    "Octree based method was limited as PBC handling was not implemented. Recently, single point query were done by augmenting the coordinates in a relatively large box to incorporate periodicity in the box. It was found that such augmenting strategy leads to a large time for distance calculations specifically for large number of particles i.e beyond 4k-5k particles. However, total time for single query were limited by building time and therefore not very much reliable. Query time for Octree was very low as compared to periodic KDTree, but was similar to other non-periodic KDTree implementations."
   ]
  },
  {
   "cell_type": "markdown",
   "metadata": {},
   "source": [
    "In this notebook, we first benchmark Octree, Cython FATSLiM, CellGrid and periodic KDTree for the use case of evaluating all the contacts within a certain fixed distance. This will then be followed by an actual case scenario of evaluating the bonds between the particles."
   ]
  },
  {
   "cell_type": "code",
   "execution_count": 1,
   "metadata": {},
   "outputs": [],
   "source": [
    "import numpy as np\n",
    "import pcl\n",
    "from core_ns import FastNS\n",
    "from MDAnalysis.lib.pkdtree import PeriodicKDTree\n",
    "import cellgrid"
   ]
  },
  {
   "cell_type": "code",
   "execution_count": 2,
   "metadata": {},
   "outputs": [],
   "source": [
    "%matplotlib inline"
   ]
  },
  {
   "cell_type": "markdown",
   "metadata": {},
   "source": [
    "Lets begin by defining the helper function to augment the coordinates, which can be used by octree"
   ]
  },
  {
   "cell_type": "code",
   "execution_count": 3,
   "metadata": {},
   "outputs": [],
   "source": [
    "from collections import defaultdict\n",
    "def augment(points, cutoff, box):\n",
    "    \"\"\"\n",
    "    Augments the cordinates and returns the coordinates in \n",
    "    the extended box, such that all the atoms in the box \n",
    "    are PBC aware\n",
    "    \n",
    "    Parameters\n",
    "    ----------\n",
    "    points : coordinates of dimension (N, 3)\n",
    "    cutoff : cutoff radius \n",
    "    box : PBC aware box\n",
    "    \n",
    "    Returns\n",
    "    -------\n",
    "    augmented_coords : similar to points but added coordinates \n",
    "    mapid : hash map with the original to artificial mapping\n",
    "    \"\"\"\n",
    "    a, b, c = box[:3]\n",
    "    dm = np.array([[a, 0, 0], [0, b, 0], [0, 0, c]], dtype=np.float32)\n",
    "    rm = np.array([[1, 0, 0], [0, 1, 0], [0, 0, 1]], dtype=np.float32)\n",
    "    \n",
    "    augmented_coords = points.copy() ## So as to not change the original coordinates\n",
    "    mapid = defaultdict(list) # hash maps\n",
    "    for idx, coords in enumerate(points):\n",
    "        images = list()\n",
    "        distances = np.dot(rm, coords)\n",
    "        displacements = list(dm[np.where(distances < cutoff)[0]])\n",
    "        distances = np.einsum('ij,ij->i', rm,dm - coords)\n",
    "        displacements.extend(list(-dm[np.where(distances < cutoff)[0]]))\n",
    "        n_displacements = len(displacements)\n",
    "        if n_displacements > 1:\n",
    "            for start in range(n_displacements - 1, -1, -1):\n",
    "                for i in range(start+1, len(displacements)):\n",
    "                    displacements.append(displacements[start]+displacements[i])\n",
    "        images.extend([coords + d for d in displacements])\n",
    "        updated_N = len(augmented_coords)\n",
    "        if len(images) > 0 :\n",
    "            augmented_coords = np.append(augmented_coords, [images[i] for i in range(len(images))], axis = 0)\n",
    "            for newidx in range(len(images)):\n",
    "                mapid[updated_N + newidx].append(idx)\n",
    "    return augmented_coords, mapid"
   ]
  },
  {
   "cell_type": "code",
   "execution_count": 4,
   "metadata": {},
   "outputs": [],
   "source": [
    "def inverse_augment(pairs, mapid, N):\n",
    "    \"\"\"\n",
    "    Returns the set of unique pairs\n",
    "    \n",
    "    pairs is a list of pairs which needs to be replaced\n",
    "    \n",
    "    Parameters\n",
    "    ----------\n",
    "    pairs : array\n",
    "    mapid : hash map returned from augment \n",
    "    N : Number of points in original indices\n",
    "    \n",
    "    Returns\n",
    "    -------\n",
    "    numpy array of unique bonds\n",
    "    \"\"\"\n",
    "    art_bonds = pairs.copy()\n",
    "    for idx, [a,b] in enumerate(art_bonds):\n",
    "        if a >= N:\n",
    "            art_bonds[idx][0] = mapid[a][0]\n",
    "        if b >= N:\n",
    "            art_bonds[idx][1] = mapid[b][0]\n",
    "    bonds = np.unique(np.sort(art_bonds, axis = 1), axis = 0)\n",
    "    return bonds"
   ]
  },
  {
   "cell_type": "markdown",
   "metadata": {},
   "source": [
    "# Method Definitions"
   ]
  },
  {
   "cell_type": "code",
   "execution_count": 5,
   "metadata": {},
   "outputs": [],
   "source": [
    "def octree_select(coords, maxdist):\n",
    "    cloud = pcl.PointCloud(coords)\n",
    "    resolution = 0.2*box[0]\n",
    "    octree = cloud.make_octreeSearch(resolution)\n",
    "    octree.add_points_from_input_cloud()\n",
    "    bonds = []\n",
    "    for index, coord in enumerate(coords):\n",
    "        [ind, sqdist] = octree.radius_search (coord, maxdist)\n",
    "        for j in ind:\n",
    "            if index > j:\n",
    "                bonds.append((index, j))\n",
    "    return np.array(bonds)"
   ]
  },
  {
   "cell_type": "code",
   "execution_count": 6,
   "metadata": {},
   "outputs": [],
   "source": [
    "def octree(points, maxdist, box):\n",
    "    augment_coords, mapid = augment(points, maxdist, box)\n",
    "    art_bonds = octree_select(augment_coords, maxdist)\n",
    "    bonds = inverse_augment(art_bonds, mapid, len(points))\n",
    "    return bonds"
   ]
  },
  {
   "cell_type": "code",
   "execution_count": 7,
   "metadata": {},
   "outputs": [],
   "source": [
    "def ns(points, maxdist, box):\n",
    "    triclinic_box = np.array([[box[0], 0, 0],[0, box[1], 0],[0,0,box[2]]], dtype=np.float32)\n",
    "    searcher = FastNS(triclinic_box)\n",
    "    searcher.set_cutoff(maxdist)\n",
    "    searcher.set_coords(points)\n",
    "    searcher.prepare()\n",
    "    results, sqdist, indx = searcher.search(points)\n",
    "    bonds = []\n",
    "    for i,arr in enumerate(indx):\n",
    "        for j in range(len(arr)):\n",
    "            if(i>arr[j]):\n",
    "                bonds.append((i,arr[j]))\n",
    "    return np.array(bonds)"
   ]
  },
  {
   "cell_type": "code",
   "execution_count": 8,
   "metadata": {},
   "outputs": [],
   "source": [
    "import MDAnalysis.lib.distances as distances\n",
    "def pkdtree(points, maxdist, box):\n",
    "    epsilon = 1e-5 #to avoid the same point\n",
    "    kdtree = PeriodicKDTree(box,bucket_size=10)\n",
    "    kdtree.set_coords(points)\n",
    "    pair, d = [], []\n",
    "    for idx,centers in enumerate(points):\n",
    "        kdtree.search(centers,maxdist)\n",
    "        indices = kdtree.get_indices()\n",
    "        indices = [i for i in indices if i > idx]\n",
    "        dist = distances.distance_array(centers.reshape((1,3)), points[indices],box=box)[0]\n",
    "        mask = np.where((dist > epsilon) & (dist <= maxdist))[0]\n",
    "        for j in mask:\n",
    "            pair.append((idx,indices[j]))\n",
    "            d.append(dist[j])\n",
    "    return np.asarray(pair)"
   ]
  },
  {
   "cell_type": "code",
   "execution_count": 9,
   "metadata": {},
   "outputs": [],
   "source": [
    "def cg(points, maxdist, box):\n",
    "    indx,dist = cellgrid.capped_self_distance_array(points,maxdist,box=box[:3])\n",
    "    mask = np.where(dist<maxdist)\n",
    "    return indx[mask]"
   ]
  },
  {
   "cell_type": "code",
   "execution_count": 10,
   "metadata": {},
   "outputs": [],
   "source": [
    "import MDAnalysis.lib.distances as distances\n",
    "def bf(points, maxdist, box):\n",
    "    bonds, distance = [], []\n",
    "    for i,coordinate in enumerate(points):\n",
    "        dist = distances.distance_array(points[i][None, :], points[i + 1:],box=box)[0]\n",
    "        idx = np.where((dist <= maxdist))[0]\n",
    "        for a in idx:\n",
    "            j = i + 1 + a\n",
    "            atom_j = points[j]\n",
    "            bonds.append((i, j))\n",
    "            #distance.append((dist[a]))\n",
    "    return np.asarray(bonds)"
   ]
  },
  {
   "cell_type": "markdown",
   "metadata": {},
   "source": [
    "# helper function"
   ]
  },
  {
   "cell_type": "code",
   "execution_count": 11,
   "metadata": {},
   "outputs": [],
   "source": [
    "def get_coords(box,Npoints):\n",
    "    return (np.random.uniform(low=0,high=1.0,size=(Npoints,3))*box[:3]).astype(np.float32)"
   ]
  },
  {
   "cell_type": "markdown",
   "metadata": {},
   "source": [
    "# Test for a simple case"
   ]
  },
  {
   "cell_type": "code",
   "execution_count": 20,
   "metadata": {},
   "outputs": [],
   "source": [
    "box = np.array([100,100,100,90,90,90],dtype=np.float32)\n",
    "maxdist = 10.0\n",
    "points = get_coords(box, 100000)"
   ]
  },
  {
   "cell_type": "code",
   "execution_count": 14,
   "metadata": {},
   "outputs": [],
   "source": [
    "bonds_ns = ns(points, maxdist, box)"
   ]
  },
  {
   "cell_type": "code",
   "execution_count": 15,
   "metadata": {},
   "outputs": [],
   "source": [
    "bonds_cg = cg(points, maxdist, box)"
   ]
  },
  {
   "cell_type": "code",
   "execution_count": null,
   "metadata": {},
   "outputs": [],
   "source": [
    "bonds_pkd = pkdtree(points, maxdist, box)"
   ]
  },
  {
   "cell_type": "code",
   "execution_count": null,
   "metadata": {},
   "outputs": [],
   "source": [
    "bonds_oct = octree(points, maxdist, box)"
   ]
  },
  {
   "cell_type": "code",
   "execution_count": 16,
   "metadata": {},
   "outputs": [
    {
     "name": "stdout",
     "output_type": "stream",
     "text": [
      "1min 15s ± 4.07 s per loop (mean ± std. dev. of 7 runs, 1 loop each)\n"
     ]
    }
   ],
   "source": [
    "%timeit ns(points, maxdist, box)"
   ]
  },
  {
   "cell_type": "code",
   "execution_count": 17,
   "metadata": {},
   "outputs": [
    {
     "name": "stdout",
     "output_type": "stream",
     "text": [
      "8.24 s ± 704 ms per loop (mean ± std. dev. of 7 runs, 1 loop each)\n"
     ]
    }
   ],
   "source": [
    "%timeit cg(points, maxdist, box)"
   ]
  },
  {
   "cell_type": "code",
   "execution_count": 18,
   "metadata": {},
   "outputs": [
    {
     "name": "stdout",
     "output_type": "stream",
     "text": [
      "2min 15s ± 3.73 s per loop (mean ± std. dev. of 7 runs, 1 loop each)\n"
     ]
    }
   ],
   "source": [
    "%timeit pkdtree(points, maxdist, box)"
   ]
  },
  {
   "cell_type": "code",
   "execution_count": 15,
   "metadata": {},
   "outputs": [
    {
     "name": "stdout",
     "output_type": "stream",
     "text": [
      "5min 5s ± 5.32 s per loop (mean ± std. dev. of 7 runs, 1 loop each)\n"
     ]
    }
   ],
   "source": [
    "%timeit octree(points, maxdist, box)"
   ]
  },
  {
   "cell_type": "markdown",
   "metadata": {},
   "source": [
    "Lets check the other extreme of cutoff distance. "
   ]
  },
  {
   "cell_type": "code",
   "execution_count": 13,
   "metadata": {},
   "outputs": [],
   "source": [
    "box = np.array([100,100,100,90,90,90],dtype=np.float32)\n",
    "maxdist = 1.0\n",
    "points = get_coords(box, 100000)"
   ]
  },
  {
   "cell_type": "code",
   "execution_count": 14,
   "metadata": {},
   "outputs": [
    {
     "name": "stdout",
     "output_type": "stream",
     "text": [
      "2.38 s ± 754 ms per loop (mean ± std. dev. of 7 runs, 1 loop each)\n"
     ]
    }
   ],
   "source": [
    "%timeit ns(points, maxdist, box)"
   ]
  },
  {
   "cell_type": "code",
   "execution_count": 15,
   "metadata": {},
   "outputs": [
    {
     "name": "stdout",
     "output_type": "stream",
     "text": [
      "3.4 s ± 212 ms per loop (mean ± std. dev. of 7 runs, 1 loop each)\n"
     ]
    }
   ],
   "source": [
    "%timeit cg(points, maxdist, box)"
   ]
  },
  {
   "cell_type": "code",
   "execution_count": 16,
   "metadata": {},
   "outputs": [
    {
     "name": "stdout",
     "output_type": "stream",
     "text": [
      "14 s ± 365 ms per loop (mean ± std. dev. of 7 runs, 1 loop each)\n"
     ]
    }
   ],
   "source": [
    "%timeit pkdtree(points, maxdist, box)"
   ]
  },
  {
   "cell_type": "code",
   "execution_count": 17,
   "metadata": {},
   "outputs": [
    {
     "name": "stdout",
     "output_type": "stream",
     "text": [
      "8.05 s ± 249 ms per loop (mean ± std. dev. of 7 runs, 1 loop each)\n"
     ]
    }
   ],
   "source": [
    "%timeit octree(points, maxdist, box)"
   ]
  },
  {
   "cell_type": "markdown",
   "metadata": {},
   "source": [
    "For a particle size of 100k, time for cell-lists are definitely the lowest. However, the memory consumption is a little bit higher but not significantly high to freeze the system."
   ]
  },
  {
   "cell_type": "code",
   "execution_count": 27,
   "metadata": {},
   "outputs": [],
   "source": [
    "bonds_bf = bf(points, maxdist, box)"
   ]
  },
  {
   "cell_type": "code",
   "execution_count": 17,
   "metadata": {},
   "outputs": [],
   "source": [
    "augment_coords, mapid = augment(points, maxdist, box)"
   ]
  },
  {
   "cell_type": "code",
   "execution_count": 18,
   "metadata": {},
   "outputs": [],
   "source": [
    "art_bonds = octree_select(augment_coords, maxdist)"
   ]
  },
  {
   "cell_type": "code",
   "execution_count": 19,
   "metadata": {},
   "outputs": [],
   "source": [
    "bonds = inverse_augment(art_bonds, mapid, len(points))"
   ]
  },
  {
   "cell_type": "code",
   "execution_count": 20,
   "metadata": {},
   "outputs": [
    {
     "data": {
      "text/plain": [
       "(209337, 2)"
      ]
     },
     "execution_count": 20,
     "metadata": {},
     "output_type": "execute_result"
    }
   ],
   "source": [
    "bonds.shape"
   ]
  },
  {
   "cell_type": "markdown",
   "metadata": {},
   "source": [
    "# benchmarks"
   ]
  },
  {
   "cell_type": "code",
   "execution_count": 12,
   "metadata": {},
   "outputs": [],
   "source": [
    "box = np.array([100,100,100,90,90,90],dtype=np.float32)\n",
    "maxdist = 10.0\n",
    "Npoints = np.logspace(2, 5, num = 10, dtype = np.int)"
   ]
  },
  {
   "cell_type": "code",
   "execution_count": 15,
   "metadata": {},
   "outputs": [
    {
     "data": {
      "application/vnd.jupyter.widget-view+json": {
       "model_id": "bca78f6be796471fbb779b8b6b2feea2",
       "version_major": 2,
       "version_minor": 0
      },
      "text/plain": [
       "HBox(children=(IntProgress(value=0, max=10), HTML(value='')))"
      ]
     },
     "metadata": {},
     "output_type": "display_data"
    },
    {
     "name": "stdout",
     "output_type": "stream",
     "text": [
      "FATSLiM : N 100 Time 0.005590530142857168\n",
      "Cellgrid : N 100 Time 0.0085182857142172\n",
      "Octree : N 100 Time 0.013735571428501967\n",
      "Brute Force : N 100 Time 0.0020471914285716203\n",
      "FATSLiM : N 215 Time 0.00591906999999927\n",
      "Cellgrid : N 215 Time 0.011159285714256839\n",
      "Octree : N 215 Time 0.044533604285713534\n",
      "Brute Force : N 215 Time 0.005313144285713796\n",
      "FATSLiM : N 464 Time 0.0075616485714281876\n",
      "Cellgrid : N 464 Time 0.00994771428567479\n",
      "Octree : N 464 Time 0.030168699999996662\n",
      "Brute Force : N 464 Time 0.01342458428571425\n",
      "FATSLiM : N 1000 Time 0.016664628571425054\n",
      "Cellgrid : N 1000 Time 0.014927237142857003\n",
      "Octree : N 1000 Time 0.07704452857143289\n",
      "Brute Force : N 1000 Time 0.04007434285713966\n",
      "FATSLiM : N 2154 Time 0.05065368571428215\n",
      "Cellgrid : N 2154 Time 0.029489114285716565\n",
      "Octree : N 2154 Time 0.2634031428571169\n",
      "Brute Force : N 2154 Time 0.13824957142857588\n",
      "FATSLiM : N 4641 Time 0.17180358571427926\n",
      "Cellgrid : N 4641 Time 0.11333611428571137\n",
      "Octree : N 4641 Time 0.8320018571428136\n",
      "Brute Force : N 4641 Time 0.5426348571428272\n",
      "FATSLiM : N 10000 Time 0.8446957142856978\n",
      "Cellgrid : N 10000 Time 0.269046428571463\n",
      "Octree : N 10000 Time 3.542619857142849\n",
      "Brute Force : N 10000 Time 2.3347604285715016\n",
      "FATSLiM : N 21544 Time 3.110651714285723\n",
      "Cellgrid : N 21544 Time 0.6233332857142874\n",
      "Octree : N 21544 Time 13.892658000000015\n",
      "Brute Force : N 21544 Time 10.466401142857128\n",
      "FATSLiM : N 46415 Time 13.925035571428614\n",
      "Cellgrid : N 46415 Time 1.6634498571428205\n",
      "Octree : N 46415 Time 62.32246571428579\n",
      "Brute Force : N 46415 Time 46.838690000000106\n",
      "FATSLiM : N 100000 Time 73.04617614285709\n",
      "Cellgrid : N 100000 Time 8.378436142857222\n"
     ]
    }
   ],
   "source": [
    "from tqdm import tqdm_notebook\n",
    "\n",
    "res_total = defaultdict(list)\n",
    "\n",
    "for N in tqdm_notebook(np.unique(Npoints)):\n",
    "    points = get_coords(box, N)\n",
    "    \n",
    "    \n",
    "    res = %timeit -q -o ns(points, maxdist, box)\n",
    "    res_total['ns'].append(res.average)\n",
    "    print('FATSLiM : N {} Time {}'.format(N, res.average))\n",
    "    \n",
    "    res = %timeit -q -o cg(points, maxdist, box)\n",
    "    res_total['cg'].append(res.average)\n",
    "    print('Cellgrid : N {} Time {}'.format(N, res.average))\n",
    "   \n",
    "    if N < Npoints[-1]:\n",
    "        res = %timeit -q -o octree(points, maxdist, box)\n",
    "        res_total['octree'].append(res.average)\n",
    "        print('Octree : N {} Time {}'.format(N, res.average))\n",
    "    \n",
    "        res = %timeit -q -o bf(points, maxdist, box)\n",
    "        res_total['bf'].append(res.average)\n",
    "        print('Brute Force : N {} Time {}'.format(N, res.average))\n",
    "    \n",
    "        #res = %timeit -q -o pkdtree(points, maxdist, box)\n",
    "        #res_total['pkd'].append(res.average)\n",
    "        #print('PKDTree : N {} Time {}'.format(N, res.average))\n",
    "    \n",
    "    res_total['N'].append(N)"
   ]
  },
  {
   "cell_type": "code",
   "execution_count": 17,
   "metadata": {},
   "outputs": [
    {
     "data": {
      "text/plain": [
       "<matplotlib.legend.Legend at 0x7fd827cc9780>"
      ]
     },
     "execution_count": 17,
     "metadata": {},
     "output_type": "execute_result"
    },
    {
     "data": {
      "image/png": "[encoded data removed]",
      "text/plain": [
       "<Figure size 432x288 with 1 Axes>"
      ]
     },
     "metadata": {},
     "output_type": "display_data"
    }
   ],
   "source": [
    "import matplotlib\n",
    "import matplotlib.pyplot as plt\n",
    "\n",
    "fig, axes = plt.subplots()\n",
    "\n",
    "#axes.plot(res_total['N'][:-1], res_total['pkd'], 'o-', label='PeriodicKDT')\n",
    "axes.plot(res_total['N'][:-1], res_total['octree'], 'o-', label='Octree')\n",
    "axes.plot(res_total['N'], res_total['cg'], 'o-', label='Cell Grid')\n",
    "axes.plot(res_total['N'][:-1], res_total['bf'], 'o-', label='brute force')\n",
    "axes.plot(res_total['N'], res_total['ns'], 'o-', label='Cython NS')\n",
    "axes.set(xlabel='N particles', ylabel='time [s]', xscale='log', yscale='log', title='Pairs')\n",
    "axes.legend()"
   ]
  },
  {
   "cell_type": "markdown",
   "metadata": {},
   "source": [
    "As it was pointed out that the cutoff radius is also one of the parameters, lets check the timings for selection of pair contacts for different pair contacts for 100k particles. As it can be seen that cellgrid and FATSLiM are the fastest for small and large cutoff radius as well as with number of particles. So, lets see the timings for different cutoff radius."
   ]
  },
  {
   "cell_type": "code",
   "execution_count": 12,
   "metadata": {},
   "outputs": [],
   "source": [
    "box = np.array([100,100,100,90,90,90],dtype=np.float32)\n",
    "maxdist = np.linspace(1.0, 10.0, num = 10, dtype = np.float32)\n",
    "Npoints = 50000\n",
    "points = get_coords(box, Npoints)"
   ]
  },
  {
   "cell_type": "code",
   "execution_count": 14,
   "metadata": {},
   "outputs": [
    {
     "data": {
      "application/vnd.jupyter.widget-view+json": {
       "model_id": "425fe575ab4d48f9a4ba233930b30c1c",
       "version_major": 2,
       "version_minor": 0
      },
      "text/plain": [
       "HBox(children=(IntProgress(value=0, max=10), HTML(value='')))"
      ]
     },
     "metadata": {},
     "output_type": "display_data"
    }
   ],
   "source": [
    "from tqdm import tqdm_notebook\n",
    "\n",
    "res_cutoff = defaultdict(list)\n",
    "\n",
    "for max_d in tqdm_notebook(np.unique(maxdist)):\n",
    "    \n",
    "    res = %timeit -q -o ns(points, max_d, box)\n",
    "    res_cutoff['ns'].append(res.average)\n",
    "    \n",
    "    res = %timeit -q -o cg(points, max_d, box)\n",
    "    res_cutoff['cg'].append(res.average)\n",
    "    \n",
    "    \n",
    "    res_cutoff['N'].append(max_d)"
   ]
  },
  {
   "cell_type": "code",
   "execution_count": 15,
   "metadata": {},
   "outputs": [
    {
     "data": {
      "text/plain": [
       "<matplotlib.legend.Legend at 0x7f734e51b2e8>"
      ]
     },
     "execution_count": 15,
     "metadata": {},
     "output_type": "execute_result"
    },
    {
     "data": {
      "image/png": "[encoded data removed]",
      "text/plain": [
       "<Figure size 432x288 with 1 Axes>"
      ]
     },
     "metadata": {},
     "output_type": "display_data"
    }
   ],
   "source": [
    "import matplotlib\n",
    "import matplotlib.pyplot as plt\n",
    "\n",
    "fig, axes = plt.subplots()\n",
    "\n",
    "\n",
    "axes.plot(res_cutoff['N'], res_cutoff['cg'], 'o-', label='Cell Grid')\n",
    "axes.plot(res_cutoff['N'], res_cutoff['ns'], 'o-', label='Cython NS')\n",
    "axes.set(xlabel='Cutoff', ylabel='time [s]', yscale='log', title='Pairs')\n",
    "axes.legend()"
   ]
  }
 ],
 "metadata": {
  "kernelspec": {
   "display_name": "Python 3",
   "language": "python",
   "name": "python3"
  },
  "language_info": {
   "codemirror_mode": {
    "name": "ipython",
    "version": 3
   },
   "file_extension": ".py",
   "mimetype": "text/x-python",
   "name": "python",
   "nbconvert_exporter": "python",
   "pygments_lexer": "ipython3",
   "version": "3.6.5"
  }
 },
 "nbformat": 4,
 "nbformat_minor": 2
}
