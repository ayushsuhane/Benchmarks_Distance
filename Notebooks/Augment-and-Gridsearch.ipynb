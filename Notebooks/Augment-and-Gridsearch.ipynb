{
 "cells": [
  {
   "cell_type": "code",
   "execution_count": 1,
   "metadata": {},
   "outputs": [],
   "source": [
    "import numpy as np\n",
    "from MDAnalysis.lib.pkdtree import Periodic_cKDTree\n",
    "from gridlocal import FastNS"
   ]
  },
  {
   "cell_type": "markdown",
   "metadata": {},
   "source": [
    "# Single Queries"
   ]
  },
  {
   "cell_type": "code",
   "execution_count": 2,
   "metadata": {},
   "outputs": [],
   "source": [
    "def single_grid_build(coords, radius, box=None):\n",
    "    gr = FastNS(box)\n",
    "    gr.set_coords(coords)\n",
    "    gr.set_cutoff(radius)\n",
    "    gr.prepare()\n",
    "    return gr\n",
    "def single_grid_query(struct, query):\n",
    "    results = struct.search(query)\n",
    "    indices = results.get_indices()\n",
    "    if indices:\n",
    "        indices = np.sort(results.get_indices())\n",
    "    return indices[0]"
   ]
  },
  {
   "cell_type": "code",
   "execution_count": 94,
   "metadata": {},
   "outputs": [],
   "source": [
    "def single_cKDT_build(coords, radius, box=None):\n",
    "    tree = Periodic_cKDTree(box=box)\n",
    "    tree.set_coords(coords, cutoff=radius)\n",
    "    return tree\n",
    "def single_cKDT_query(struct, query, radius):\n",
    "    return struct.search(query, radius)"
   ]
  },
  {
   "cell_type": "code",
   "execution_count": 9,
   "metadata": {},
   "outputs": [],
   "source": [
    "def get_coords(box,Npoints):\n",
    "    return (np.random.uniform(low=0,high=1.0,size=(Npoints,3))*box[:3]).astype(np.float32)"
   ]
  },
  {
   "cell_type": "markdown",
   "metadata": {},
   "source": [
    "## Check"
   ]
  },
  {
   "cell_type": "code",
   "execution_count": 123,
   "metadata": {},
   "outputs": [],
   "source": [
    "box = np.array([100, 100, 100, 90, 90, 90], dtype = np.float32)\n",
    "radius = 4.\n",
    "query = np.array([1., 1., 1.], dtype=np.float32)\n",
    "Npoints = 10000"
   ]
  },
  {
   "cell_type": "code",
   "execution_count": 124,
   "metadata": {},
   "outputs": [],
   "source": [
    "coords = get_coords(box, Npoints)"
   ]
  },
  {
   "cell_type": "code",
   "execution_count": 125,
   "metadata": {},
   "outputs": [],
   "source": [
    "grid = single_grid_build(coords, radius, box)"
   ]
  },
  {
   "cell_type": "code",
   "execution_count": 126,
   "metadata": {},
   "outputs": [],
   "source": [
    "grid_indices = single_grid_query(grid, query)"
   ]
  },
  {
   "cell_type": "code",
   "execution_count": 127,
   "metadata": {},
   "outputs": [
    {
     "data": {
      "text/plain": [
       "array([6438])"
      ]
     },
     "execution_count": 127,
     "metadata": {},
     "output_type": "execute_result"
    }
   ],
   "source": [
    "grid_indices"
   ]
  },
  {
   "cell_type": "code",
   "execution_count": 128,
   "metadata": {},
   "outputs": [],
   "source": [
    "ckd = single_cKDT_build(coords, radius, box)"
   ]
  },
  {
   "cell_type": "code",
   "execution_count": 129,
   "metadata": {},
   "outputs": [],
   "source": [
    "ckd_indices = single_cKDT_query(ckd, query, radius)"
   ]
  },
  {
   "cell_type": "code",
   "execution_count": 130,
   "metadata": {},
   "outputs": [
    {
     "data": {
      "text/plain": [
       "array([6438])"
      ]
     },
     "execution_count": 130,
     "metadata": {},
     "output_type": "execute_result"
    }
   ],
   "source": [
    "ckd_indices"
   ]
  },
  {
   "cell_type": "code",
   "execution_count": 131,
   "metadata": {},
   "outputs": [],
   "source": [
    "np.testing.assert_equal(ckd_indices, grid_indices)"
   ]
  },
  {
   "cell_type": "markdown",
   "metadata": {},
   "source": [
    "# Benchmarks"
   ]
  },
  {
   "cell_type": "markdown",
   "metadata": {},
   "source": [
    "* Number of points"
   ]
  },
  {
   "cell_type": "code",
   "execution_count": 3,
   "metadata": {},
   "outputs": [],
   "source": [
    "import matplotlib\n",
    "matplotlib.use('agg')\n",
    "import matplotlib.pyplot as plt\n",
    "%matplotlib inline"
   ]
  },
  {
   "cell_type": "code",
   "execution_count": 4,
   "metadata": {},
   "outputs": [],
   "source": [
    "import itertools\n",
    "from tqdm import tqdm_notebook\n",
    "from collections import defaultdict"
   ]
  },
  {
   "cell_type": "code",
   "execution_count": 135,
   "metadata": {},
   "outputs": [],
   "source": [
    "box = np.array([100.,100.,100.,90.,90.,90.],dtype=np.float32)\n",
    "cutoff = 10.\n",
    "npoints = np.logspace(2, 5, num = 10, dtype = np.int)\n",
    "query = np.array([1.,1.,1.], dtype = np.float32) ## Close to the one of the phases"
   ]
  },
  {
   "cell_type": "code",
   "execution_count": 136,
   "metadata": {},
   "outputs": [
    {
     "data": {
      "application/vnd.jupyter.widget-view+json": {
       "model_id": "96de73f99a5b4013ae6394380a73e9d9",
       "version_major": 2,
       "version_minor": 0
      },
      "text/plain": [
       "HBox(children=(IntProgress(value=0, max=10), HTML(value='')))"
      ]
     },
     "metadata": {},
     "output_type": "display_data"
    },
    {
     "name": "stdout",
     "output_type": "stream",
     "text": [
      "\n"
     ]
    }
   ],
   "source": [
    "from tqdm import tqdm_notebook\n",
    "\n",
    "res_build = defaultdict(list)\n",
    "res_query = defaultdict(list)\n",
    "res_total = defaultdict(list)\n",
    "\n",
    "for N in tqdm_notebook(np.unique(npoints)):\n",
    "    coords = get_coords(box, N)\n",
    "    \n",
    "    # Build\n",
    "    ckd = single_cKDT_build(coords, cutoff, box)\n",
    "    grid = single_grid_build(coords, cutoff, box)\n",
    "    \n",
    "    # Periodic_cKDTree\n",
    "    qres = %timeit -q -o single_cKDT_query(ckd, query, cutoff)\n",
    "    res_query['ckdtree'].append(qres.average)\n",
    "    \n",
    "    bres = %timeit -q -o single_cKDT_build(coords, cutoff, box)\n",
    "    res_build['ckdtree'].append(bres.average)\n",
    "    \n",
    "    res_total['ckdtree'].append(bres.average + qres.average)\n",
    "    \n",
    "    # GridSearch\n",
    "    qres = %timeit -q -o single_grid_query(grid, query)\n",
    "    res_query['gridsearch'].append(qres.average)\n",
    "    \n",
    "    bres = %timeit -q -o single_grid_build(coords, cutoff, box)\n",
    "    res_build['gridsearch'].append(bres.average)\n",
    "    res_total['gridsearch'].append(bres.average + qres.average)"
   ]
  },
  {
   "cell_type": "code",
   "execution_count": 138,
   "metadata": {},
   "outputs": [
    {
     "data": {
      "image/png": "[encoded data removed]",
      "text/plain": [
       "<Figure size 864x288 with 3 Axes>"
      ]
     },
     "metadata": {},
     "output_type": "display_data"
    }
   ],
   "source": [
    "fig, axes = plt.subplots(ncols = 3, figsize = plt.figaspect(1/3))\n",
    "\n",
    "ax = axes[0]\n",
    "\n",
    "ax.plot(npoints, res_query['ckdtree'], 'o-', label='Periodic cKDTree -  Scipy')\n",
    "ax.plot(npoints, res_query['gridsearch'], 'o-', label='Grid Search')\n",
    "ax.set(xlabel='N particles', ylabel='time [s]', xscale='log', yscale='log', title='Query')\n",
    "ax.legend()\n",
    "\n",
    "ax = axes[1]\n",
    "ax.plot(npoints, res_build['ckdtree'], 'o-', label='Periodic cKDTree -  Scipy')\n",
    "ax.plot(npoints, res_build['gridsearch'], 'o-', label='Grid Search')\n",
    "ax.set(xlabel='N particles', ylabel='time [s]', xscale='log', yscale='log', title='Build')\n",
    "ax.legend()\n",
    "\n",
    "ax = axes[2]\n",
    "ax.plot(npoints, res_total['ckdtree'], 'o-', label='Periodic cKDTree -  Scipy')\n",
    "ax.plot(npoints, res_total['gridsearch'], 'o-', label='Grid Search')\n",
    "ax.set(xlabel='N particles', ylabel='time [s]', xscale='log', yscale='log', title='Total')\n",
    "ax.legend()\n",
    "\n",
    "fig.tight_layout()"
   ]
  },
  {
   "cell_type": "markdown",
   "metadata": {},
   "source": [
    "* Cutoff Distance"
   ]
  },
  {
   "cell_type": "code",
   "execution_count": 139,
   "metadata": {},
   "outputs": [],
   "source": [
    "box = np.array([100.,100.,100.,90.,90.,90.],dtype=np.float32)\n",
    "cutoff = np.linspace(1, 15, num = 15, dtype=np.float)\n",
    "npoints = 50000\n",
    "query = np.array([1.,1.,1.], dtype = np.float32) ## Close to the one of the phases"
   ]
  },
  {
   "cell_type": "code",
   "execution_count": 141,
   "metadata": {},
   "outputs": [
    {
     "data": {
      "application/vnd.jupyter.widget-view+json": {
       "model_id": "10bb2447d27d47b6ba587e7099db1c58",
       "version_major": 2,
       "version_minor": 0
      },
      "text/plain": [
       "HBox(children=(IntProgress(value=0, max=15), HTML(value='')))"
      ]
     },
     "metadata": {},
     "output_type": "display_data"
    }
   ],
   "source": [
    "from tqdm import tqdm_notebook\n",
    "\n",
    "res2_build = defaultdict(list)\n",
    "res2_query = defaultdict(list)\n",
    "res2_total = defaultdict(list)\n",
    "\n",
    "coords = get_coords(box, npoints)\n",
    "for cut in tqdm_notebook(np.unique(cutoff)):\n",
    "\n",
    "    # Build\n",
    "    ckd = single_cKDT_build(coords, cut, box)\n",
    "    grid = single_grid_build(coords, cut, box)\n",
    "    \n",
    "    # Periodic_cKDTree\n",
    "    qres = %timeit -q -o single_cKDT_query(ckd, query, cut)\n",
    "    res2_query['ckdtree'].append(qres.average)\n",
    "    \n",
    "    bres = %timeit -q -o single_cKDT_build(coords, cut, box)\n",
    "    res2_build['ckdtree'].append(bres.average)\n",
    "    \n",
    "    res2_total['ckdtree'].append(bres.average + qres.average)\n",
    "    \n",
    "    # GridSearch\n",
    "    qres = %timeit -q -o single_grid_query(grid, query)\n",
    "    res2_query['gridsearch'].append(qres.average)\n",
    "    \n",
    "    bres = %timeit -q -o single_grid_build(coords, cut, box)\n",
    "    res2_build['gridsearch'].append(bres.average)\n",
    "    res2_total['gridsearch'].append(bres.average + qres.average)"
   ]
  },
  {
   "cell_type": "code",
   "execution_count": 143,
   "metadata": {},
   "outputs": [
    {
     "data": {
      "image/png": "[encoded data removed]",
      "text/plain": [
       "<Figure size 864x288 with 3 Axes>"
      ]
     },
     "metadata": {},
     "output_type": "display_data"
    }
   ],
   "source": [
    "fig, axes = plt.subplots(ncols = 3, figsize = plt.figaspect(1/3))\n",
    "\n",
    "ax = axes[0]\n",
    "\n",
    "ax.plot(cutoff, res2_query['ckdtree'], 'o-', label='Periodic cKDTree -  Scipy')\n",
    "ax.plot(cutoff, res2_query['gridsearch'], 'o-', label='Grid Search')\n",
    "ax.set(xlabel='Cutoff Distance', ylabel='time [s]', yscale='log', title='Query')\n",
    "ax.legend()\n",
    "\n",
    "ax = axes[1]\n",
    "ax.plot(cutoff, res2_build['ckdtree'], 'o-', label='Periodic cKDTree -  Scipy')\n",
    "ax.plot(cutoff, res2_build['gridsearch'], 'o-', label='Grid Search')\n",
    "ax.set(xlabel='Cutoff Distance', ylabel='time [s]', yscale='log', title='Build')\n",
    "ax.legend()\n",
    "\n",
    "ax = axes[2]\n",
    "ax.plot(cutoff, res2_total['ckdtree'], 'o-', label='Periodic cKDTree -  Scipy')\n",
    "ax.plot(cutoff, res2_total['gridsearch'], 'o-', label='Grid Search')\n",
    "ax.set(xlabel='Cutoff Distance', ylabel='time [s]', yscale='log', title='Total')\n",
    "ax.legend()\n",
    "\n",
    "fig.tight_layout()"
   ]
  },
  {
   "cell_type": "markdown",
   "metadata": {},
   "source": [
    "# Bonded pairs"
   ]
  },
  {
   "cell_type": "code",
   "execution_count": 35,
   "metadata": {},
   "outputs": [],
   "source": [
    "def grid_bonds(coords, radius, box):\n",
    "    gr = FastNS(box)\n",
    "    gr.set_coords(coords)\n",
    "    gr.set_cutoff(radius)\n",
    "    gr.prepare()\n",
    "    results = gr.search(coords)\n",
    "    indices = results.get_indices()\n",
    "    pairs = []\n",
    "    for idx in range(len(coords)):\n",
    "        if indices[idx].size > 0:\n",
    "            indices[idx] = sorted(indices[idx])\n",
    "            for j in indices[idx]:\n",
    "                if idx < j:\n",
    "                    pairs.append((idx, j))\n",
    "    pairs = np.asarray(pairs, dtype=np.int64)        \n",
    "    return pairs"
   ]
  },
  {
   "cell_type": "code",
   "execution_count": 6,
   "metadata": {},
   "outputs": [],
   "source": [
    "def ckd_bonds(coords, radius, box):\n",
    "    tree = Periodic_cKDTree(box=box)\n",
    "    tree.set_coords(coords, cutoff=radius)\n",
    "    pairs = tree.search_pairs(radius)\n",
    "    return pairs"
   ]
  },
  {
   "cell_type": "code",
   "execution_count": 7,
   "metadata": {},
   "outputs": [],
   "source": [
    "box = np.array([100.,100.,100.,90.,90.,90.],dtype=np.float32)\n",
    "cutoff = 10.\n",
    "npoints = 100"
   ]
  },
  {
   "cell_type": "code",
   "execution_count": 10,
   "metadata": {},
   "outputs": [],
   "source": [
    "coords = get_coords(box, npoints)"
   ]
  },
  {
   "cell_type": "code",
   "execution_count": 36,
   "metadata": {},
   "outputs": [],
   "source": [
    "pairs_grid= grid_bonds(coords, cutoff, box)"
   ]
  },
  {
   "cell_type": "code",
   "execution_count": 37,
   "metadata": {},
   "outputs": [
    {
     "data": {
      "text/plain": [
       "array([[ 7, 55],\n",
       "       [ 8, 43],\n",
       "       [12, 67],\n",
       "       [21, 71],\n",
       "       [27, 93],\n",
       "       [29, 61],\n",
       "       [33, 99],\n",
       "       [35, 67],\n",
       "       [37, 39],\n",
       "       [38, 64],\n",
       "       [43, 58],\n",
       "       [45, 59],\n",
       "       [49, 65],\n",
       "       [57, 64],\n",
       "       [78, 79],\n",
       "       [78, 85],\n",
       "       [90, 96]])"
      ]
     },
     "execution_count": 37,
     "metadata": {},
     "output_type": "execute_result"
    }
   ],
   "source": [
    "pairs_grid"
   ]
  },
  {
   "cell_type": "code",
   "execution_count": 12,
   "metadata": {},
   "outputs": [],
   "source": [
    "pairs_ckd = ckd_bonds(coords, cutoff, box)"
   ]
  },
  {
   "cell_type": "code",
   "execution_count": 38,
   "metadata": {},
   "outputs": [
    {
     "data": {
      "text/plain": [
       "array([[ 7, 55],\n",
       "       [ 8, 43],\n",
       "       [12, 67],\n",
       "       [21, 71],\n",
       "       [27, 93],\n",
       "       [29, 61],\n",
       "       [33, 99],\n",
       "       [35, 67],\n",
       "       [37, 39],\n",
       "       [38, 64],\n",
       "       [43, 58],\n",
       "       [45, 59],\n",
       "       [49, 65],\n",
       "       [57, 64],\n",
       "       [78, 79],\n",
       "       [78, 85],\n",
       "       [90, 96]])"
      ]
     },
     "execution_count": 38,
     "metadata": {},
     "output_type": "execute_result"
    }
   ],
   "source": [
    "pairs_ckd"
   ]
  },
  {
   "cell_type": "code",
   "execution_count": 39,
   "metadata": {},
   "outputs": [],
   "source": [
    "np.testing.assert_equal(pairs_ckd, pairs_grid )"
   ]
  },
  {
   "cell_type": "markdown",
   "metadata": {},
   "source": [
    "# Benchmark"
   ]
  },
  {
   "cell_type": "markdown",
   "metadata": {},
   "source": [
    "* Number of atoms"
   ]
  },
  {
   "cell_type": "code",
   "execution_count": 41,
   "metadata": {},
   "outputs": [],
   "source": [
    "box = np.array([100.,100.,100.,90.,90.,90.],dtype=np.float32)\n",
    "cutoff = 10.\n",
    "npoints = np.logspace(2, 5, num = 10, dtype = np.int)"
   ]
  },
  {
   "cell_type": "code",
   "execution_count": 42,
   "metadata": {},
   "outputs": [
    {
     "data": {
      "application/vnd.jupyter.widget-view+json": {
       "model_id": "6b9f17d171ff43688c3a0bcdf53a5b0c",
       "version_major": 2,
       "version_minor": 0
      },
      "text/plain": [
       "HBox(children=(IntProgress(value=0, max=10), HTML(value='')))"
      ]
     },
     "metadata": {},
     "output_type": "display_data"
    },
    {
     "name": "stdout",
     "output_type": "stream",
     "text": [
      "\n"
     ]
    }
   ],
   "source": [
    "from tqdm import tqdm_notebook\n",
    "\n",
    "result = defaultdict(list)\n",
    "\n",
    "for N in tqdm_notebook(np.unique(npoints)):\n",
    "    coords = get_coords(box, N)\n",
    "    \n",
    "    # Periodic_cKDTree\n",
    "    res = %timeit -q -o grid_bonds(coords, cutoff, box)\n",
    "    result['gridsearch'].append(res.average)\n",
    "    \n",
    "    res = %timeit -q -o ckd_bonds(coords, cutoff, box)\n",
    "    result['ckdtree'].append(res.average)"
   ]
  },
  {
   "cell_type": "code",
   "execution_count": 44,
   "metadata": {},
   "outputs": [
    {
     "data": {
      "text/plain": [
       "<matplotlib.legend.Legend at 0x7f7f608cd978>"
      ]
     },
     "execution_count": 44,
     "metadata": {},
     "output_type": "execute_result"
    },
    {
     "data": {
      "image/png": "[encoded data removed]",
      "text/plain": [
       "<Figure size 432x288 with 1 Axes>"
      ]
     },
     "metadata": {},
     "output_type": "display_data"
    }
   ],
   "source": [
    "fig, axes = plt.subplots()\n",
    "\n",
    "axes.plot(npoints, result['ckdtree'], 'o-', label='Periodic cKDTree -  Scipy')\n",
    "axes.plot(npoints, result['gridsearch'], 'o-', label='Grid Search')\n",
    "axes.set(xlabel='N particles', ylabel='time [s]', xscale='log', yscale='log', title='Pairs')\n",
    "axes.legend()"
   ]
  },
  {
   "cell_type": "markdown",
   "metadata": {},
   "source": [
    "* Cutoff"
   ]
  },
  {
   "cell_type": "code",
   "execution_count": 49,
   "metadata": {},
   "outputs": [],
   "source": [
    "box = np.array([100.,100.,100.,90.,90.,90.],dtype=np.float32)\n",
    "cutoff = np.linspace(1, 10, num = 10, dtype = np.float32)\n",
    "npoints = 10000"
   ]
  },
  {
   "cell_type": "code",
   "execution_count": 50,
   "metadata": {},
   "outputs": [
    {
     "data": {
      "application/vnd.jupyter.widget-view+json": {
       "model_id": "78cba9086eb44d15a11c9b7c8815a7a6",
       "version_major": 2,
       "version_minor": 0
      },
      "text/plain": [
       "HBox(children=(IntProgress(value=0, max=10), HTML(value='')))"
      ]
     },
     "metadata": {},
     "output_type": "display_data"
    }
   ],
   "source": [
    "from tqdm import tqdm_notebook\n",
    "\n",
    "result2 = defaultdict(list)\n",
    "\n",
    "coords = get_coords(box, npoints)\n",
    "for cut in tqdm_notebook(np.unique(cutoff)):\n",
    "    # Periodic_cKDTree\n",
    "    res = %timeit -q -o ckd_bonds(coords, cut, box)\n",
    "    result2['ckdtree'].append(res.average)\n",
    "    \n",
    "    # GridSearch\n",
    "    res = %timeit -q -o grid_bonds(coords, cut, box)\n",
    "    result2['gridsearch'].append(res.average)"
   ]
  },
  {
   "cell_type": "code",
   "execution_count": 51,
   "metadata": {},
   "outputs": [
    {
     "data": {
      "text/plain": [
       "<matplotlib.legend.Legend at 0x7f7fc4abfda0>"
      ]
     },
     "execution_count": 51,
     "metadata": {},
     "output_type": "execute_result"
    },
    {
     "data": {
      "image/png": "[encoded data removed]",
      "text/plain": [
       "<Figure size 432x288 with 1 Axes>"
      ]
     },
     "metadata": {},
     "output_type": "display_data"
    }
   ],
   "source": [
    "fig, axes = plt.subplots()\n",
    "\n",
    "axes.plot(cutoff, result2['ckdtree'], 'o-', label='Periodic cKDTree -  Scipy')\n",
    "axes.plot(cutoff, result2['gridsearch'], 'o-', label='Grid Search')\n",
    "axes.set(xlabel='Cutoff Distance', ylabel='time [s]', yscale='log', title='Pairs')\n",
    "axes.legend()"
   ]
  },
  {
   "cell_type": "markdown",
   "metadata": {},
   "source": [
    "# Real example of guess_bonds"
   ]
  },
  {
   "cell_type": "code",
   "execution_count": 63,
   "metadata": {},
   "outputs": [],
   "source": [
    "from MDAnalysis.topology import tables\n",
    "from MDAnalysis.lib.distances import calc_distance\n",
    "def ckd_guessbonds(coords, atomtypes=None, box=None):\n",
    "    if atomtypes is None:\n",
    "        ### Use default values\n",
    "        atomtype = ['C']\n",
    "        atomtypes = np.random.choice(atomtype, size = len(coords))\n",
    "    else:\n",
    "        ##First check if every atom radius correspond to one particle\n",
    "        if len(coords) != len(atomtypes):\n",
    "            print(\"Atoms and Coordinates should have equal length\")\n",
    "            return\n",
    "        \n",
    "    fudge_factor = 0.72\n",
    "    lower_bound = 0.1\n",
    "\n",
    "    bonds = []\n",
    "    vdwradii = tables.vdwradii.copy()\n",
    "    max_vdw = max([vdwradii[t] for t in atomtypes])\n",
    "    \n",
    "    tree = Periodic_cKDTree(box=box)\n",
    "    tree.set_coords(coords, cutoff=2*max_vdw)\n",
    "    pairs = tree.search_pairs(2*max_vdw)\n",
    "    \n",
    "    for (i, j) in pairs:\n",
    "        d = (vdwradii[atomtypes[i]] + vdwradii[atomtypes[j]])*fudge_factor\n",
    "        distance = calc_distance(coords[i], coords[j], box=box)\n",
    "        if distance < d and distance > lower_bound:\n",
    "            bonds.append((i, j))\n",
    "    return tuple(bonds)"
   ]
  },
  {
   "cell_type": "code",
   "execution_count": 96,
   "metadata": {},
   "outputs": [],
   "source": [
    "\n",
    "def grid_guessbonds(coords, atomtypes=None, box=None):\n",
    "    if atomtypes is None:\n",
    "        ### Use default values\n",
    "        atomtype = ['C']\n",
    "        atomtypes = np.random.choice(atomtype, size = len(coords))\n",
    "    else:\n",
    "        ##First check if every atom radius correspond to one particle\n",
    "        if len(coords) != len(atomtypes):\n",
    "            print(\"Atoms and Coordinates should have equal length\")\n",
    "            return\n",
    "        \n",
    "    fudge_factor = 0.72\n",
    "    lower_bound = 0.1\n",
    "\n",
    "    bonds = []\n",
    "    vdwradii = tables.vdwradii.copy()\n",
    "    max_vdw = max([vdwradii[t] for t in atomtypes])\n",
    "    \n",
    "    gr = FastNS(box)\n",
    "    gr.set_coords(coords)\n",
    "    gr.set_cutoff(2*max_vdw)\n",
    "    gr.prepare()\n",
    "    results = gr.search(coords)\n",
    "    indices = results.get_indices()\n",
    "    distance = results.get_distances()\n",
    "    bonds = []\n",
    "    for idx in range(len(coords)):\n",
    "        if indices[idx].size > 0:\n",
    "            for other_idx, j in enumerate(indices[idx]):\n",
    "                if((idx < j) and\n",
    "                   (distance[idx][other_idx] < (vdwradii[atomtypes[idx]] + vdwradii[atomtypes[j]])*fudge_factor)\n",
    "                   and (distance[idx][other_idx] > lower_bound)):\n",
    "                    bonds.append((idx, j))        \n",
    "    return tuple(bonds)"
   ]
  },
  {
   "cell_type": "code",
   "execution_count": 54,
   "metadata": {},
   "outputs": [],
   "source": [
    "import MDAnalysis as mda\n",
    "import MDAnalysis.topology.guessers as mda_bf"
   ]
  },
  {
   "cell_type": "code",
   "execution_count": 55,
   "metadata": {},
   "outputs": [],
   "source": [
    "u1,u2 = mda.Universe('small.gro'), mda.Universe('big.gro')"
   ]
  },
  {
   "cell_type": "code",
   "execution_count": 56,
   "metadata": {},
   "outputs": [
    {
     "data": {
      "text/plain": [
       "(<Universe with 12426 atoms>, <Universe with 1564692 atoms>)"
      ]
     },
     "execution_count": 56,
     "metadata": {},
     "output_type": "execute_result"
    }
   ],
   "source": [
    "u1, u2"
   ]
  },
  {
   "cell_type": "code",
   "execution_count": 57,
   "metadata": {},
   "outputs": [],
   "source": [
    "# Check the correctness with inbuilt MDAnalysis.topology.guessers.guess_bonds\n",
    "mda_bonds = mda_bf.guess_bonds(u1.atoms, u1.atoms.positions, u1.dimensions)"
   ]
  },
  {
   "cell_type": "code",
   "execution_count": 64,
   "metadata": {},
   "outputs": [],
   "source": [
    "ckd_bonds = ckd_guessbonds(u1.atoms.positions,u1.atoms.types, box=u1.dimensions)"
   ]
  },
  {
   "cell_type": "code",
   "execution_count": 97,
   "metadata": {},
   "outputs": [],
   "source": [
    "grid_bonds = grid_guessbonds(u1.atoms.positions,u1.atoms.types, box=u1.dimensions)"
   ]
  },
  {
   "cell_type": "code",
   "execution_count": 109,
   "metadata": {},
   "outputs": [
    {
     "data": {
      "text/plain": [
       "(8284, 8284, 8284)"
      ]
     },
     "execution_count": 109,
     "metadata": {},
     "output_type": "execute_result"
    }
   ],
   "source": [
    "len(mda_bonds), len(ckd_bonds), len(grid_bonds)"
   ]
  },
  {
   "cell_type": "markdown",
   "metadata": {},
   "source": [
    "# Timing"
   ]
  },
  {
   "cell_type": "code",
   "execution_count": 114,
   "metadata": {},
   "outputs": [
    {
     "data": {
      "text/plain": [
       "12426"
      ]
     },
     "execution_count": 114,
     "metadata": {},
     "output_type": "execute_result"
    }
   ],
   "source": [
    "len(u1.atoms)"
   ]
  },
  {
   "cell_type": "code",
   "execution_count": 116,
   "metadata": {},
   "outputs": [
    {
     "data": {
      "text/plain": [
       "<TimeitResult : 987 ms ± 22.8 ms per loop (mean ± std. dev. of 7 runs, 1 loop each)>"
      ]
     },
     "execution_count": 116,
     "metadata": {},
     "output_type": "execute_result"
    }
   ],
   "source": [
    "%timeit -q -o ckd_guessbonds(u1.atoms.positions,u1.atoms.types, box=u1.dimensions)"
   ]
  },
  {
   "cell_type": "code",
   "execution_count": 117,
   "metadata": {},
   "outputs": [
    {
     "data": {
      "text/plain": [
       "<TimeitResult : 286 ms ± 9.43 ms per loop (mean ± std. dev. of 7 runs, 1 loop each)>"
      ]
     },
     "execution_count": 117,
     "metadata": {},
     "output_type": "execute_result"
    }
   ],
   "source": [
    "%timeit -q -o grid_guessbonds(u1.atoms.positions,u1.atoms.types, box=u1.dimensions)"
   ]
  },
  {
   "cell_type": "code",
   "execution_count": 115,
   "metadata": {},
   "outputs": [
    {
     "data": {
      "text/plain": [
       "1564692"
      ]
     },
     "execution_count": 115,
     "metadata": {},
     "output_type": "execute_result"
    }
   ],
   "source": [
    "len(u2.atoms)"
   ]
  },
  {
   "cell_type": "code",
   "execution_count": 119,
   "metadata": {},
   "outputs": [
    {
     "data": {
      "text/plain": [
       "<TimeitResult : 1min ± 126 ms per loop (mean ± std. dev. of 7 runs, 1 loop each)>"
      ]
     },
     "execution_count": 119,
     "metadata": {},
     "output_type": "execute_result"
    }
   ],
   "source": [
    "%timeit -q -o ckd_guessbonds(u2.atoms.positions,u2.atoms.types, box=u2.dimensions)"
   ]
  },
  {
   "cell_type": "code",
   "execution_count": 120,
   "metadata": {},
   "outputs": [
    {
     "data": {
      "text/plain": [
       "<TimeitResult : 16.1 s ± 54.2 ms per loop (mean ± std. dev. of 7 runs, 1 loop each)>"
      ]
     },
     "execution_count": 120,
     "metadata": {},
     "output_type": "execute_result"
    }
   ],
   "source": [
    "%timeit -q -o grid_guessbonds(u2.atoms.positions,u2.atoms.types, box=u2.dimensions)"
   ]
  }
 ],
 "metadata": {
  "kernelspec": {
   "display_name": "Python 3",
   "language": "python",
   "name": "python3"
  },
  "language_info": {
   "codemirror_mode": {
    "name": "ipython",
    "version": 3
   },
   "file_extension": ".py",
   "mimetype": "text/x-python",
   "name": "python",
   "nbconvert_exporter": "python",
   "pygments_lexer": "ipython3",
   "version": "3.6.5"
  }
 },
 "nbformat": 4,
 "nbformat_minor": 2
}
