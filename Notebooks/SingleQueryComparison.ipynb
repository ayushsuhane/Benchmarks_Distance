{
 "cells": [
  {
   "cell_type": "markdown",
   "metadata": {},
   "source": [
    "This notebook commpares the new augment and scipy cKDtree with the grid search and brute force based search for single query calculations. \n",
    "\n",
    "The objective is to check the benefit of augment coordinates against the periodic wrapper of Bio.KDTree in MDAnalysis. "
   ]
  },
  {
   "cell_type": "code",
   "execution_count": 1,
   "metadata": {},
   "outputs": [],
   "source": [
    "import numpy as np\n",
    "from MDAnalysis.lib._augment import augment_coordinates, undo_augment\n",
    "from gridlocal import FastNS\n",
    "from MDAnalysis.lib.pkdtree import PeriodicKDTree\n",
    "from Bio.KDTree import KDTree, _CKDTree\n",
    "from MDAnalysis.lib.distances import distance_array\n",
    "from scipy import spatial\n",
    "import itertools\n",
    "from tqdm import tqdm_notebook\n",
    "from collections import defaultdict"
   ]
  },
  {
   "cell_type": "code",
   "execution_count": 2,
   "metadata": {},
   "outputs": [],
   "source": [
    "import matplotlib\n",
    "matplotlib.use('agg')\n",
    "import matplotlib.pyplot as plt\n",
    "%matplotlib inline"
   ]
  },
  {
   "cell_type": "code",
   "execution_count": 3,
   "metadata": {},
   "outputs": [],
   "source": [
    "def pkdt_build(box, coords):\n",
    "    pkdt = PeriodicKDTree(box,bucket_size=10)\n",
    "    pkdt.set_coords(coords)\n",
    "    return pkdt\n",
    "def pkdt_query(struct, coords, query, cutoff):\n",
    "    struct.search(query,cutoff)\n",
    "    return np.array(struct.get_indices())"
   ]
  },
  {
   "cell_type": "code",
   "execution_count": 4,
   "metadata": {},
   "outputs": [],
   "source": [
    "def cbiopython_build(box, coords, cutoff):\n",
    "    aug, mapping = augment_coordinates(coords, box, cutoff)\n",
    "    all_coords = np.concatenate([coords, aug])\n",
    "    kdtree = _CKDTree.KDTree(3, 10)\n",
    "    kdtree.set_data(all_coords)\n",
    "    return kdtree, mapping\n",
    "def cbiopython_query(struct, query, cutoff, mapping, nreal):\n",
    "    struct.search_center_radius(query,cutoff)\n",
    "    n = struct.get_count()\n",
    "    indices = []\n",
    "    if n:\n",
    "        indices = np.empty(n, int)\n",
    "        struct.get_indices(indices)\n",
    "        indices = undo_augment(np.asarray(indices, dtype=np.int32), mapping, nreal)\n",
    "        return np.sort(indices)\n",
    "    else:\n",
    "        return indices"
   ]
  },
  {
   "cell_type": "code",
   "execution_count": 5,
   "metadata": {},
   "outputs": [],
   "source": [
    "def biopython_build(box, coords, cutoff):\n",
    "    aug, mapping = augment_coordinates(coords, box, cutoff)\n",
    "    all_coords = np.concatenate([coords, aug])\n",
    "    kdtree = KDTree(dim=3)\n",
    "    kdtree.set_coords(all_coords)\n",
    "    return kdtree, mapping\n",
    "def biopython_query(struct, query, cutoff, mapping, nreal):\n",
    "    struct.search(query,cutoff)\n",
    "    indices = np.array(struct.get_indices(), dtype=np.int32)\n",
    "    indices = undo_augment(indices, mapping, nreal)\n",
    "    return np.sort(indices)"
   ]
  },
  {
   "cell_type": "code",
   "execution_count": 6,
   "metadata": {},
   "outputs": [],
   "source": [
    "def scipy_build(box, coords, cutoff):\n",
    "    aug, mapping = augment_coordinates(coords, box, cutoff)\n",
    "    all_coords = np.concatenate([coords, aug])\n",
    "    skdtree = spatial.cKDTree(all_coords)\n",
    "    return skdtree, mapping\n",
    "def scipy_query(struct, query, cutoff, mapping, nreal):\n",
    "    indices = np.asarray(struct.query_ball_point(query,cutoff), dtype=np.int32)\n",
    "    indices = undo_augment(indices, mapping, nreal)\n",
    "    return np.sort(indices)"
   ]
  },
  {
   "cell_type": "markdown",
   "metadata": {},
   "source": [
    "Other helper functions"
   ]
  },
  {
   "cell_type": "code",
   "execution_count": 7,
   "metadata": {},
   "outputs": [],
   "source": [
    "def get_coords(box,Npoints):\n",
    "    return (np.random.uniform(low=0,high=1.0,size=(Npoints,3))*box[:3]).astype(np.float32)"
   ]
  },
  {
   "cell_type": "markdown",
   "metadata": {},
   "source": [
    "  * check for correctness"
   ]
  },
  {
   "cell_type": "code",
   "execution_count": 8,
   "metadata": {},
   "outputs": [],
   "source": [
    "#Initialize\n",
    "BOX = np.array([100.,100.,100.,90.,90.,90.],dtype=np.float32)\n",
    "CUTOFF = 4.\n",
    "NPOINTS = 100000\n",
    "points = get_coords(BOX, NPOINTS)"
   ]
  },
  {
   "cell_type": "code",
   "execution_count": 9,
   "metadata": {},
   "outputs": [],
   "source": [
    "query = np.array([1.,1.,1.], dtype = np.float32)"
   ]
  },
  {
   "cell_type": "code",
   "execution_count": 10,
   "metadata": {},
   "outputs": [],
   "source": [
    "pkdt = pkdt_build(BOX, points)\n",
    "indices_pkdt = pkdt_query(pkdt, points, query, CUTOFF)"
   ]
  },
  {
   "cell_type": "code",
   "execution_count": 11,
   "metadata": {},
   "outputs": [
    {
     "data": {
      "text/plain": [
       "array([ 6897,  7341,  9388, 10334, 11769, 19379, 27860, 32470, 37240,\n",
       "       44433, 44482, 44639, 46849, 49177, 52144, 59758, 64472, 67103,\n",
       "       69312, 69829, 70359, 81703, 83067, 85496, 87325, 87452, 90301,\n",
       "       91093, 98318])"
      ]
     },
     "execution_count": 11,
     "metadata": {},
     "output_type": "execute_result"
    }
   ],
   "source": [
    "indices_pkdt "
   ]
  },
  {
   "cell_type": "code",
   "execution_count": 12,
   "metadata": {},
   "outputs": [],
   "source": [
    "bp, bmapping = biopython_build(BOX, points, CUTOFF)"
   ]
  },
  {
   "cell_type": "code",
   "execution_count": 14,
   "metadata": {},
   "outputs": [],
   "source": [
    "indices_bp = biopython_query(bp, query, CUTOFF, bmapping, len(points))"
   ]
  },
  {
   "cell_type": "code",
   "execution_count": 15,
   "metadata": {},
   "outputs": [
    {
     "data": {
      "text/plain": [
       "array([ 6897,  7341,  9388, 10334, 11769, 19379, 27860, 32470, 37240,\n",
       "       44433, 44482, 44639, 46849, 49177, 52144, 59758, 64472, 67103,\n",
       "       69312, 69829, 70359, 81703, 83067, 85496, 87325, 87452, 90301,\n",
       "       91093, 98318])"
      ]
     },
     "execution_count": 15,
     "metadata": {},
     "output_type": "execute_result"
    }
   ],
   "source": [
    "indices_bp"
   ]
  },
  {
   "cell_type": "code",
   "execution_count": 16,
   "metadata": {},
   "outputs": [],
   "source": [
    "cbp, cmapping = cbiopython_build(BOX, points, CUTOFF)"
   ]
  },
  {
   "cell_type": "code",
   "execution_count": 17,
   "metadata": {},
   "outputs": [],
   "source": [
    "indices_cbp = cbiopython_query(cbp, query, CUTOFF, cmapping, len(points))"
   ]
  },
  {
   "cell_type": "code",
   "execution_count": 18,
   "metadata": {},
   "outputs": [
    {
     "data": {
      "text/plain": [
       "array([ 6897,  7341,  9388, 10334, 11769, 19379, 27860, 32470, 37240,\n",
       "       44433, 44482, 44639, 46849, 49177, 52144, 59758, 64472, 67103,\n",
       "       69312, 69829, 70359, 81703, 83067, 85496, 87325, 87452, 90301,\n",
       "       91093, 98318])"
      ]
     },
     "execution_count": 18,
     "metadata": {},
     "output_type": "execute_result"
    }
   ],
   "source": [
    "indices_cbp"
   ]
  },
  {
   "cell_type": "code",
   "execution_count": 19,
   "metadata": {},
   "outputs": [],
   "source": [
    "sc,  smapping = scipy_build(BOX, points, CUTOFF)"
   ]
  },
  {
   "cell_type": "code",
   "execution_count": 20,
   "metadata": {},
   "outputs": [],
   "source": [
    "indices_scipy= scipy_query(sc, query, CUTOFF, smapping, len(points))"
   ]
  },
  {
   "cell_type": "code",
   "execution_count": 21,
   "metadata": {},
   "outputs": [
    {
     "data": {
      "text/plain": [
       "array([ 6897,  7341,  9388, 10334, 11769, 19379, 27860, 32470, 37240,\n",
       "       44433, 44482, 44639, 46849, 49177, 52144, 59758, 64472, 67103,\n",
       "       69312, 69829, 70359, 81703, 83067, 85496, 87325, 87452, 90301,\n",
       "       91093, 98318])"
      ]
     },
     "execution_count": 21,
     "metadata": {},
     "output_type": "execute_result"
    }
   ],
   "source": [
    "indices_scipy"
   ]
  },
  {
   "cell_type": "code",
   "execution_count": 22,
   "metadata": {},
   "outputs": [],
   "source": [
    "for (a,b) in itertools.combinations([indices_pkdt, indices_bp, indices_cbp,  indices_scipy],2):\n",
    "    np.testing.assert_array_equal(a, b)"
   ]
  },
  {
   "cell_type": "markdown",
   "metadata": {},
   "source": [
    "# Benchmark"
   ]
  },
  {
   "cell_type": "code",
   "execution_count": 23,
   "metadata": {},
   "outputs": [],
   "source": [
    "#initialize\n",
    "box = np.array([100.,100.,100.,90.,90.,90.],dtype=np.float32)\n",
    "cutoff = 10.\n",
    "npoints = np.logspace(2,5, num = 10, dtype = np.int)\n",
    "query = np.array([1.,1.,1.], dtype = np.float32) ## Close to the one of the phases"
   ]
  },
  {
   "cell_type": "code",
   "execution_count": 26,
   "metadata": {},
   "outputs": [
    {
     "data": {
      "application/vnd.jupyter.widget-view+json": {
       "model_id": "6c9a38d7e7c148bca5093f0627da1f16",
       "version_major": 2,
       "version_minor": 0
      },
      "text/plain": [
       "HBox(children=(IntProgress(value=0, max=10), HTML(value='')))"
      ]
     },
     "metadata": {},
     "output_type": "display_data"
    },
    {
     "name": "stdout",
     "output_type": "stream",
     "text": [
      "\n"
     ]
    }
   ],
   "source": [
    "from tqdm import tqdm_notebook\n",
    "\n",
    "res_build = defaultdict(list)\n",
    "res_query = defaultdict(list)\n",
    "res_total = defaultdict(list)\n",
    "\n",
    "for N in tqdm_notebook(np.unique(npoints)):\n",
    "    points = get_coords(box, N)\n",
    "    \n",
    "    # Build\n",
    "    pkdt = pkdt_build(box, points)\n",
    "    bp, bmapping = biopython_build(box, points, cutoff)\n",
    "    cbp, cmapping = cbiopython_build(box, points, cutoff)\n",
    "    sc, smapping = scipy_build(box, points, cutoff)\n",
    "    \n",
    "    # Run\n",
    "    qres = %timeit -q -o pkdt_query(pkdt, points, query, cutoff)\n",
    "    res_query['pkdtree'].append(qres.average)\n",
    "    \n",
    "    bres = %timeit -q -o pkdt_build(box, points)\n",
    "    res_build['pkdtree'].append(bres.average)\n",
    "    \n",
    "    res_total['pkdtree'].append(bres.average + qres.average)\n",
    "    \n",
    "    # Biopython KDTree + Augment\n",
    "    qres = %timeit -q -o biopython_query(bp, query, cutoff, bmapping, len(points))\n",
    "    res_query['augment+KDtree'].append(qres.average)\n",
    "    \n",
    "    bres = %timeit -q -o biopython_build(box, points, cutoff)\n",
    "    res_build['augment+KDtree'].append(bres.average)\n",
    "    res_total['augment+KDtree'].append(bres.average + qres.average)\n",
    "    \n",
    "    \n",
    "    # Biopython cKDTree + Augment\n",
    "    qres = %timeit -q -o cbiopython_query(cbp, query, cutoff, cmapping, len(points))\n",
    "    res_query['augment+cKDtree'].append(qres.average)\n",
    "    \n",
    "    bres = %timeit -q -o cbiopython_build(box, points, cutoff)\n",
    "    res_build['augment+cKDtree'].append(bres.average)\n",
    "    res_total['augment+cKDtree'].append(bres.average + qres.average)\n",
    "    \n",
    "    # Scipy cKDTree + Augment\n",
    "    qres = %timeit -q -o scipy_query(sc, query, cutoff, smapping, len(points))\n",
    "    res_query['augment+scipy-KDtree'].append(qres.average)\n",
    "    \n",
    "    bres = %timeit -q -o scipy_build(box, points, cutoff)\n",
    "    res_build['augment+scipy-KDtree'].append(bres.average)\n",
    "    res_total['augment+scipy-KDtree'].append(bres.average + qres.average)"
   ]
  },
  {
   "cell_type": "code",
   "execution_count": 27,
   "metadata": {},
   "outputs": [
    {
     "data": {
      "text/plain": [
       "<matplotlib.legend.Legend at 0x7f57ac4a3f98>"
      ]
     },
     "execution_count": 27,
     "metadata": {},
     "output_type": "execute_result"
    },
    {
     "data": {
      "image/png": "[encoded data removed]",
      "text/plain": [
       "<Figure size 864x288 with 3 Axes>"
      ]
     },
     "metadata": {},
     "output_type": "display_data"
    }
   ],
   "source": [
    "fig, axes = plt.subplots(ncols = 3, figsize = plt.figaspect(1/3))\n",
    "\n",
    "ax = axes[0]\n",
    "\n",
    "ax.plot(npoints, res_query['augment+KDtree'], 'o-', label='BioPython KDTree')\n",
    "ax.plot(npoints, res_query['augment+cKDtree'], 'o-', label='BioPython cKDTree')\n",
    "ax.plot(npoints, res_query['augment+scipy-KDtree'], 'o-', label='Scipy KDTree')\n",
    "ax.plot(npoints, res_query['pkdtree'], 'o-', label='Periodic KDTree')\n",
    "ax.set(xlabel='N particles', ylabel='time [s]', xscale='log', yscale='log', title='Query')\n",
    "ax.legend()\n",
    "\n",
    "ax = axes[1]\n",
    "ax.plot(npoints, res_build['augment+KDtree'], 'o-', label='BioPython KDTree')\n",
    "ax.plot(npoints, res_build['augment+cKDtree'], 'o-', label='BioPython cKDTree')\n",
    "ax.plot(npoints, res_build['augment+scipy-KDtree'], 'o-', label='Scipy KDTree')\n",
    "ax.plot(npoints, res_build['pkdtree'], 'o-', label='Periodic KDTree')\n",
    "ax.set(xlabel='N particles', ylabel='time [s]', xscale='log', yscale='log', title='Build')\n",
    "ax.legend()\n",
    "\n",
    "ax = axes[2]\n",
    "ax.plot(npoints, res_total['augment+KDtree'], 'o-', label='BioPython KDTree')\n",
    "ax.plot(npoints, res_total['augment+cKDtree'], 'o-', label='BioPython cKDTree')\n",
    "ax.plot(npoints, res_total['augment+scipy-KDtree'], 'o-', label='Scipy KDTree')\n",
    "ax.plot(npoints, res_total['pkdtree'], 'o-', label='Periodic KDTree')\n",
    "ax.set(xlabel='N particles', ylabel='time [s]', xscale='log', yscale='log', title='Total')\n",
    "ax.legend()"
   ]
  },
  {
   "cell_type": "markdown",
   "metadata": {},
   "source": [
    "* The performance of KDtree and cKDTree in biopython are compared with augment coordinates to deal with periodic calculations. It can be observed that the build time of cKDtree is little faster than than of KDtree. However, query time of cKDTree is significantly faster than the KDtree i.e. ~5x per query.\n",
    "* To compare the performance of augment coordinates (BioPython cKDTree) with the current implementation of Periodic KDTree, the difference in query time is significant. Therefore, augmenting coordinates improves the performance of the _CKDTree as compared to Periodic KDTree. \n",
    "* It can also be seen that KDTree implementation of scipy takes less time for build as well as almost similar time to evaluate fixed radius query. Furthermore, scipy.spatial.cKDTree is more stable compared to Biopython._CKDTree (I assume it because of _CKDTree being an internal method). "
   ]
  },
  {
   "cell_type": "markdown",
   "metadata": {},
   "source": [
    "Clearly, augment coordinates is advantageous over the current implementation but it requires complete overhaul of all the implementation of kdtree in MDAnalysis. "
   ]
  },
  {
   "cell_type": "markdown",
   "metadata": {},
   "source": [
    "Therefore, the recommendation is to replace the Bio.KDTree with scipy.spacial which is a stable KDTree version and use cythonized version to evaluate the distance from the images."
   ]
  }
 ],
 "metadata": {
  "kernelspec": {
   "display_name": "Python 3",
   "language": "python",
   "name": "python3"
  },
  "language_info": {
   "codemirror_mode": {
    "name": "ipython",
    "version": 3
   },
   "file_extension": ".py",
   "mimetype": "text/x-python",
   "name": "python",
   "nbconvert_exporter": "python",
   "pygments_lexer": "ipython3",
   "version": "3.6.5"
  }
 },
 "nbformat": 4,
 "nbformat_minor": 2
}
